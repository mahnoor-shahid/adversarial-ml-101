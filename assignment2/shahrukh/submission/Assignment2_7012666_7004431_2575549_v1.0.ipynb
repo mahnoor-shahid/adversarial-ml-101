{
 "cells": [
  {
   "cell_type": "markdown",
   "metadata": {
    "id": "4NzyqehHjUlG"
   },
   "source": [
    "# ML in Cybersecurity: Task II\n",
    "\n",
    "## Team\n",
    "  * **Team name**:  *R2D2C3P0BB8*\n",
    "  * **Members**:  <br/> **Navdeeppal Singh (s8nlsing@stud.uni-saarland.de)** <br/> **Shahrukh Khan (shkh00001@stud.uni-saarland.de)** <br/> **Mahnoor Shahid (mash00001@stud.uni-saarland.de)**\n",
    "\n",
    "\n",
    "## Logistics\n",
    "  * **Due date**: 25th Nov. 2021, 23:59:59 (email the completed notebook including outputs to mlcysec_ws2022_staff@lists.cispa.saarland)\n",
    "  * Email the completed notebook to mlcysec_ws2022_staff@lists.cispa.saarland \n",
    "  * Complete this in the previously established **teams of 3**\n",
    "  * Feel free to use the course forum to discuss.\n",
    "  \n",
    "  \n",
    "## About this Project\n",
    "In this project, we dive into the vulnerabilities of machine learning models and the difficulties of defending against them. To this end, we ask you to implement an evasion attack (craft adversarial examples) yourselves, and defend your own model.   \n",
    "\n",
    "\n",
    "## A Note on Grading\n",
    "The total number of points in this project is 100. We further provide the number of points achievable with each excercise. You should take particular care to document and visualize your results.\n",
    "\n",
    "Whenever possible, please use tools like tables or figures to compare the different findings\n",
    "\n",
    "\n",
    " \n",
    "## Filling-in the Notebook\n",
    "You'll be submitting this very notebook that is filled-in with (all) your code and analysis. Make sure you submit one that has been previously executed in-order. (So that results/graphs are already visible upon opening it). \n",
    "\n",
    "The notebook you submit **should compile** (or should be self-contained and sufficiently commented). Check tutorial 1 on how to set up the Python3 environment.\n",
    "\n",
    "It is extremely important that you **do not** re-order the existing sections. Apart from that, the code blocks that you need to fill-in are given by:\n",
    "```\n",
    "#\n",
    "#\n",
    "# ------- Your Code -------\n",
    "#\n",
    "#\n",
    "```\n",
    "Feel free to break this into multiple-cells. It's even better if you interleave explanations and code-blocks so that the entire notebook forms a readable \"story\".\n",
    "\n",
    "\n",
    "## Code of Honor\n",
    "We encourage discussing ideas and concepts with other students to help you learn and better understand the course content. However, the work you submit and present **must be original** and demonstrate your effort in solving the presented problems. **We will not tolerate** blatantly using existing solutions (such as from the internet), improper collaboration (e.g., sharing code or experimental data between groups) and plagiarism. If the honor code is not met, no points will be awarded.\n",
    "\n",
    " \n",
    "  ---"
   ]
  },
  {
   "cell_type": "code",
   "execution_count": 1,
   "metadata": {
    "id": "3ewNwfFvbFaR",
    "tags": []
   },
   "outputs": [],
   "source": [
    "import time \n",
    " \n",
    "import numpy as np \n",
    "import matplotlib.pyplot as plt \n",
    "\n",
    "import json \n",
    "import time \n",
    "import pickle \n",
    "import sys \n",
    "import csv \n",
    "import os \n",
    "import os.path as osp \n",
    "import shutil \n",
    "from collections import namedtuple\n",
    "import pandas as pd\n",
    "\n",
    "import decimal\n",
    "from sewar.full_ref import mse, rmse, psnr, uqi, ssim, ergas, scc, rase, sam, msssim, vifp, psnrb, _vifp_single\n",
    "from sklearn.metrics import precision_recall_fscore_support\n",
    "import seaborn as sns\n",
    "\n",
    "from IPython.display import display, HTML\n",
    " \n",
    "%matplotlib inline \n",
    "plt.rcParams['figure.figsize'] = (10.0, 8.0) # set default size of plots \n",
    "plt.rcParams['image.interpolation'] = 'nearest' \n",
    "plt.rcParams['image.cmap'] = 'gray' \n",
    " \n",
    "# for auto-reloading external modules \n",
    "# see http://stackoverflow.com/questions/1907993/autoreload-of-modules-in-ipython \n",
    "%load_ext autoreload\n",
    "%autoreload 2"
   ]
  },
  {
   "cell_type": "code",
   "execution_count": 2,
   "metadata": {
    "id": "640GrzbOevr0",
    "tags": []
   },
   "outputs": [],
   "source": [
    "# Some suggestions of our libraries that might be helpful for this project\n",
    "from collections import Counter          # an even easier way to count\n",
    "from multiprocessing import Pool         # for multiprocessing\n",
    "from tqdm import tqdm                    # fancy progress bars\n",
    "\n",
    "# Load other libraries here.\n",
    "# Keep it minimal! We should be easily able to reproduce your code.\n",
    "# We only support sklearn and pytorch.\n",
    "import torchvision.datasets as datasets\n",
    "import torchvision.transforms as transforms\n",
    "import torch.utils.data as data\n",
    "from sklearn.metrics import plot_confusion_matrix, accuracy_score, classification_report\n",
    "\n",
    "# We preload pytorch as an example\n",
    "import torch\n",
    "import torch.nn as nn\n",
    "import torch.nn.functional as F\n",
    "import torch.optim as optim\n",
    "from torch.utils.data import DataLoader, Dataset, TensorDataset, random_split, SubsetRandomSampler\n",
    "# Please set random seed to have reproduceable results, e.g. torch.manual_seed(123)\n",
    "random_seed = 42\n",
    "torch.manual_seed(random_seed)\n",
    "np.random.seed(random_seed)"
   ]
  },
  {
   "cell_type": "code",
   "execution_count": 3,
   "metadata": {
    "id": "GJZPEAWYMhYB",
    "tags": []
   },
   "outputs": [],
   "source": [
    "compute_mode = 'cpu'\n",
    "\n",
    "if compute_mode == 'cpu':\n",
    "    device = torch.device('cpu')\n",
    "elif compute_mode == 'gpu':\n",
    "    # If you are using pytorch on the GPU cluster, you have to manually specify which GPU device to use\n",
    "    # It is extremely important that you *do not* spawn multi-GPU jobs.\n",
    "    os.environ[\"CUDA_VISIBLE_DEVICES\"] = '0'    # Set device ID here\n",
    "    device = torch.device('cuda')\n",
    "else:\n",
    "    raise ValueError('Unrecognized compute mode')"
   ]
  },
  {
   "cell_type": "markdown",
   "metadata": {
    "id": "nxi-lLD0mKHD"
   },
   "source": [
    "#### Helpers\n",
    "\n",
    "In case you choose to have some methods you plan to reuse during the notebook, define them here. This will avoid clutter and keep rest of the notebook succinct."
   ]
  },
  {
   "cell_type": "code",
   "execution_count": 4,
   "metadata": {
    "id": "VBbigqdEmKd8",
    "tags": []
   },
   "outputs": [],
   "source": [
    "# data loading helper\n",
    "def _get_data(DATA_PATH, TRAIN_BATCH_SIZE, TEST_BATCH_SIZE):\n",
    "    try:\n",
    "        \"\"\"\n",
    "        This method is created to split the MNIST data into training, validation and testing set accordingly \n",
    "        and load it into dataloaders. Also, to specify any transformations required to perform on the data. \n",
    "        As well as this method is being called multiple times in hyper parameter tuning where different batch \n",
    "        sizes are being tested\n",
    "        ...\n",
    "\n",
    "        Parameters\n",
    "        ----------\n",
    "        DATA_PATH : str\n",
    "            specifies the path directory where dataset will be downloaded\n",
    "        TRAIN_BATCH_SIZE : int\n",
    "            specifies the batch size in the training loader\n",
    "        TEST_BATCH_SIZE : int\n",
    "            specifies the batch size in the training loader\n",
    "            \n",
    "        Returns\n",
    "        -------\n",
    "        train_loader, validation_loader, test_loader with the specified batch sizes \n",
    "            \n",
    "        \"\"\"\n",
    "        tranformations = transforms.Compose([transforms.ToTensor()])\n",
    "        \n",
    "        mnist_training_dataset = datasets.MNIST(root=DATA_PATH+'train', train=True, download=True, transform=tranformations)\n",
    "        mnist_testing_dataset = datasets.MNIST(root=DATA_PATH+'test', train=False, download=True, transform=tranformations)\n",
    "        \n",
    "        training_dataset, validation_dataset = random_split(mnist_training_dataset, [int(0.8*len(mnist_training_dataset)), int(0.2*len(mnist_training_dataset))])\n",
    "        \n",
    "        train_loader = DataLoader(training_dataset, batch_size=TRAIN_BATCH_SIZE, shuffle=True)\n",
    "        validation_loader = DataLoader(training_dataset, batch_size=TRAIN_BATCH_SIZE, shuffle=False)\n",
    "        test_loader = DataLoader(mnist_testing_dataset, batch_size=TEST_BATCH_SIZE, shuffle=False)\n",
    "        \n",
    "        return train_loader, validation_loader, test_loader\n",
    "    \n",
    "    except Exception as e:\n",
    "        print('Unable to get data due to ', e)\n",
    "\n",
    "## data sample helper\n",
    "def _get_test_data_sample(DATA_PATH, TEST_BATCH_SIZE=1, SAMPLE_SIZE=1000):\n",
    "    \"\"\"\n",
    "    This method creates a subset from testset for creating adversarial examples\n",
    "    ...\n",
    "\n",
    "    Parameters\n",
    "    ----------\n",
    "    DATA_PATH : str\n",
    "        specifies the path directory where dataset will be downloaded\n",
    "    TRAIN_BATCH_SIZE : int\n",
    "        specifies the batch size in the test subset loader\n",
    "    SAMPLE_SIZE : int\n",
    "        specifies the sample size of the subset\n",
    "        \n",
    "    Returns\n",
    "    -------\n",
    "    test_subset_loader\n",
    "        \n",
    "    \"\"\"\n",
    "\n",
    "    tranformations = transforms.Compose([transforms.ToTensor()])\n",
    "\n",
    "    mnist_testing_dataset = datasets.MNIST(\n",
    "        root=osp.join(DATA_PATH, \"test\"),\n",
    "        train=False,\n",
    "        download=True,\n",
    "        transform=tranformations,\n",
    "    )\n",
    "\n",
    "    N = len(mnist_testing_dataset)\n",
    "\n",
    "    assert N >= SAMPLE_SIZE, f\"{SAMPLE_SIZE=} can't be bigger than Dataset size ({N=})!\"\n",
    "\n",
    "    # get the required one and throw out the rest\n",
    "    sampled_subset, _ = random_split(\n",
    "        dataset=mnist_testing_dataset,\n",
    "        lengths=[SAMPLE_SIZE, N - SAMPLE_SIZE],\n",
    "        generator=torch.Generator().manual_seed(1337),\n",
    "        # TODO: same here as above ⤴\n",
    "    )\n",
    "\n",
    "    test_subset_loader = DataLoader(\n",
    "        sampled_subset, batch_size=TEST_BATCH_SIZE, shuffle=False\n",
    "    )\n",
    "\n",
    "    return test_subset_loader\n",
    "\n",
    "def visualize_specific_predictions(specific_predictions):\n",
    "    target_values = []\n",
    "    predicted_values = []\n",
    "    figure = plt.figure(figsize=(20, 8))\n",
    "    columns = 4\n",
    "    rows = 3\n",
    "    axs = []\n",
    "    for index, (images, attacks, targets, w_preds_before_attack, w_preds_after_attack) in list(enumerate(specific_predictions))[:12]:\n",
    "        with warnings.catch_warnings(record=True):\n",
    "            axs.append( figure.add_subplot(rows, columns, index+1) )\n",
    "            axs[-1].set_title(f'Correct: {targets}, Predicted Before: {w_preds_before_attack}, Predicted After: {w_preds_after_attack}', fontsize=10)\n",
    "            axs[-1].axis(\"off\")\n",
    "            plt.imshow(images.cpu().detach().numpy().reshape(28, 28),cmap=\"gray\")\n",
    "            plt.imshow(attacks.cpu().detach().numpy().reshape(28, 28),cmap=\"gray\")\n",
    "    plt.show()\n",
    "\n",
    "    \n",
    "def _plot_epsilons_accuracy(x,y,title):\n",
    "    sns.set(rc={\"figure.figsize\":(15, 8)}) \n",
    "    sns.set_style(\"whitegrid\")\n",
    "    clrs = ['grey' if (x > min(y)) else 'red' for x in y]\n",
    "\n",
    "    sns.barplot(x= x, y=  y, palette=clrs)\n",
    "\n",
    "    plt.xticks(fontsize=14)  \n",
    "    plt.title(title, fontsize=20)\n",
    "    plt.xlabel('Epsilon Values', fontsize=16)\n",
    "    plt.ylabel('Accuracy', fontsize=16)\n",
    "    plt.grid(alpha = 0.3, linestyle = '--', linewidth = 2)\n",
    "    plt.show()\n",
    "    "
   ]
  },
  {
   "cell_type": "markdown",
   "metadata": {
    "id": "n1pcmKkyjT7y"
   },
   "source": [
    "# 1. Attacking an ML-model (30 points) \n",
    "\n",
    "In this section, we implement an attack ourselves. First, however, you need a model you can attack. Feel free to choose the DNN/ConvNN from task 1.\n",
    "\n"
   ]
  },
  {
   "cell_type": "markdown",
   "metadata": {
    "id": "QaJv_d_Dp7OM"
   },
   "source": [
    "## 1.1: Setting up the model and data (4 Points)\n",
    "\n",
    "Load the MNIST data, as done in task 1. \n",
    "\n",
    "Re-use the model from task 1 here and train it until it achieves reasonable accuracy (>92%).\n",
    "\n",
    "If you have the saved checkpoint from task 1, you can load it directly. But please compute here the test accuracy using this checkpoint.  \n",
    "\n",
    "**Hint:** In order to save computation time for the rest of exercise, you might consider having a relatively small model here.\n",
    "\n",
    "**Hint**: You might want to save the trained model to save time later."
   ]
  },
  {
   "cell_type": "code",
   "execution_count": 5,
   "metadata": {
    "tags": []
   },
   "outputs": [],
   "source": [
    "## 1. Loading data\n",
    "\n",
    "DATA_PATH = '../data/'\n",
    "MODEL_PATH = './Accuracy_99.8875_batchsize_64_lr_0.001.ckpt'\n",
    "TRAIN_BATCH_SIZE, TEST_BATCH_SIZE = 64, 64\n",
    "train_loader, validation_loader, test_loader = _get_data(DATA_PATH, TRAIN_BATCH_SIZE, TEST_BATCH_SIZE)"
   ]
  },
  {
   "cell_type": "code",
   "execution_count": 6,
   "metadata": {
    "tags": []
   },
   "outputs": [],
   "source": [
    "## 2. Defining model\n",
    "\n",
    "class CNN_Network(nn.Module):\n",
    "    def __init__(self, model_params):\n",
    "        \"\"\"\n",
    "        This class is created to specify the Convolutional Neural Network on which MNIST dataset is trained on, \n",
    "        validated and later tested. \n",
    "        It consist of one input layer, one output layer can consist of multiple hidden layers all of which is \n",
    "        specified by the user as provided through model_paramaters\n",
    "        Size of the kernel, stride and padding can also be adjusted by the user as provided through model_paramaters\n",
    "        ...\n",
    "\n",
    "        Parameters\n",
    "        ----------\n",
    "        model_params : dictionary\n",
    "            provides the model with the required input size, hidden layers and output size\n",
    "            \n",
    "            model_params = {\n",
    "            'INPUT_SIZE' : int,\n",
    "            'HIDDEN_LAYERS' : list(int),\n",
    "            'OUTPUT_SIZE' : int,\n",
    "            'KERNEL' : int,\n",
    "            'STRIDE' : int,\n",
    "            'PADDING' : int\n",
    "        }\n",
    "        \"\"\"\n",
    "        try:\n",
    "            super(CNN_Network, self).__init__()\n",
    "            \n",
    "            layers = []\n",
    "            \n",
    "            for input_channel, out_channel in zip([model_params['INPUT_SIZE']] + model_params['HIDDEN_LAYERS'][:-1], \n",
    "                                                     model_params['HIDDEN_LAYERS'][:len(model_params['HIDDEN_LAYERS'])]):\n",
    "                layers.append(nn.Conv2d(input_channel, out_channel, model_params['KERNEL'], model_params['STRIDE'], model_params['PADDING'], bias=True))\n",
    "                layers.append(nn.MaxPool2d(2, 2))\n",
    "                layers.append(nn.ReLU())\n",
    "            layers.append(nn.Flatten(1))      \n",
    "            layers.append(nn.Linear(model_params['HIDDEN_LAYERS'][-1], model_params['OUTPUT_SIZE'], bias=True))\n",
    "\n",
    "            self.layers = nn.Sequential(*layers)\n",
    "        \n",
    "        except Exception as e:\n",
    "            print('initializing failed due to ', e)\n",
    "    \n",
    "    def forward(self, x):\n",
    "        try:\n",
    "            return self.layers(x)\n",
    "        \n",
    "        except Exception as e:\n",
    "            print('forward pass failed due to ', e)\n",
    "      "
   ]
  },
  {
   "cell_type": "code",
   "execution_count": 7,
   "metadata": {
    "tags": []
   },
   "outputs": [],
   "source": [
    "## 3. initializing the pre-trained model from assignment 1\n",
    "model_params = {\n",
    "        'INPUT_SIZE' : 1,\n",
    "        'HIDDEN_LAYERS' : [160, 100, 64, 10],\n",
    "        'OUTPUT_SIZE' : 10,\n",
    "        'KERNEL' : 3,\n",
    "        'STRIDE' : 1,\n",
    "        'PADDING' : 1\n",
    "}\n",
    "criterion = nn.CrossEntropyLoss()\n",
    "undefended_model = CNN_Network(model_params).to(device)"
   ]
  },
  {
   "cell_type": "code",
   "execution_count": 8,
   "metadata": {
    "tags": []
   },
   "outputs": [],
   "source": [
    "# loading checkpoint and evaluating on test set\n",
    "def _test_model(model, test_loader, BEST_MODEL):\n",
    "    try:\n",
    "        model.load_state_dict(torch.load(BEST_MODEL, map_location=device))\n",
    "        model.eval()\n",
    "        with torch.no_grad():\n",
    "            correct_predictions = []\n",
    "            testing_acc_scores = []\n",
    "            wrong_predictions = []\n",
    "            all_targets = []\n",
    "            all_preds = []\n",
    "\n",
    "\n",
    "            for images, targets in iter(test_loader):\n",
    "                images = images.to(device)\n",
    "                targets = targets.to(device)\n",
    "                outputs = model(images)\n",
    "                \n",
    "                _, preds = torch.max(outputs, 1)\n",
    "                correct_indicies = (preds == targets).nonzero(as_tuple=True)[0]\n",
    "                c_images = images[correct_indicies]\n",
    "                c_targets = targets[correct_indicies]\n",
    "                c_correct_preds = preds[correct_indicies]\n",
    "                testing_acc_scores.append(len(correct_indicies)/targets.shape[0])\n",
    "\n",
    "                wrong_indicies = (preds != targets).nonzero(as_tuple=True)[0]\n",
    "                w_images = images[wrong_indicies]\n",
    "                w_targets = targets[wrong_indicies]\n",
    "                w_wrong_preds = preds[wrong_indicies]\n",
    "            \n",
    "                correct_predictions += zip(c_images, c_targets, c_correct_preds)\n",
    "                wrong_predictions += zip(w_images, w_targets, w_wrong_preds)\n",
    "                all_targets+= zip(targets.cpu().numpy())\n",
    "                all_preds+= zip(preds.cpu().numpy())\n",
    "\n",
    "            return (sum(testing_acc_scores)/len(testing_acc_scores))*100, correct_predictions, wrong_predictions, all_targets, all_preds\n",
    "        \n",
    "    except Exception as e:\n",
    "            print('Error occured in testing the model = ', e)"
   ]
  },
  {
   "cell_type": "code",
   "execution_count": 9,
   "metadata": {
    "tags": []
   },
   "outputs": [
    {
     "name": "stderr",
     "output_type": "stream",
     "text": [
      "/usr/local/anaconda3/lib/python3.8/site-packages/torch/nn/functional.py:718: UserWarning: Named tensors and all their associated APIs are an experimental feature and subject to change. Please do not use them for anything important until they are released as stable. (Triggered internally at  ../c10/core/TensorImpl.h:1156.)\n",
      "  return torch.max_pool2d(input, kernel_size, stride, padding, dilation, ceil_mode)\n"
     ]
    }
   ],
   "source": [
    "(test_accuracy, \n",
    " correct_predictions, \n",
    " wrong_predictions, \n",
    " all_targets, all_preds) = _test_model(undefended_model, test_loader, \n",
    "                                       BEST_MODEL=MODEL_PATH )"
   ]
  },
  {
   "cell_type": "code",
   "execution_count": 10,
   "metadata": {
    "tags": []
   },
   "outputs": [
    {
     "name": "stdout",
     "output_type": "stream",
     "text": [
      "              precision    recall  f1-score   support\n",
      "\n",
      "           0       0.99      1.00      1.00       980\n",
      "           1       0.99      1.00      1.00      1135\n",
      "           2       0.99      0.99      0.99      1032\n",
      "           3       1.00      0.99      0.99      1010\n",
      "           4       0.99      0.99      0.99       982\n",
      "           5       1.00      0.99      0.99       892\n",
      "           6       0.99      0.99      0.99       958\n",
      "           7       0.99      0.99      0.99      1028\n",
      "           8       0.99      0.99      0.99       974\n",
      "           9       0.99      0.99      0.99      1009\n",
      "\n",
      "    accuracy                           0.99     10000\n",
      "   macro avg       0.99      0.99      0.99     10000\n",
      "weighted avg       0.99      0.99      0.99     10000\n",
      "\n"
     ]
    }
   ],
   "source": [
    "print(classification_report(all_targets, all_preds))"
   ]
  },
  {
   "cell_type": "code",
   "execution_count": 11,
   "metadata": {},
   "outputs": [
    {
     "name": "stdout",
     "output_type": "stream",
     "text": [
      "Our test_accuracy on implemented model is 99.19386942675159\n"
     ]
    }
   ],
   "source": [
    "print(f'Our test_accuracy on implemented model is {test_accuracy}')"
   ]
  },
  {
   "cell_type": "markdown",
   "metadata": {
    "id": "DEQrdyLHsUIu"
   },
   "source": [
    "## 1.2: Implementing the FGSM attack (7 Points)\n",
    "\n",
    "We now want to attack the model trained in the previous step. We will start with the FGSM attack as a simple example. \n",
    "\n",
    "Please implement the FGSM attack mentioned in the lecture. \n",
    "\n",
    "More details: https://arxiv.org/pdf/1412.6572.pdf\n"
   ]
  },
  {
   "cell_type": "code",
   "execution_count": 12,
   "metadata": {
    "id": "gcVZnUNbRKOz",
    "tags": []
   },
   "outputs": [],
   "source": [
    "#implementation of FGSM Attack\n",
    "def fgsm_attack(example, epsilon, x_grad):\n",
    "    \"\"\"\n",
    "    Implementation of FGSM attack per bacth\n",
    "    example: Input image batch\n",
    "    epsilon: Pertubation budget \n",
    "    x_grad: Gradient of loss function wrt input image\n",
    "    \"\"\"\n",
    "    # computing delta = epsilon * input_gradient_sign by computing the sign (elementwise) of input (x) gradient\n",
    "    # and multiplying it with perturbation budget epsilon.\n",
    "    delta = epsilon * x_grad.sign()\n",
    "    # generating adversarial example using FGSM formula of x + delta, where delta = epsilon * input_gradient_sign\n",
    "    perturbed_example = example + delta\n",
    "    # perform house keeping to make sure image pixels don't go out of limits of [0,1] range\n",
    "    clipped_perturbed_example = torch.clamp(perturbed_example, 0, 1)\n",
    "    # return the adversarial example \n",
    "    return clipped_perturbed_example"
   ]
  },
  {
   "cell_type": "markdown",
   "metadata": {
    "id": "RNpI3oUoO1wE"
   },
   "source": [
    "## 1.3: Adversarial sample set (7 Points)\n",
    "\n",
    "* Please generate a dataset containing at least 1,000 adversarial examples using FGSM.\n",
    "\n",
    "* Please vary the perturbation budget (3 variants) and generate 1,000 adversarial examples for each. \n",
    "    * **Hint**: you can choose epsilons within, e.g., = [.05, .1, .15, .2, .25, .3],  using MNIST pixel values in the interval       [0, 1]\n",
    "\n",
    "* Compute the accuracy of each attack set. "
   ]
  },
  {
   "cell_type": "code",
   "execution_count": 13,
   "metadata": {
    "id": "EvYpo9p2O1wF",
    "tags": []
   },
   "outputs": [],
   "source": [
    "## dictionary for storing 3 sets of adversarial examples\n",
    "fgsm_sets = {}\n",
    "## epsilon values\n",
    "epsilons = [0.1, 0.2, 0.3]\n",
    "epsilon_param = namedtuple('epsilon_param', ['epsilon'])\n",
    "\n",
    "# creating the 1000 example dataset first\n",
    "test_subset_dataloader = _get_test_data_sample(DATA_PATH)"
   ]
  },
  {
   "cell_type": "code",
   "execution_count": 14,
   "metadata": {
    "tags": []
   },
   "outputs": [
    {
     "name": "stderr",
     "output_type": "stream",
     "text": [
      "100%|██████████| 3/3 [00:20<00:00,  6.79s/it]\n"
     ]
    }
   ],
   "source": [
    "## creating adversarial datasets using FGSM pertubations for epsilons = [0.1, 0.2, 0.3]\n",
    "for epsilon in tqdm(epsilons):\n",
    "    epsilon_val = epsilon_param(epsilon=epsilon)\n",
    "    fgsm_sets[epsilon_val] = {\n",
    "         \"fgsm_images\": [],\n",
    "         \"targets\": [],\n",
    "        \"undefended_model_predictions\": [],\n",
    "        \"accuracy\": 0.0\n",
    "     }\n",
    "    for x_data, target in test_subset_dataloader:\n",
    "        # move inputs and labels to the compute device\n",
    "        x_data= x_data.to(device) \n",
    "        target = target.to(device)\n",
    "        # switch on the gradient computations wrt to input, as need those computations for FGSM formula\n",
    "        x_data.requires_grad = True\n",
    "        # peform the forward pass of the model\n",
    "        output = undefended_model(x_data)\n",
    "        #print(output)\n",
    "        # compute the loss\n",
    "        loss = criterion(output, target)\n",
    "        # re-initialized all the gradient variables\n",
    "        undefended_model.zero_grad()\n",
    "        # perform the backward pass on loss function wrt to inputs and weights\n",
    "        loss.backward()\n",
    "        # retrieve gradients wrt to input\n",
    "        x_grad = x_data.grad.data\n",
    "\n",
    "        # perform the FGSM computation for generating adversarial example for a given epsilon\n",
    "        fgsm_output = fgsm_attack(x_data, epsilon, x_grad)\n",
    "        fgsm_sets[epsilon_val][\"fgsm_images\"].append(fgsm_output)\n",
    "        fgsm_sets[epsilon_val][\"targets\"].append(target.cpu().numpy())\n",
    "        fgsm_sets[epsilon_val][\"undefended_model_predictions\"].append(output.max(1, keepdim=True)[1][0].cpu().numpy())"
   ]
  },
  {
   "cell_type": "code",
   "execution_count": 15,
   "metadata": {
    "tags": []
   },
   "outputs": [
    {
     "name": "stdout",
     "output_type": "stream",
     "text": [
      "\n",
      "\n",
      "Accuracy report for perturbation budget: 0.1 of FGSM attack on undefended model\n",
      "              precision    recall  f1-score   support\n",
      "\n",
      "           0       0.89      0.83      0.86        89\n",
      "           1       0.91      0.96      0.93        89\n",
      "           2       0.82      0.94      0.87       108\n",
      "           3       0.86      0.84      0.85       112\n",
      "           4       0.80      0.84      0.82        96\n",
      "           5       0.90      0.66      0.77        86\n",
      "           6       0.89      0.91      0.90       108\n",
      "           7       0.77      0.84      0.80       113\n",
      "           8       0.76      0.76      0.76       107\n",
      "           9       0.71      0.67      0.69        92\n",
      "\n",
      "    accuracy                           0.83      1000\n",
      "   macro avg       0.83      0.82      0.83      1000\n",
      "weighted avg       0.83      0.83      0.83      1000\n",
      "\n",
      "\n",
      "\n",
      "\n",
      "\n",
      "Accuracy report for perturbation budget: 0.2 of FGSM attack on undefended model\n",
      "              precision    recall  f1-score   support\n",
      "\n",
      "           0       0.82      0.62      0.71        89\n",
      "           1       0.74      0.48      0.59        89\n",
      "           2       0.59      0.80      0.68       108\n",
      "           3       0.63      0.60      0.61       112\n",
      "           4       0.43      0.69      0.53        96\n",
      "           5       0.68      0.42      0.52        86\n",
      "           6       0.82      0.80      0.81       108\n",
      "           7       0.51      0.61      0.56       113\n",
      "           8       0.59      0.56      0.58       107\n",
      "           9       0.33      0.28      0.31        92\n",
      "\n",
      "    accuracy                           0.59      1000\n",
      "   macro avg       0.62      0.59      0.59      1000\n",
      "weighted avg       0.61      0.59      0.59      1000\n",
      "\n",
      "\n",
      "\n",
      "\n",
      "\n",
      "Accuracy report for perturbation budget: 0.3 of FGSM attack on undefended model\n",
      "              precision    recall  f1-score   support\n",
      "\n",
      "           0       0.68      0.28      0.40        89\n",
      "           1       0.51      0.22      0.31        89\n",
      "           2       0.45      0.74      0.56       108\n",
      "           3       0.42      0.39      0.41       112\n",
      "           4       0.33      0.56      0.42        96\n",
      "           5       0.45      0.29      0.35        86\n",
      "           6       0.73      0.71      0.72       108\n",
      "           7       0.39      0.49      0.43       113\n",
      "           8       0.42      0.41      0.42       107\n",
      "           9       0.12      0.10      0.11        92\n",
      "\n",
      "    accuracy                           0.43      1000\n",
      "   macro avg       0.45      0.42      0.41      1000\n",
      "weighted avg       0.45      0.43      0.42      1000\n",
      "\n",
      "\n",
      "\n"
     ]
    }
   ],
   "source": [
    "for epsilon in epsilons:\n",
    "    epsilon_val = epsilon_param(epsilon=epsilon)\n",
    "    fgsm_sets[epsilon_val][\"undefended_model_fgsm_predictions\"] = []\n",
    "    for index, perturbed_image in enumerate(fgsm_sets[epsilon_val][\"fgsm_images\"]):\n",
    "        perturbed_image.to(device)\n",
    "        output = undefended_model(fgsm_sets[epsilon_val][\"fgsm_images\"][index])\n",
    "        preds = torch.max(output, 1)[1]\n",
    "        \n",
    "        fgsm_sets[epsilon_val][\"undefended_model_fgsm_predictions\"].append(preds.cpu().numpy())\n",
    "    print('\\n')\n",
    "    print(f\"Accuracy report for perturbation budget: {epsilon} of FGSM attack on undefended model\")\n",
    "    print(classification_report(fgsm_sets[epsilon_val][\"targets\"], fgsm_sets[epsilon_val][\"undefended_model_fgsm_predictions\"]))\n",
    "    print('\\n')"
   ]
  },
  {
   "cell_type": "markdown",
   "metadata": {
    "id": "Ex3qQp3JolD1"
   },
   "source": [
    "## 1.4: Visualizing the results (7 Points)\n",
    "\n",
    "* Please chose one sample for each class (for example the first when iterating the test data) and plot the (ten) adversarial examples as well as the predicted label (before and after the attack)\n",
    "\n",
    "* Please repeat the visualization for the three sets you have created "
   ]
  },
  {
   "cell_type": "code",
   "execution_count": 16,
   "metadata": {
    "id": "eGkp0B0PO1wJ",
    "tags": []
   },
   "outputs": [],
   "source": [
    "def visualize_perturbed_samples(epsilon):\n",
    "    nsamples = 10\n",
    "    nrows = nsamples\n",
    "    ncols = 10\n",
    "\n",
    "    fig, axes = plt.subplots(1,ncols,figsize=(1.5*nrows,2.5*ncols))  # create the figure with subplots\n",
    "    [ax.set_axis_off() for ax in axes.ravel()]  # remove the axis\n",
    "\n",
    "    epsilon_val = epsilon_param(epsilon=epsilon)\n",
    "    labels = np.array([target[0] for target in fgsm_sets[epsilon_val][\"targets\"]])\n",
    "    for i in range(nsamples):\n",
    "        index  = np.where(labels == i)[0][0]\n",
    "        axes[i].imshow(fgsm_sets[epsilon_val][\"fgsm_images\"][index].detach().cpu().numpy()[0][0])\n",
    "        axes[i].set_title('before \\n attack: {} \\n after \\n attack: {}'.format(fgsm_sets[epsilon_val][\"undefended_model_predictions\"][index][0],\n",
    "                                                                                fgsm_sets[epsilon_val][\"undefended_model_fgsm_predictions\"][index][0]))\n"
   ]
  },
  {
   "cell_type": "markdown",
   "metadata": {},
   "source": [
    "### Visualizing examples for epsilon=0.1"
   ]
  },
  {
   "cell_type": "code",
   "execution_count": 17,
   "metadata": {
    "tags": []
   },
   "outputs": [
    {
     "data": {
      "image/png": "[encoded data removed]",
      "text/plain": [
       "<Figure size 1080x1800 with 10 Axes>"
      ]
     },
     "metadata": {
      "needs_background": "light"
     },
     "output_type": "display_data"
    }
   ],
   "source": [
    "visualize_perturbed_samples(epsilon=0.1)"
   ]
  },
  {
   "cell_type": "markdown",
   "metadata": {},
   "source": [
    "### Visualizing examples for epsilon=0.2"
   ]
  },
  {
   "cell_type": "code",
   "execution_count": 18,
   "metadata": {
    "tags": []
   },
   "outputs": [
    {
     "data": {
      "image/png": "[encoded data removed]",
      "text/plain": [
       "<Figure size 1080x1800 with 10 Axes>"
      ]
     },
     "metadata": {
      "needs_background": "light"
     },
     "output_type": "display_data"
    }
   ],
   "source": [
    "visualize_perturbed_samples(epsilon=0.2)"
   ]
  },
  {
   "cell_type": "markdown",
   "metadata": {},
   "source": [
    "### Visualizing examples for epsilon=0.3"
   ]
  },
  {
   "cell_type": "code",
   "execution_count": 19,
   "metadata": {
    "tags": []
   },
   "outputs": [
    {
     "data": {
      "image/png": "[encoded data removed]",
      "text/plain": [
       "<Figure size 1080x1800 with 10 Axes>"
      ]
     },
     "metadata": {
      "needs_background": "light"
     },
     "output_type": "display_data"
    }
   ],
   "source": [
    "visualize_perturbed_samples(epsilon=0.3)"
   ]
  },
  {
   "cell_type": "markdown",
   "metadata": {},
   "source": [
    "We can observe that by increasing the perturbation budgets there are noticeble degradations in the image quality."
   ]
  },
  {
   "cell_type": "markdown",
   "metadata": {
    "tags": []
   },
   "source": [
    "## 1.5: Analyzing the results (5 Points)\n",
    "\n",
    "Please write a brief summary of your findings.  \n",
    "\n",
    "> **Does the attack always succeed (the model makes wrong prediction on the adversarial sample)? What is the relationship between the attack success rate and the perturbation budget?**\n",
    "No, the attack doesn't always succeed, however, the adversarial attack with perturbation budget of 0.3 brought down the model accuracy from 99% to 43%, which indicates a success rate of 56% which is quite significant. Also, the perturbation budget and success rate of attack are positively correlated in the case of FGSM on MNIST dataset, meaning increasing the perturbation budget resulted in increase in success rate of the FGSM attack.\n",
    "From an experiment that we performed we observed that as we increase the perturbation budget values the accuracy starts to decrease drastically. For higher perturbation values the attack success rate is very high but the attacks made using lower perturbation budgets are not that impactful and have lower attack success rate. \n",
    "\n",
    "![Decrease of Accuracy with the increase in Epsilon Values](https://raw.githubusercontent.com/shahrukhx01/ocr-test/main/epsilon_v_acc.png)\n",
    "\n"
   ]
  },
  {
   "cell_type": "markdown",
   "metadata": {},
   "source": [
    "\n",
    "> **How about the computation cost of the attack? (you can report the time in second)** \n",
    "The computation time of this attack per 1000 examples on CPU is 6 seconds whereas the computation time of this attack per 1000 examples on GPU is between 2-4 seconds.\n",
    "\n",
    "> **Does the attack require white-box access to the model?**\n",
    "Yes, FGSM requires white-box access to the model's architecture and paameters in order to perform forward and backward pass to compute gradients because it generates adversarial examples by exploiting gradients of loss function wrt inputs. \n"
   ]
  },
  {
   "cell_type": "markdown",
   "metadata": {
    "id": "KJUmrv5Bymij"
   },
   "source": [
    "# 2. Defending an ML model (35 points) \n",
    "\n",
    "So far, we have focused on attacking an ML model. In this section, we want you to defend your model. \n"
   ]
  },
  {
   "cell_type": "markdown",
   "metadata": {
    "id": "0gHUFK6Mymik"
   },
   "source": [
    "## 2.1: Implementing the adversarial training defense (20 Points)\n",
    "\n",
    "* We would like to ask you to implement the adversarial training defense (https://arxiv.org/pdf/1412.6572.pdf) mentioned in the lecture. \n",
    "\n",
    "* You can use the **FGSM adversarial training** method (i.e., train on FGSM examples). \n",
    "\n",
    "* You can also check the adversarial training implementation in other papers, e.g., http://proceedings.mlr.press/v97/pang19a/pang19a.pdf \n",
    "\n",
    "* Choose a certain **maximum perturbation budget** during training that is in the middle of the range you have experimented with before. \n",
    "\n",
    "* We do not require the defense to work perfectly - but what we want you to understand is why it works or why it does not work.\n",
    "\n",
    "**Hint:** You can save the checkpoint of the defended model as we would need it to for the third part of this exercise.\n"
   ]
  },
  {
   "cell_type": "code",
   "execution_count": 20,
   "metadata": {
    "id": "DD0UalSeymim",
    "tags": []
   },
   "outputs": [],
   "source": [
    "## We use the same hyperparameter selection that we selected from task 1 and then start adversarial training\n",
    "pretrained = True # flag for if pretrained model existing then read the checkpoint\n",
    "defended_model = CNN_Network(model_params).to(device)"
   ]
  },
  {
   "cell_type": "code",
   "execution_count": 21,
   "metadata": {
    "tags": []
   },
   "outputs": [],
   "source": [
    "## defining loss function and optimizer\n",
    "criterion = nn.CrossEntropyLoss()\n",
    "optimizer = optim.RMSprop(defended_model.parameters(), lr=0.001)\n",
    "epochs = 10\n",
    "max_perturbation_budget = 0.2 ## pertubation budget\n",
    "alpha = 0.5 ## weight term for commulative loss for adversarial training"
   ]
  },
  {
   "cell_type": "code",
   "execution_count": 22,
   "metadata": {
    "tags": []
   },
   "outputs": [],
   "source": [
    "def adversarial_training():\n",
    "    best_accuracy = 0\n",
    "    training_loss_history = []\n",
    "    validation_loss_history = []\n",
    "    training_acc_history = []\n",
    "    validation_acc_history = []\n",
    "    for epoch in range(0, epochs):\n",
    "        defended_model.train()\n",
    "        train_loss_scores = []\n",
    "        training_acc_scores = []\n",
    "        correct_predictions = 0\n",
    "\n",
    "        for batch_index, (images, targets) in enumerate(train_loader):\n",
    "            images = images.to(device)\n",
    "            targets = targets.to(device)\n",
    "            # switch on the gradient computations wrt to input, as need those computations for FGSM formula\n",
    "            images.requires_grad = True\n",
    "            ## perform the forward pass\n",
    "            initial_outputs = defended_model(images)\n",
    "            # compute the loss\n",
    "            initial_loss = criterion(initial_outputs, targets)\n",
    "            # re-initialized all the gradient variables\n",
    "            defended_model.zero_grad()\n",
    "            ## perform the backward pass\n",
    "            initial_loss.backward()\n",
    "            # retrieve gradients wrt to input\n",
    "            x_grad = images.grad.data\n",
    "            # perform the FGSM computation for generating adversarial example for a given epsilon\n",
    "            ## drawing value of epsilon from uniform distribution by setting upper bound as max_perturbation_budget=0.2\n",
    "            epsilon = np.random.uniform(low=0.01, high=max_perturbation_budget)\n",
    "            fgsm_output = fgsm_attack(images, epsilon, x_grad)\n",
    "\n",
    "            ## perform the forward pass on adversarial and original mini batch\n",
    "            fgsm_images_outputs = defended_model(fgsm_output)\n",
    "            images_outputs = defended_model(images)\n",
    "\n",
    "            # compute the losses on both batches\n",
    "            adversarial_loss = criterion(fgsm_images_outputs, targets)\n",
    "            original_loss = criterion(images_outputs, targets)\n",
    "            ## compute commulative loss\n",
    "            total_loss = (alpha * original_loss) + ((1-alpha)* adversarial_loss)\n",
    "            train_loss_scores.append(total_loss.item())\n",
    "\n",
    "            _, adv_preds = torch.max(fgsm_images_outputs, 1)\n",
    "            _, original_preds = torch.max(images_outputs, 1)\n",
    "            correct_predictions = (adv_preds==targets).sum().item() + (original_preds==targets).sum().item()\n",
    "            training_acc_scores.append(correct_predictions/(targets.shape[0]*2))\n",
    "\n",
    "            optimizer.zero_grad()\n",
    "            total_loss.backward()\n",
    "            optimizer.step()\n",
    "\n",
    "            if (batch_index+1) % 100 == 0:\n",
    "                print(f\"Epoch : [{epoch+1}/{epochs}] | Step : [{batch_index+1}/{len(train_loader)}] | Loss : {total_loss.item()} \")\n",
    "\n",
    "        training_loss_history.append((sum(train_loss_scores)/len(train_loss_scores)))\n",
    "        training_acc_history.append((sum(training_acc_scores)/len(training_acc_scores))*100)      \n",
    "        print(f'Epoch : {epoch+1} | Loss : {training_loss_history[-1]} | Training Accuracy : {training_acc_history[-1]}%')\n",
    "\n",
    "\n",
    "        correct_predictions = 0\n",
    "        validation_acc_scores = []\n",
    "        validation_loss_scores = []\n",
    "\n",
    "        for images, targets in iter(validation_loader):\n",
    "            images = images.to(device)\n",
    "            targets = targets.to(device)\n",
    "            # switch on the gradient computations wrt to input, as need those computations for FGSM formula\n",
    "            images.requires_grad = True\n",
    "            ## perform the forward pass\n",
    "            initial_outputs = defended_model(images)\n",
    "            # compute the loss\n",
    "            initial_loss = criterion(initial_outputs, targets)\n",
    "            # re-initialized all the gradient variables\n",
    "            defended_model.zero_grad()\n",
    "            ## perform the backward pass\n",
    "            initial_loss.backward()\n",
    "            # retrieve gradients wrt to input\n",
    "            x_grad = images.grad.data\n",
    "            # perform the FGSM computation for generating adversarial example for a given epsilon\n",
    "            ## drawing value of epsilon from uniform distribution by setting upper bound as max_perturbation_budget=0.2\n",
    "            epsilon = np.random.uniform(low=0.01, high=max_perturbation_budget)\n",
    "            fgsm_output = fgsm_attack(images, epsilon, x_grad)\n",
    "\n",
    "            ## perform the forward pass on adversarial and original mini batch\n",
    "            fgsm_images_outputs = defended_model(fgsm_output)\n",
    "            images_outputs = defended_model(images)\n",
    "\n",
    "\n",
    "            _, adv_preds = torch.max(fgsm_images_outputs, 1)\n",
    "            _, original_preds = torch.max(images_outputs, 1)\n",
    "            correct_predictions = (adv_preds==targets).sum().item() + (original_preds==targets).sum().item()\n",
    "            validation_acc_scores.append(correct_predictions/(targets.shape[0]*2))\n",
    "\n",
    "\n",
    "        validation_acc_history.append((sum(validation_acc_scores)/len(validation_acc_scores))*100)\n",
    "        print(f'Epoch {epoch+1} | Validation Accuracy {validation_acc_history[-1]}%')\n",
    "\n",
    "        if validation_acc_history[-1]>best_accuracy:\n",
    "            best_accuracy = validation_acc_history[-1]\n",
    "            print('Saving the model...')\n",
    "            torch.save(defended_model.state_dict(), f\"best_cnn_adversarial_training.ckpt\")\n",
    "    \n",
    "    return training_acc_history, validation_acc_history\n"
   ]
  },
  {
   "cell_type": "code",
   "execution_count": 23,
   "metadata": {},
   "outputs": [],
   "source": [
    "## if pretrained checkpoint then load from disk, else train from scratch\n",
    "if pretrained:\n",
    "    defended_model.load_state_dict(torch.load('best_cnn_adversarial_training.ckpt', map_location=device))\n",
    "else:\n",
    "    training_acc_history, validation_acc_history = adversarial_training()"
   ]
  },
  {
   "cell_type": "markdown",
   "metadata": {},
   "source": [
    "## 2.2: Evaluation (10 Points)\n",
    "\n",
    "* Craft adversarial examples using the **defended** model. This entails at least 1,000 examples crafted via FGSM. \n",
    "    * Create one set using a budget that is **less than (within)** the one used in training.\n",
    "    * Create another set using a budget that is **higher than** the one used in training. \n",
    "    * You can use two values of epsilons from question 1.3 \n",
    "    \n",
    "* Evaluate the **defended** model on these two adversarial examples sets. \n"
   ]
  },
  {
   "cell_type": "markdown",
   "metadata": {},
   "source": [
    "> In evaluation I have also estimated other image similarity metrics like **Peak Signal-to-Noise Ratio (PSNR), Mean Squared Error (MSE) and Spectral Angle Mapper (SAM) scores** to evaluate the adversarial examples by measuring the images quality being exploited since the attack we implement corrupts gradients and feature maps our model and degrades the quality of the input image as FGSM attack makes perturbations such that the images are misclassified.\n",
    "\n",
    "> This has been observed that similarity metrics can also be used to highlight the presence of an adversarial attack in an image when compared with its benign counterpart. Thus, these scores can be a measure to quantify the amount of perturbations brought in by these attacks.\n",
    "\n",
    "**Sewar Library** is used to quantify how dissimilar the regeneration is for every set with different budget value.\n",
    "https://pypi.org/project/sewar/"
   ]
  },
  {
   "cell_type": "code",
   "execution_count": 24,
   "metadata": {
    "tags": []
   },
   "outputs": [],
   "source": [
    "## dictionary for storing 2 sets of adversarial examples with 1000 examples each\n",
    "fgsm_defended_model_sets = {}\n",
    "## using epsilon values of 0.1 and 0.3 since the max_perturbation_budget was 0.2 so 0.1 is within the range and 0.3 is greater than that\n",
    "epsilons_defended = [0.1, 0.3]\n",
    "epsilon_param = namedtuple('epsilon_param', ['epsilon'])\n",
    "\n",
    "# creating the 1000 example dataset first\n",
    "test_subset_dataloader = _get_test_data_sample(DATA_PATH)"
   ]
  },
  {
   "cell_type": "code",
   "execution_count": 25,
   "metadata": {
    "tags": []
   },
   "outputs": [
    {
     "name": "stderr",
     "output_type": "stream",
     "text": [
      "100%|██████████| 2/2 [00:15<00:00,  7.95s/it]\n"
     ]
    }
   ],
   "source": [
    "## creating adversarial datasets using FGSM pertubations for epsilons = [0.1, 0.3] using the DEFENDED MODEL\n",
    "mse_scores = []\n",
    "psnr_scores = []\n",
    "sam_scores = []\n",
    "\n",
    "for epsilon in tqdm(epsilons_defended):\n",
    "    epsilon_val = epsilon_param(epsilon=epsilon)\n",
    "    fgsm_defended_model_sets[epsilon_val] = {\n",
    "         \"fgsm_images\": [],\n",
    "         \"targets\": [],\n",
    "        \"defended_model_predictions\": []\n",
    "     }\n",
    "    for x_data, target in test_subset_dataloader:\n",
    "        # move inputs and labels to the compute device\n",
    "        x_data= x_data.to(device) \n",
    "        target = target.to(device)\n",
    "        # switch on the gradient computations wrt to input, as need those computations for FGSM formula\n",
    "        x_data.requires_grad = True\n",
    "        # peform the forward pass of the model\n",
    "        output = defended_model(x_data)\n",
    "        #print(output)\n",
    "        # compute the loss\n",
    "        loss = criterion(output, target)\n",
    "        # re-initialized all the gradient variables\n",
    "        defended_model.zero_grad()\n",
    "        # perform the backward pass on loss function wrt to inputs and weights\n",
    "        loss.backward()\n",
    "        # retrieve gradients wrt to input\n",
    "        x_grad = x_data.grad.data\n",
    "\n",
    "        # perform the FGSM computation for generating adversarial example for a given epsilon\n",
    "        fgsm_output = fgsm_attack(x_data, epsilon, x_grad)\n",
    "        \n",
    "        mse_scores.append(mse(x_data.cpu().detach().numpy(),fgsm_output.cpu().detach().numpy()))\n",
    "        psnr_scores.append(psnr(x_data.cpu().detach().numpy(),fgsm_output.cpu().detach().numpy(), MAX=1))\n",
    "        sam_scores.append(sam(fgsm_output.cpu().view(1, -1).detach().numpy(),x_data.cpu().view(1, -1).detach().numpy()))\n",
    "                               \n",
    "        fgsm_defended_model_sets[epsilon_val][\"fgsm_images\"].append(fgsm_output)\n",
    "        fgsm_defended_model_sets[epsilon_val][\"targets\"].append(target.cpu().numpy())\n",
    "        fgsm_defended_model_sets[epsilon_val][\"defended_model_predictions\"].append(output.max(1, keepdim=True)[1][0].cpu().numpy())\n",
    "    fgsm_defended_model_sets[epsilon_val][\"quality_metrics_stats\"] = pd.DataFrame({'MSE': mse_scores, 'PSNR': psnr_scores, 'SAM': sam_scores, })"
   ]
  },
  {
   "cell_type": "code",
   "execution_count": 26,
   "metadata": {
    "tags": []
   },
   "outputs": [
    {
     "name": "stderr",
     "output_type": "stream",
     "text": [
      "\r",
      "  0%|          | 0/2 [00:00<?, ?it/s]"
     ]
    },
    {
     "name": "stdout",
     "output_type": "stream",
     "text": [
      "\n",
      "\n",
      "Accuracy report for within perturbation budget epsilon: 0.1 of FGSM attack on defended model\n",
      "              precision    recall  f1-score   support\n",
      "\n",
      "           0       0.98      0.94      0.96        89\n",
      "           1       0.98      0.98      0.98        89\n",
      "           2       0.98      1.00      0.99       108\n",
      "           3       0.99      0.94      0.96       112\n",
      "           4       0.96      0.96      0.96        96\n",
      "           5       0.96      0.99      0.97        86\n",
      "           6       0.98      0.98      0.98       108\n",
      "           7       0.94      0.98      0.96       113\n",
      "           8       0.98      0.96      0.97       107\n",
      "           9       0.94      0.95      0.94        92\n",
      "\n",
      "    accuracy                           0.97      1000\n",
      "   macro avg       0.97      0.97      0.97      1000\n",
      "weighted avg       0.97      0.97      0.97      1000\n",
      "\n"
     ]
    },
    {
     "data": {
      "text/html": [
       "<div>\n",
       "<style scoped>\n",
       "    .dataframe tbody tr th:only-of-type {\n",
       "        vertical-align: middle;\n",
       "    }\n",
       "\n",
       "    .dataframe tbody tr th {\n",
       "        vertical-align: top;\n",
       "    }\n",
       "\n",
       "    .dataframe thead th {\n",
       "        text-align: right;\n",
       "    }\n",
       "</style>\n",
       "<table border=\"1\" class=\"dataframe\">\n",
       "  <thead>\n",
       "    <tr style=\"text-align: right;\">\n",
       "      <th></th>\n",
       "      <th>MSE</th>\n",
       "      <th>PSNR</th>\n",
       "      <th>SAM</th>\n",
       "    </tr>\n",
       "  </thead>\n",
       "  <tbody>\n",
       "    <tr>\n",
       "      <th>count</th>\n",
       "      <td>1000.000000</td>\n",
       "      <td>1000.000000</td>\n",
       "      <td>1000.000000</td>\n",
       "    </tr>\n",
       "    <tr>\n",
       "      <th>mean</th>\n",
       "      <td>0.005462</td>\n",
       "      <td>22.632658</td>\n",
       "      <td>0.229596</td>\n",
       "    </tr>\n",
       "    <tr>\n",
       "      <th>std</th>\n",
       "      <td>0.000280</td>\n",
       "      <td>0.225079</td>\n",
       "      <td>0.042844</td>\n",
       "    </tr>\n",
       "    <tr>\n",
       "      <th>min</th>\n",
       "      <td>0.004229</td>\n",
       "      <td>22.065057</td>\n",
       "      <td>0.141162</td>\n",
       "    </tr>\n",
       "    <tr>\n",
       "      <th>25%</th>\n",
       "      <td>0.005271</td>\n",
       "      <td>22.482576</td>\n",
       "      <td>0.200460</td>\n",
       "    </tr>\n",
       "    <tr>\n",
       "      <th>50%</th>\n",
       "      <td>0.005460</td>\n",
       "      <td>22.628153</td>\n",
       "      <td>0.223383</td>\n",
       "    </tr>\n",
       "    <tr>\n",
       "      <th>75%</th>\n",
       "      <td>0.005646</td>\n",
       "      <td>22.781333</td>\n",
       "      <td>0.253383</td>\n",
       "    </tr>\n",
       "    <tr>\n",
       "      <th>max</th>\n",
       "      <td>0.006216</td>\n",
       "      <td>23.737516</td>\n",
       "      <td>0.431863</td>\n",
       "    </tr>\n",
       "  </tbody>\n",
       "</table>\n",
       "</div>"
      ],
      "text/plain": [
       "               MSE         PSNR          SAM\n",
       "count  1000.000000  1000.000000  1000.000000\n",
       "mean      0.005462    22.632658     0.229596\n",
       "std       0.000280     0.225079     0.042844\n",
       "min       0.004229    22.065057     0.141162\n",
       "25%       0.005271    22.482576     0.200460\n",
       "50%       0.005460    22.628153     0.223383\n",
       "75%       0.005646    22.781333     0.253383\n",
       "max       0.006216    23.737516     0.431863"
      ]
     },
     "metadata": {},
     "output_type": "display_data"
    },
    {
     "name": "stderr",
     "output_type": "stream",
     "text": [
      "\r",
      " 50%|█████     | 1/2 [00:02<00:02,  2.72s/it]"
     ]
    },
    {
     "name": "stdout",
     "output_type": "stream",
     "text": [
      "\n",
      "\n",
      "\n",
      "\n",
      "Accuracy report for higher than perturbation budget epsilon: 0.3 of FGSM attack on defended model\n",
      "              precision    recall  f1-score   support\n",
      "\n",
      "           0       0.95      0.84      0.89        89\n",
      "           1       0.93      0.71      0.80        89\n",
      "           2       0.78      0.94      0.85       108\n",
      "           3       0.96      0.81      0.88       112\n",
      "           4       0.75      0.68      0.71        96\n",
      "           5       0.83      0.81      0.82        86\n",
      "           6       0.98      0.88      0.93       108\n",
      "           7       0.78      0.90      0.84       113\n",
      "           8       0.61      0.90      0.73       107\n",
      "           9       0.74      0.59      0.65        92\n",
      "\n",
      "    accuracy                           0.81      1000\n",
      "   macro avg       0.83      0.81      0.81      1000\n",
      "weighted avg       0.83      0.81      0.81      1000\n",
      "\n"
     ]
    },
    {
     "data": {
      "text/html": [
       "<div>\n",
       "<style scoped>\n",
       "    .dataframe tbody tr th:only-of-type {\n",
       "        vertical-align: middle;\n",
       "    }\n",
       "\n",
       "    .dataframe tbody tr th {\n",
       "        vertical-align: top;\n",
       "    }\n",
       "\n",
       "    .dataframe thead th {\n",
       "        text-align: right;\n",
       "    }\n",
       "</style>\n",
       "<table border=\"1\" class=\"dataframe\">\n",
       "  <thead>\n",
       "    <tr style=\"text-align: right;\">\n",
       "      <th></th>\n",
       "      <th>MSE</th>\n",
       "      <th>PSNR</th>\n",
       "      <th>SAM</th>\n",
       "    </tr>\n",
       "  </thead>\n",
       "  <tbody>\n",
       "    <tr>\n",
       "      <th>count</th>\n",
       "      <td>2000.000000</td>\n",
       "      <td>2000.000000</td>\n",
       "      <td>2000.000000</td>\n",
       "    </tr>\n",
       "    <tr>\n",
       "      <th>mean</th>\n",
       "      <td>0.026566</td>\n",
       "      <td>17.927910</td>\n",
       "      <td>0.438195</td>\n",
       "    </tr>\n",
       "    <tr>\n",
       "      <th>std</th>\n",
       "      <td>0.021180</td>\n",
       "      <td>4.711253</td>\n",
       "      <td>0.220466</td>\n",
       "    </tr>\n",
       "    <tr>\n",
       "      <th>min</th>\n",
       "      <td>0.004229</td>\n",
       "      <td>12.657728</td>\n",
       "      <td>0.141162</td>\n",
       "    </tr>\n",
       "    <tr>\n",
       "      <th>25%</th>\n",
       "      <td>0.005460</td>\n",
       "      <td>13.216195</td>\n",
       "      <td>0.223417</td>\n",
       "    </tr>\n",
       "    <tr>\n",
       "      <th>50%</th>\n",
       "      <td>0.021430</td>\n",
       "      <td>18.212506</td>\n",
       "      <td>0.432194</td>\n",
       "    </tr>\n",
       "    <tr>\n",
       "      <th>75%</th>\n",
       "      <td>0.047685</td>\n",
       "      <td>22.628061</td>\n",
       "      <td>0.637343</td>\n",
       "    </tr>\n",
       "    <tr>\n",
       "      <th>max</th>\n",
       "      <td>0.054228</td>\n",
       "      <td>23.737516</td>\n",
       "      <td>1.008718</td>\n",
       "    </tr>\n",
       "  </tbody>\n",
       "</table>\n",
       "</div>"
      ],
      "text/plain": [
       "               MSE         PSNR          SAM\n",
       "count  2000.000000  2000.000000  2000.000000\n",
       "mean      0.026566    17.927910     0.438195\n",
       "std       0.021180     4.711253     0.220466\n",
       "min       0.004229    12.657728     0.141162\n",
       "25%       0.005460    13.216195     0.223417\n",
       "50%       0.021430    18.212506     0.432194\n",
       "75%       0.047685    22.628061     0.637343\n",
       "max       0.054228    23.737516     1.008718"
      ]
     },
     "metadata": {},
     "output_type": "display_data"
    },
    {
     "name": "stderr",
     "output_type": "stream",
     "text": [
      "100%|██████████| 2/2 [00:05<00:00,  2.79s/it]"
     ]
    },
    {
     "name": "stdout",
     "output_type": "stream",
     "text": [
      "\n",
      "\n"
     ]
    },
    {
     "name": "stderr",
     "output_type": "stream",
     "text": [
      "\n"
     ]
    }
   ],
   "source": [
    "for epsilon in tqdm(epsilons_defended):\n",
    "    epsilon_val = epsilon_param(epsilon=epsilon)\n",
    "    fgsm_defended_model_sets[epsilon_val][\"defended_model_fgsm_predictions\"] = []\n",
    "    for index, perturbed_image in enumerate(fgsm_defended_model_sets[epsilon_val][\"fgsm_images\"]):\n",
    "        perturbed_image.to(device)\n",
    "        output = defended_model(fgsm_defended_model_sets[epsilon_val][\"fgsm_images\"][index])\n",
    "        preds = torch.max(output, 1)[1]\n",
    "        \n",
    "        fgsm_defended_model_sets[epsilon_val][\"defended_model_fgsm_predictions\"].append(preds.cpu().numpy())\n",
    "    print('\\n')\n",
    "    if epsilon <= 0.2:\n",
    "        print(f\"Accuracy report for within perturbation budget epsilon: {epsilon} of FGSM attack on defended model\")\n",
    "    else:\n",
    "        print(f\"Accuracy report for higher than perturbation budget epsilon: {epsilon} of FGSM attack on defended model\")\n",
    "    print(classification_report(fgsm_defended_model_sets[epsilon_val][\"targets\"], fgsm_defended_model_sets[epsilon_val][\"defended_model_fgsm_predictions\"]))\n",
    "    display(fgsm_defended_model_sets[epsilon_val][\"quality_metrics_stats\"].describe())\n",
    "    print('\\n')"
   ]
  },
  {
   "cell_type": "markdown",
   "metadata": {},
   "source": [
    "> We can verify the results of the similarity metrics. For comparisons, it is **0 for MSE, infinity for PSNR, 1 for UQI, 0 for SAM and 1 for VIFP**; when no perturbations were included in the attack images. As we have increased the budget a little by setting the values like **[0.1]** which is less than the range on which we trained our model we can observe that images were degraded as the **PSNR value has been drastically decreased from infinity to some values like 22~23 dB**, **MSE was increased a little bit max value = 0.006216**  and **SAM scores were increased** as well. However, **VIFP scores indicate that perturbations addded has not impacted its values** indicating the Visual Information Fidelity is prettty similar for those images. \n",
    "\n",
    "> As we have used the higher budget values like **[0.3]** we observed the PSNR, MSE and SAM scores significantly chnage and has noticebly increased indicating the strong attack in the images."
   ]
  },
  {
   "cell_type": "code",
   "execution_count": 27,
   "metadata": {
    "tags": []
   },
   "outputs": [],
   "source": [
    "## accuracy scores for epsilon=0.1\n",
    "acc_FGSM1 = accuracy_score(fgsm_sets[epsilon_param(epsilon=0.1)]['targets'],fgsm_sets[epsilon_param(epsilon=0.1)]['undefended_model_fgsm_predictions'])\n",
    "acc_FGSM_defend1 = accuracy_score(fgsm_defended_model_sets[epsilon_param(epsilon=0.1)]['targets'],fgsm_defended_model_sets[epsilon_param(epsilon=0.1)]['defended_model_fgsm_predictions'])\n",
    "\n",
    "## accuracy scores for epsilon=0.3\n",
    "acc_FGSM2 = accuracy_score(fgsm_sets[epsilon_param(epsilon=0.3)]['targets'],fgsm_sets[epsilon_param(epsilon=0.3)]['undefended_model_fgsm_predictions'])\n",
    "acc_FGSM_defend2 = accuracy_score(fgsm_defended_model_sets[epsilon_param(epsilon=0.3)]['targets'],fgsm_defended_model_sets[epsilon_param(epsilon=0.3)]['defended_model_fgsm_predictions'])"
   ]
  },
  {
   "cell_type": "code",
   "execution_count": 28,
   "metadata": {
    "tags": []
   },
   "outputs": [
    {
     "name": "stdout",
     "output_type": "stream",
     "text": [
      "Accuracy on the lower-budget adversarial samples (FGSM) 0.83\n",
      "Accuracy on the lower-budget adversarial samples (FGSM) after defense 0.97\n",
      "Accuracy on the higher-budget adversarial samples (FGSM) 0.43\n",
      "Accuracy on the higher-budget adversarial samples (FGSM) after defense 0.81\n"
     ]
    }
   ],
   "source": [
    "print('Accuracy on the lower-budget adversarial samples (FGSM) %.2f'%acc_FGSM1)\n",
    "print('Accuracy on the lower-budget adversarial samples (FGSM) after defense %.2f'%acc_FGSM_defend1)\n",
    "\n",
    "print('Accuracy on the higher-budget adversarial samples (FGSM) %.2f'%acc_FGSM2)\n",
    "print('Accuracy on the higher-budget adversarial samples (FGSM) after defense %.2f'%acc_FGSM_defend2)"
   ]
  },
  {
   "cell_type": "markdown",
   "metadata": {},
   "source": [
    "## 2.3 Discussion (5 points)\n",
    "\n",
    "> **How successful was the defense against the attack compared to the undefended model? How do you interpret the difference?** The adversarial training defense was quiet successful in the case of lower perturbation since the accuracy of the model increased from 83% (undefended model, epsilon=0.1) to 97% (defended model, epsilon=0.1). Moreover, for a higher perturbation budget the gains were even more significant since the accuracy of the model increased from 43% (undefended model, epsilon=0.3) to 81% (defended model, epsilon=0.3), which indicates adversarially trained model was able to defend 38% more attacks than the undefended model.\n",
    "\n",
    "> **How did the two sets differ?**\n",
    "The adversarial examples generated with the within range perturbation budget were quiet similar to examples seen by the model during training which generated on the fly adversarially. So model was able to generalize on such examples. Whereas the dataset generated with perturbation budget higher than maximum perturbation budget during training contained examples slightly more novel to the model since such level of perturbation wasn't experienced by the model during training hence accuracy dropped as compared to the dataset generated within perturbation budget.\n",
    "The adversarial examples we have generated using the perturbation budget 0.1 introduced very less perturbations to the images as can be observed by the similarity metrics that these generated samples are pretty close to the real dataset as compare to the sets generated using higher perturbation values like 0.3 where the images are actually very noised down and degraded to an extent where it would actually be very hard for the model to classify them properly. However, the model is able to classify the attacks implemented by FGSM attack method."
   ]
  },
  {
   "cell_type": "markdown",
   "metadata": {},
   "source": [
    "# 3: I-FGSM attack (35 points) \n",
    "\n",
    "* FGSM is one of the simplest and earliest attacks. Since then, many more advanced attacks have been proposed. \n",
    "* One of them is the Iterative-FGSM (https://arxiv.org/pdf/1607.02533.pdf), where the attack is repeated multiple times.\n",
    "* In this part, we ask you to please implement the iterative FGSM attack. \n",
    "\n"
   ]
  },
  {
   "cell_type": "markdown",
   "metadata": {},
   "source": [
    "## 3.1: Implementing the I-FGSM attack (10 Points)\n",
    "\n",
    "**Hints**: \n",
    "\n",
    "* Your code should have an attack loop. At each step, the FGSM attack that you have implemented before is computed using a small step.\n",
    "* After each step, you should perform a per-pixel clipping to make sure the image is in the allowed range, and that the perturbation is within budget.\n"
   ]
  },
  {
   "cell_type": "code",
   "execution_count": 29,
   "metadata": {
    "execution": {
     "iopub.status.busy": "2021-11-16T10:10:20.196669Z",
     "iopub.status.idle": "2021-11-16T10:10:20.197581Z",
     "shell.execute_reply": "2021-11-16T10:10:20.197344Z",
     "shell.execute_reply.started": "2021-11-16T10:10:20.197319Z"
    }
   },
   "outputs": [],
   "source": [
    "#implementation of I-FGSM Attack\n",
    "def i_fgsm_attack(example, targets, model, epsilon, steps=10):\n",
    "    \"\"\"\n",
    "    Implementation of I-FGSM attack per bacth\n",
    "    example: Input image batch\n",
    "    targets: Ground truth labels for input image batch\n",
    "    epsilon: Pertubation budget \n",
    "    model: Victim model\n",
    "    steps: number of steps of I-FGSM\n",
    "    \"\"\"\n",
    "    ## computing the step size by dividing the perturbation budget by number of steps\n",
    "    alpha = epsilon/steps\n",
    "    ## define the loss function\n",
    "    criterion = nn.CrossEntropyLoss()\n",
    "    ## storing original input for per pixel clipping\n",
    "    original_input = example\n",
    "    ## switch on gradient computation for input batch\n",
    "    example.requires_grad = True\n",
    "    for i in range(steps):\n",
    "        ## perform the forward pass\n",
    "        output = model(example)  \n",
    "        ## compute the loss\n",
    "        loss = criterion(output, targets)\n",
    "        ## perform the backward pass\n",
    "        loss.backward()\n",
    "        # computing the step as per formula multiplying step size with gradient sign\n",
    "        adversarial_step = alpha * example.grad.data.sign()   \n",
    "        ## adding the avdersarial perturbation to the input image batch then computin the\n",
    "        ## perturbation produced in this step\n",
    "        current_perturbation = (example.data + adversarial_step) - original_input\n",
    "        ## perform per-pixel clipping to keep perturbation within budget\n",
    "        current_perturbation_clipped = torch.clamp(current_perturbation, -epsilon, epsilon)\n",
    "        example.data = torch.clamp(example.data + current_perturbation_clipped, 0,1 )\n",
    "        ## reset gradients for next iteration\n",
    "        example.grad.data.zero_()\n",
    "    return example.data"
   ]
  },
  {
   "cell_type": "markdown",
   "metadata": {},
   "source": [
    "## 3.2: Attack the undefended model (5 Points)\n",
    "\n",
    "* We will first attack the **undefended model** (i.e., without adversarial training).\n",
    "\n",
    "* Choose one perturbation budget from Question **1.3** for comparison. \n",
    "\n",
    "    * Hint: A simple way to choose the small step is to divide the total budget by the number of steps (e.g., 10).\n",
    "\n",
    "* Please generate 1000 adversarial examples using the **undefended** model and the **I-FGSM** you implemented. \n",
    "\n",
    "* Please compute the accuracy of the adversarial set on the **undefended** model. "
   ]
  },
  {
   "cell_type": "code",
   "execution_count": 30,
   "metadata": {
    "execution": {
     "iopub.status.busy": "2021-11-16T10:10:20.198723Z",
     "iopub.status.idle": "2021-11-16T10:10:20.199620Z",
     "shell.execute_reply": "2021-11-16T10:10:20.199382Z",
     "shell.execute_reply.started": "2021-11-16T10:10:20.199356Z"
    }
   },
   "outputs": [],
   "source": [
    "## dictionary for storing 1 set of adversarial examples\n",
    "i_fgsm_sets = {}\n",
    "\n",
    "epsilon_param = namedtuple('epsilon_param', ['epsilon'])\n",
    "\n",
    "# creating the 1000 example dataset first\n",
    "test_subset_dataloader = _get_test_data_sample(DATA_PATH)\n"
   ]
  },
  {
   "cell_type": "code",
   "execution_count": 31,
   "metadata": {},
   "outputs": [
    {
     "name": "stderr",
     "output_type": "stream",
     "text": [
      "100%|██████████| 1000/1000 [00:33<00:00, 29.97it/s]\n"
     ]
    }
   ],
   "source": [
    "## creating adversarial datasets using I-FGSM pertubations for epsilons = 0.1\n",
    "epsilon_val = epsilon_param(epsilon=0.1)\n",
    "i_fgsm_sets[epsilon_val] = {\n",
    "     \"i_fgsm_images\": [],\n",
    "     \"targets\": []\n",
    " }\n",
    "for x_data, target in tqdm(test_subset_dataloader):\n",
    "    # perform the I-FGSM computation for generating adversarial example for a given epsilon\n",
    "    i_fgsm_output = i_fgsm_attack(x_data, target, undefended_model, epsilon_val.epsilon, steps=5)\n",
    "    i_fgsm_sets[epsilon_val][\"i_fgsm_images\"].append(i_fgsm_output)\n",
    "    i_fgsm_sets[epsilon_val][\"targets\"].append(target.cpu().numpy())\n"
   ]
  },
  {
   "cell_type": "code",
   "execution_count": 32,
   "metadata": {},
   "outputs": [
    {
     "name": "stdout",
     "output_type": "stream",
     "text": [
      "\n",
      "\n",
      "Accuracy report for perturbation budget: 0.1\n",
      "              precision    recall  f1-score   support\n",
      "\n",
      "           0       0.84      0.73      0.78        89\n",
      "           1       0.85      0.85      0.85        89\n",
      "           2       0.72      0.87      0.79       108\n",
      "           3       0.79      0.71      0.75       112\n",
      "           4       0.65      0.78      0.71        96\n",
      "           5       0.83      0.51      0.63        86\n",
      "           6       0.86      0.89      0.87       108\n",
      "           7       0.68      0.75      0.71       113\n",
      "           8       0.67      0.69      0.68       107\n",
      "           9       0.52      0.49      0.51        92\n",
      "\n",
      "    accuracy                           0.73      1000\n",
      "   macro avg       0.74      0.73      0.73      1000\n",
      "weighted avg       0.74      0.73      0.73      1000\n",
      "\n",
      "\n",
      "\n"
     ]
    }
   ],
   "source": [
    "## evaluating the undefended model\n",
    "epsilon_val = epsilon_param(epsilon=0.1)\n",
    "i_fgsm_sets[epsilon_val][\"undefended_model_i_fgsm_predictions\"] = []\n",
    "for index, perturbed_image in enumerate(i_fgsm_sets[epsilon_val][\"i_fgsm_images\"]):\n",
    "    perturbed_image.to(device)\n",
    "    output = undefended_model(i_fgsm_sets[epsilon_val][\"i_fgsm_images\"][index])\n",
    "    preds = torch.max(output, 1)[1]\n",
    "\n",
    "    i_fgsm_sets[epsilon_val][\"undefended_model_i_fgsm_predictions\"].append(preds.cpu().numpy())\n",
    "print('\\n')\n",
    "print(f\"Accuracy report for perturbation budget: {epsilon_val.epsilon}\")\n",
    "print(classification_report(i_fgsm_sets[epsilon_val][\"targets\"], i_fgsm_sets[epsilon_val][\"undefended_model_i_fgsm_predictions\"]))\n",
    "print('\\n')"
   ]
  },
  {
   "cell_type": "code",
   "execution_count": 33,
   "metadata": {},
   "outputs": [
    {
     "name": "stdout",
     "output_type": "stream",
     "text": [
      "Visualizing only class 9 since it suffered the most in terms of accuracy\n"
     ]
    },
    {
     "data": {
      "image/png": "[encoded data removed]",
      "text/plain": [
       "<Figure size 1080x1800 with 10 Axes>"
      ]
     },
     "metadata": {
      "needs_background": "light"
     },
     "output_type": "display_data"
    }
   ],
   "source": [
    "def visualize_perturbed_i_fgsm_samples(epsilon=0.1):\n",
    "    nsamples = 10\n",
    "    nrows = nsamples\n",
    "    ncols = 10\n",
    "\n",
    "    fig, axes = plt.subplots(1,ncols,figsize=(1.5*nrows,2.5*ncols))  # create the figure with subplots\n",
    "    [ax.set_axis_off() for ax in axes.ravel()]  # remove the axis\n",
    "\n",
    "    epsilon_val = epsilon_param(epsilon=epsilon)\n",
    "    labels = np.array([target[0] for target in i_fgsm_sets[epsilon_val][\"targets\"]])\n",
    "    for i in range(nsamples):\n",
    "        index  = np.where(labels == 9)[0][i]\n",
    "        axes[i].imshow(i_fgsm_sets[epsilon_val][\"i_fgsm_images\"][index].detach().cpu().numpy()[0][0])\n",
    "        axes[i].set_title('after \\n I-FGSM \\n attack: {}'.format(\n",
    "                                                                                i_fgsm_sets[epsilon_val][\"undefended_model_i_fgsm_predictions\"][index][0]))\n",
    "print(\"Visualizing only class 9 since it suffered the most in terms of accuracy\")\n",
    "visualize_perturbed_i_fgsm_samples(epsilon=0.1)"
   ]
  },
  {
   "cell_type": "markdown",
   "metadata": {},
   "source": [
    "### 3.2.1: Findings and comparison with FGSM (8 points)\n",
    "\n",
    "* **Please report your findings. How successful was the attack?** <br/>\n",
    "   I-FGSM was quiet successful even with small number of steps of 5 per examples batch, it was able to bring the model accuracy from 99% to 73%. It is also important to note this attack implicitly targeted the class label `9` as the accuracy of this class drastically  dropped to 51% from 99% and intuitively on the surface it has exploited the semantic visual similarity of class 9 with 4 and 7, so most of the examples as seen above are being classified as either 4 or 7. This can be seen above in the plots as well.\n",
    "* **What do you expect when increasing the number of steps? (you can experiment with different parameters of the attack and report your findings)** <br/>\n",
    "As the number of iterations increase the attacks becomes more stronger and more model accuracy goes down. Since the attack keeps on iteratively perturbating the input examples in each iteration, so increasing the number of iterations increased the strength of the attack.\n",
    "* **Compare with the basic FGSM. Using the same perturbation budget and using the same model, which attack is more successful? Why do you think this is the case? What about the computation time?**<br/>\n",
    "I-FGSM is more successful since the accuracy of the undefended model dropped from 99% to 73% where for same perturbation budget the accuracy dropped from 99% to 83% using FGSM attack. This is because of the fact I-FGSM iteratively keeps perturbating the examples whereas FGSM computes the perturbated in a single step which makes it perturbations less effective as compared I-FGSM for a similar perturbation budget.<br/>\n",
    "In terms of computational time FGSM is more efficient since it computes the perturbated examples in one step and took 6 seconds per 1000 examples whereas I-FGSM with n_steps=5 took 28 seconds more than 4x of FGSM for a perturbation budget of 0.1 computed on CPU.\n",
    "* Feel free to report any interesting observations. "
   ]
  },
  {
   "cell_type": "markdown",
   "metadata": {},
   "source": [
    "## 3.3: Attack the defended model (5 poinst) \n",
    "\n",
    "* In the previous question, we attacked the **undefended model**. \n",
    "\n",
    "* Now, we want to explore how successful the previous implemented defense (FGSM adversarial training) is againts this new attack. (we will not implement a new defense here, we will be reusing your previous checkpoint of the **defended model**)\n",
    "\n",
    "\n",
    "* Use the **defended model** to create one set of adversarial examples. Use a perturbation budget from Question **2.2** for comparison.  "
   ]
  },
  {
   "cell_type": "code",
   "execution_count": 34,
   "metadata": {
    "execution": {
     "iopub.status.busy": "2021-11-16T10:10:20.200722Z",
     "iopub.status.idle": "2021-11-16T10:10:20.201543Z",
     "shell.execute_reply": "2021-11-16T10:10:20.201324Z",
     "shell.execute_reply.started": "2021-11-16T10:10:20.201298Z"
    }
   },
   "outputs": [],
   "source": [
    "## dictionary for storing 1 set of adversarial examples\n",
    "i_fgsm_defended_model_sets = {}\n",
    "## epsilon values\n",
    "\n",
    "epsilon_param = namedtuple('epsilon_param', ['epsilon'])\n",
    "\n",
    "# creating the 1000 example dataset first\n",
    "test_subset_dataloader = _get_test_data_sample(DATA_PATH)"
   ]
  },
  {
   "cell_type": "code",
   "execution_count": 35,
   "metadata": {},
   "outputs": [
    {
     "name": "stderr",
     "output_type": "stream",
     "text": [
      "100%|██████████| 1000/1000 [00:30<00:00, 32.36it/s]\n"
     ]
    }
   ],
   "source": [
    "## creating adversarial datasets using I-FGSM pertubations for epsilons = 0.3\n",
    "epsilon_val = epsilon_param(epsilon=0.3)\n",
    "i_fgsm_defended_model_sets[epsilon_val] = {\n",
    "     \"i_fgsm_images\": [],\n",
    "     \"targets\": []\n",
    " }\n",
    "for x_data, target in tqdm(test_subset_dataloader):\n",
    "    # perform the I-FGSM computation for generating adversarial example for a given epsilon\n",
    "    i_fgsm_output = i_fgsm_attack(x_data, target, defended_model, epsilon_val.epsilon, steps=5)\n",
    "    i_fgsm_defended_model_sets[epsilon_val][\"i_fgsm_images\"].append(i_fgsm_output)\n",
    "    i_fgsm_defended_model_sets[epsilon_val][\"targets\"].append(target.cpu().numpy())\n",
    "\n"
   ]
  },
  {
   "cell_type": "code",
   "execution_count": 36,
   "metadata": {},
   "outputs": [
    {
     "name": "stdout",
     "output_type": "stream",
     "text": [
      "\n",
      "\n",
      "Accuracy report for perturbation budget: 0.3\n",
      "              precision    recall  f1-score   support\n",
      "\n",
      "           0       0.42      0.29      0.34        89\n",
      "           1       0.00      0.00      0.00        89\n",
      "           2       0.20      0.31      0.24       108\n",
      "           3       0.19      0.08      0.11       112\n",
      "           4       0.06      0.07      0.07        96\n",
      "           5       0.07      0.09      0.08        86\n",
      "           6       0.52      0.31      0.39       108\n",
      "           7       0.22      0.30      0.25       113\n",
      "           8       0.09      0.10      0.10       107\n",
      "           9       0.02      0.03      0.03        92\n",
      "\n",
      "    accuracy                           0.17      1000\n",
      "   macro avg       0.18      0.16      0.16      1000\n",
      "weighted avg       0.19      0.17      0.17      1000\n",
      "\n",
      "\n",
      "\n"
     ]
    }
   ],
   "source": [
    "## evaluating the defended model\n",
    "epsilon_val = epsilon_param(epsilon=0.3)\n",
    "i_fgsm_defended_model_sets[epsilon_val][\"defended_model_i_fgsm_predictions\"] = []\n",
    "for index, perturbed_image in enumerate(i_fgsm_defended_model_sets[epsilon_val][\"i_fgsm_images\"]):\n",
    "    perturbed_image.to(device)\n",
    "    output = defended_model(i_fgsm_defended_model_sets[epsilon_val][\"i_fgsm_images\"][index])\n",
    "    preds = torch.max(output, 1)[1]\n",
    "\n",
    "    i_fgsm_defended_model_sets[epsilon_val][\"defended_model_i_fgsm_predictions\"].append(preds.cpu().numpy())\n",
    "print('\\n')\n",
    "print(f\"Accuracy report for perturbation budget: {epsilon_val.epsilon}\")\n",
    "print(classification_report(i_fgsm_defended_model_sets[epsilon_val][\"targets\"], i_fgsm_defended_model_sets[epsilon_val][\"defended_model_i_fgsm_predictions\"]))\n",
    "print('\\n')"
   ]
  },
  {
   "cell_type": "markdown",
   "metadata": {},
   "source": [
    "### 3.3.1: Discussion (7 points) \n",
    "* **Please report your results. How successful was the attack on the defended model?** <br/>\n",
    "The I-FGSM attack on defended model was very successful, the accuracy of adversarial test set on defended model was 81% with FGSM attack, however it dropped to 17% against I-FGSM with a perturbation budget of 0.3.\n",
    "* **Compare it with the success of the FGSM attack on the defended model. What do you observe? How do you interpret the difference?** <br/>\n",
    "I-FGSM was more successful than FGSM attack the defended model, which did really well against the FGSM attack with perturbation budget of 0.3 and produced accuracy of 81% whereas the I-FGSM brought down the accuracy of the defended model to 17% hence producing as a drop of 64% in accuracy. The differentiating factor is since defended model has seen similar perturbated examples from FGSM it was robust against such adversarial examples, however, since, I-FGSM perturbates the inputs in a different manner (iteratively) model was still slightly susceptible to differently perturbated examples.\n",
    "* **How do you think you can improve the defense against I-FGSM attack?** <br/>\n",
    "The techniques to defend against I-FGSM can include to perform adversarial training using I-FGSM however, since I-FGSM is an iterative method the training process would considerably slow down as compared to FGSM based adversarial training. <br/> Second more efficient method is **E2SAD (efficient two-step adversarial defense method) by Ting-Jui Chang et. al** which proposed a defense method which has the computational cost similar to FGSM adversarial training however it the trained model would be robust against both FGSM and iterative attacks such as I-FGSM attacks. It essentially generates two adversarial examples for each input example, It then adds an dissimilarity term in the total loss which represents degree of dissimilarity between the two adversarially generated examples to defend against iterative attack methods."
   ]
  }
 ],
 "metadata": {
  "kernelspec": {
   "display_name": "Python 3",
   "language": "python",
   "name": "python3"
  },
  "language_info": {
   "codemirror_mode": {
    "name": "ipython",
    "version": 3
   },
   "file_extension": ".py",
   "mimetype": "text/x-python",
   "name": "python",
   "nbconvert_exporter": "python",
   "pygments_lexer": "ipython3",
   "version": "3.8.5"
  }
 },
 "nbformat": 4,
 "nbformat_minor": 4
}
