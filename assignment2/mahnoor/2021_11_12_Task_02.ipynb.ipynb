{
 "cells": [
  {
   "cell_type": "markdown",
   "metadata": {
    "colab_type": "text",
    "id": "4NzyqehHjUlG"
   },
   "source": [
    "# ML in Cybersecurity: Task II\n",
    "\n",
    "## Team\n",
    "  * **Team name**:  *R2D2C3P0BB8*\n",
    "  * **Members**:  <br/> **Navdeeppal Singh (s8nlsing@stud.uni-saarland.de)** <br/> **Shahrukh Khan (shkh00001@stud.uni-saarland.de)** <br/> **Mahnoor Shahid (mash00001@stud.uni-saarland.de)**\n",
    "\n",
    "\n",
    "## Logistics\n",
    "  * **Due date**: 25th Nov. 2021, 23:59:59 (email the completed notebook including outputs to mlcysec_ws2022_staff@lists.cispa.saarland)\n",
    "  * Email the completed notebook to mlcysec_ws2022_staff@lists.cispa.saarland \n",
    "  * Complete this in the previously established **teams of 3**\n",
    "  * Feel free to use the course forum to discuss.\n",
    "  \n",
    "  \n",
    "## About this Project\n",
    "In this project, we dive into the vulnerabilities of machine learning models and the difficulties of defending against them. To this end, we ask you to implement an evasion attack (craft adversarial examples) yourselves, and defend your own model.   \n",
    "\n",
    "\n",
    "## A Note on Grading\n",
    "The total number of points in this project is 100. We further provide the number of points achievable with each excercise. You should take particular care to document and visualize your results.\n",
    "\n",
    "Whenever possible, please use tools like tables or figures to compare the different findings\n",
    "\n",
    "\n",
    " \n",
    "## Filling-in the Notebook\n",
    "You'll be submitting this very notebook that is filled-in with (all) your code and analysis. Make sure you submit one that has been previously executed in-order. (So that results/graphs are already visible upon opening it). \n",
    "\n",
    "The notebook you submit **should compile** (or should be self-contained and sufficiently commented). Check tutorial 1 on how to set up the Python3 environment.\n",
    "\n",
    "It is extremely important that you **do not** re-order the existing sections. Apart from that, the code blocks that you need to fill-in are given by:\n",
    "```\n",
    "#\n",
    "#\n",
    "# ------- Your Code -------\n",
    "#\n",
    "#\n",
    "```\n",
    "Feel free to break this into multiple-cells. It's even better if you interleave explanations and code-blocks so that the entire notebook forms a readable \"story\".\n",
    "\n",
    "\n",
    "## Code of Honor\n",
    "We encourage discussing ideas and concepts with other students to help you learn and better understand the course content. However, the work you submit and present **must be original** and demonstrate your effort in solving the presented problems. **We will not tolerate** blatantly using existing solutions (such as from the internet), improper collaboration (e.g., sharing code or experimental data between groups) and plagiarism. If the honor code is not met, no points will be awarded.\n",
    "\n",
    " \n",
    "  ---"
   ]
  },
  {
   "cell_type": "code",
   "execution_count": 5,
   "metadata": {
    "colab": {},
    "colab_type": "code",
    "id": "3ewNwfFvbFaR"
   },
   "outputs": [],
   "source": [
    "import time \n",
    " \n",
    "import numpy as np \n",
    "import matplotlib.pyplot as plt \n",
    "\n",
    "import json \n",
    "import time \n",
    "import pickle \n",
    "import sys \n",
    "import csv \n",
    "import os \n",
    "import os.path as osp \n",
    "import shutil \n",
    "import decimal\n",
    "import pandas as pd\n",
    "from sewar.full_ref import mse, rmse, psnr, uqi, ssim, ergas, scc, rase, sam, msssim, vifp, psnrb\n",
    "from IPython.display import display, HTML\n",
    "import seaborn as sns\n",
    "%matplotlib inline \n",
    "plt.rcParams['figure.figsize'] = (10.0, 8.0) # set default size of plots \n",
    "plt.rcParams['image.interpolation'] = 'nearest' \n",
    "plt.rcParams['image.cmap'] = 'gray' \n",
    " \n",
    "# for auto-reloading external modules \n",
    "# see http://stackoverflow.com/questions/1907993/autoreload-of-modules-in-ipython \n",
    "%load_ext autoreload\n",
    "%autoreload 2"
   ]
  },
  {
   "cell_type": "code",
   "execution_count": 6,
   "metadata": {
    "colab": {},
    "colab_type": "code",
    "id": "640GrzbOevr0"
   },
   "outputs": [],
   "source": [
    "# Some suggestions of our libraries that might be helpful for this project\n",
    "from collections import Counter          # an even easier way to count\n",
    "from multiprocessing import Pool         # for multiprocessing\n",
    "from tqdm import tqdm                    # fancy progress bars\n",
    "import warnings\n",
    "import sklearn.metrics\n",
    "# Load other libraries here.\n",
    "# Keep it minimal! We should be easily able to reproduce your code.\n",
    "# We only support sklearn and pytorch.\n",
    "import torchvision.datasets as datasets\n",
    "import torchvision.transforms as transforms\n",
    "import torch.utils.data as data\n",
    "from numpy import random\n",
    "# We preload pytorch as an example\n",
    "import torch\n",
    "\n",
    "import torchvision\n",
    "import torch.nn as nn\n",
    "import torch.nn.functional as F\n",
    "import torch.optim as optim\n",
    "from torch.utils.data import DataLoader, Dataset, TensorDataset, random_split\n",
    "# Please set random seed to have reproduceable results, e.g. torch.manual_seed(123)\n",
    "random_seed = 42\n",
    "torch.manual_seed(random_seed)\n",
    "np.random.seed(random_seed)"
   ]
  },
  {
   "cell_type": "code",
   "execution_count": 7,
   "metadata": {
    "colab": {},
    "colab_type": "code",
    "id": "GJZPEAWYMhYB"
   },
   "outputs": [
    {
     "name": "stdout",
     "output_type": "stream",
     "text": [
      "cpu\n"
     ]
    }
   ],
   "source": [
    "compute_mode = 'cpu'\n",
    "global device\n",
    "\n",
    "if compute_mode == 'cpu':\n",
    "    device = torch.device('cpu')\n",
    "elif compute_mode == 'gpu':\n",
    "    # If you are using pytorch on the GPU cluster, you have to manually specify which GPU device to use\n",
    "    # It is extremely important that you *do not* spawn multi-GPU jobs.\n",
    "    os.environ[\"CUDA_VISIBLE_DEVICES\"] = '0'    # Set device ID here\n",
    "    device = torch.device('cuda')\n",
    "else:\n",
    "    raise ValueError('Unrecognized compute mode')\n",
    "    \n",
    "print(device)"
   ]
  },
  {
   "cell_type": "markdown",
   "metadata": {
    "colab_type": "text",
    "id": "nxi-lLD0mKHD"
   },
   "source": [
    "#### Helpers\n",
    "\n",
    "In case you choose to have some methods you plan to reuse during the notebook, define them here. This will avoid clutter and keep rest of the notebook succinct."
   ]
  },
  {
   "cell_type": "code",
   "execution_count": 8,
   "metadata": {
    "colab": {},
    "colab_type": "code",
    "id": "VBbigqdEmKd8"
   },
   "outputs": [],
   "source": [
    "# data loading helper\n",
    "def _get_data(DATA_PATH, TRAIN_BATCH_SIZE, TEST_BATCH_SIZE):\n",
    "    try:\n",
    "        \"\"\"\n",
    "        This method is created to split the MNIST data into training, validation and testing set accordingly \n",
    "        and load it into dataloaders. Also, to specify any transformations required to perform on the data. \n",
    "        As well as this method is being called multiple times in hyper parameter tuning where different batch \n",
    "        sizes are being tested\n",
    "        ...\n",
    "\n",
    "        Parameters\n",
    "        ----------\n",
    "        DATA_PATH : str\n",
    "            specifies the path directory where dataset will be downloaded\n",
    "        TRAIN_BATCH_SIZE : int\n",
    "            specifies the batch size in the training loader\n",
    "        TEST_BATCH_SIZE : int\n",
    "            specifies the batch size in the training loader\n",
    "            \n",
    "        Returns\n",
    "        -------\n",
    "        train_loader, validation_loader, test_loader with the specified batch sizes \n",
    "            \n",
    "        \"\"\"\n",
    "        tranformations = transforms.Compose([transforms.ToTensor()])\n",
    "        \n",
    "        mnist_training_dataset = datasets.MNIST(root=DATA_PATH+'train', train=True, download=True, transform=tranformations)\n",
    "        mnist_testing_dataset = datasets.MNIST(root=DATA_PATH+'test', train=False, download=True, transform=tranformations)\n",
    "        \n",
    "        training_dataset, validation_dataset = random_split(mnist_training_dataset, [int(0.8*len(mnist_training_dataset)), int(0.2*len(mnist_training_dataset))])\n",
    "        \n",
    "        train_loader = DataLoader(training_dataset, batch_size=TRAIN_BATCH_SIZE, shuffle=True)\n",
    "        validation_loader = DataLoader(training_dataset, batch_size=TRAIN_BATCH_SIZE, shuffle=False)\n",
    "        test_loader = DataLoader(mnist_testing_dataset, batch_size=TEST_BATCH_SIZE, shuffle=True)\n",
    "        \n",
    "        return train_loader, validation_loader, test_loader\n",
    "    \n",
    "    except Exception as e:\n",
    "        print('Unable to get data due to ', e)\n",
    "        \n",
    "    \n",
    "def visualize_specific_predictions(specific_predictions):\n",
    "    target_values = []\n",
    "    predicted_values = []\n",
    "    figure = plt.figure(figsize=(20, 8))\n",
    "    columns = 4\n",
    "    rows = 3\n",
    "    axs = []\n",
    "    for index, (images, attacks, targets, w_preds_before_attack, w_preds_after_attack) in list(enumerate(specific_predictions))[:12]:\n",
    "        with warnings.catch_warnings(record=True):\n",
    "            axs.append( figure.add_subplot(rows, columns, index+1) )\n",
    "            axs[-1].set_title(f'Correct: {targets}, Predicted Before: {w_preds_before_attack}, Predicted After: {w_preds_after_attack}', fontsize=10)\n",
    "            axs[-1].axis(\"off\")\n",
    "            plt.imshow(images.cpu().detach().numpy().reshape(28, 28),cmap=\"gray\")\n",
    "            plt.imshow(attacks.cpu().detach().numpy().reshape(28, 28),cmap=\"gray\")\n",
    "    plt.show()\n",
    "\n",
    "    \n",
    "def _plot_epsilons_accuracy(x,y,title):\n",
    "    sns.set(rc={\"figure.figsize\":(15, 8)}) \n",
    "    sns.set_style(\"whitegrid\")\n",
    "    clrs = ['grey' if (x > min(y)) else 'red' for x in y]\n",
    "\n",
    "    sns.barplot(x= x, y=  y, palette=clrs)\n",
    "\n",
    "    plt.xticks(fontsize=14)  \n",
    "    plt.title(title, fontsize=20)\n",
    "    plt.xlabel('Epsilon Values', fontsize=16)\n",
    "    plt.ylabel('Accuracy', fontsize=16)\n",
    "    plt.grid(alpha = 0.3, linestyle = '--', linewidth = 2)\n",
    "    plt.show()\n",
    "    "
   ]
  },
  {
   "cell_type": "markdown",
   "metadata": {
    "colab_type": "text",
    "id": "n1pcmKkyjT7y"
   },
   "source": [
    "# 1. Attacking an ML-model (30 points) \n",
    "\n",
    "In this section, we implement an attack ourselves. First, however, you need a model you can attack. Feel free to choose the DNN/ConvNN from task 1.\n",
    "\n"
   ]
  },
  {
   "cell_type": "markdown",
   "metadata": {
    "colab_type": "text",
    "id": "QaJv_d_Dp7OM"
   },
   "source": [
    "## 1.1: Setting up the model and data (4 Points)\n",
    "\n",
    "Load the MNIST data, as done in task 1. \n",
    "\n",
    "Re-use the model from task 1 here and train it until it achieves reasonable accuracy (>92%).\n",
    "\n",
    "If you have the saved checkpoint from task 1, you can load it directly. But please compute here the test accuracy using this checkpoint.  \n",
    "\n",
    "**Hint:** In order to save computation time for the rest of exercise, you might consider having a relatively small model here.\n",
    "\n",
    "**Hint**: You might want to save the trained model to save time later."
   ]
  },
  {
   "cell_type": "code",
   "execution_count": 9,
   "metadata": {},
   "outputs": [
    {
     "name": "stdout",
     "output_type": "stream",
     "text": [
      "Downloading http://yann.lecun.com/exdb/mnist/train-images-idx3-ubyte.gz\n",
      "Downloading http://yann.lecun.com/exdb/mnist/train-images-idx3-ubyte.gz to ./data/train\\MNIST\\raw\\train-images-idx3-ubyte.gz\n"
     ]
    },
    {
     "data": {
      "application/vnd.jupyter.widget-view+json": {
       "model_id": "4ac8f9f3f5c84aafb5adb06b33ab791d",
       "version_major": 2,
       "version_minor": 0
      },
      "text/plain": [
       "  0%|          | 0/9912422 [00:00<?, ?it/s]"
      ]
     },
     "metadata": {},
     "output_type": "display_data"
    },
    {
     "name": "stdout",
     "output_type": "stream",
     "text": [
      "Extracting ./data/train\\MNIST\\raw\\train-images-idx3-ubyte.gz to ./data/train\\MNIST\\raw\n",
      "\n",
      "Downloading http://yann.lecun.com/exdb/mnist/train-labels-idx1-ubyte.gz\n",
      "Downloading http://yann.lecun.com/exdb/mnist/train-labels-idx1-ubyte.gz to ./data/train\\MNIST\\raw\\train-labels-idx1-ubyte.gz\n"
     ]
    },
    {
     "data": {
      "application/vnd.jupyter.widget-view+json": {
       "model_id": "13d6cb2b898042838cafa3737b8ae7e4",
       "version_major": 2,
       "version_minor": 0
      },
      "text/plain": [
       "  0%|          | 0/28881 [00:00<?, ?it/s]"
      ]
     },
     "metadata": {},
     "output_type": "display_data"
    },
    {
     "name": "stdout",
     "output_type": "stream",
     "text": [
      "Extracting ./data/train\\MNIST\\raw\\train-labels-idx1-ubyte.gz to ./data/train\\MNIST\\raw\n",
      "\n",
      "Downloading http://yann.lecun.com/exdb/mnist/t10k-images-idx3-ubyte.gz\n",
      "Downloading http://yann.lecun.com/exdb/mnist/t10k-images-idx3-ubyte.gz to ./data/train\\MNIST\\raw\\t10k-images-idx3-ubyte.gz\n"
     ]
    },
    {
     "data": {
      "application/vnd.jupyter.widget-view+json": {
       "model_id": "8c0a8fa2d61041d3a6bb200cf8f4dd40",
       "version_major": 2,
       "version_minor": 0
      },
      "text/plain": [
       "  0%|          | 0/1648877 [00:00<?, ?it/s]"
      ]
     },
     "metadata": {},
     "output_type": "display_data"
    },
    {
     "name": "stdout",
     "output_type": "stream",
     "text": [
      "Extracting ./data/train\\MNIST\\raw\\t10k-images-idx3-ubyte.gz to ./data/train\\MNIST\\raw\n",
      "\n",
      "Downloading http://yann.lecun.com/exdb/mnist/t10k-labels-idx1-ubyte.gz\n",
      "Downloading http://yann.lecun.com/exdb/mnist/t10k-labels-idx1-ubyte.gz to ./data/train\\MNIST\\raw\\t10k-labels-idx1-ubyte.gz\n"
     ]
    },
    {
     "data": {
      "application/vnd.jupyter.widget-view+json": {
       "model_id": "9abc63287f4d493b8b4628a8c6f356f0",
       "version_major": 2,
       "version_minor": 0
      },
      "text/plain": [
       "  0%|          | 0/4542 [00:00<?, ?it/s]"
      ]
     },
     "metadata": {},
     "output_type": "display_data"
    },
    {
     "name": "stdout",
     "output_type": "stream",
     "text": [
      "Extracting ./data/train\\MNIST\\raw\\t10k-labels-idx1-ubyte.gz to ./data/train\\MNIST\\raw\n",
      "\n",
      "Downloading http://yann.lecun.com/exdb/mnist/train-images-idx3-ubyte.gz\n",
      "Downloading http://yann.lecun.com/exdb/mnist/train-images-idx3-ubyte.gz to ./data/test\\MNIST\\raw\\train-images-idx3-ubyte.gz\n"
     ]
    },
    {
     "data": {
      "application/vnd.jupyter.widget-view+json": {
       "model_id": "53df0170224a4585a29748f016a9a58d",
       "version_major": 2,
       "version_minor": 0
      },
      "text/plain": [
       "  0%|          | 0/9912422 [00:00<?, ?it/s]"
      ]
     },
     "metadata": {},
     "output_type": "display_data"
    },
    {
     "name": "stdout",
     "output_type": "stream",
     "text": [
      "Extracting ./data/test\\MNIST\\raw\\train-images-idx3-ubyte.gz to ./data/test\\MNIST\\raw\n",
      "\n",
      "Downloading http://yann.lecun.com/exdb/mnist/train-labels-idx1-ubyte.gz\n",
      "Downloading http://yann.lecun.com/exdb/mnist/train-labels-idx1-ubyte.gz to ./data/test\\MNIST\\raw\\train-labels-idx1-ubyte.gz\n"
     ]
    },
    {
     "data": {
      "application/vnd.jupyter.widget-view+json": {
       "model_id": "a6a0e1f9de6642ce90cd9bfac2de1172",
       "version_major": 2,
       "version_minor": 0
      },
      "text/plain": [
       "  0%|          | 0/28881 [00:00<?, ?it/s]"
      ]
     },
     "metadata": {},
     "output_type": "display_data"
    },
    {
     "name": "stdout",
     "output_type": "stream",
     "text": [
      "Extracting ./data/test\\MNIST\\raw\\train-labels-idx1-ubyte.gz to ./data/test\\MNIST\\raw\n",
      "\n",
      "Downloading http://yann.lecun.com/exdb/mnist/t10k-images-idx3-ubyte.gz\n",
      "Downloading http://yann.lecun.com/exdb/mnist/t10k-images-idx3-ubyte.gz to ./data/test\\MNIST\\raw\\t10k-images-idx3-ubyte.gz\n"
     ]
    },
    {
     "data": {
      "application/vnd.jupyter.widget-view+json": {
       "model_id": "c7c4b6087f484b278eb1d431e8a1c9e4",
       "version_major": 2,
       "version_minor": 0
      },
      "text/plain": [
       "  0%|          | 0/1648877 [00:00<?, ?it/s]"
      ]
     },
     "metadata": {},
     "output_type": "display_data"
    },
    {
     "name": "stdout",
     "output_type": "stream",
     "text": [
      "Extracting ./data/test\\MNIST\\raw\\t10k-images-idx3-ubyte.gz to ./data/test\\MNIST\\raw\n",
      "\n",
      "Downloading http://yann.lecun.com/exdb/mnist/t10k-labels-idx1-ubyte.gz\n",
      "Downloading http://yann.lecun.com/exdb/mnist/t10k-labels-idx1-ubyte.gz to ./data/test\\MNIST\\raw\\t10k-labels-idx1-ubyte.gz\n"
     ]
    },
    {
     "data": {
      "application/vnd.jupyter.widget-view+json": {
       "model_id": "d6346b0f78ef49619e1b6e9e432f99ba",
       "version_major": 2,
       "version_minor": 0
      },
      "text/plain": [
       "  0%|          | 0/4542 [00:00<?, ?it/s]"
      ]
     },
     "metadata": {},
     "output_type": "display_data"
    },
    {
     "name": "stdout",
     "output_type": "stream",
     "text": [
      "Extracting ./data/test\\MNIST\\raw\\t10k-labels-idx1-ubyte.gz to ./data/test\\MNIST\\raw\n",
      "\n"
     ]
    }
   ],
   "source": [
    "## 1. Loading data\n",
    "\n",
    "DATA_PATH = './data/'\n",
    "TRAIN_BATCH_SIZE, TEST_BATCH_SIZE = 64, 64\n",
    "train_loader, validation_loader, test_loader = _get_data(DATA_PATH, TRAIN_BATCH_SIZE, TEST_BATCH_SIZE)"
   ]
  },
  {
   "cell_type": "code",
   "execution_count": 10,
   "metadata": {},
   "outputs": [],
   "source": [
    "## 2. Defining model\n",
    "\n",
    "class CNN_Network(nn.Module):\n",
    "    def __init__(self, model_params):\n",
    "        \"\"\"\n",
    "        This class is created to specify the Convolutional Neural Network on which MNIST dataset is trained on, \n",
    "        validated and later tested. \n",
    "        It consist of one input layer, one output layer can consist of multiple hidden layers all of which is \n",
    "        specified by the user as provided through model_paramaters\n",
    "        Size of the kernel, stride and padding can also be adjusted by the user as provided through model_paramaters\n",
    "        ...\n",
    "\n",
    "        Parameters\n",
    "        ----------\n",
    "        model_params : dictionary\n",
    "            provides the model with the required input size, hidden layers and output size\n",
    "            \n",
    "            model_params = {\n",
    "            'INPUT_SIZE' : int,\n",
    "            'HIDDEN_LAYERS' : list(int),\n",
    "            'OUTPUT_SIZE' : int,\n",
    "            'KERNEL' : int,\n",
    "            'STRIDE' : int,\n",
    "            'PADDING' : int\n",
    "        }\n",
    "        \"\"\"\n",
    "        try:\n",
    "            super(CNN_Network, self).__init__()\n",
    "            \n",
    "            layers = []\n",
    "            \n",
    "            for input_channel, out_channel in zip([model_params['INPUT_SIZE']] + model_params['HIDDEN_LAYERS'][:-1], \n",
    "                                                     model_params['HIDDEN_LAYERS'][:len(model_params['HIDDEN_LAYERS'])]):\n",
    "                layers.append(nn.Conv2d(input_channel, out_channel, model_params['KERNEL'], model_params['STRIDE'], model_params['PADDING'], bias=True))\n",
    "                layers.append(nn.MaxPool2d(2, 2))\n",
    "                layers.append(nn.ReLU())\n",
    "            layers.append(nn.Flatten(1))      \n",
    "            layers.append(nn.Linear(model_params['HIDDEN_LAYERS'][-1], model_params['OUTPUT_SIZE'], bias=True))\n",
    "\n",
    "            self.layers = nn.Sequential(*layers)\n",
    "        \n",
    "        except Exception as e:\n",
    "            print('initializing failed due to ', e)\n",
    "    \n",
    "    def forward(self, x):\n",
    "        try:\n",
    "            return self.layers(x)\n",
    "        \n",
    "        except Exception as e:\n",
    "            print('forward pass failed due to ', e)\n",
    "      "
   ]
  },
  {
   "cell_type": "code",
   "execution_count": 28,
   "metadata": {},
   "outputs": [],
   "source": [
    "## 3. initializing the pre-trained model from assignment 1\n",
    "model_params = {\n",
    "        'INPUT_SIZE' : 1,\n",
    "        'HIDDEN_LAYERS' : [160, 100, 64, 10],\n",
    "        'OUTPUT_SIZE' : 10,\n",
    "        'KERNEL' : 3,\n",
    "        'STRIDE' : 1,\n",
    "        'PADDING' : 1\n",
    "}\n",
    "  \n",
    "undefended_model = CNN_Network(model_params).to(device)"
   ]
  },
  {
   "cell_type": "code",
   "execution_count": 8,
   "metadata": {},
   "outputs": [],
   "source": [
    "# loading checkpoint and evaluating on test set\n",
    "def _test_model(model, test_loader, BEST_MODEL):\n",
    "    try:\n",
    "        model.load_state_dict(torch.load(BEST_MODEL))\n",
    "        with torch.no_grad():\n",
    "            correct_predictions = []\n",
    "            testing_acc_scores = []\n",
    "            wrong_predictions = []\n",
    "            all_targets = []\n",
    "            all_preds = []\n",
    "\n",
    "\n",
    "            for images, targets in iter(test_loader):\n",
    "                images = images.to(device)\n",
    "                targets = targets.to(device)\n",
    "                outputs = model(images)\n",
    "                \n",
    "                _, preds = torch.max(outputs, 1)\n",
    "                correct_indicies = (preds == targets).nonzero(as_tuple=True)[0]\n",
    "                c_images = images[correct_indicies]\n",
    "                c_targets = targets[correct_indicies]\n",
    "                c_correct_preds = preds[correct_indicies]\n",
    "                testing_acc_scores.append(len(correct_indicies)/targets.shape[0])\n",
    "\n",
    "                wrong_indicies = (preds != targets).nonzero(as_tuple=True)[0]\n",
    "                w_images = images[wrong_indicies]\n",
    "                w_targets = targets[wrong_indicies]\n",
    "                w_wrong_preds = preds[wrong_indicies]\n",
    "            \n",
    "                correct_predictions += zip(c_images, c_targets, c_correct_preds)\n",
    "                wrong_predictions += zip(w_images, w_targets, w_wrong_preds)\n",
    "                all_targets+= zip(targets.cpu().numpy())\n",
    "                all_preds+= zip(preds.cpu().numpy())\n",
    "\n",
    "            return (sum(testing_acc_scores)/len(testing_acc_scores))*100, correct_predictions, wrong_predictions, all_targets, all_preds\n",
    "        \n",
    "    except Exception as e:\n",
    "            print('Error occured in testing the model = ', e)"
   ]
  },
  {
   "cell_type": "code",
   "execution_count": 9,
   "metadata": {},
   "outputs": [],
   "source": [
    "(test_accuracy, \n",
    " correct_predictions, \n",
    " wrong_predictions, \n",
    " all_targets, all_preds) = _test_model(undefended_model, test_loader, \n",
    "                                       BEST_MODEL='Accuracy_99.8875_batchsize_64_lr_0.001.ckpt' )"
   ]
  },
  {
   "cell_type": "code",
   "execution_count": 10,
   "metadata": {},
   "outputs": [
    {
     "name": "stdout",
     "output_type": "stream",
     "text": [
      "Our test_accuracy is 99.19386942675159\n"
     ]
    }
   ],
   "source": [
    "print(f'Our test_accuracy is {test_accuracy}')"
   ]
  },
  {
   "cell_type": "code",
   "execution_count": 11,
   "metadata": {},
   "outputs": [
    {
     "name": "stdout",
     "output_type": "stream",
     "text": [
      "              precision    recall  f1-score   support\n",
      "\n",
      "           0       0.99      1.00      1.00       980\n",
      "           1       0.99      1.00      1.00      1135\n",
      "           2       0.99      0.99      0.99      1032\n",
      "           3       1.00      0.99      0.99      1010\n",
      "           4       0.99      0.99      0.99       982\n",
      "           5       1.00      0.99      0.99       892\n",
      "           6       0.99      0.99      0.99       958\n",
      "           7       0.99      0.99      0.99      1028\n",
      "           8       0.99      0.99      0.99       974\n",
      "           9       0.99      0.99      0.99      1009\n",
      "\n",
      "    accuracy                           0.99     10000\n",
      "   macro avg       0.99      0.99      0.99     10000\n",
      "weighted avg       0.99      0.99      0.99     10000\n",
      "\n"
     ]
    }
   ],
   "source": [
    "print(sklearn.metrics.classification_report(all_targets, all_preds))"
   ]
  },
  {
   "cell_type": "markdown",
   "metadata": {
    "colab_type": "text",
    "id": "DEQrdyLHsUIu"
   },
   "source": [
    "## 1.2: Implementing the FGSM attack (7 Points)\n",
    "\n",
    "We now want to attack the model trained in the previous step. We will start with the FGSM attack as a simple example. \n",
    "\n",
    "Please implement the FGSM attack mentioned in the lecture. \n",
    "\n",
    "More details: https://arxiv.org/pdf/1412.6572.pdf\n"
   ]
  },
  {
   "cell_type": "code",
   "execution_count": 12,
   "metadata": {
    "colab": {},
    "colab_type": "code",
    "id": "gcVZnUNbRKOz"
   },
   "outputs": [],
   "source": [
    "\n",
    "def fgsm_attack(images, epsilon, clip_min, clip_max):\n",
    "    attack_images = images + epsilon*images.grad.sign()\n",
    "    attack_images = torch.clamp(attack_images, clip_min, clip_max)\n",
    "    return attack_images\n"
   ]
  },
  {
   "cell_type": "markdown",
   "metadata": {
    "colab_type": "text",
    "id": "RNpI3oUoO1wE",
    "tags": []
   },
   "source": [
    "## 1.3: Adversarial sample set (7 Points)\n",
    "\n",
    "* Please generate a dataset containing at least 1,000 adversarial examples using FGSM.\n",
    "\n",
    "* Please vary the perturbation budget (3 variants) and generate 1,000 adversarial examples for each. \n",
    "    * **Hint**: you can choose epsilons within, e.g., = [.05, .1, .15, .2, .25, .3],  using MNIST pixel values in the interval       [0, 1]\n",
    "\n",
    "* Compute the accuracy of each attack set. "
   ]
  },
  {
   "cell_type": "code",
   "execution_count": 13,
   "metadata": {},
   "outputs": [],
   "source": [
    "TEST_BATCH_SIZE = 1000\n",
    "train_loader, validation_loader, test_loader = _get_data(DATA_PATH, TRAIN_BATCH_SIZE, TEST_BATCH_SIZE)\n",
    "\n",
    "fgsm_params = {'epsilons':  [0, .05, .1, .15, .2, .25, .3],\n",
    "               'clip_min': 0.,\n",
    "               'clip_max': 1.}"
   ]
  },
  {
   "cell_type": "code",
   "execution_count": 14,
   "metadata": {},
   "outputs": [],
   "source": [
    "def _attack_and_evaluate(model):\n",
    "    try:\n",
    "        loss_func = nn.CrossEntropyLoss().to(device)\n",
    "        predictions = []\n",
    "        acc_scores = []\n",
    "\n",
    "        for epsilon in tqdm(fgsm_params['epsilons']):\n",
    "            \n",
    "            (images, targets) = next(iter(test_loader))\n",
    "            images, targets = images.to(device), targets.to(device)  \n",
    "            images.requires_grad = True \n",
    "            \n",
    "            outputs = model(images)\n",
    "            _, _preds_before_attack = torch.max(outputs,1)\n",
    "            loss = loss_func(outputs, targets)\n",
    "            undefended_model.zero_grad()\n",
    "            loss.backward()\n",
    "            \n",
    "            attack_images = fgsm_attack(images, epsilon, fgsm_params['clip_min'], fgsm_params['clip_max'])\n",
    "            _, _preds_after_attack = torch.max(model(attack_images),1)\n",
    "            indicies = (_preds_after_attack != targets).nonzero(as_tuple=True)[0]\n",
    "            predictions.append(zip(images[indicies], attack_images[indicies], targets[indicies], _preds_before_attack[indicies], _preds_after_attack[indicies]))\n",
    "            \n",
    "            acc_scores.append(len((_preds_after_attack == targets).nonzero(as_tuple=True)[0])/targets.shape[0]*100)\n",
    "\n",
    "            print(f\"Epsilon: {epsilon}\\tTest Accuracy = {acc_scores[-1]}\")\n",
    "        \n",
    "        variants = pd.DataFrame({'Epsilon': fgsm_params['epsilons'], 'Accuracy': acc_scores})\n",
    "        return variants, predictions\n",
    "    \n",
    "    except Exception as e:\n",
    "            print('Error occured in _evaluate_and_attack method = ', e)    "
   ]
  },
  {
   "cell_type": "code",
   "execution_count": 15,
   "metadata": {
    "tags": []
   },
   "outputs": [
    {
     "name": "stderr",
     "output_type": "stream",
     "text": [
      " 14%|████████████                                                                        | 1/7 [00:02<00:14,  2.46s/it]"
     ]
    },
    {
     "name": "stdout",
     "output_type": "stream",
     "text": [
      "Epsilon: 0\tTest Accuracy = 99.5\n"
     ]
    },
    {
     "name": "stderr",
     "output_type": "stream",
     "text": [
      " 29%|████████████████████████                                                            | 2/7 [00:04<00:12,  2.47s/it]"
     ]
    },
    {
     "name": "stdout",
     "output_type": "stream",
     "text": [
      "Epsilon: 0.05\tTest Accuracy = 94.6\n"
     ]
    },
    {
     "name": "stderr",
     "output_type": "stream",
     "text": [
      " 43%|████████████████████████████████████                                                | 3/7 [00:07<00:09,  2.44s/it]"
     ]
    },
    {
     "name": "stdout",
     "output_type": "stream",
     "text": [
      "Epsilon: 0.1\tTest Accuracy = 82.69999999999999\n"
     ]
    },
    {
     "name": "stderr",
     "output_type": "stream",
     "text": [
      " 57%|████████████████████████████████████████████████                                    | 4/7 [00:09<00:07,  2.51s/it]"
     ]
    },
    {
     "name": "stdout",
     "output_type": "stream",
     "text": [
      "Epsilon: 0.15\tTest Accuracy = 68.5\n"
     ]
    },
    {
     "name": "stderr",
     "output_type": "stream",
     "text": [
      " 71%|████████████████████████████████████████████████████████████                        | 5/7 [00:12<00:05,  2.54s/it]"
     ]
    },
    {
     "name": "stdout",
     "output_type": "stream",
     "text": [
      "Epsilon: 0.2\tTest Accuracy = 56.8\n"
     ]
    },
    {
     "name": "stderr",
     "output_type": "stream",
     "text": [
      " 86%|████████████████████████████████████████████████████████████████████████            | 6/7 [00:14<00:02,  2.47s/it]"
     ]
    },
    {
     "name": "stdout",
     "output_type": "stream",
     "text": [
      "Epsilon: 0.25\tTest Accuracy = 48.1\n"
     ]
    },
    {
     "name": "stderr",
     "output_type": "stream",
     "text": [
      "100%|████████████████████████████████████████████████████████████████████████████████████| 7/7 [00:17<00:00,  2.50s/it]"
     ]
    },
    {
     "name": "stdout",
     "output_type": "stream",
     "text": [
      "Epsilon: 0.3\tTest Accuracy = 43.9\n"
     ]
    },
    {
     "name": "stderr",
     "output_type": "stream",
     "text": [
      "\n"
     ]
    }
   ],
   "source": [
    "fgm_sets, predictions = _attack_and_evaluate(undefended_model)"
   ]
  },
  {
   "cell_type": "code",
   "execution_count": 16,
   "metadata": {},
   "outputs": [
    {
     "data": {
      "image/png": "[encoded data removed]",
      "text/plain": [
       "<Figure size 1080x576 with 1 Axes>"
      ]
     },
     "metadata": {},
     "output_type": "display_data"
    }
   ],
   "source": [
    "_plot_epsilons_accuracy(x = fgm_sets['Epsilon'], y= fgm_sets['Accuracy'], title='Decrease of Accuracy with the increase in Epsilon Values' )"
   ]
  },
  {
   "cell_type": "code",
   "execution_count": 17,
   "metadata": {},
   "outputs": [
    {
     "data": {
      "text/html": [
       "<div>\n",
       "<style scoped>\n",
       "    .dataframe tbody tr th:only-of-type {\n",
       "        vertical-align: middle;\n",
       "    }\n",
       "\n",
       "    .dataframe tbody tr th {\n",
       "        vertical-align: top;\n",
       "    }\n",
       "\n",
       "    .dataframe thead th {\n",
       "        text-align: right;\n",
       "    }\n",
       "</style>\n",
       "<table border=\"1\" class=\"dataframe\">\n",
       "  <thead>\n",
       "    <tr style=\"text-align: right;\">\n",
       "      <th></th>\n",
       "      <th>Epsilon</th>\n",
       "      <th>Accuracy</th>\n",
       "    </tr>\n",
       "  </thead>\n",
       "  <tbody>\n",
       "    <tr>\n",
       "      <th>6</th>\n",
       "      <td>0.30</td>\n",
       "      <td>43.9</td>\n",
       "    </tr>\n",
       "    <tr>\n",
       "      <th>5</th>\n",
       "      <td>0.25</td>\n",
       "      <td>48.1</td>\n",
       "    </tr>\n",
       "    <tr>\n",
       "      <th>4</th>\n",
       "      <td>0.20</td>\n",
       "      <td>56.8</td>\n",
       "    </tr>\n",
       "  </tbody>\n",
       "</table>\n",
       "</div>"
      ],
      "text/plain": [
       "   Epsilon  Accuracy\n",
       "6     0.30      43.9\n",
       "5     0.25      48.1\n",
       "4     0.20      56.8"
      ]
     },
     "execution_count": 17,
     "metadata": {},
     "output_type": "execute_result"
    }
   ],
   "source": [
    "fgsm_selected_sets = fgm_sets.sort_values(by='Accuracy', ascending=True).head(3)\n",
    "fgsm_selected_sets"
   ]
  },
  {
   "cell_type": "markdown",
   "metadata": {
    "colab_type": "text",
    "id": "Ex3qQp3JolD1"
   },
   "source": [
    "## 1.4: Visualizing the results (7 Points)\n",
    "\n",
    "* Please chose one sample for each class (for example the first when iterating the test data) and plot the (ten) adversarial examples as well as the predicted label (before and after the attack)\n",
    "\n",
    "* Please repeat the visualization for the three sets you have created "
   ]
  },
  {
   "cell_type": "code",
   "execution_count": 19,
   "metadata": {},
   "outputs": [],
   "source": [
    "# template code (Please feel free to change this)\n",
    "# (each column corresponds to one attack method)\n",
    "# col_titles = ['Ori','FGSM','Method 1', 'Method 2'] \n",
    "# nsamples = 10\n",
    "# nrows = nsamples\n",
    "# ncols = len(col_titles)\n",
    "\n",
    "# fig, axes = plt.subplots(nrows,ncols,figsize=(8,12))  # create the figure with subplots\n",
    "# [ax.set_axis_off() for ax in axes.ravel()]  # remove the axis\n",
    "\n",
    "# for ax, col in zip(axes[0], col_titles): # set up the title for each column\n",
    "#     ax.set_title(col,fontdict={'fontsize':18,'color':'b'})\n",
    "\n",
    "# for i in range(nsamples):\n",
    "#     axes[i,0].imshow(images_ori[i])\n",
    "#     axes[i,1].imshow(adv_FGSM[i])\n",
    "#     axes[i,2].imshow(adv_Method1[i])\n",
    "#     axes[i,3].imshow(adv_Method2[i])\n",
    "\n",
    "def visualize_specific_predictions(specific_predictions):\n",
    "    target_values = []\n",
    "    predicted_values = []\n",
    "    figure = plt.figure(figsize=(20, 8))\n",
    "    columns = 4\n",
    "    rows = 3\n",
    "    axs = []\n",
    "    for index, (images, attacks, targets, w_preds_before_attack, w_preds_after_attack) in list(enumerate(specific_predictions))[:12]:\n",
    "        with warnings.catch_warnings(record=True):\n",
    "            axs.append( figure.add_subplot(rows, columns, index+1) )\n",
    "            axs[-1].set_title(f'Correct: {targets}, Predicted Before: {w_preds_before_attack}, Predicted After: {w_preds_after_attack}', fontsize=10)\n",
    "            axs[-1].axis(\"off\")\n",
    "            plt.imshow(images.cpu().detach().numpy().reshape(28, 28),cmap=\"gray\")\n",
    "            plt.imshow(attacks.cpu().detach().numpy().reshape(28, 28),cmap=\"gray\")\n",
    "    plt.show()\n",
    "    "
   ]
  },
  {
   "cell_type": "code",
   "execution_count": 20,
   "metadata": {},
   "outputs": [
    {
     "data": {
      "image/png": "[encoded data removed]",
      "text/plain": [
       "<Figure size 1440x576 with 12 Axes>"
      ]
     },
     "metadata": {},
     "output_type": "display_data"
    }
   ],
   "source": [
    "visualize_specific_predictions(predictions[fgm_sets.query('Epsilon==0.15').index.item()])"
   ]
  },
  {
   "cell_type": "code",
   "execution_count": 21,
   "metadata": {},
   "outputs": [
    {
     "data": {
      "image/png": "[encoded data removed]",
      "text/plain": [
       "<Figure size 1440x576 with 12 Axes>"
      ]
     },
     "metadata": {},
     "output_type": "display_data"
    }
   ],
   "source": [
    "visualize_specific_predictions(predictions[fgm_sets.query('Epsilon==0.25').index.item()])"
   ]
  },
  {
   "cell_type": "code",
   "execution_count": 22,
   "metadata": {},
   "outputs": [
    {
     "data": {
      "image/png": "[encoded data removed]",
      "text/plain": [
       "<Figure size 1440x576 with 12 Axes>"
      ]
     },
     "metadata": {},
     "output_type": "display_data"
    }
   ],
   "source": [
    "visualize_specific_predictions(predictions[fgm_sets.query('Epsilon==0.3').index.item()])"
   ]
  },
  {
   "cell_type": "markdown",
   "metadata": {},
   "source": [
    "## 1.5: Analyzing the results (5 Points)\n",
    "\n",
    "Please write a brief summary of your findings.  \n",
    "\n",
    "* Does the attack always succeed (the model makes wrong prediction on the adversarial sample)? What is the relationship between the attack success rate and the perturbation budget?\n",
    "* How about the computation cost of the attack? (you can report the time in second) \n",
    "* Does the attack require white-box access to the model?\n",
    "* Feel free to report your results via tables or figures, and mention any other interesting observations \n",
    "\n",
    "#### Does the attack always succeed (the model makes wrong prediction on the adversarial sample)? What is the relationship between the attack success rate and the perturbation budget?\n",
    "No! The attack is very simple and is not strong enough to fool the model and misclassify everytime. From the experiment above we observed that as we increase the perturbation budget values the accuracy starts to decrease drastically. Fro higher perturbation values the attack success rate is very high as **epsilon=0.3** decreased the accuracy of the model to **43.9 percent** from 98.2 percent which evry significant but the attacks made using lower perturbation budgets are not that impactful and have lower attack success rate.\n",
    "\n",
    "#### How about the computation cost of the attack? (you can report the time in second)\n",
    "The computation cost of the attack for 1000 examples is around 2 seconds, but depending on the iterations it can increase upto 7 to 8 seconds.\n",
    "\n",
    "#### Does the attack require white-box access to the model?\n",
    "A white box attack is where the attacker has complete knowledge and access to the model's architecture, parameters, gradients and loss and FGSM is a white-box attack because it generates adversarial examples by exploiting output gradients and maximzes the loss. \n",
    "\n"
   ]
  },
  {
   "cell_type": "markdown",
   "metadata": {},
   "source": [
    "**Your answers go here**"
   ]
  },
  {
   "cell_type": "markdown",
   "metadata": {
    "colab_type": "text",
    "id": "KJUmrv5Bymij"
   },
   "source": [
    "# 2. Defending an ML model (35 points) \n",
    "\n",
    "So far, we have focused on attacking an ML model. In this section, we want you to defend your model. \n"
   ]
  },
  {
   "cell_type": "markdown",
   "metadata": {
    "colab_type": "text",
    "id": "0gHUFK6Mymik",
    "tags": []
   },
   "source": [
    "## 2.1: Implementing the adversarial training defense (20 Points)\n",
    "\n",
    "* We would like to ask you to implement the adversarial training defense (https://arxiv.org/pdf/1412.6572.pdf) mentioned in the lecture. \n",
    "\n",
    "* You can use the **FGSM adversarial training** method (i.e., train on FGSM examples). \n",
    "\n",
    "* You can also check the adversarial training implementation in other papers, e.g., http://proceedings.mlr.press/v97/pang19a/pang19a.pdf \n",
    "\n",
    "* Choose a certain **maximum perturbation budget** during training that is in the middle of the range you have experimented with before. \n",
    "\n",
    "* We do not require the defense to work perfectly - but what we want you to understand is why it works or why it does not work.\n",
    "\n",
    "**Hint:** You can save the checkpoint of the defended model as we would need it to for the third part of this exercise.\n"
   ]
  },
  {
   "cell_type": "code",
   "execution_count": 23,
   "metadata": {},
   "outputs": [],
   "source": [
    "\n",
    "def _adversarial_training_defense(adversarial=True):\n",
    "    try:\n",
    "        model_with_adversarial_force.train()\n",
    "        train_loss_scores = []\n",
    "        training_acc_scores = []\n",
    "        \n",
    "        for batch_index, (images, targets) in enumerate(train_loader):\n",
    "            images, targets = images.to(set_device), targets.to(set_device)\n",
    "            images.requires_grad = True \n",
    "            \n",
    "            outputs = model_with_adversarial_force(images)\n",
    "            loss = criterion(outputs, targets)\n",
    "            fgsm_params['epsilon'] = random.choice([0.1, 0.12, 0.15, 0.17, 0.18, 0.2])\n",
    "            \n",
    "            if adversarial:\n",
    "                loss.backward()\n",
    "                model_with_adversarial_force.zero_grad()\n",
    "                loss = criterion(model_with_adversarial_force(images), targets)\n",
    "                attack_images = fgsm_attack(images, fgsm_params['epsilon'], fgsm_params['clip_min'], fgsm_params['clip_max'])\n",
    "                objective = 0.5*loss + 0.5*criterion(model_with_adversarial_force(attack_images), targets)\n",
    "            train_loss_scores.append(objective.item())\n",
    "            _, preds = torch.max(model_with_adversarial_force(images), 1)    \n",
    "            _, advpreds = torch.max(model_with_adversarial_force(attack_images), 1)\n",
    "            acc = len((preds == targets).nonzero(as_tuple=True)[0])/targets.shape[0]*100\n",
    "            advpreds_acc = len((advpreds == targets).nonzero(as_tuple=True)[0])/targets.shape[0]*100\n",
    "            training_acc_scores.append((acc+advpreds_acc)/2)\n",
    "                \n",
    "            optimizer.zero_grad()\n",
    "            loss.backward()\n",
    "            optimizer.step()\n",
    "                \n",
    "            if (batch_index+1) % 100 == 0:\n",
    "                print(f\"Step : [{batch_index+1}/{len(train_loader)}] | Loss : {loss.item()} \")\n",
    "        \n",
    "        model_with_adversarial_force.eval()\n",
    "        validation_acc_scores = []\n",
    "        validation_loss_scores = []\n",
    "        \n",
    "        for images, targets in iter(validation_loader):\n",
    "            images, targets = images.to(set_device), targets.to(set_device)\n",
    "            images.requires_grad = True \n",
    "            outputs = model_with_adversarial_force(images)\n",
    "            loss = criterion(outputs, targets)\n",
    "            fgsm_params['epsilon'] = random.choice([0.1, 0.12, 0.15, 0.17, 0.18, 0.2])\n",
    "                    \n",
    "            if adversarial:\n",
    "                loss.backward()\n",
    "                model_with_adversarial_force.zero_grad()\n",
    "                loss = criterion(model_with_adversarial_force(images), targets)\n",
    "                attack_images = fgsm_attack(images, fgsm_params['epsilon'], fgsm_params['clip_min'], fgsm_params['clip_max'])\n",
    "                objective = 0.5*loss + 0.5*criterion(model_with_adversarial_force(attack_images), targets)\n",
    "            validation_loss_scores.append(objective.item())\n",
    "            _, preds = torch.max(model_with_adversarial_force(images), 1)    \n",
    "            _, advpreds = torch.max(model_with_adversarial_force(attack_images), 1)\n",
    "            acc = len((preds == targets).nonzero(as_tuple=True)[0])/targets.shape[0]*100\n",
    "            advpreds_acc = len((advpreds == targets).nonzero(as_tuple=True)[0])/targets.shape[0]*100\n",
    "            validation_acc_scores.append((acc+advpreds_acc)/2)\n",
    "\n",
    "        return sum(training_acc_scores)/len(training_acc_scores), sum(train_loss_scores)/len(train_loss_scores), \\\n",
    "    sum(validation_acc_scores)/len(validation_acc_scores), sum(validation_loss_scores)/len(validation_loss_scores)\n",
    "    \n",
    "    except Exception as e:\n",
    "        print('Error occured in adversarial defense method = ', e)\n"
   ]
  },
  {
   "cell_type": "code",
   "execution_count": 24,
   "metadata": {},
   "outputs": [
    {
     "name": "stdout",
     "output_type": "stream",
     "text": [
      "Network structure is: <bound method Module.parameters of CNN_Network(\n",
      "  (layers): Sequential(\n",
      "    (0): Conv2d(1, 160, kernel_size=(3, 3), stride=(1, 1), padding=(1, 1))\n",
      "    (1): MaxPool2d(kernel_size=2, stride=2, padding=0, dilation=1, ceil_mode=False)\n",
      "    (2): ReLU()\n",
      "    (3): Conv2d(160, 100, kernel_size=(3, 3), stride=(1, 1), padding=(1, 1))\n",
      "    (4): MaxPool2d(kernel_size=2, stride=2, padding=0, dilation=1, ceil_mode=False)\n",
      "    (5): ReLU()\n",
      "    (6): Conv2d(100, 64, kernel_size=(3, 3), stride=(1, 1), padding=(1, 1))\n",
      "    (7): MaxPool2d(kernel_size=2, stride=2, padding=0, dilation=1, ceil_mode=False)\n",
      "    (8): ReLU()\n",
      "    (9): Conv2d(64, 10, kernel_size=(3, 3), stride=(1, 1), padding=(1, 1))\n",
      "    (10): MaxPool2d(kernel_size=2, stride=2, padding=0, dilation=1, ceil_mode=False)\n",
      "    (11): ReLU()\n",
      "    (12): Flatten(start_dim=1, end_dim=-1)\n",
      "    (13): Linear(in_features=10, out_features=10, bias=True)\n",
      "  )\n",
      ")>\n",
      "Total number of parameters: 209244\n",
      "Epoch : 0\n",
      "Step : [100/750] | Loss : 1.1773141622543335 \n",
      "Step : [200/750] | Loss : 0.695997416973114 \n",
      "Step : [300/750] | Loss : 0.39455646276474 \n",
      "Step : [400/750] | Loss : 0.30975034832954407 \n",
      "Step : [500/750] | Loss : 0.18432174623012543 \n",
      "Step : [600/750] | Loss : 0.1570359617471695 \n",
      "Step : [700/750] | Loss : 0.2581788897514343 \n",
      "Training Accuracy of Epoch 0 is 54.73125\n",
      "Validation Accuracy of Epoch 0 is 64.37604166666667\n",
      "Saving the model...\n",
      "Epoch : 1\n",
      "Step : [100/750] | Loss : 0.07866984605789185 \n",
      "Step : [200/750] | Loss : 0.13509592413902283 \n",
      "Step : [300/750] | Loss : 0.16908733546733856 \n",
      "Step : [400/750] | Loss : 0.17987333238124847 \n",
      "Step : [500/750] | Loss : 0.1749294549226761 \n",
      "Step : [600/750] | Loss : 0.1803630143404007 \n",
      "Step : [700/750] | Loss : 0.10194122046232224 \n",
      "Training Accuracy of Epoch 1 is 69.11770833333334\n",
      "Validation Accuracy of Epoch 1 is 71.52083333333333\n",
      "Saving the model...\n",
      "Epoch : 2\n",
      "Step : [100/750] | Loss : 0.08592154085636139 \n",
      "Step : [200/750] | Loss : 0.13520047068595886 \n",
      "Step : [300/750] | Loss : 0.14655855298042297 \n",
      "Step : [400/750] | Loss : 0.31105172634124756 \n",
      "Step : [500/750] | Loss : 0.06400279700756073 \n",
      "Step : [600/750] | Loss : 0.22656148672103882 \n",
      "Step : [700/750] | Loss : 0.033439043909311295 \n",
      "Training Accuracy of Epoch 2 is 71.115625\n",
      "Validation Accuracy of Epoch 2 is 72.70729166666666\n",
      "Saving the model...\n",
      "Epoch : 3\n",
      "Step : [100/750] | Loss : 0.0344456247985363 \n",
      "Step : [200/750] | Loss : 0.04859010502696037 \n",
      "Step : [300/750] | Loss : 0.10870347917079926 \n",
      "Step : [400/750] | Loss : 0.09784353524446487 \n",
      "Step : [500/750] | Loss : 0.06443405896425247 \n",
      "Step : [600/750] | Loss : 0.09735120087862015 \n",
      "Step : [700/750] | Loss : 0.006269516889005899 \n",
      "Training Accuracy of Epoch 3 is 71.996875\n",
      "Validation Accuracy of Epoch 3 is 73.08541666666666\n",
      "Saving the model...\n",
      "Epoch : 4\n",
      "Step : [100/750] | Loss : 0.012508847750723362 \n",
      "Step : [200/750] | Loss : 0.17314617335796356 \n",
      "Step : [300/750] | Loss : 0.03451628237962723 \n",
      "Step : [400/750] | Loss : 0.02184436097741127 \n",
      "Step : [500/750] | Loss : 0.02083422616124153 \n",
      "Step : [600/750] | Loss : 0.05519254133105278 \n",
      "Step : [700/750] | Loss : 0.09425459057092667 \n",
      "Training Accuracy of Epoch 4 is 72.27083333333333\n",
      "Validation Accuracy of Epoch 4 is 74.1875\n",
      "Saving the model...\n",
      "Epoch : 5\n",
      "Step : [100/750] | Loss : 0.07399704307317734 \n",
      "Step : [200/750] | Loss : 0.10144913196563721 \n",
      "Step : [300/750] | Loss : 0.1669183224439621 \n",
      "Step : [400/750] | Loss : 0.1315637230873108 \n",
      "Step : [500/750] | Loss : 0.14889903366565704 \n",
      "Step : [600/750] | Loss : 0.061548683792352676 \n",
      "Step : [700/750] | Loss : 0.1374925971031189 \n",
      "Training Accuracy of Epoch 5 is 72.12916666666666\n",
      "Validation Accuracy of Epoch 5 is 74.66145833333333\n",
      "Saving the model...\n",
      "Epoch : 6\n",
      "Step : [100/750] | Loss : 0.0019207255681976676 \n",
      "Step : [200/750] | Loss : 0.039199430495500565 \n",
      "Step : [300/750] | Loss : 0.05693265423178673 \n",
      "Step : [400/750] | Loss : 0.0038580673281103373 \n",
      "Step : [500/750] | Loss : 0.0680065006017685 \n",
      "Step : [600/750] | Loss : 0.031187035143375397 \n",
      "Step : [700/750] | Loss : 0.0059074037708342075 \n",
      "Training Accuracy of Epoch 6 is 72.125\n",
      "Validation Accuracy of Epoch 6 is 71.58541666666666\n",
      "Epoch : 7\n",
      "Step : [100/750] | Loss : 0.009278037585318089 \n",
      "Step : [200/750] | Loss : 0.004491402767598629 \n",
      "Step : [300/750] | Loss : 0.06094913184642792 \n",
      "Step : [400/750] | Loss : 0.0030400464311242104 \n",
      "Step : [500/750] | Loss : 0.009349392727017403 \n",
      "Step : [600/750] | Loss : 0.015432440675795078 \n",
      "Step : [700/750] | Loss : 0.0743541494011879 \n",
      "Training Accuracy of Epoch 7 is 72.83333333333333\n",
      "Validation Accuracy of Epoch 7 is 73.27291666666666\n",
      "Epoch : 8\n",
      "Step : [100/750] | Loss : 0.07908546179533005 \n",
      "Step : [200/750] | Loss : 0.020361607894301414 \n",
      "Step : [300/750] | Loss : 0.010650557465851307 \n",
      "Step : [400/750] | Loss : 0.13085013628005981 \n",
      "Step : [500/750] | Loss : 0.0609700009226799 \n",
      "Step : [600/750] | Loss : 0.029722655192017555 \n",
      "Step : [700/750] | Loss : 0.047331079840660095 \n",
      "Training Accuracy of Epoch 8 is 72.31875\n",
      "Validation Accuracy of Epoch 8 is 75.51354166666667\n",
      "Saving the model...\n",
      "Epoch : 9\n",
      "Step : [100/750] | Loss : 0.01435290277004242 \n",
      "Step : [200/750] | Loss : 0.015664061531424522 \n",
      "Step : [300/750] | Loss : 0.02618924155831337 \n",
      "Step : [400/750] | Loss : 0.08248823881149292 \n",
      "Step : [500/750] | Loss : 0.028855128213763237 \n",
      "Step : [600/750] | Loss : 0.04134168103337288 \n",
      "Step : [700/750] | Loss : 0.017883241176605225 \n",
      "Training Accuracy of Epoch 9 is 72.77604166666667\n",
      "Validation Accuracy of Epoch 9 is 71.49166666666666\n"
     ]
    }
   ],
   "source": [
    "\n",
    "training_params = {\n",
    "        'TRAIN_BATCH_SIZE' : 64,\n",
    "        'TEST_BATCH_SIZE' : 1000,\n",
    "        'LEARNING_RATE' : 0.001,\n",
    "        'OPTIMIZER': optim.Adam,\n",
    "        'NUM_EPOCHS' : 10\n",
    "}\n",
    "    \n",
    "set_device = torch.device('cuda') \n",
    "model_with_adversarial_force = CNN_Network(model_params).to(set_device)\n",
    "print(f'Network structure is: {model_with_adversarial_force.parameters}')\n",
    "print(f'Total number of parameters: {sum(p.numel() for p in model_with_adversarial_force.parameters())}')\n",
    "\n",
    "optimizer = training_params['OPTIMIZER'](model_with_adversarial_force.parameters(), lr=training_params['LEARNING_RATE'])\n",
    "criterion = nn.CrossEntropyLoss().to(set_device)\n",
    "\n",
    "training_loss_history = []\n",
    "validation_loss_history = []\n",
    "training_acc_history = []\n",
    "validation_acc_history = []\n",
    "best_accuracy = 0.0\n",
    "\n",
    "for epoch in range(training_params['NUM_EPOCHS']):\n",
    "    print(f'Epoch : {epoch}')\n",
    "\n",
    "    train_err, train_loss, valid_err, valid_loss = _adversarial_training_defense(adversarial=True)\n",
    "    training_acc_history.append(train_err)\n",
    "    training_loss_history.append(train_loss)\n",
    "    validation_acc_history.append(valid_err)\n",
    "    validation_loss_history.append(valid_loss)\n",
    "    \n",
    "    print(f'Training Accuracy of Epoch {epoch} is {training_acc_history[-1]}')\n",
    "    print(f'Validation Accuracy of Epoch {epoch} is {validation_acc_history[-1]}')\n",
    "    \n",
    "    if validation_acc_history[-1]>best_accuracy:\n",
    "        best_accuracy = validation_acc_history[-1]\n",
    "        print('Saving the model...')\n",
    "        torch.save(model_with_adversarial_force.state_dict(), \n",
    "                   f\"Adversarial_Accuracy_{best_accuracy}_batchsize_{training_params['TRAIN_BATCH_SIZE']}_lr_{training_params['LEARNING_RATE']}.ckpt\")\n"
   ]
  },
  {
   "cell_type": "markdown",
   "metadata": {},
   "source": [
    "### Loss curves: Training Loss vs Validation Loss Per Epoch During Adversarial Learning"
   ]
  },
  {
   "cell_type": "code",
   "execution_count": 33,
   "metadata": {},
   "outputs": [
    {
     "data": {
      "image/png": "[encoded data removed]",
      "text/plain": [
       "<Figure size 864x504 with 1 Axes>"
      ]
     },
     "metadata": {},
     "output_type": "display_data"
    }
   ],
   "source": [
    "\n",
    "df = pd.DataFrame({'Training Loss':training_loss_history, 'Validation Loss':validation_loss_history})\n",
    "df.plot(linewidth=4, alpha=0.7, figsize=(12,7), label='Loss')\n",
    "plt.xlim([0,10])\n",
    "# plt.ylim(-20,100)\n",
    "plt.title('Training Loss vs Validation Loss per Epoch', fontsize=20)\n",
    "plt.grid(axis='y', alpha=.5)\n",
    "plt.yticks(fontsize=12, alpha=.7)\n",
    "plt.xticks(fontsize=12, alpha=.7)\n",
    "plt.xlabel('Epoch', fontsize=18, alpha=.7)\n",
    "plt.ylabel('Loss Value', fontsize=18, alpha=.7)\n",
    "# Lighten borders\n",
    "plt.gca().spines[\"top\"].set_alpha(.0)\n",
    "plt.gca().spines[\"bottom\"].set_alpha(.3)\n",
    "plt.gca().spines[\"right\"].set_alpha(.0)\n",
    "plt.gca().spines[\"left\"].set_alpha(.3)\n",
    "\n",
    "plt.legend(loc='upper center')\n",
    "plt.show()\n"
   ]
  },
  {
   "cell_type": "markdown",
   "metadata": {},
   "source": [
    "### Accuracy curves: Training Accuracy vs Validation Accuracy Per Epoch During Adversarial Learning"
   ]
  },
  {
   "cell_type": "code",
   "execution_count": 34,
   "metadata": {},
   "outputs": [
    {
     "data": {
      "image/png": "[encoded data removed]",
      "text/plain": [
       "<Figure size 864x504 with 1 Axes>"
      ]
     },
     "metadata": {},
     "output_type": "display_data"
    }
   ],
   "source": [
    "\n",
    "df = pd.DataFrame({'Training Accuracy':training_acc_history, 'Validation Accuracy':validation_acc_history})\n",
    "df.plot(linewidth=4, alpha=0.7, figsize=(12,7), label='Loss')\n",
    "plt.xlim([0,10])\n",
    "# plt.ylim(-20,100)\n",
    "plt.title('Training Accuracy vs Validation Accuracy per Epoch', fontsize=20)\n",
    "plt.grid(axis='y', alpha=.5)\n",
    "plt.yticks(fontsize=12, alpha=.7)\n",
    "plt.xticks(fontsize=12, alpha=.7)\n",
    "plt.xlabel('Epoch', fontsize=18, alpha=.7)\n",
    "plt.ylabel('Loss Value', fontsize=18, alpha=.7)\n",
    "# Lighten borders\n",
    "plt.gca().spines[\"top\"].set_alpha(.0)\n",
    "plt.gca().spines[\"bottom\"].set_alpha(.3)\n",
    "plt.gca().spines[\"right\"].set_alpha(.0)\n",
    "plt.gca().spines[\"left\"].set_alpha(.3)\n",
    "\n",
    "plt.legend(loc='lower center')\n",
    "plt.show()\n"
   ]
  },
  {
   "cell_type": "markdown",
   "metadata": {
    "tags": []
   },
   "source": [
    "## 2.2: Evaluation (10 Points)\n",
    "\n",
    "* Craft adversarial examples using the **defended** model. This entails at least 1,000 examples crafted via FGSM. \n",
    "    * Create one set using a budget that is **less than (within)** the one used in training.\n",
    "    * Create another set using a budget that is **higher than** the one used in training. \n",
    "    * You can use two values of epsilons from question 1.3 \n",
    "    \n",
    "* Evaluate the **defended** model on these two adversarial examples sets. \n"
   ]
  },
  {
   "cell_type": "markdown",
   "metadata": {},
   "source": [
    "> For evaluation, since I trained my model with the range of budget **min = 0.1 to max = 0.2** I will take one value less than within this range which is **0.05** and another which is higher than the range on which we have trained which is **0.3**, For the sake of observations and to investigate any highlighting pattern I will also be generating helper sets using the budget values near to the selected budget values. "
   ]
  },
  {
   "cell_type": "code",
   "execution_count": 1,
   "metadata": {},
   "outputs": [],
   "source": [
    "### budget values selected for generating 1000 samples via FGSM \n",
    "epsilons = [0, 0.05, 0.06, 0.07, 0.25, 0.26, 0.3]"
   ]
  },
  {
   "cell_type": "markdown",
   "metadata": {},
   "source": [
    "> In evaluation I have also estimated other image similarity metrics like **Peak Signal-to-Noise Ratio (PSNR), Mean Squared Error (MSE), Spectral Angle Mapper (SAM), Visual Information Fidelity (VIF), Structural Similarity Index (SSIM) and Universal Quality Image Index (UQI)** to evaluate the adversarial examples by measuring the images quality being exploited since the attack we implement corrupts gradients and feature maps our model and degrades the quality of the input image as FGSM attack makes perturbations such that the images are misclassified.\n",
    "\n",
    "> This has been observed that similarity metrics can also be used to highlight the presence of an adversarial attack in an image when compared with its benign counterpart. Thus, these scores can be a measure to quantify the amount of perturbations brought in by these attacks.\n",
    "\n",
    "**Sewar Library** is used to quantify how dissimilar the regeneration is for every set with different budget value.\n",
    "https://pypi.org/project/sewar/"
   ]
  },
  {
   "cell_type": "code",
   "execution_count": 291,
   "metadata": {},
   "outputs": [],
   "source": [
    "\n",
    "def _evaluate(model):\n",
    "    try:\n",
    "        predictions = []\n",
    "        acc_scores = []\n",
    "        mse_scores = []\n",
    "        psnr_scores = []\n",
    "        ssim_scores = []\n",
    "        uqi_scores = []\n",
    "        sam_scores = []\n",
    "        vifp_scores = []\n",
    "\n",
    "        for epsilon in tqdm(epsilons):\n",
    "            \n",
    "            (images, targets) = next(iter(test_loader))\n",
    "            images, targets = images.to(set_device), targets.to(set_device)  \n",
    "            images.requires_grad = True \n",
    "            \n",
    "            loss = criterion(model(images), targets)\n",
    "            model.zero_grad()\n",
    "            loss.backward()\n",
    "            \n",
    "            attack_images = fgsm_attack(images, epsilon, fgsm_params['clip_min'], fgsm_params['clip_max'])\n",
    "            _, _preds = torch.max(model(images),1)\n",
    "            _, _preds_after_attack = torch.max(model(attack_images),1)\n",
    "            acc_images = (len((_preds == targets).nonzero(as_tuple=True)[0])/targets.shape[0])*100\n",
    "            acc_attack_images = (len((_preds == targets).nonzero(as_tuple=True)[0])/targets.shape[0])*100\n",
    "            # indicies = (_preds_after_attack != targets).nonzero(as_tuple=True)[0]\n",
    "            # predictions.append(zip(images[indicies], attack_images[indicies], targets[indicies], _preds_before_attack[indicies], _preds_after_attack[indicies]))\n",
    "            acc_scores.append((acc_images+acc_attack_images)/2)\n",
    "            \n",
    "            mse_scores.append(mse(images.cpu().detach().numpy(),attack_images.cpu().detach().numpy()))\n",
    "            psnr_scores.append(psnr(images.cpu().detach().numpy(),attack_images.cpu().detach().numpy(), MAX=1))\n",
    "            ssim_scores.append(ssim(attack_images.cpu().view(1000, -1).detach().numpy(),images.cpu().view(1000, -1).detach().numpy(), MAX=1))\n",
    "            uqi_scores.append(uqi(attack_images.cpu().view(1000, -1).detach().numpy(),images.cpu().view(1000, -1).detach().numpy()))\n",
    "            sam_scores.append(sam(attack_images.cpu().view(1000, -1).detach().numpy(),images.cpu().view(1000, -1).detach().numpy()))\n",
    "            vifp_scores.append(vifp(images.cpu().view(1000, -1).detach().numpy(),attack_images.cpu().view(1000, -1).detach().numpy())\n",
    "            print(f\"Epsilon: {epsilon}\\tTest Accuracy  = {acc_scores[-1]} % \\tMSE = {mse_scores[-1]} \\tPSNR = {psnr_scores[-1]}\")\n",
    "        \n",
    "        variants = pd.DataFrame({'Epsilon': epsilons, 'Test Accuracy': acc_scores, 'MSE': mse_scores, 'PSNR': psnr_scores, \n",
    "                                 'UQI': uqi_scores, 'SAM': sam_scores, 'VIFP': vifp_scores, 'SSIM': ssim_scores})\n",
    "        return variants\n",
    "    \n",
    "    except Exception as e:\n",
    "            print('Error occured in _evaluate_and_attack method = ', e)    \n",
    "            "
   ]
  },
  {
   "cell_type": "code",
   "execution_count": 292,
   "metadata": {},
   "outputs": [
    {
     "name": "stderr",
     "output_type": "stream",
     "text": [
      " 14%|████████████                                                                        | 1/7 [00:04<00:25,  4.18s/it]"
     ]
    },
    {
     "name": "stdout",
     "output_type": "stream",
     "text": [
      "Epsilon: 0\tTest Accuracy  = 98.9 % \tMSE = 0.0 \tPSNR = inf\n"
     ]
    },
    {
     "name": "stderr",
     "output_type": "stream",
     "text": [
      " 29%|████████████████████████                                                            | 2/7 [00:08<00:20,  4.17s/it]"
     ]
    },
    {
     "name": "stdout",
     "output_type": "stream",
     "text": [
      "Epsilon: 0.05\tTest Accuracy  = 98.5 % \tMSE = 0.0013819785526218938 \tPSNR = 28.594986968679272\n"
     ]
    },
    {
     "name": "stderr",
     "output_type": "stream",
     "text": [
      " 43%|████████████████████████████████████                                                | 3/7 [00:12<00:16,  4.14s/it]"
     ]
    },
    {
     "name": "stdout",
     "output_type": "stream",
     "text": [
      "Epsilon: 0.06\tTest Accuracy  = 98.9 % \tMSE = 0.0019803841312485567 \tPSNR = 27.032505623136892\n"
     ]
    },
    {
     "name": "stderr",
     "output_type": "stream",
     "text": [
      " 57%|████████████████████████████████████████████████                                    | 4/7 [00:16<00:12,  4.11s/it]"
     ]
    },
    {
     "name": "stdout",
     "output_type": "stream",
     "text": [
      "Epsilon: 0.07\tTest Accuracy  = 98.9 % \tMSE = 0.0026985291180676545 \tPSNR = 25.688728913849896\n"
     ]
    },
    {
     "name": "stderr",
     "output_type": "stream",
     "text": [
      " 71%|████████████████████████████████████████████████████████████                        | 5/7 [00:20<00:08,  4.13s/it]"
     ]
    },
    {
     "name": "stdout",
     "output_type": "stream",
     "text": [
      "Epsilon: 0.25\tTest Accuracy  = 99.0 % \tMSE = 0.033359462094574556 \tPSNR = 14.767809607693547\n"
     ]
    },
    {
     "name": "stderr",
     "output_type": "stream",
     "text": [
      " 86%|████████████████████████████████████████████████████████████████████████            | 6/7 [00:24<00:04,  4.11s/it]"
     ]
    },
    {
     "name": "stdout",
     "output_type": "stream",
     "text": [
      "Epsilon: 0.26\tTest Accuracy  = 98.3 % \tMSE = 0.03597577665004128 \tPSNR = 14.439898216808224\n"
     ]
    },
    {
     "name": "stderr",
     "output_type": "stream",
     "text": [
      "100%|████████████████████████████████████████████████████████████████████████████████████| 7/7 [00:28<00:00,  4.12s/it]"
     ]
    },
    {
     "name": "stdout",
     "output_type": "stream",
     "text": [
      "Epsilon: 0.3\tTest Accuracy  = 98.9 % \tMSE = 0.04762245875120187 \tPSNR = 13.221881856948306\n"
     ]
    },
    {
     "name": "stderr",
     "output_type": "stream",
     "text": [
      "\n"
     ]
    }
   ],
   "source": [
    "variants = _evaluate(model_with_adversarial_force)"
   ]
  },
  {
   "cell_type": "markdown",
   "metadata": {},
   "source": [
    "> We can verify the results of the similarity metrics that is it is **0 for MSE, infinity for PSNR, 1 for UQI, 0 for SAM and 1 for VIFP**; indicating that no perturbations were included in the attack images as **epsilon value was 0**. As we have increased the budget a little by setting the values like **[0.05, 0.06, 0.07]** which is less than the range on which we trained our model we can observe that images were degraded as the **PSNR value has been drastically decreased from infinity to some values like 28~25 dB** and **MSE was increased a little bit**  and **SSIM scores were increased** as well. However, **VIFP scores indicate that perturbations addded has not impacted its values** indicating the Visual Information Fidelity is prettty similar for those images. \n",
    "\n",
    "> As we have used the higher budget values like **[0.25, 0.26, 0.3]** we observed the PSNR, MSE and SAM scores significantly chnage and has noticebly increased indicating the strong attack in the images."
   ]
  },
  {
   "cell_type": "code",
   "execution_count": 293,
   "metadata": {},
   "outputs": [
    {
     "data": {
      "text/html": [
       "<div>\n",
       "<style scoped>\n",
       "    .dataframe tbody tr th:only-of-type {\n",
       "        vertical-align: middle;\n",
       "    }\n",
       "\n",
       "    .dataframe tbody tr th {\n",
       "        vertical-align: top;\n",
       "    }\n",
       "\n",
       "    .dataframe thead th {\n",
       "        text-align: right;\n",
       "    }\n",
       "</style>\n",
       "<table border=\"1\" class=\"dataframe\">\n",
       "  <thead>\n",
       "    <tr style=\"text-align: right;\">\n",
       "      <th></th>\n",
       "      <th>Epsilon</th>\n",
       "      <th>Test Accuracy</th>\n",
       "      <th>MSE</th>\n",
       "      <th>PSNR</th>\n",
       "      <th>UQI</th>\n",
       "      <th>SAM</th>\n",
       "      <th>VIFP</th>\n",
       "      <th>SSIM</th>\n",
       "    </tr>\n",
       "  </thead>\n",
       "  <tbody>\n",
       "    <tr>\n",
       "      <th>0</th>\n",
       "      <td>0.00</td>\n",
       "      <td>98.9</td>\n",
       "      <td>0.000000</td>\n",
       "      <td>inf</td>\n",
       "      <td>1.000000</td>\n",
       "      <td>0.000000</td>\n",
       "      <td>1.000000</td>\n",
       "      <td>(1.0, 1.0)</td>\n",
       "    </tr>\n",
       "    <tr>\n",
       "      <th>1</th>\n",
       "      <td>0.05</td>\n",
       "      <td>98.5</td>\n",
       "      <td>0.001382</td>\n",
       "      <td>28.594987</td>\n",
       "      <td>0.607641</td>\n",
       "      <td>0.109767</td>\n",
       "      <td>1.071939</td>\n",
       "      <td>(0.7214034811935927, 0.8951742891973873)</td>\n",
       "    </tr>\n",
       "    <tr>\n",
       "      <th>2</th>\n",
       "      <td>0.06</td>\n",
       "      <td>98.9</td>\n",
       "      <td>0.001980</td>\n",
       "      <td>27.032506</td>\n",
       "      <td>0.591711</td>\n",
       "      <td>0.131917</td>\n",
       "      <td>1.083622</td>\n",
       "      <td>(0.6951114126353075, 0.8673449635816329)</td>\n",
       "    </tr>\n",
       "    <tr>\n",
       "      <th>3</th>\n",
       "      <td>0.07</td>\n",
       "      <td>98.9</td>\n",
       "      <td>0.002699</td>\n",
       "      <td>25.688729</td>\n",
       "      <td>0.587335</td>\n",
       "      <td>0.153094</td>\n",
       "      <td>1.093263</td>\n",
       "      <td>(0.6821999105896961, 0.8476766685986323)</td>\n",
       "    </tr>\n",
       "    <tr>\n",
       "      <th>4</th>\n",
       "      <td>0.25</td>\n",
       "      <td>99.0</td>\n",
       "      <td>0.033359</td>\n",
       "      <td>14.767810</td>\n",
       "      <td>0.438606</td>\n",
       "      <td>0.541088</td>\n",
       "      <td>0.942297</td>\n",
       "      <td>(0.47271671375970054, 0.5983123566028477)</td>\n",
       "    </tr>\n",
       "    <tr>\n",
       "      <th>5</th>\n",
       "      <td>0.26</td>\n",
       "      <td>98.3</td>\n",
       "      <td>0.035976</td>\n",
       "      <td>14.439898</td>\n",
       "      <td>0.434986</td>\n",
       "      <td>0.555325</td>\n",
       "      <td>0.919320</td>\n",
       "      <td>(0.4664841923551302, 0.5920398154097339)</td>\n",
       "    </tr>\n",
       "    <tr>\n",
       "      <th>6</th>\n",
       "      <td>0.30</td>\n",
       "      <td>98.9</td>\n",
       "      <td>0.047622</td>\n",
       "      <td>13.221882</td>\n",
       "      <td>0.408250</td>\n",
       "      <td>0.635503</td>\n",
       "      <td>0.801118</td>\n",
       "      <td>(0.4251339758650218, 0.5436665489884728)</td>\n",
       "    </tr>\n",
       "  </tbody>\n",
       "</table>\n",
       "</div>"
      ],
      "text/plain": [
       "   Epsilon  Test Accuracy       MSE       PSNR       UQI       SAM      VIFP  \\\n",
       "0     0.00           98.9  0.000000        inf  1.000000  0.000000  1.000000   \n",
       "1     0.05           98.5  0.001382  28.594987  0.607641  0.109767  1.071939   \n",
       "2     0.06           98.9  0.001980  27.032506  0.591711  0.131917  1.083622   \n",
       "3     0.07           98.9  0.002699  25.688729  0.587335  0.153094  1.093263   \n",
       "4     0.25           99.0  0.033359  14.767810  0.438606  0.541088  0.942297   \n",
       "5     0.26           98.3  0.035976  14.439898  0.434986  0.555325  0.919320   \n",
       "6     0.30           98.9  0.047622  13.221882  0.408250  0.635503  0.801118   \n",
       "\n",
       "                                        SSIM  \n",
       "0                                 (1.0, 1.0)  \n",
       "1   (0.7214034811935927, 0.8951742891973873)  \n",
       "2   (0.6951114126353075, 0.8673449635816329)  \n",
       "3   (0.6821999105896961, 0.8476766685986323)  \n",
       "4  (0.47271671375970054, 0.5983123566028477)  \n",
       "5   (0.4664841923551302, 0.5920398154097339)  \n",
       "6   (0.4251339758650218, 0.5436665489884728)  "
      ]
     },
     "execution_count": 293,
     "metadata": {},
     "output_type": "execute_result"
    }
   ],
   "source": [
    "variants"
   ]
  },
  {
   "cell_type": "code",
   "execution_count": 294,
   "metadata": {},
   "outputs": [
    {
     "name": "stdout",
     "output_type": "stream",
     "text": [
      "Accuracy on the lower-budget adversarial samples (FGSM) 94.60\n",
      "Accuracy on the lower-budget adversarial samples (FGSM) after defense 98.50\n",
      "Accuracy on the higher-budget adversarial samples (FGSM) 43.90\n",
      "Accuracy on the higher-budget adversarial samples (FGSM) after defense 98.90\n"
     ]
    }
   ],
   "source": [
    "acc_FGSM1 = fgm_sets.query('Epsilon==0.05')['Accuracy'].item()\n",
    "acc_FGSM_defend1 = variants.query('Epsilon==0.05')['Test Accuracy'].item()\n",
    "\n",
    "acc_FGSM2 = fgm_sets.query('Epsilon==0.3')['Accuracy'].item()\n",
    "acc_FGSM_defend2 = variants.query('Epsilon==0.3')['Test Accuracy'].item()\n",
    "\n",
    "print('Accuracy on the lower-budget adversarial samples (FGSM) %.2f'%acc_FGSM1)\n",
    "print('Accuracy on the lower-budget adversarial samples (FGSM) after defense %.2f'%acc_FGSM_defend1)\n",
    "\n",
    "print('Accuracy on the higher-budget adversarial samples (FGSM) %.2f'%acc_FGSM2)\n",
    "print('Accuracy on the higher-budget adversarial samples (FGSM) after defense %.2f'%acc_FGSM_defend2)"
   ]
  },
  {
   "cell_type": "markdown",
   "metadata": {},
   "source": [
    "## 2.3 Discussion (5 points)\n",
    "\n",
    "* How successful was the defense against the attack compared to the undefended model? How do you interpret the difference?\n",
    "* How did the two sets differ?\n"
   ]
  },
  {
   "cell_type": "markdown",
   "metadata": {},
   "source": [
    "#### How successful was the defense against the attack compared to the undefended model? How do you interpret the difference?\n",
    "\n",
    "- For lower perturbation value **(epsilon=0.05)**, the accuracy of the undefended model was **reduced to 94.60 percent from 99.2 percent** by using the defended model we observed the accuracy increased from **94.6 percent to 98.5 percent** which is quite close to the original testing accuracy score. This concludes that model is robust with atleast lower perturbation budgets.\n",
    "- For higher perturbation value **(epsilon=0.3)**, the accuracy of the undefended model was reduced to **43.90 percent** from **99.2 percent** which is horrible, but by using the defended model we observed the accuracy increased from **43.90 percent to 98.9 percent** which is quite close to the original testing accuracy score. \n",
    "\n",
    "#### How did the two sets differ?\n",
    "Model is trained within a range of perturbation budget with 0.1 to be the minimum and 0.2 to be the maximum so it will predict the images generated within that range easily but the sets created usining the 0.05 budget and 0.3 budget were not on which the model was trained.\n",
    "The adversarial examples we have generated using the perturbation budget 0.05 introduced very less perturbations to the images as can be observed by the similarity metrics that these generated samples are pretty close to the real dataset as compare to the sets generated using higher perturbation values like 0.3 where the images are actually very noised down and degraded to an extent where it would actually be very hard for the model to classify them properly. However the model is able to classify the attacks implemented by FGSM attack method."
   ]
  },
  {
   "cell_type": "markdown",
   "metadata": {},
   "source": [
    "# 3: I-FGSM attack (35 points) \n",
    "\n",
    "* FGSM is one of the simplest and earliest attacks. Since then, many more advanced attacks have been proposed. \n",
    "* One of them is the Iterative-FGSM (https://arxiv.org/pdf/1607.02533.pdf), where the attack is repeated multiple times.\n",
    "* In this part, we ask you to please implement the iterative FGSM attack. \n",
    "\n"
   ]
  },
  {
   "cell_type": "markdown",
   "metadata": {},
   "source": [
    "## 3.1: Implementing the I-FGSM attack (10 Points)\n",
    "\n",
    "**Hints**: \n",
    "\n",
    "* Your code should have an attack loop. At each step, the FGSM attack that you have implemented before is computed using a small step.\n",
    "* After each step, you should perform a per-pixel clipping to make sure the image is in the allowed range, and that the perturbation is within budget.\n"
   ]
  },
  {
   "cell_type": "code",
   "execution_count": 25,
   "metadata": {},
   "outputs": [],
   "source": [
    "\n",
    "def ifgsm_attack(img, targets, model, ifgsm_params):\n",
    "    small_step = ifgsm_params['EPSILON']/ifgsm_params['STEPS']\n",
    "\n",
    "    step = 1\n",
    "    while step <=  ifgsm_params['STEPS']  :\n",
    "        loss = nn.CrossEntropyLoss()(model(img), targets)\n",
    "        loss.backward()\n",
    "        adversary_without_clipping = (img.data + small_step * img.grad.data.sign()) - img\n",
    "        clipped_delta = torch.clamp(adversary_without_clipping, -ifgsm_params['EPSILON'], ifgsm_params['EPSILON'])\n",
    "        img.data = torch.clamp(img.data + clipped_delta ,0,1)\n",
    "        img.grad.data.zero_()\n",
    "        step+=1\n",
    "    return img.data\n"
   ]
  },
  {
   "cell_type": "markdown",
   "metadata": {},
   "source": [
    "## 3.2: Attack the undefended model (5 Points)\n",
    "\n",
    "* We will first attack the **undefended model** (i.e., without adversarial training).\n",
    "\n",
    "* Choose one perturbation budget from Question **1.3** for comparison. \n",
    "\n",
    "    * Hint: A simple way to choose the small step is to divide the total budget by the number of steps (e.g., 10).\n",
    "\n",
    "* Please generate 1000 adversarial examples using the **undefended** model and the **I-FGSM** you implemented. \n",
    "\n",
    "* Please compute the accuracy of the adversarial set on the **undefended** model. "
   ]
  },
  {
   "cell_type": "code",
   "execution_count": 190,
   "metadata": {},
   "outputs": [],
   "source": [
    "ifgsm_params = {\n",
    "    'STEPS' : 8,\n",
    "    'EPSILON' : 0.1\n",
    "}\n",
    "\n",
    "def _attack_and_evaluate(model):\n",
    "    try:\n",
    "        predictions = []\n",
    "        acc_scores = []\n",
    "        mse_scores = []\n",
    "        psnr_scores = []\n",
    "        ssim_scores = []\n",
    "        uqi_scores = []\n",
    "        sam_scores = []\n",
    "        vifp_scores = []\n",
    "\n",
    "        for epsilon in range(1):\n",
    "            \n",
    "            (i, targets) = next(iter(test_loader))\n",
    "            i, targets = i.to(device), targets.to(device)  \n",
    "            i.requires_grad = True\n",
    "            \n",
    "            attack_images = ifgsm_attack(i, targets, model, ifgsm_params)\n",
    "            _, _preds = torch.max(model(i),1)\n",
    "            _, _preds_after_attack = torch.max(model(attack_images),1)\n",
    "            acc_images = (len((_preds == targets).nonzero(as_tuple=True)[0])/targets.shape[0])*100\n",
    "            acc_attack_images = (len((_preds == targets).nonzero(as_tuple=True)[0])/targets.shape[0])*100\n",
    "            acc_scores.append((acc_images+acc_attack_images)/2)\n",
    "            \n",
    "            mse_scores.append(mse(i.cpu().detach().numpy(),attack_images.cpu().detach().numpy()))\n",
    "            psnr_scores.append(psnr(i.cpu().detach().numpy(),attack_images.cpu().detach().numpy(), MAX=1))\n",
    "            # ssim_scores.append(ssim(attack_images.cpu().view(1000, -1).detach().numpy(),i.cpu().view(1000, -1).detach().numpy(), MAX=1))\n",
    "            # uqi_scores.append(uqi(attack_images.cpu().view(1000, -1).detach().numpy(),i.cpu().view(1000, -1).detach().numpy()))\n",
    "            # sam_scores.append(sam(attack_images.cpu().view(1000, -1).detach().numpy(),i.cpu().view(1000, -1).detach().numpy()))\n",
    "            # vifp_scores.append(vifp(attack_images.cpu().view(1000, -1).detach().numpy(),i.cpu().view(1000, -1).detach().numpy()))\n",
    "#             print(f\"Epsilon: {epsilon}\\tTest Accuracy  = {acc_scores[-1]} % \\tMSE = {mse_scores[-1]} \\tPSNR = {psnr_scores[-1]}\")\n",
    "        \n",
    "        variants = pd.DataFrame({'Epsilon': ifgsm_params['EPSILON'], 'Test Accuracy': acc_scores, })\n",
    "                                 # 'MSE': mse_scores, 'PSNR': psnr_scores, \n",
    "                                 # 'UQI': uqi_scores, 'SAM': sam_scores, 'VIFP': vifp_scores, 'SSIM': ssim_scores})\n",
    "        return variants\n",
    "    \n",
    "    except Exception as e:\n",
    "            print('Error occured in _evaluate_and_attack method = ', e)    \n",
    "            "
   ]
  },
  {
   "cell_type": "code",
   "execution_count": 191,
   "metadata": {},
   "outputs": [],
   "source": [
    "variants = _attack_and_evaluate(undefended_model)"
   ]
  },
  {
   "cell_type": "code",
   "execution_count": 192,
   "metadata": {},
   "outputs": [
    {
     "data": {
      "text/html": [
       "<div>\n",
       "<style scoped>\n",
       "    .dataframe tbody tr th:only-of-type {\n",
       "        vertical-align: middle;\n",
       "    }\n",
       "\n",
       "    .dataframe tbody tr th {\n",
       "        vertical-align: top;\n",
       "    }\n",
       "\n",
       "    .dataframe thead th {\n",
       "        text-align: right;\n",
       "    }\n",
       "</style>\n",
       "<table border=\"1\" class=\"dataframe\">\n",
       "  <thead>\n",
       "    <tr style=\"text-align: right;\">\n",
       "      <th></th>\n",
       "      <th>Epsilon</th>\n",
       "      <th>Test Accuracy</th>\n",
       "    </tr>\n",
       "  </thead>\n",
       "  <tbody>\n",
       "    <tr>\n",
       "      <th>0</th>\n",
       "      <td>0.1</td>\n",
       "      <td>62.5</td>\n",
       "    </tr>\n",
       "  </tbody>\n",
       "</table>\n",
       "</div>"
      ],
      "text/plain": [
       "   Epsilon  Test Accuracy\n",
       "0      0.1           62.5"
      ]
     },
     "execution_count": 192,
     "metadata": {},
     "output_type": "execute_result"
    }
   ],
   "source": [
    "variants"
   ]
  },
  {
   "cell_type": "markdown",
   "metadata": {},
   "source": [
    "### 3.2.1: Findings and comparison with FGSM (8 points)\n",
    "\n",
    "##### Please report your findings. How successful was the attack? <br/>\n",
    "For **(perturbation budget = 0.1)** with undefended model** the attack was able to decrease the accuracy **by 62.5 percent**. Attack was successful as with higher perturbation budget it was able to decrease the accuracy.\n",
    "\n",
    "##### What do you expect when increasing the number of steps? (you can experiment with different parameters of the attack and report your findings) <br/>\n",
    "With the increase of the the steps the attacks is more stronger and accuracy is declined even with lower perturbation value. \n",
    "\n",
    "##### Compare with the basic FGSM. Using the same perturbation budget and using the same model, which attack is more successful? Why do you think this is the case? What about the computation time?\n",
    "The same undefended model on FGSM attacks decreased the accuracy by 82.9 percent but with IFGSM it was declined further upto 65 percent.\n"
   ]
  },
  {
   "cell_type": "markdown",
   "metadata": {
    "tags": []
   },
   "source": [
    "## 3.3: Attack the defended model (5 poinst) \n",
    "\n",
    "* In the previous question, we attacked the **undefended model**. \n",
    "\n",
    "* Now, we want to explore how successful the previous implemented defense (FGSM adversarial training) is againts this new attack. (we will not implement a new defense here, we will be reusing your previous checkpoint of the **defended model**)\n",
    "\n",
    "\n",
    "* Use the **defended model** to create one set of adversarial examples. Use a perturbation budget from Question **2.2** for comparison.  "
   ]
  },
  {
   "cell_type": "code",
   "execution_count": 162,
   "metadata": {},
   "outputs": [],
   "source": [
    "variants = _attack_and_evaluate(model_with_adversarial_force)"
   ]
  },
  {
   "cell_type": "code",
   "execution_count": 163,
   "metadata": {},
   "outputs": [
    {
     "data": {
      "text/html": [
       "<div>\n",
       "<style scoped>\n",
       "    .dataframe tbody tr th:only-of-type {\n",
       "        vertical-align: middle;\n",
       "    }\n",
       "\n",
       "    .dataframe tbody tr th {\n",
       "        vertical-align: top;\n",
       "    }\n",
       "\n",
       "    .dataframe thead th {\n",
       "        text-align: right;\n",
       "    }\n",
       "</style>\n",
       "<table border=\"1\" class=\"dataframe\">\n",
       "  <thead>\n",
       "    <tr style=\"text-align: right;\">\n",
       "      <th></th>\n",
       "      <th>Epsilon</th>\n",
       "      <th>Test Accuracy</th>\n",
       "    </tr>\n",
       "  </thead>\n",
       "  <tbody>\n",
       "    <tr>\n",
       "      <th>0</th>\n",
       "      <td>0.05</td>\n",
       "      <td>92.1875</td>\n",
       "    </tr>\n",
       "  </tbody>\n",
       "</table>\n",
       "</div>"
      ],
      "text/plain": [
       "   Epsilon  Test Accuracy\n",
       "0     0.05        92.1875"
      ]
     },
     "execution_count": 163,
     "metadata": {},
     "output_type": "execute_result"
    }
   ],
   "source": [
    "variants"
   ]
  },
  {
   "cell_type": "markdown",
   "metadata": {},
   "source": [
    "### 3.3.1: Discussion (7 points) \n",
    "\n",
    "#### Please report your results. How successful was the attack on the defended model?** <br/>\n",
    "For **(perturbation budget = 0.05)** with undefended model** the attack was able to decrease the accuracy **by 69 percent** whereas with **defended model** we were able to keep up with **92.187 percent**. Attack was not that strong with lower perturbation value but quite successful with higher perturbation budget.\n",
    "\n",
    "#### Compare it with the success of the FGSM attack on the defended model. What do you observe? How do you interpret the difference?** <br/>\n",
    "The accuracy on the lower-budget adversarial samples (FGSM) after defense was **98.50 percent**. \n",
    "The I-FGSM attack was better and stronger than FGSM on defended model as it was able to compromise the accuracy more as compare to FGSM.\n",
    "\n",
    "#### How do you think you can improve the defense against I-FGSM attack?\n",
    "\n",
    "#### Feel free to state any interesting findings you encountered during this project.\n",
    "- Theses attacks are very simple and one cannot guarantee the robustness of the network model trained using the adversarial examples generated from these methods against stronger attacks.\n",
    "- We have focused on the the ability to successfully train our model against strong adversaries but we have not imporvised on the capacity of the model which is also crucial for robustness."
   ]
  },
  {
   "cell_type": "code",
   "execution_count": null,
   "metadata": {},
   "outputs": [],
   "source": []
  }
 ],
 "metadata": {
  "colab": {
   "collapsed_sections": [],
   "name": "Project_3_Template.ipynb",
   "provenance": []
  },
  "kernelspec": {
   "display_name": "Python 3 (ipykernel)",
   "language": "python",
   "name": "python3"
  },
  "language_info": {
   "codemirror_mode": {
    "name": "ipython",
    "version": 3
   },
   "file_extension": ".py",
   "mimetype": "text/x-python",
   "name": "python",
   "nbconvert_exporter": "python",
   "pygments_lexer": "ipython3",
   "version": "3.9.7"
  }
 },
 "nbformat": 4,
 "nbformat_minor": 4
}
