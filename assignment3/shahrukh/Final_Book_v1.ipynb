{
 "cells": [
  {
   "cell_type": "code",
   "execution_count": null,
   "metadata": {},
   "outputs": [],
   "source": [
    "!mkdir data\n",
    "%cd data\n",
    "!wget https://nextcloud.mpi-klsb.mpg.de/index.php/s/pJrRGzm2So2PMZm/download -O train.tar.gz \n",
    "!tar xzf train.tar.gz\n",
    "!wget https://nextcloud.mpi-klsb.mpg.de/index.php/s/zN3yeWzQB3i5WqE/download -O test.tar.gz \n",
    "!tar xzf test.tar.gz\n",
    "%cd ..\n",
    "!wget https://raw.githubusercontent.com/shahrukhx01/ocr-test/main/application_vocab_5521.pkl"
   ]
  },
  {
   "cell_type": "markdown",
   "metadata": {
    "id": "qKo3S_fOsMim"
   },
   "source": [
    "# ML in Cybersecurity: Task 3\n",
    "\n",
    "## Team\n",
    "  * **Team name**:  *R2D2C3P0BB8*\n",
    "  * **Members**:  <br/> **Navdeeppal Singh (s8nlsing@stud.uni-saarland.de)** <br/> **Shahrukh Khan (shkh00001@stud.uni-saarland.de)** <br/> **Mahnoor Shahid (mash00001@stud.uni-saarland.de)**\n",
    "\n",
    "\n",
    "## Logistics\n",
    "  * **Due date**: 9th December 2021, 23:59:59\n",
    "  * Email the completed notebook to: `mlcysec_ws2022_staff@lists.cispa.saarland`\n",
    "  * Complete this in **teams of 3**\n",
    "  * Feel free to use the forum to discuss.\n",
    "  \n",
    "## Timeline\n",
    "  * 26-Nov-2021: hand-out\n",
    "  * **09-Dec-2021**: Email completed notebook\n",
    "  \n",
    "  \n",
    "## About this Project\n",
    "In this project, you will explore an application of ML to a popular task in cybersecurity: malware classification.\n",
    "You will be presented with precomputed behaviour analysis reports of thousands of program binaries, many of which are malwares.\n",
    "Your goal is to train a malware detector using this behavioural reports.\n",
    "\n",
    "\n",
    "## A Note on Grading\n",
    "The grading for this project will depend on:\n",
    " 1. Vectorizing Inputs\n",
    "   * Obtaining a reasonable vectorized representations of the input data (a file containing a sequence of system calls)\n",
    "   * Understanding the influence these representations have on your model\n",
    " 1. Classification Model  \n",
    "   * Following a clear ML pipeline\n",
    "   * Obtaining reasonable performances (>60\\%) on held-out test set\n",
    "   * Choice of evaluation metric\n",
    "   * Visualizing loss/accuracy curves\n",
    " 1. Analysis\n",
    "   * Which methods (input representations/ML models) work better than the rest and why?\n",
    "   * Which hyper-parameters and design-choices were important in each of your methods?\n",
    "   * Quantifying influence of these hyper-parameters on loss and/or validation accuracies\n",
    "   * Trade-offs between methods, hyper-parameters, design-choices\n",
    "   * Anything else you find interesting (this part is open-ended)\n",
    "\n",
    "\n",
    "## Grading Details\n",
    " * 40 points: Vectorizing input data (each input = behaviour analysis file in our case)\n",
    " * 40 points: Training a classification model\n",
    " * 15 points: Analysis/Discussion\n",
    " * 5 points: Clean code\n",
    " \n",
    "## Filling-in the Notebook\n",
    "You'll be submitting this very notebook that is filled-in with your code and analysis. Make sure you submit one that has been previously executed in-order. (So that results/graphs are already visible upon opening it). \n",
    "\n",
    "The notebook you submit **should compile** (or should be self-contained and sufficiently commented). Check tutorial 1 on how to set up the Python3 environment.\n",
    "\n",
    "\n",
    "**The notebook is your project report. So, to make the report readable, omit code for techniques/models/things that did not work. You can use the final summary to provide a report about these.**\n",
    "\n",
    "It is extremely important that you **do not** re-order the existing sections. Apart from that, the code blocks that you need to fill-in are given by:\n",
    "```\n",
    "#\n",
    "#\n",
    "# ------- Your Code -------\n",
    "#\n",
    "#\n",
    "```\n",
    "Feel free to break this into multiple-cells. It's even better if you interleave explanations and code-blocks so that the entire notebook forms a readable \"story\".\n",
    "\n",
    "\n",
    "## Code of Honor\n",
    "We encourage discussing ideas and concepts with other students to help you learn and better understand the course content. However, the work you submit and present **must be original** and demonstrate your effort in solving the presented problems. **We will not tolerate** blatantly using existing solutions (such as from the internet), improper collaboration (e.g., sharing code or experimental data between groups) and plagiarism. If the honor code is not met, no points will be awarded.\n",
    "\n",
    " \n",
    " ## Versions\n",
    "  * v1.1: Updated deadline\n",
    "  * v1.0: Initial notebook\n",
    "  \n",
    "  ---"
   ]
  },
  {
   "cell_type": "code",
   "execution_count": 62,
   "metadata": {
    "id": "uyCiLbXbsMiq",
    "tags": []
   },
   "outputs": [
    {
     "name": "stdout",
     "output_type": "stream",
     "text": [
      "The autoreload extension is already loaded. To reload it, use:\n",
      "  %reload_ext autoreload\n"
     ]
    }
   ],
   "source": [
    "import time \n",
    " \n",
    "import numpy as np \n",
    "import matplotlib.pyplot as plt \n",
    "\n",
    "import json \n",
    "import time \n",
    "import pickle\n",
    "import sys \n",
    "import csv \n",
    "import os \n",
    "import os.path as osp \n",
    "import shutil \n",
    "import pathlib\n",
    "from pathlib import Path\n",
    "\n",
    "from IPython.display import display, HTML\n",
    " \n",
    "%matplotlib inline \n",
    "plt.rcParams['figure.figsize'] = (10.0, 8.0) # set default size of plots \n",
    "plt.rcParams['image.interpolation'] = 'nearest' \n",
    "plt.rcParams['image.cmap'] = 'gray' \n",
    " \n",
    "# for auto-reloading external modules \n",
    "# see http://stackoverflow.com/questions/1907993/autoreload-of-modules-in-ipython \n",
    "%load_ext autoreload\n",
    "%autoreload 2"
   ]
  },
  {
   "cell_type": "code",
   "execution_count": 2,
   "metadata": {
    "id": "7dHogdxRsMis",
    "tags": []
   },
   "outputs": [],
   "source": [
    "# Some suggestions of our libraries that might be helpful for this project\n",
    "from collections import Counter          # an even easier way to count\n",
    "from multiprocessing import Pool         # for multiprocessing\n",
    "from tqdm import tqdm                    # fancy progress bars\n",
    "\n",
    "# Load other libraries here.\n",
    "from sklearn.metrics import precision_score, recall_score, f1_score, accuracy_score, roc_curve\n",
    "\n",
    "import pandas as pd\n",
    "import warnings\n",
    "import seaborn as sns\n",
    "import optuna\n",
    "from optuna.visualization import plot_optimization_history, plot_parallel_coordinate, plot_param_importances, plot_slice\n",
    "from sklearn.metrics import plot_confusion_matrix, accuracy_score, classification_report\n",
    "\n",
    "# Keep it minimal! We should be easily able to reproduce your code.\n",
    "\n",
    "# We preload pytorch as an example\n",
    "import torch\n",
    "import torch.nn as nn\n",
    "import torch.nn.functional as F\n",
    "import torch.optim as optim\n",
    "from torch.utils.data import DataLoader, Dataset, TensorDataset"
   ]
  },
  {
   "cell_type": "markdown",
   "metadata": {
    "id": "oJWkh3GUsMit"
   },
   "source": [
    "# Setup\n",
    "\n",
    "  * Download the datasets: [train](https://nextcloud.mpi-klsb.mpg.de/index.php/s/pJrRGzm2So2PMZm) (128M) and [test](https://nextcloud.mpi-klsb.mpg.de/index.php/s/zN3yeWzQB3i5WqE) (92M)\n",
    "  * Unpack them under `./data/train` and `./data/test`\n",
    "  * Hint: you can execute shell scripts from notebooks using the `!` prefix, e.g., `! wget <url>`"
   ]
  },
  {
   "cell_type": "code",
   "execution_count": null,
   "metadata": {
    "id": "wlhs4w44sMit"
   },
   "outputs": [],
   "source": [
    "# Check that you are prepared with the data\n",
    "try:\n",
    "    print(f\"# train examples (Should be 13682) : \", len(os.listdir('./data/train')))\n",
    "    print(f\"# test examples (Should be 10000) : \", len(os.listdir('./data/test')))\n",
    "\n",
    "except Exception as e:\n",
    "    print(\"You don't have the data!\")\n",
    "# ! printf '# train examples (Should be 13682) : '; ls data/train | wc -l\n",
    "# ! printf '# test  examples (Should be 10000) : '; ls data/test | wc -l"
   ]
  },
  {
   "cell_type": "markdown",
   "metadata": {
    "id": "Zh1-JHNIsMiv"
   },
   "source": [
    "Now that you're set, let's briefly look at the data you have been handed.\n",
    "Each file encodes the behavior report of a program (potentially a malware), using an encoding scheme called \"The Malware Instruction Set\" (MIST for short).\n",
    "At this point, we highly recommend you briefly read-up Sec. 2 of the [MIST](http://www.mlsec.org/malheur/docs/mist-tr.pdf) documentation.\n",
    "\n",
    "You will find each file named as `filename.<malwarename>`:\n",
    "```\n",
    "» ls data/train | head\n",
    "00005ecc06ae3e489042e979717bb1455f17ac9d.NothingFound\n",
    "0008e3d188483aeae0de62d8d3a1479bd63ed8c9.Basun\n",
    "000d2eea77ee037b7ef99586eb2f1433991baca9.Patched\n",
    "000d996fa8f3c83c1c5568687bb3883a543ec874.Basun\n",
    "0010f78d3ffee61101068a0722e09a98959a5f2c.Basun\n",
    "0013cd0a8febd88bfc4333e20486bd1a9816fcbf.Basun\n",
    "0014aca72eb88a7f20fce5a4e000c1f7fff4958a.Texel\n",
    "001ffc75f24a0ae63a7033a01b8152ba371f6154.Texel\n",
    "0022d6ba67d556b931e3ab26abcd7490393703c4.Basun\n",
    "0028c307a125cf0fdc97d7a1ffce118c6e560a70.Swizzor\n",
    "...\n",
    "```\n",
    "and within each file, you will see a sequence of individual systems calls monitored duing the run-time of the binary - a malware named 'Basun' in the case:\n",
    "```\n",
    "» head data/train/000d996fa8f3c83c1c5568687bb3883a543ec874.Basun\n",
    "# process 000006c8 0000066a 022c82f4 00000000 thread 0001 #\n",
    "02 01 | 000006c8 0000066a 00015000\n",
    "02 02 | 00006b2c 047c8042 000b9000\n",
    "02 02 | 00006b2c 047c8042 00108000\n",
    "02 02 | 00006b2c 047c8042 00153000\n",
    "02 02 | 00006b2c 047c8042 00091000\n",
    "02 02 | 00006b2c 047c8042 00049000\n",
    "02 02 | 00006b2c 047c8042 000aa000\n",
    "02 02 | 00006b2c 047c8042 00092000\n",
    "02 02 | 00006b2c 047c8042 00011000\n",
    "...\n",
    "```\n",
    "(**Note**: Please ignore the first line that begins with `# process ...`.)\n",
    "\n",
    "Your task in this project is to train a malware detector, which given the sequence of system calls (in the MIST-formatted file like above), predicts one of 10 classes: `{ Agent, Allaple, AutoIt, Basun, NothingFound, Patched, Swizzor, Texel, VB, Virut }`, where `NothingFound` roughly represents no malware is present.\n",
    "In terms of machine learning terminology, your malware detector $F: X \\rightarrow Y$ should learn a mapping from the MIST-encoded behaviour report (the input $x \\in X$) to the malware class $y \\in Y$.\n",
    "\n",
    "Consequently, you will primarily tackle two challenges in this project:\n",
    "  1. \"Vectorizing\" the input data i.e., representing each input (file) as a tensor\n",
    "  1. Training an ML model\n",
    "  \n",
    "\n",
    "### Some tips:\n",
    "  * Begin with an extremely simple representation/ML model and get above chance-level classification performance\n",
    "  * Choose your evaluation metric wisely\n",
    "  * Save intermediate computations (e.g., a token to index mapping). This will avoid you parsing the entire dataset for every experiment\n",
    "  * Try using `multiprocessing.Pool` to parallelize your `for` loops"
   ]
  },
  {
   "cell_type": "markdown",
   "metadata": {
    "id": "p8xloR8dsMiv"
   },
   "source": [
    "---"
   ]
  },
  {
   "cell_type": "markdown",
   "metadata": {
    "id": "vXnyDAdbsMiw"
   },
   "source": [
    "# 1. Vectorize Data"
   ]
  },
  {
   "cell_type": "markdown",
   "metadata": {
    "id": "Ia-xFIQtsMiw"
   },
   "source": [
    "## 1.a. Load Raw Data\n",
    "## => We converted list of list lines to string to save memory in order to load entire dataset"
   ]
  },
  {
   "cell_type": "code",
   "execution_count": null,
   "metadata": {
    "id": "7BSUdq_-sMiw",
    "scrolled": true
   },
   "outputs": [],
   "source": [
    "train_path = './data/train'\n",
    "test_path = './data/test'\n",
    "n_workers = 10\n",
    "project_mode = 'trainval'    # trainval, traintest, debug, eval\n",
    "np.random.seed(123) "
   ]
  },
  {
   "cell_type": "code",
   "execution_count": 3,
   "metadata": {
    "id": "ZScY-C2IsMiw",
    "tags": []
   },
   "outputs": [],
   "source": [
    "def load_content(filepath):\n",
    "    '''Given a filepath, returns (content, classname), where content = [list of lines in file]'''\n",
    "    ## load file content\n",
    "    file = open(filepath, \"r\")\n",
    "    file_lines = file.read()\n",
    "    ## here converted list of list lines to string to save memory in order to load entire dataset\n",
    "    lines = \"\\n\".join(file_lines.splitlines())\n",
    "    file.close()\n",
    "\n",
    "    ## extracting label\n",
    "    label = filepath.split(\".\")[-1]\n",
    "    return lines, label\n",
    "\n",
    "\n",
    "def load_data(data_path, nworkers=10):\n",
    "    '''Returns each data sample as a tuple (x, y), x = sequence of strings (i.e., syscalls), y = malware program class'''\n",
    "    raw_data_samples = []\n",
    "    \n",
    "    file_paths = [f\"{data_path}/{filename}\" for filename in os.listdir(data_path)]\n",
    "    pool = Pool(processes=nworkers)\n",
    " \n",
    "    raw_data_samples = pool.map(load_content, file_paths)\n",
    "    return raw_data_samples\n",
    "\n",
    "def pickle_file(out_path, file_content):\n",
    "    with open(out_path, 'wb') as wf:\n",
    "        pickle.dump(file_content, wf)\n",
    "        \n",
    "def unpickle_file(in_path):\n",
    "    return pickle.load(open(in_path, \"rb\"))"
   ]
  },
  {
   "cell_type": "code",
   "execution_count": null,
   "metadata": {
    "id": "GG6tcSNJsMiw"
   },
   "outputs": [],
   "source": [
    "## in trainval mode we use test_raw_samples variable to hold validation dataset\n",
    "train_raw_samples, test_raw_samples = [], []\n",
    " \n",
    "if project_mode == 'trainval':\n",
    "    print('=> Loading training data ... ')\n",
    "    train_raw_samples = load_data(Path(train_path), nworkers=n_workers)\n",
    "    # To perform the same split across multiple runs\n",
    "    np.random.seed(123)          \n",
    "    # Split data into train and validation set\n",
    "    np.random.shuffle(train_raw_samples)\n",
    "    train_raw_samples, test_raw_samples = train_raw_samples[:int(len(train_raw_samples)*0.8)], train_raw_samples[int(len(train_raw_samples)*0.8):]\n",
    "\n",
    "elif project_mode == 'traintest':\n",
    "    ## loading train and test set\n",
    "    print('=> Loading training data ... ')\n",
    "    train_raw_samples = load_data(Path(train_path), nworkers=n_workers)\n",
    "    print('=> Loading testing data ... ')\n",
    "    test_raw_samples = load_data(Path(test_path), nworkers=n_workers)\n",
    "    \n",
    "elif project_mode == 'debug':\n",
    "    # Optional, use a small subset of the training and validation data for fast debugging\n",
    "    print('=> Loading training data ... ')\n",
    "    train_raw_samples = load_data(Path(train_path), nworkers=n_workers)[:100]\n",
    "    print('=> Loading testing data ... ')\n",
    "    test_raw_samples = load_data(Path(test_path), nworkers=n_workers)[:100]\n",
    "\n",
    "else:\n",
    "    raise ValueError('Unrecognized mode')\n",
    "    \n",
    "print('=> # Train samples = ', len(train_raw_samples))\n",
    "print('=> # Test  samples = ', len(test_raw_samples))"
   ]
  },
  {
   "cell_type": "markdown",
   "metadata": {
    "id": "GjiNiOVHsMiy"
   },
   "source": [
    "## 1.b. Vectorize: Setup\n",
    "\n",
    "Make one pass over the inputs to identify relevant features/tokens.\n",
    "\n",
    "Suggestion:\n",
    "  - identify tokens (e.g., unigrams, bigrams)\n",
    "  - create a token -> index (int) mapping. Note that you might have a >10K unique tokens. So, you will have to choose a suitable \"vocabulary\" size."
   ]
  },
  {
   "cell_type": "code",
   "execution_count": null,
   "metadata": {
    "id": "DAtmzL6PsMiy"
   },
   "outputs": [],
   "source": [
    "# Feel free to edit anything in this block\n",
    "\n",
    "def get_key_idx_map(counter, vocab_size, ukn_token='_ukn_'):\n",
    "    \"\"\"counter is a mapping: token -> count\n",
    "    build vectorizer using vocab_size most common elements\"\"\"\n",
    "    key_to_idx, idx_to_key = dict(), dict()\n",
    "    \n",
    "    for idx, (key, value) in tqdm(enumerate(list(train_counter.items())[:vocab_size-1])):\n",
    "        ## perform mapping for token\n",
    "        key_to_idx[key] = idx\n",
    "        idx_to_key[idx] = key\n",
    "    ## perform mapping for unk token at the end\n",
    "    key_to_idx[ukn_token] = vocab_size - 1\n",
    "    idx_to_key[vocab_size - 1] = ukn_token\n",
    "    \n",
    "    return key_to_idx, idx_to_key\n",
    "\n",
    "def preprocess(data):\n",
    "    \"\"\"concatenating all sys calls to single string for tokenization\n",
    "    removing extraneous information such as lines with '# process', white spaces and '|' characters\"\"\"\n",
    "    for i, (X,y) in enumerate(tqdm(data)):\n",
    "        example = \"\"\n",
    "        for line in X.split(\"\\n\"):\n",
    "            ## skip lines containing '# process'\n",
    "            if \"# process\" in line:\n",
    "                continue\n",
    "            ## remove extraneous white spaces and \n",
    "            example += line.replace(\"|\",\"\").replace(\"  \", \" \").strip() + \" \"\n",
    "        example = example.strip()\n",
    "        ## assign preprocessed sample\n",
    "        data[i] = (example, y)\n",
    "    return data\n",
    "        \n",
    "def count_words(data):\n",
    "    \"\"\"\n",
    "    count token occurences for building vocabulary later\n",
    "    \"\"\"\n",
    "    counter = {}\n",
    "    for X,y in tqdm(data):\n",
    "        counts = dict(Counter(X.split()))\n",
    "        counter = dict(counter, **counts)\n",
    "    return counter"
   ]
  },
  {
   "cell_type": "code",
   "execution_count": null,
   "metadata": {},
   "outputs": [],
   "source": [
    "\"\"\"\n",
    "Preprocessing both train and test set and\n",
    "Creating token counter for building vocabulary on train set\n",
    "\"\"\"\n",
    "train_raw_samples = preprocess(train_raw_samples)\n",
    "train_counter = count_words(train_raw_samples)\n",
    "test_raw_samples = preprocess(test_raw_samples)"
   ]
  },
  {
   "cell_type": "code",
   "execution_count": null,
   "metadata": {},
   "outputs": [],
   "source": [
    "## Code for finding appropriate threshold for setting `MAX_VOCAB_SIZE`\n",
    "def choose_vocab_size(min_frequency_threshold=10):\n",
    "    count = 0\n",
    "    for value,key in sorted([(value,key) for (key,value) in train_counter.items()], reverse=True):\n",
    "        if value > min_frequency_threshold:\n",
    "            count+=1\n",
    "    print(f\"Number of tokens are {count} for min. frequency threshold={min_frequency_threshold}\")\n",
    "#choose_vocab_size(10)"
   ]
  },
  {
   "cell_type": "code",
   "execution_count": null,
   "metadata": {},
   "outputs": [],
   "source": [
    "## sorting the counters wrt to count values in decending order\n",
    "train_counter = {key:value for value, key in  sorted([(value,key) for (key,value) in train_counter.items()], reverse=True)}"
   ]
  },
  {
   "cell_type": "code",
   "execution_count": 4,
   "metadata": {
    "id": "LSMEAcgvsMiy",
    "tags": []
   },
   "outputs": [],
   "source": [
    "# Feel free to edit anything in this block\n",
    "## By keeping a minimum count threshold of 10 we get 5520 most frequent tokens in train dataset\n",
    "## adding one to MAX_VOCAB_SIZE for _ukn_ token\n",
    "MAX_VOCAB_SIZE = 5520 + 1\n",
    "token_to_idx, idx_to_token = {}, {}\n",
    "# Path for vocab for saving and loading\n",
    "vocab_path = 'application_vocab_{}.pkl'.format(MAX_VOCAB_SIZE)\n",
    "\n",
    "## check if vocab already exists on file system otherwise create one\n",
    "if os.path.isfile(vocab_path):\n",
    "    token_to_idx, idx_to_token = unpickle_file(vocab_path)['token_to_idx'], unpickle_file(vocab_path)['idx_to_token']\n",
    "    \n",
    "else:\n",
    "    token_to_idx, idx_to_token = get_key_idx_map(train_counter, MAX_VOCAB_SIZE)\n",
    "    with open(vocab_path, 'wb') as wf:\n",
    "        dct = {'token_to_idx': token_to_idx,\n",
    "              'idx_to_token': idx_to_token}\n",
    "        pickle.dump(dct, wf)"
   ]
  },
  {
   "cell_type": "markdown",
   "metadata": {
    "id": "QUefzVjFsMiy"
   },
   "source": [
    "## 1.c. Vectorize Data\n",
    "\n",
    "Use the (token $\\rightarrow$ index) mapping you created before to vectorize your data"
   ]
  },
  {
   "cell_type": "code",
   "execution_count": 5,
   "metadata": {
    "id": "ffJJ0XOvsMiz"
   },
   "outputs": [],
   "source": [
    "def sample_to_idx(sample):\n",
    "    \"\"\"\n",
    "    Maps each document's tokens to their ids in the vocabulary\n",
    "    \"\"\"\n",
    "    idx_sample = []\n",
    "    for token in sample.split(' '):\n",
    "        if token not in token_to_idx:\n",
    "                token = '_ukn_'\n",
    "        idx_sample.append(token_to_idx[token])\n",
    "    return idx_sample\n",
    "\n",
    "\n",
    "## define mapping for labels\n",
    "label_encodings = {'Virut': 0,\n",
    " 'Swizzor': 1,\n",
    " 'Agent': 2,\n",
    " 'Patched': 3,\n",
    " 'Allaple': 4,\n",
    " 'Texel': 5,\n",
    " 'Basun': 6,\n",
    " 'AutoIt': 7,\n",
    " 'NothingFound': 8,\n",
    " 'VB': 9}"
   ]
  },
  {
   "cell_type": "code",
   "execution_count": null,
   "metadata": {
    "id": "CD5IqJmXsMiz"
   },
   "outputs": [],
   "source": [
    "def vectorize_raw_samples_bow(raw_samples, vocab_length, nworkers=10):\n",
    "    \"\"\"\n",
    "    BAG-OF-WORDS Vectorizer which vectorizes examples by adding '1' for\n",
    "    term i occuring in document j, hence producing a vector for each document\n",
    "    raw_samples: List of documents to vectorize\n",
    "    vocab_length: Size of the vocabulary\n",
    "    \"\"\"\n",
    "    vectorized_samples = []\n",
    "    labels = []\n",
    "    lengths = []\n",
    "    try:\n",
    "        for idx, (X,y) in tqdm(enumerate(raw_samples)):\n",
    "            vectorized_sample = []\n",
    "            ## map labeks to ids\n",
    "            label = label_encodings[y]\n",
    "            ## map tokens to ids\n",
    "            X_idx = sample_to_idx(X)\n",
    "\n",
    "            ## initializing placeholder vector with unknown tokens equivalent to max_length\n",
    "            vector_sample = [0] * vocab_length\n",
    "\n",
    "            ## creating Bag of Words Vectors \n",
    "            for index, val in enumerate(set(X_idx)):\n",
    "                vector_sample[val] = 1\n",
    "            sequence_length = len(X_idx)\n",
    "\n",
    "            ## append sample to respective lists\n",
    "            vectorized_samples.append(vector_sample)\n",
    "            labels.append(label)\n",
    "            lengths.append(sequence_length)\n",
    "    except:\n",
    "        pass\n",
    "            \n",
    "    return (torch.DoubleTensor(vectorized_samples), torch.LongTensor(labels), torch.LongTensor(lengths))\n",
    "\n",
    "\n",
    "\n",
    "def vectorize_raw_samples_count_vectorizer(raw_samples, vocab_length, nworkers=10):\n",
    "    \"\"\" \n",
    "    Count Vectorizer is similar to BAG-OF-WORDS Vectorizer, however this vectorizer places 'counts/frequency' for\n",
    "    term i occuring in document j, hence producing a vector for each document\n",
    "    raw_samples: List of documents to vectorize\n",
    "    vocab_length: Size of the vocabulary\n",
    "    \"\"\"\n",
    "    vectorized_samples = []\n",
    "    labels = []\n",
    "    lengths = []\n",
    "    try:\n",
    "        for idx, (X,y) in tqdm(enumerate(raw_samples)):\n",
    "            vectorized_sample = []\n",
    "            ## map labeks to ids\n",
    "            label = label_encodings[y]\n",
    "            ## map tokens to ids\n",
    "            X_idx = sample_to_idx(X)\n",
    "\n",
    "            ## initializing placeholder vector with unknown tokens equivalent to max_length\n",
    "            vector_sample = [0] * vocab_length\n",
    "            ## compute counts\n",
    "            counts = dict(Counter(X_idx))\n",
    "            ## creating Count Vectors \n",
    "            for index, (key, val) in enumerate(counts.items()):\n",
    "                vector_sample[key] = val\n",
    "            sequence_length = len(X_idx)\n",
    "\n",
    "            ## append sample to respective lists\n",
    "            vectorized_samples.append(vector_sample)\n",
    "            labels.append(label)\n",
    "            lengths.append(sequence_length)\n",
    "    except:\n",
    "        pass\n",
    "    \n",
    "    return (torch.DoubleTensor(vectorized_samples), torch.LongTensor(labels), torch.LongTensor(lengths))\n",
    "\n",
    "\n",
    "\n",
    "def vectorize_raw_samples_tfidf(raw_samples, vocab_length, nworkers=10):\n",
    "    \"\"\" \n",
    "    TF-IDF Vectorizer vectorizes examples computing term frequencies and inverse document\n",
    "    for freqyencies for term i occuring in document j, hence producing a vector for each document\n",
    "    raw_samples: List of documents to vectorize\n",
    "    vocab_length: Size of the vocabulary\n",
    "    \"\"\"\n",
    "    labels = []\n",
    "    lengths = []\n",
    "    tf_samples = [] ## term frequency vector for each sample\n",
    "    tf_idf = np.zeros(shape=(len(raw_samples), vocab_length))\n",
    "    try:\n",
    "        for idx, (X,y) in tqdm(enumerate(raw_samples)):\n",
    "            vectorized_sample = []\n",
    "            ## map labeks to ids\n",
    "            label = label_encodings[y]\n",
    "            ## map tokens to ids\n",
    "            X_idx = sample_to_idx(X)\n",
    "\n",
    "            ## initializing placeholder vector with unknown tokens equivalent to max_length\n",
    "            vector_sample = [0] * vocab_length\n",
    "            ## compute counts\n",
    "            counts = dict(Counter(X_idx))\n",
    "            ## creating Count Vectors \n",
    "            for index, (key, val) in enumerate(counts.items()):\n",
    "                vector_sample[key] = val\n",
    "            sequence_length = len(X_idx)\n",
    "            ## compute term frequencies 'tf => # of times term in the doc / total words in the doc'\n",
    "            term_frequencies = np.array(vector_sample) / sequence_length\n",
    "            ## append sample to respective lists\n",
    "            labels.append(label)\n",
    "            lengths.append(sequence_length)\n",
    "            tf_samples.append(term_frequencies)\n",
    "\n",
    "        # compute idf\n",
    "        # 1. computing BOW matrix \n",
    "        bow = np.zeros(shape=(len(raw_samples), vocab_length))\n",
    "        for i in range(len(tf_samples)):\n",
    "            for j in range(vocab_length):\n",
    "                if tf_samples[i][j] > 0:\n",
    "                    bow[i,j] = 1\n",
    "        # 2, compute idf scores 'idf(t) => log( ((1 + # of docs)/ # of docs with term t + 1) + 1 ) '\n",
    "        idf = [np.log(((1+len(raw_samples))/(1+sum(bow[:, i])))+1) for i in range(vocab_length)]\n",
    "\n",
    "        # compute tf-idf => tf * idf\n",
    "        tf = np.array(tf_samples)\n",
    "\n",
    "        for i in range(vocab_length):\n",
    "            tf_idf[:, i] = tf[:, i] * idf[i]\n",
    "    except:\n",
    "        pass\n",
    "    \n",
    "    return (torch.DoubleTensor(tf_idf), torch.LongTensor(labels), torch.LongTensor(lengths))"
   ]
  },
  {
   "cell_type": "code",
   "execution_count": 6,
   "metadata": {
    "id": "BtS10ASbsMi0",
    "scrolled": true,
    "tags": []
   },
   "outputs": [],
   "source": [
    "## select vectorization_method from {'BOW','COUNT_VEC', 'TF_IDF'}\n",
    "vectorization_method = \"BOW\" \n",
    "train_data, test_data = None, None\n",
    "load_pre_computed_vectors = True  ##load vector pickles files from disk if set True\n",
    "\n",
    "def perform_vectorization():\n",
    "    '''\n",
    "    Shahrukh write here\n",
    "    '''\n",
    "    if vectorization_method == \"BOW\":\n",
    "        print(f'=> {vectorization_method} Processing: Train')\n",
    "        train_data = vectorize_raw_samples_bow(train_raw_samples, vocab_length=MAX_VOCAB_SIZE)\n",
    "        print()\n",
    "        print(f'=> {vectorization_method} Processing: Test')\n",
    "        test_data = vectorize_raw_samples_bow(test_raw_samples, vocab_length=MAX_VOCAB_SIZE)\n",
    "\n",
    "    elif vectorization_method == \"COUNT_VEC\":\n",
    "        print(f'=> {vectorization_method} Processing: Train')\n",
    "        train_data = vectorize_raw_samples_count_vectorizer(train_raw_samples, vocab_length=MAX_VOCAB_SIZE)\n",
    "        print()\n",
    "        print(f'=> {vectorization_method} Processing: Test')\n",
    "        test_data = vectorize_raw_samples_count_vectorizer(test_raw_samples, vocab_length=MAX_VOCAB_SIZE)\n",
    "\n",
    "    elif vectorization_method == \"TF_IDF\":\n",
    "        print(f'=> {vectorization_method} Processing: Train')\n",
    "        train_data = vectorize_raw_samples_tfidf(train_raw_samples, vocab_length=MAX_VOCAB_SIZE)\n",
    "        print()\n",
    "        print(f'=> {vectorization_method} Processing: Test')\n",
    "        test_data = vectorize_raw_samples_tfidf(test_raw_samples, vocab_length=MAX_VOCAB_SIZE)\n",
    "    else:\n",
    "        print(\"Please choose one of the following vectorization method: {'BOW','COUNT_VEC', 'TF_IDF'}\")\n",
    "        "
   ]
  },
  {
   "cell_type": "code",
   "execution_count": 7,
   "metadata": {},
   "outputs": [],
   "source": [
    "project_mode = 'traintest'"
   ]
  },
  {
   "cell_type": "code",
   "execution_count": 8,
   "metadata": {
    "tags": []
   },
   "outputs": [],
   "source": [
    "if load_pre_computed_vectors:\n",
    "    if project_mode == 'trainval':\n",
    "        train_data = unpickle_file(f'train_v5521_{vectorization_method}.pkl')  \n",
    "        test_data = unpickle_file(f'val_v5521_{vectorization_method}.pkl')\n",
    "    elif project_mode == 'traintest':\n",
    "        train_data = unpickle_file(f'train_v5521_{vectorization_method}.pkl')  \n",
    "        test_data = unpickle_file(f'test_v5521_{vectorization_method}.pkl')    \n",
    "    else:\n",
    "        print(\"Please choose one of the following project modes: {'trainval','traintest', 'eval'}\")\n",
    "else:\n",
    "    perform_vectorization()    "
   ]
  },
  {
   "cell_type": "code",
   "execution_count": 9,
   "metadata": {
    "id": "0XOHr24usMi0"
   },
   "outputs": [],
   "source": [
    "\n",
    "# Suggestions: \n",
    "#\n",
    "# (a) You can use torch.utils.data.TensorDataset to represent the tensors you created previously\n",
    "# trainset = TensorDataset(train_x, train_y)\n",
    "# testset = TensorDataset(test_x, test_y)\n",
    "#\n",
    "# (b) Store your datasets to disk so that you do not need to precompute it every time\n",
    "\n",
    "\"\"\"\n",
    "Standard Pytorch Dataset class for loading datasets.\n",
    "\"\"\"\n",
    "class MalwareDataset(Dataset):\n",
    "\n",
    "    def __init__(self, data_tensor, target_tensor, length_tensor):\n",
    "        \"\"\"\n",
    "        initializes  and populates the the length, data and target tensors, and raw texts list\n",
    "        \"\"\"\n",
    "        assert data_tensor.size(0) == target_tensor.size(0) == length_tensor.size(0)\n",
    "        self.data_tensor = data_tensor\n",
    "        self.target_tensor = target_tensor\n",
    "        self.length_tensor = length_tensor\n",
    "\n",
    "    def __getitem__(self, index):\n",
    "        \"\"\"\n",
    "        returns the tuple of data tensor, targets, lengths of sequences tensor\n",
    "        \"\"\"\n",
    "        return self.data_tensor[index], self.target_tensor[index], self.length_tensor[index]\n",
    "\n",
    "    def __len__(self):\n",
    "        \"\"\"\n",
    "        returns the length of the data tensor.\n",
    "        \"\"\"\n",
    "        return self.data_tensor.size(0)\n",
    "\n",
    "## instantiate train and test datasets\n",
    "malware_testset = MalwareDataset(test_data[0], test_data[1], test_data[2])\n",
    "malware_trainset = MalwareDataset(train_data[0], train_data[1], train_data[2])"
   ]
  },
  {
   "cell_type": "markdown",
   "metadata": {
    "id": "_l0tLsEVsMi0"
   },
   "source": [
    "# 2. Train Model\n",
    "\n",
    "You will now train an ML model on the vectorized datasets you created previously.\n",
    "\n",
    "_Note_: Although we often refer to each input as a 'vector' for simplicity, each of your inputs can also be higher dimensional tensors."
   ]
  },
  {
   "cell_type": "markdown",
   "metadata": {
    "id": "UInY1YzksMi0"
   },
   "source": [
    "## 2.a. Helpers"
   ]
  },
  {
   "cell_type": "code",
   "execution_count": 10,
   "metadata": {
    "id": "VnSv0J75sMi0"
   },
   "outputs": [],
   "source": [
    "# Feel free to edit anything in this block\n",
    "## temporarily upload files to cloud for moving them around: !curl --upload-file ./train_v5700_l2000.pkl https://transfer.sh/train_v5700_l2000.pkl\n",
    "\n",
    "def evaluate_preds(y_gt, y_pred):\n",
    "    recall = recall_score(y_gt, y_pred, average='micro')\n",
    "    return recall\n",
    "\n",
    "def load_model(model, out_path):\n",
    "    model.load_state_dict(torch.load(out_path))  \n",
    "\n",
    "def save_model(model, out_path):\n",
    "    torch.save(model.state_dict(), out_path)"
   ]
  },
  {
   "cell_type": "markdown",
   "metadata": {
    "id": "PhbVzVLDsMi1"
   },
   "source": [
    "## 2.b. Define Model"
   ]
  },
  {
   "cell_type": "markdown",
   "metadata": {
    "id": "jrUKCNRgsMi1"
   },
   "source": [
    "Describe your model here."
   ]
  },
  {
   "cell_type": "code",
   "execution_count": 11,
   "metadata": {
    "id": "ILB2fBRWsMi1"
   },
   "outputs": [],
   "source": [
    "# Feel free to edit anything in this block\n",
    "\n",
    "class MalwareNet(nn.Module):\n",
    "    \"\"\"\n",
    "        This class is created to specify the Neural Network on which vectorized datasets we have created previously \n",
    "        is trained on, validated and later tested. \n",
    "        It consist of one input layer, one output layer and multiple hidden layers.\n",
    "        ...        \n",
    "    \"\"\"\n",
    "    def __init__(self, input_dim, output_dim, dropout=0.5):\n",
    "        super(MalwareNet, self).__init__()\n",
    "        # Layer definitions\n",
    "        self.layers = nn.Sequential(\n",
    "            nn.Linear(input_dim, 1024),\n",
    "            \n",
    "            nn.ReLU(),\n",
    "            nn.Dropout(dropout),\n",
    "            nn.Linear(1024, 512),\n",
    "           \n",
    "            nn.ReLU(),\n",
    "            nn.Dropout(dropout),\n",
    "            nn.Linear(512, 256),\n",
    "            \n",
    "            nn.ReLU(),\n",
    "            nn.Dropout(dropout),\n",
    "            nn.Linear(256, 128),\n",
    "            nn.ReLU(),\n",
    "            nn.Dropout(dropout),\n",
    "            nn.Linear(128, output_dim)\n",
    "        )\n",
    "\n",
    "    def forward(self, x):\n",
    "        # Forward pass\n",
    "        return self.layers(x)\n",
    "            "
   ]
  },
  {
   "cell_type": "code",
   "execution_count": 12,
   "metadata": {},
   "outputs": [],
   "source": [
    "def _network_training(model, hyper_paramaters, criterion, optimizer, set_device, tuning=False):\n",
    "    '''\n",
    "    training the network given the hyperparameters, crtierion and optimizer\n",
    "    '''\n",
    "    best_accuracy = 0\n",
    "    train_loss_history, recall_train_history= list(), list()\n",
    "    validation_loss_history, recall_validation_history = list(), list()\n",
    "\n",
    "    for epoch in range(0, hyper_paramaters['NUM_EPOCHS']):\n",
    "        model.train()\n",
    "        train_loss_scores = []\n",
    "        training_acc_scores = []\n",
    "        y_pred, y_true= list(), list()\n",
    "\n",
    "        for batch, targets, lengths in trainloader:\n",
    "            \n",
    "            ## perform forward pass  \n",
    "            batch = batch.type(torch.FloatTensor).to(set_device)\n",
    "            pred = model(batch) \n",
    "            preds = torch.max(pred, 1)[1]\n",
    "\n",
    "            ## accumulate predictions per batch for the epoch\n",
    "            y_pred += list([x.item() for x in preds.detach().cpu().numpy()])\n",
    "            targets = torch.LongTensor([x.item() for x in list(targets)])\n",
    "            y_true +=  list([x.item() for x in targets.detach().cpu().numpy()])\n",
    "            \n",
    "            ## compute loss and perform backward pass\n",
    "            loss = criterion(pred.to(set_device), targets.to(set_device)) ## compute loss \n",
    "            optimizer.zero_grad()\n",
    "            loss.backward() \n",
    "            optimizer.step()\n",
    "\n",
    "            ## accumulate train loss\n",
    "            train_loss_scores.append(loss.item())\n",
    "        \n",
    "        ## accumulate loss, recall, f1, precision per epoch\n",
    "        train_loss_history.append((sum(train_loss_scores)/len(train_loss_scores)))\n",
    "        recall = evaluate_preds(y_true, y_pred)\n",
    "        recall_train_history.append(recall)\n",
    "        print(f'Training =>  Epoch : {epoch+1} | Loss : {train_loss_history[-1]} | Recall score: {recall_train_history[-1]}')\n",
    "       \n",
    "        model.eval()\n",
    "        with torch.no_grad():\n",
    "            validation_loss_scores = list()\n",
    "            y_true_val, y_pred_val= list(), list()\n",
    "\n",
    "            ## perform validation pass\n",
    "            for batch, targets, lengths in testloader:\n",
    "                ## perform forward pass  \n",
    "                batch = batch.type(torch.FloatTensor).to(set_device)\n",
    "                pred = model(batch) \n",
    "                preds = torch.max(pred, 1)[1]\n",
    "\n",
    "                ## accumulate predictions per batch for the epoch\n",
    "                y_pred_val += list([x.item() for x in preds.detach().cpu().numpy()])\n",
    "                targets = torch.LongTensor([x.item() for x in list(targets)])\n",
    "                y_true_val +=  list([x.item() for x in targets.detach().cpu().numpy()])\n",
    "                \n",
    "                ## computing validate loss\n",
    "                loss = criterion(pred.to(set_device), targets.to(set_device)) ## compute loss \n",
    "\n",
    "                ## accumulate validate loss\n",
    "                validation_loss_scores.append(loss.item())\n",
    "            \n",
    "            ## accumulate loss, recall, f1, precision per epoch\n",
    "            validation_loss_history.append((sum(validation_loss_scores)/len(validation_loss_scores)))\n",
    "            recall = evaluate_preds(y_true_val, y_pred_val)\n",
    "            recall_validation_history.append(recall)\n",
    "\n",
    "            print(f'Validation =>  Epoch : {epoch+1} | Loss : {validation_loss_history[-1]} | Recall score: {recall_validation_history[-1]} ')\n",
    "            \n",
    "            if not tuning: \n",
    "                if recall_validation_history[-1]>best_accuracy:\n",
    "                    best_accuracy = recall_validation_history[-1]\n",
    "                    print('Saving the model...')\n",
    "                    torch.save(model.state_dict(), f\"{vectorization_method}_Recall_{best_accuracy}.ckpt\")                 \n",
    "                    \n",
    "            \n",
    "    if tuning:\n",
    "        return recall_validation_history\n",
    "        \n",
    "    \n",
    "    return train_loss_history, recall_train_history, validation_loss_history, recall_validation_history\n",
    "\n",
    "        "
   ]
  },
  {
   "cell_type": "markdown",
   "metadata": {
    "id": "QO1yPx7YsMi1"
   },
   "source": [
    "## 2.c. Set Hyperparameters"
   ]
  },
  {
   "cell_type": "code",
   "execution_count": 14,
   "metadata": {},
   "outputs": [],
   "source": [
    "# Data Loaders\n",
    "trainloader = DataLoader(malware_trainset, batch_size=64, shuffle=True)\n",
    "testloader = DataLoader(malware_testset, batch_size=64, shuffle=False)"
   ]
  },
  {
   "cell_type": "code",
   "execution_count": null,
   "metadata": {
    "id": "0k0jLX5ksMi1"
   },
   "outputs": [],
   "source": [
    "# Define your hyperparameters here\n",
    "def _hyper_parameter_tuning(trial):\n",
    "    \n",
    "    set_device = torch.device(\"cuda\" if torch.cuda.is_available() else \"cpu\")\n",
    "    \n",
    "    hyper_paramaters = {\n",
    "        'TRAIN_BATCH_SIZE' :  trial.suggest_categorical('TRAIN_BATCH_SIZE', (32, 64)),\n",
    "        'LEARNING_RATE' : trial.suggest_loguniform('LEARNING_RATE', 0.001, 0.01),\n",
    "        'OPTIMIZER': trial.suggest_categorical(\"OPTIMIZER\", [\"Adam\", \"RMSprop\", \"SGD\"]),\n",
    "        'NUM_EPOCHS' : trial.suggest_categorical(\"NUM_EPOCHS\", [3, 5, 8]),\n",
    "        'DROPOUT' : trial.suggest_categorical(\"DROPOUT\", [0.1, 0.2, 0.5]),\n",
    "    }\n",
    "    \n",
    "    model = MalwareNet(input_dim=train_data[0][0].shape[0], output_dim=len(label_encodings), dropout=hyper_paramaters['DROPOUT']).to(set_device)\n",
    "    criterion = nn.CrossEntropyLoss().to(set_device)\n",
    "    optimizer = getattr(optim, hyper_paramaters['OPTIMIZER'])(model.parameters(), lr=hyper_paramaters['LEARNING_RATE'])\n",
    "    \n",
    "    recall = _network_training(model, hyper_paramaters, criterion, optimizer, set_device, tuning=True)\n",
    "    return np.max(recall)\n",
    "\n",
    "with warnings.catch_warnings(record=True):\n",
    "    analysis_study = optuna.create_study(direction='maximize')\n",
    "    analysis_study.optimize(_hyper_parameter_tuning, n_trials=12)"
   ]
  },
  {
   "cell_type": "markdown",
   "metadata": {
    "tags": []
   },
   "source": [
    "### Selection of hyper parameters on the basis of hyperparameter tuning"
   ]
  },
  {
   "cell_type": "code",
   "execution_count": null,
   "metadata": {
    "tags": []
   },
   "outputs": [],
   "source": [
    "print(\"SELECTED BEST SET OF HYPER-PARAMETERS:\",analysis_study.best_params)\n",
    "print(\"RECALL SCORE ACHEIVED USING THE BEST HYPER-PARAMTERS\", analysis_study.best_value)"
   ]
  },
  {
   "cell_type": "code",
   "execution_count": null,
   "metadata": {
    "tags": []
   },
   "outputs": [],
   "source": [
    "df = analysis_study.trials_dataframe().drop(['state','datetime_start','datetime_complete','number'], axis=1)\n",
    "df.index.name = 'trial'\n",
    "df.sort_values(by='value', ascending=False).head(20)"
   ]
  },
  {
   "cell_type": "markdown",
   "metadata": {
    "id": "NtpgVAO1sMi2"
   },
   "source": [
    "## 2.d. Train your Model"
   ]
  },
  {
   "cell_type": "code",
   "execution_count": 15,
   "metadata": {
    "id": "3afVBWVKsMi2"
   },
   "outputs": [
    {
     "name": "stdout",
     "output_type": "stream",
     "text": [
      "Network structure is: <bound method Module.parameters of MalwareNet(\n",
      "  (layers): Sequential(\n",
      "    (0): Linear(in_features=5521, out_features=1024, bias=True)\n",
      "    (1): ReLU()\n",
      "    (2): Dropout(p=0.2, inplace=False)\n",
      "    (3): Linear(in_features=1024, out_features=512, bias=True)\n",
      "    (4): ReLU()\n",
      "    (5): Dropout(p=0.2, inplace=False)\n",
      "    (6): Linear(in_features=512, out_features=256, bias=True)\n",
      "    (7): ReLU()\n",
      "    (8): Dropout(p=0.2, inplace=False)\n",
      "    (9): Linear(in_features=256, out_features=128, bias=True)\n",
      "    (10): ReLU()\n",
      "    (11): Dropout(p=0.2, inplace=False)\n",
      "    (12): Linear(in_features=128, out_features=10, bias=True)\n",
      "  )\n",
      ")>\n",
      "Total number of parameters: 6344842\n",
      "Training =>  Epoch : 1 | Loss : 0.9373457688231801 | Recall score: 0.6804020100502512\n",
      "Validation =>  Epoch : 1 | Loss : 0.570404367651909 | Recall score: 0.7976 \n",
      "Saving the model...\n",
      "Training =>  Epoch : 2 | Loss : 0.5898731195822705 | Recall score: 0.7957971676564641\n",
      "Validation =>  Epoch : 2 | Loss : 0.5505712922591313 | Recall score: 0.8063 \n",
      "Saving the model...\n",
      "Training =>  Epoch : 3 | Loss : 0.5558585573074429 | Recall score: 0.8024668798538145\n",
      "Validation =>  Epoch : 3 | Loss : 0.5138273850368087 | Recall score: 0.8126 \n",
      "Saving the model...\n",
      "Training =>  Epoch : 4 | Loss : 0.5263183440926463 | Recall score: 0.8113293741434445\n",
      "Validation =>  Epoch : 4 | Loss : 0.5166532790205282 | Recall score: 0.8159 \n",
      "Saving the model...\n",
      "Training =>  Epoch : 5 | Loss : 0.5102750260469525 | Recall score: 0.8190954773869347\n",
      "Validation =>  Epoch : 5 | Loss : 0.5292438631224784 | Recall score: 0.8166 \n",
      "Saving the model...\n",
      "Training =>  Epoch : 6 | Loss : 0.4905224655383706 | Recall score: 0.8222932846048424\n",
      "Validation =>  Epoch : 6 | Loss : 0.5072588952863293 | Recall score: 0.8205 \n",
      "Saving the model...\n",
      "Training =>  Epoch : 7 | Loss : 0.47668794057396957 | Recall score: 0.8277752398355414\n",
      "Validation =>  Epoch : 7 | Loss : 0.5182626194255368 | Recall score: 0.8181 \n",
      "Training =>  Epoch : 8 | Loss : 0.4787004182851592 | Recall score: 0.8331658291457287\n",
      "Validation =>  Epoch : 8 | Loss : 0.5148582936851842 | Recall score: 0.8235 \n",
      "Saving the model...\n"
     ]
    },
    {
     "ename": "KeyboardInterrupt",
     "evalue": "",
     "output_type": "error",
     "traceback": [
      "\u001b[1;31m---------------------------------------------------------------------------\u001b[0m",
      "\u001b[1;31mKeyboardInterrupt\u001b[0m                         Traceback (most recent call last)",
      "\u001b[1;32m~\\AppData\\Local\\Temp/ipykernel_14888/364177530.py\u001b[0m in \u001b[0;36m<module>\u001b[1;34m\u001b[0m\n\u001b[0;32m     17\u001b[0m \u001b[0moptimizer\u001b[0m \u001b[1;33m=\u001b[0m \u001b[0mtraining_params\u001b[0m\u001b[1;33m[\u001b[0m\u001b[1;34m'OPTIMIZER'\u001b[0m\u001b[1;33m]\u001b[0m\u001b[1;33m(\u001b[0m\u001b[0mmodel\u001b[0m\u001b[1;33m.\u001b[0m\u001b[0mparameters\u001b[0m\u001b[1;33m(\u001b[0m\u001b[1;33m)\u001b[0m\u001b[1;33m,\u001b[0m \u001b[0mlr\u001b[0m\u001b[1;33m=\u001b[0m\u001b[0mtraining_params\u001b[0m\u001b[1;33m[\u001b[0m\u001b[1;34m'LEARNING_RATE'\u001b[0m\u001b[1;33m]\u001b[0m\u001b[1;33m)\u001b[0m\u001b[1;33m\u001b[0m\u001b[1;33m\u001b[0m\u001b[0m\n\u001b[0;32m     18\u001b[0m \u001b[1;32mwith\u001b[0m \u001b[0mwarnings\u001b[0m\u001b[1;33m.\u001b[0m\u001b[0mcatch_warnings\u001b[0m\u001b[1;33m(\u001b[0m\u001b[0mrecord\u001b[0m\u001b[1;33m=\u001b[0m\u001b[1;32mTrue\u001b[0m\u001b[1;33m)\u001b[0m\u001b[1;33m:\u001b[0m\u001b[1;33m\u001b[0m\u001b[1;33m\u001b[0m\u001b[0m\n\u001b[1;32m---> 19\u001b[1;33m     \u001b[0mtrain_loss_history\u001b[0m\u001b[1;33m,\u001b[0m \u001b[0mrecall_train_history\u001b[0m\u001b[1;33m,\u001b[0m  \u001b[0mvalidation_loss_history\u001b[0m\u001b[1;33m,\u001b[0m \u001b[0mrecall_validation_history\u001b[0m \u001b[1;33m=\u001b[0m \u001b[0m_network_training\u001b[0m\u001b[1;33m(\u001b[0m\u001b[0mmodel\u001b[0m\u001b[1;33m,\u001b[0m \u001b[0mtraining_params\u001b[0m\u001b[1;33m,\u001b[0m \u001b[0mcriterion\u001b[0m\u001b[1;33m,\u001b[0m \u001b[0moptimizer\u001b[0m\u001b[1;33m,\u001b[0m \u001b[0mset_device\u001b[0m\u001b[1;33m,\u001b[0m \u001b[0mtuning\u001b[0m\u001b[1;33m=\u001b[0m\u001b[1;32mFalse\u001b[0m\u001b[1;33m)\u001b[0m\u001b[1;33m\u001b[0m\u001b[1;33m\u001b[0m\u001b[0m\n\u001b[0m\u001b[0;32m     20\u001b[0m \u001b[1;33m\u001b[0m\u001b[0m\n",
      "\u001b[1;32m~\\AppData\\Local\\Temp/ipykernel_14888/3810107837.py\u001b[0m in \u001b[0;36m_network_training\u001b[1;34m(model, hyper_paramaters, criterion, optimizer, set_device, tuning)\u001b[0m\n\u001b[0;32m     17\u001b[0m             \u001b[1;31m## perform forward pass\u001b[0m\u001b[1;33m\u001b[0m\u001b[1;33m\u001b[0m\u001b[0m\n\u001b[0;32m     18\u001b[0m             \u001b[0mbatch\u001b[0m \u001b[1;33m=\u001b[0m \u001b[0mbatch\u001b[0m\u001b[1;33m.\u001b[0m\u001b[0mtype\u001b[0m\u001b[1;33m(\u001b[0m\u001b[0mtorch\u001b[0m\u001b[1;33m.\u001b[0m\u001b[0mFloatTensor\u001b[0m\u001b[1;33m)\u001b[0m\u001b[1;33m.\u001b[0m\u001b[0mto\u001b[0m\u001b[1;33m(\u001b[0m\u001b[0mset_device\u001b[0m\u001b[1;33m)\u001b[0m\u001b[1;33m\u001b[0m\u001b[1;33m\u001b[0m\u001b[0m\n\u001b[1;32m---> 19\u001b[1;33m             \u001b[0mpred\u001b[0m \u001b[1;33m=\u001b[0m \u001b[0mmodel\u001b[0m\u001b[1;33m(\u001b[0m\u001b[0mbatch\u001b[0m\u001b[1;33m)\u001b[0m\u001b[1;33m\u001b[0m\u001b[1;33m\u001b[0m\u001b[0m\n\u001b[0m\u001b[0;32m     20\u001b[0m             \u001b[0mpreds\u001b[0m \u001b[1;33m=\u001b[0m \u001b[0mtorch\u001b[0m\u001b[1;33m.\u001b[0m\u001b[0mmax\u001b[0m\u001b[1;33m(\u001b[0m\u001b[0mpred\u001b[0m\u001b[1;33m,\u001b[0m \u001b[1;36m1\u001b[0m\u001b[1;33m)\u001b[0m\u001b[1;33m[\u001b[0m\u001b[1;36m1\u001b[0m\u001b[1;33m]\u001b[0m\u001b[1;33m\u001b[0m\u001b[1;33m\u001b[0m\u001b[0m\n\u001b[0;32m     21\u001b[0m \u001b[1;33m\u001b[0m\u001b[0m\n",
      "\u001b[1;32m~\\Anaconda\\envs\\pytorch_env\\lib\\site-packages\\torch\\nn\\modules\\module.py\u001b[0m in \u001b[0;36m_call_impl\u001b[1;34m(self, *input, **kwargs)\u001b[0m\n\u001b[0;32m   1100\u001b[0m         if not (self._backward_hooks or self._forward_hooks or self._forward_pre_hooks or _global_backward_hooks\n\u001b[0;32m   1101\u001b[0m                 or _global_forward_hooks or _global_forward_pre_hooks):\n\u001b[1;32m-> 1102\u001b[1;33m             \u001b[1;32mreturn\u001b[0m \u001b[0mforward_call\u001b[0m\u001b[1;33m(\u001b[0m\u001b[1;33m*\u001b[0m\u001b[0minput\u001b[0m\u001b[1;33m,\u001b[0m \u001b[1;33m**\u001b[0m\u001b[0mkwargs\u001b[0m\u001b[1;33m)\u001b[0m\u001b[1;33m\u001b[0m\u001b[1;33m\u001b[0m\u001b[0m\n\u001b[0m\u001b[0;32m   1103\u001b[0m         \u001b[1;31m# Do not call functions when jit is used\u001b[0m\u001b[1;33m\u001b[0m\u001b[1;33m\u001b[0m\u001b[0m\n\u001b[0;32m   1104\u001b[0m         \u001b[0mfull_backward_hooks\u001b[0m\u001b[1;33m,\u001b[0m \u001b[0mnon_full_backward_hooks\u001b[0m \u001b[1;33m=\u001b[0m \u001b[1;33m[\u001b[0m\u001b[1;33m]\u001b[0m\u001b[1;33m,\u001b[0m \u001b[1;33m[\u001b[0m\u001b[1;33m]\u001b[0m\u001b[1;33m\u001b[0m\u001b[1;33m\u001b[0m\u001b[0m\n",
      "\u001b[1;32m~\\AppData\\Local\\Temp/ipykernel_14888/3545688322.py\u001b[0m in \u001b[0;36mforward\u001b[1;34m(self, x)\u001b[0m\n\u001b[0;32m     32\u001b[0m     \u001b[1;32mdef\u001b[0m \u001b[0mforward\u001b[0m\u001b[1;33m(\u001b[0m\u001b[0mself\u001b[0m\u001b[1;33m,\u001b[0m \u001b[0mx\u001b[0m\u001b[1;33m)\u001b[0m\u001b[1;33m:\u001b[0m\u001b[1;33m\u001b[0m\u001b[1;33m\u001b[0m\u001b[0m\n\u001b[0;32m     33\u001b[0m         \u001b[1;31m# Forward pass\u001b[0m\u001b[1;33m\u001b[0m\u001b[1;33m\u001b[0m\u001b[0m\n\u001b[1;32m---> 34\u001b[1;33m         \u001b[1;32mreturn\u001b[0m \u001b[0mself\u001b[0m\u001b[1;33m.\u001b[0m\u001b[0mlayers\u001b[0m\u001b[1;33m(\u001b[0m\u001b[0mx\u001b[0m\u001b[1;33m)\u001b[0m\u001b[1;33m\u001b[0m\u001b[1;33m\u001b[0m\u001b[0m\n\u001b[0m\u001b[0;32m     35\u001b[0m \u001b[1;33m\u001b[0m\u001b[0m\n",
      "\u001b[1;32m~\\Anaconda\\envs\\pytorch_env\\lib\\site-packages\\torch\\nn\\modules\\module.py\u001b[0m in \u001b[0;36m_call_impl\u001b[1;34m(self, *input, **kwargs)\u001b[0m\n\u001b[0;32m   1100\u001b[0m         if not (self._backward_hooks or self._forward_hooks or self._forward_pre_hooks or _global_backward_hooks\n\u001b[0;32m   1101\u001b[0m                 or _global_forward_hooks or _global_forward_pre_hooks):\n\u001b[1;32m-> 1102\u001b[1;33m             \u001b[1;32mreturn\u001b[0m \u001b[0mforward_call\u001b[0m\u001b[1;33m(\u001b[0m\u001b[1;33m*\u001b[0m\u001b[0minput\u001b[0m\u001b[1;33m,\u001b[0m \u001b[1;33m**\u001b[0m\u001b[0mkwargs\u001b[0m\u001b[1;33m)\u001b[0m\u001b[1;33m\u001b[0m\u001b[1;33m\u001b[0m\u001b[0m\n\u001b[0m\u001b[0;32m   1103\u001b[0m         \u001b[1;31m# Do not call functions when jit is used\u001b[0m\u001b[1;33m\u001b[0m\u001b[1;33m\u001b[0m\u001b[0m\n\u001b[0;32m   1104\u001b[0m         \u001b[0mfull_backward_hooks\u001b[0m\u001b[1;33m,\u001b[0m \u001b[0mnon_full_backward_hooks\u001b[0m \u001b[1;33m=\u001b[0m \u001b[1;33m[\u001b[0m\u001b[1;33m]\u001b[0m\u001b[1;33m,\u001b[0m \u001b[1;33m[\u001b[0m\u001b[1;33m]\u001b[0m\u001b[1;33m\u001b[0m\u001b[1;33m\u001b[0m\u001b[0m\n",
      "\u001b[1;32m~\\Anaconda\\envs\\pytorch_env\\lib\\site-packages\\torch\\nn\\modules\\container.py\u001b[0m in \u001b[0;36mforward\u001b[1;34m(self, input)\u001b[0m\n\u001b[0;32m    139\u001b[0m     \u001b[1;32mdef\u001b[0m \u001b[0mforward\u001b[0m\u001b[1;33m(\u001b[0m\u001b[0mself\u001b[0m\u001b[1;33m,\u001b[0m \u001b[0minput\u001b[0m\u001b[1;33m)\u001b[0m\u001b[1;33m:\u001b[0m\u001b[1;33m\u001b[0m\u001b[1;33m\u001b[0m\u001b[0m\n\u001b[0;32m    140\u001b[0m         \u001b[1;32mfor\u001b[0m \u001b[0mmodule\u001b[0m \u001b[1;32min\u001b[0m \u001b[0mself\u001b[0m\u001b[1;33m:\u001b[0m\u001b[1;33m\u001b[0m\u001b[1;33m\u001b[0m\u001b[0m\n\u001b[1;32m--> 141\u001b[1;33m             \u001b[0minput\u001b[0m \u001b[1;33m=\u001b[0m \u001b[0mmodule\u001b[0m\u001b[1;33m(\u001b[0m\u001b[0minput\u001b[0m\u001b[1;33m)\u001b[0m\u001b[1;33m\u001b[0m\u001b[1;33m\u001b[0m\u001b[0m\n\u001b[0m\u001b[0;32m    142\u001b[0m         \u001b[1;32mreturn\u001b[0m \u001b[0minput\u001b[0m\u001b[1;33m\u001b[0m\u001b[1;33m\u001b[0m\u001b[0m\n\u001b[0;32m    143\u001b[0m \u001b[1;33m\u001b[0m\u001b[0m\n",
      "\u001b[1;32m~\\Anaconda\\envs\\pytorch_env\\lib\\site-packages\\torch\\nn\\modules\\module.py\u001b[0m in \u001b[0;36m_call_impl\u001b[1;34m(self, *input, **kwargs)\u001b[0m\n\u001b[0;32m   1100\u001b[0m         if not (self._backward_hooks or self._forward_hooks or self._forward_pre_hooks or _global_backward_hooks\n\u001b[0;32m   1101\u001b[0m                 or _global_forward_hooks or _global_forward_pre_hooks):\n\u001b[1;32m-> 1102\u001b[1;33m             \u001b[1;32mreturn\u001b[0m \u001b[0mforward_call\u001b[0m\u001b[1;33m(\u001b[0m\u001b[1;33m*\u001b[0m\u001b[0minput\u001b[0m\u001b[1;33m,\u001b[0m \u001b[1;33m**\u001b[0m\u001b[0mkwargs\u001b[0m\u001b[1;33m)\u001b[0m\u001b[1;33m\u001b[0m\u001b[1;33m\u001b[0m\u001b[0m\n\u001b[0m\u001b[0;32m   1103\u001b[0m         \u001b[1;31m# Do not call functions when jit is used\u001b[0m\u001b[1;33m\u001b[0m\u001b[1;33m\u001b[0m\u001b[0m\n\u001b[0;32m   1104\u001b[0m         \u001b[0mfull_backward_hooks\u001b[0m\u001b[1;33m,\u001b[0m \u001b[0mnon_full_backward_hooks\u001b[0m \u001b[1;33m=\u001b[0m \u001b[1;33m[\u001b[0m\u001b[1;33m]\u001b[0m\u001b[1;33m,\u001b[0m \u001b[1;33m[\u001b[0m\u001b[1;33m]\u001b[0m\u001b[1;33m\u001b[0m\u001b[1;33m\u001b[0m\u001b[0m\n",
      "\u001b[1;32m~\\Anaconda\\envs\\pytorch_env\\lib\\site-packages\\torch\\nn\\modules\\dropout.py\u001b[0m in \u001b[0;36mforward\u001b[1;34m(self, input)\u001b[0m\n\u001b[0;32m     56\u001b[0m \u001b[1;33m\u001b[0m\u001b[0m\n\u001b[0;32m     57\u001b[0m     \u001b[1;32mdef\u001b[0m \u001b[0mforward\u001b[0m\u001b[1;33m(\u001b[0m\u001b[0mself\u001b[0m\u001b[1;33m,\u001b[0m \u001b[0minput\u001b[0m\u001b[1;33m:\u001b[0m \u001b[0mTensor\u001b[0m\u001b[1;33m)\u001b[0m \u001b[1;33m->\u001b[0m \u001b[0mTensor\u001b[0m\u001b[1;33m:\u001b[0m\u001b[1;33m\u001b[0m\u001b[1;33m\u001b[0m\u001b[0m\n\u001b[1;32m---> 58\u001b[1;33m         \u001b[1;32mreturn\u001b[0m \u001b[0mF\u001b[0m\u001b[1;33m.\u001b[0m\u001b[0mdropout\u001b[0m\u001b[1;33m(\u001b[0m\u001b[0minput\u001b[0m\u001b[1;33m,\u001b[0m \u001b[0mself\u001b[0m\u001b[1;33m.\u001b[0m\u001b[0mp\u001b[0m\u001b[1;33m,\u001b[0m \u001b[0mself\u001b[0m\u001b[1;33m.\u001b[0m\u001b[0mtraining\u001b[0m\u001b[1;33m,\u001b[0m \u001b[0mself\u001b[0m\u001b[1;33m.\u001b[0m\u001b[0minplace\u001b[0m\u001b[1;33m)\u001b[0m\u001b[1;33m\u001b[0m\u001b[1;33m\u001b[0m\u001b[0m\n\u001b[0m\u001b[0;32m     59\u001b[0m \u001b[1;33m\u001b[0m\u001b[0m\n\u001b[0;32m     60\u001b[0m \u001b[1;33m\u001b[0m\u001b[0m\n",
      "\u001b[1;32m~\\Anaconda\\envs\\pytorch_env\\lib\\site-packages\\torch\\nn\\functional.py\u001b[0m in \u001b[0;36mdropout\u001b[1;34m(input, p, training, inplace)\u001b[0m\n\u001b[0;32m   1167\u001b[0m     \u001b[1;32mif\u001b[0m \u001b[0mp\u001b[0m \u001b[1;33m<\u001b[0m \u001b[1;36m0.0\u001b[0m \u001b[1;32mor\u001b[0m \u001b[0mp\u001b[0m \u001b[1;33m>\u001b[0m \u001b[1;36m1.0\u001b[0m\u001b[1;33m:\u001b[0m\u001b[1;33m\u001b[0m\u001b[1;33m\u001b[0m\u001b[0m\n\u001b[0;32m   1168\u001b[0m         \u001b[1;32mraise\u001b[0m \u001b[0mValueError\u001b[0m\u001b[1;33m(\u001b[0m\u001b[1;34m\"dropout probability has to be between 0 and 1, \"\u001b[0m \u001b[1;34m\"but got {}\"\u001b[0m\u001b[1;33m.\u001b[0m\u001b[0mformat\u001b[0m\u001b[1;33m(\u001b[0m\u001b[0mp\u001b[0m\u001b[1;33m)\u001b[0m\u001b[1;33m)\u001b[0m\u001b[1;33m\u001b[0m\u001b[1;33m\u001b[0m\u001b[0m\n\u001b[1;32m-> 1169\u001b[1;33m     \u001b[1;32mreturn\u001b[0m \u001b[0m_VF\u001b[0m\u001b[1;33m.\u001b[0m\u001b[0mdropout_\u001b[0m\u001b[1;33m(\u001b[0m\u001b[0minput\u001b[0m\u001b[1;33m,\u001b[0m \u001b[0mp\u001b[0m\u001b[1;33m,\u001b[0m \u001b[0mtraining\u001b[0m\u001b[1;33m)\u001b[0m \u001b[1;32mif\u001b[0m \u001b[0minplace\u001b[0m \u001b[1;32melse\u001b[0m \u001b[0m_VF\u001b[0m\u001b[1;33m.\u001b[0m\u001b[0mdropout\u001b[0m\u001b[1;33m(\u001b[0m\u001b[0minput\u001b[0m\u001b[1;33m,\u001b[0m \u001b[0mp\u001b[0m\u001b[1;33m,\u001b[0m \u001b[0mtraining\u001b[0m\u001b[1;33m)\u001b[0m\u001b[1;33m\u001b[0m\u001b[1;33m\u001b[0m\u001b[0m\n\u001b[0m\u001b[0;32m   1170\u001b[0m \u001b[1;33m\u001b[0m\u001b[0m\n\u001b[0;32m   1171\u001b[0m \u001b[1;33m\u001b[0m\u001b[0m\n",
      "\u001b[1;31mKeyboardInterrupt\u001b[0m: "
     ]
    }
   ],
   "source": [
    "\n",
    "set_device = torch.device(\"cuda\" if torch.cuda.is_available() else \"cpu\")\n",
    "    \n",
    "training_params = {\n",
    "        'TRAIN_BATCH_SIZE' : 32,\n",
    "        'TEST_BATCH_SIZE' : 32,\n",
    "        'LEARNING_RATE' : 0.001,\n",
    "        'OPTIMIZER': optim.Adam,\n",
    "        'NUM_EPOCHS' : 30,\n",
    "        'DROPOUT' : 0.5,\n",
    "}\n",
    "\n",
    "model = MalwareNet(input_dim=train_data[0][0].shape[0], output_dim=len(label_encodings), dropout=training_params['DROPOUT']).to(set_device)\n",
    "print(f'Network structure is: {model.parameters}')\n",
    "print(f'Total number of parameters: {sum(p.numel() for p in model.parameters())}')\n",
    "    \n",
    "criterion = nn.CrossEntropyLoss().to(set_device)\n",
    "optimizer = training_params['OPTIMIZER'](model.parameters(), lr=training_params['LEARNING_RATE'])\n",
    "with warnings.catch_warnings(record=True):\n",
    "    train_loss_history, recall_train_history,  validation_loss_history, recall_validation_history = _network_training(model, training_params, criterion, optimizer, set_device, tuning=False)\n",
    "        "
   ]
  },
  {
   "cell_type": "markdown",
   "metadata": {},
   "source": [
    "### Loss curves: Training Loss vs Validation Loss Per Epoch During Learning"
   ]
  },
  {
   "cell_type": "code",
   "execution_count": null,
   "metadata": {},
   "outputs": [],
   "source": [
    "\n",
    "df = pd.DataFrame({'Training Loss':train_loss_history, 'Validation Loss':validation_loss_history})\n",
    "df.plot(linewidth=4, alpha=0.7, figsize=(12,7), label='Loss')\n",
    "plt.xlim([0,30])\n",
    "# plt.ylim(-20,100)\n",
    "plt.title('Training Loss vs Validation Loss per Epoch', fontsize=20)\n",
    "plt.grid(axis='y', alpha=.5)\n",
    "plt.yticks(fontsize=12, alpha=.7)\n",
    "plt.xticks(fontsize=12, alpha=.7)\n",
    "plt.xlabel('Epoch', fontsize=18, alpha=.7)\n",
    "plt.ylabel('Loss Value', fontsize=18, alpha=.7)\n",
    "# Lighten borders\n",
    "plt.gca().spines[\"top\"].set_alpha(.0)\n",
    "plt.gca().spines[\"bottom\"].set_alpha(.3)\n",
    "plt.gca().spines[\"right\"].set_alpha(.0)\n",
    "plt.gca().spines[\"left\"].set_alpha(.3)\n",
    "\n",
    "plt.legend(loc='upper center')\n",
    "plt.show()\n"
   ]
  },
  {
   "cell_type": "markdown",
   "metadata": {},
   "source": [
    "### Recall curves: Training Recall vs Validation Recall Per Epoch During Learning"
   ]
  },
  {
   "cell_type": "code",
   "execution_count": null,
   "metadata": {},
   "outputs": [],
   "source": [
    "\n",
    "df = pd.DataFrame({'Training Recall':recall_train_history, 'Validation Recall':recall_validation_history})\n",
    "df.plot(linewidth=4, alpha=0.7, figsize=(12,7), label='Loss')\n",
    "plt.xlim([0,30])\n",
    "# plt.ylim(-20,100)\n",
    "plt.title('Training Recall vs Validation Recall per Epoch', fontsize=20)\n",
    "plt.grid(axis='y', alpha=.5)\n",
    "plt.yticks(fontsize=12, alpha=.7)\n",
    "plt.xticks(fontsize=12, alpha=.7)\n",
    "plt.xlabel('Epoch', fontsize=18, alpha=.7)\n",
    "plt.ylabel('Recall', fontsize=18, alpha=.7)\n",
    "# Lighten borders\n",
    "plt.gca().spines[\"top\"].set_alpha(.0)\n",
    "plt.gca().spines[\"bottom\"].set_alpha(.3)\n",
    "plt.gca().spines[\"right\"].set_alpha(.0)\n",
    "plt.gca().spines[\"left\"].set_alpha(.3)\n",
    "\n",
    "plt.legend(loc='lower center')\n",
    "plt.show()\n"
   ]
  },
  {
   "cell_type": "markdown",
   "metadata": {
    "id": "Z5w-7O5jsMi2"
   },
   "source": [
    "## 2.e. Evaluate model"
   ]
  },
  {
   "cell_type": "code",
   "execution_count": 16,
   "metadata": {
    "id": "CMbzX1h4sMi2"
   },
   "outputs": [],
   "source": [
    "def _test_model(model):\n",
    "    \n",
    "    load_model(model, \"BOW_Recall_0.8388.ckpt\")  \n",
    "    recall_test_history = list()\n",
    "\n",
    "    model.eval()\n",
    "    with torch.no_grad():\n",
    "        y_true_val, y_pred_val= list(), list()\n",
    "\n",
    "        for batch, targets, lengths in testloader:\n",
    "            ## perform forward pass  \n",
    "            batch = batch.type(torch.FloatTensor).to(set_device)\n",
    "            pred = model(batch) \n",
    "            preds = torch.max(pred, 1)[1]\n",
    "\n",
    "            ## accumulate predictions per batch for the epoch\n",
    "            y_pred_val += list([x.item() for x in preds.detach().cpu().numpy()])\n",
    "            targets = torch.LongTensor([x.item() for x in list(targets)])\n",
    "            y_true_val +=  list([x.item() for x in targets.detach().cpu().numpy()])\n",
    "\n",
    "            recall = evaluate_preds(y_true_val, y_pred_val)\n",
    "            recall_test_history.append(recall)\n",
    "\n",
    "        print(f'Testing => Recall score: {np.mean(recall_test_history)}')\n",
    "        report  = classification_report(y_true_val, y_pred_val, output_dict=True)\n",
    "        report = pd.DataFrame(report).transpose()\n",
    "        print(f'Classification Report =>\\n {report}')\n",
    "        \n",
    "        return recall_test_history, report\n"
   ]
  },
  {
   "cell_type": "code",
   "execution_count": 17,
   "metadata": {},
   "outputs": [
    {
     "name": "stdout",
     "output_type": "stream",
     "text": [
      "Testing => Recall score: 0.8441792807943312\n",
      "Classification Report =>\n",
      "               precision    recall  f1-score     support\n",
      "0              0.949622  0.838710  0.890727    899.0000\n",
      "1              0.977117  0.997664  0.987283    428.0000\n",
      "2              0.619048  0.574830  0.596120    294.0000\n",
      "3              0.600000  0.008955  0.017647    335.0000\n",
      "4              0.997110  1.000000  0.998553    345.0000\n",
      "5              0.787763  0.956286  0.863883   2585.0000\n",
      "6              0.822185  0.943698  0.878761   1563.0000\n",
      "7              0.993603  0.997859  0.995726    467.0000\n",
      "8              0.812585  0.710047  0.757864   2528.0000\n",
      "9              0.900935  0.866906  0.883593    556.0000\n",
      "accuracy       0.838800  0.838800  0.838800      0.8388\n",
      "macro avg      0.845997  0.789496  0.787016  10000.0000\n",
      "weighted avg   0.833951  0.838800  0.822779  10000.0000\n"
     ]
    }
   ],
   "source": [
    "with warnings.catch_warnings(record=True):\n",
    "    testloader = DataLoader(malware_testset, batch_size=32, shuffle=False)  \n",
    "    set_device = torch.device(\"cuda\" if torch.cuda.is_available() else \"cpu\")\n",
    "    model = MalwareNet(input_dim=train_data[0][0].shape[0], output_dim=len(label_encodings)).to(set_device)\n",
    "    recall_test_history, test_report = _test_model(model)"
   ]
  },
  {
   "cell_type": "markdown",
   "metadata": {
    "id": "U_GE1BQjsMi3"
   },
   "source": [
    "## 2.f. Save Model + Data"
   ]
  },
  {
   "cell_type": "code",
   "execution_count": null,
   "metadata": {},
   "outputs": [],
   "source": [
    "# test_scores = pd.DataFrame({f'{vectorization_method}': recall_test_history})\n",
    "# test_scores.to_csv(f'{vectorization_method}_testscores.csv')\n",
    "# test_report.to_csv(f'{vectorization_method}_classification_report.csv')"
   ]
  },
  {
   "cell_type": "code",
   "execution_count": 58,
   "metadata": {},
   "outputs": [],
   "source": [
    "# bow = pd.read_csv('BOW_testscores.csv')\n",
    "# b = bow['BOW']\n",
    "# count_vec = pd.read_csv('COUNT_VEC_testscores.csv')\n",
    "# c = count_vec['COUNT_VEC']\n",
    "# tf_idf = pd.read_csv('TF_IDF_testscores.csv')\n",
    "# t= tf_idf['TF_IDF']\n",
    "# df = pd.DataFrame({'BOW':b, 'COUNT_VEC':c, 'TF_IDF':t})\n",
    "\n",
    "# bow = pd.read_csv('BOW_classification_report.csv', index_col=False)\n",
    "# bow.rename(columns={'Unnamed: 0': 'classes'}, inplace=True)\n",
    "# count_vec = pd.read_csv('COUNT_VEC_classification_report.csv', index_col=False)\n",
    "# count_vec.rename(columns={'Unnamed: 0': 'classes'}, inplace=True)\n",
    "# tf_idf = pd.read_csv('TF_IDF_classification_report.csv', index_col=False)\n",
    "# tf_idf.rename(columns={'Unnamed: 0': 'classes'}, inplace=True)\n",
    "\n",
    "# dict_store = {'test_scores': df, 'bow': bow, 'count_vec':count_vec, 'tf_idf': tf_idf}\n",
    "\n",
    "# with open(PIK, \"wb\") as f:\n",
    "#     pickle.dump(dict_store, f)"
   ]
  },
  {
   "cell_type": "code",
   "execution_count": 60,
   "metadata": {},
   "outputs": [],
   "source": [
    "PIK = \"pickle.dat\"\n",
    "with open(PIK, \"rb\") as f:\n",
    "    all_reports = pickle.load(f)"
   ]
  },
  {
   "cell_type": "markdown",
   "metadata": {
    "id": "W-UQbfCrsMi3"
   },
   "source": [
    "---"
   ]
  },
  {
   "cell_type": "markdown",
   "metadata": {
    "id": "uLD6dur1sMi3"
   },
   "source": [
    "# 3. Analysis"
   ]
  },
  {
   "cell_type": "markdown",
   "metadata": {
    "id": "1QRKxLsPsMi3"
   },
   "source": [
    "## 3.a. Summary: Main Results\n",
    "\n",
    "Summarize your approach and results here"
   ]
  },
  {
   "cell_type": "markdown",
   "metadata": {
    "id": "dNKqJAoasMi4"
   },
   "source": [
    "## 3.b. Discussion\n",
    "\n",
    "Enter your final summary here.\n",
    "\n",
    "For instance, you can address:\n",
    "- What was the performance you obtained with the simplest approach?\n",
    "- Which vectorized input representations helped more than the others?\n",
    "- Which malwares are difficult to detect and why?\n",
    "- Which approach do you recommend to perform malware classification?"
   ]
  },
  {
   "cell_type": "code",
   "execution_count": 19,
   "metadata": {},
   "outputs": [
    {
     "data": {
      "image/png": "[encoded data removed]",
      "text/plain": [
       "<Figure size 1080x720 with 1 Axes>"
      ]
     },
     "metadata": {},
     "output_type": "display_data"
    }
   ],
   "source": [
    "dff = pd.DataFrame()\n",
    "dff['Freq'] = pd.Series(train_data[1]).value_counts().sort_index()\n",
    "dff['Malware'] = ['Virut', 'Swizzor', 'Agent', 'Patched',  'Allaple', 'Texel',  'Basun',  'AutoIt',  'NothingFound', 'VB']\n",
    "sns.set(rc={\"figure.figsize\":(15, 10)}, font_scale = 1.5)\n",
    "ax = sns.barplot(x=\"Malware\", y=\"Freq\", data=dff, saturation=.9).set(title='Frequency Count of Malware Classes')"
   ]
  },
  {
   "cell_type": "code",
   "execution_count": 20,
   "metadata": {},
   "outputs": [
    {
     "data": {
      "image/png": "[encoded data removed]",
      "text/plain": [
       "<Figure size 1080x720 with 1 Axes>"
      ]
     },
     "metadata": {},
     "output_type": "display_data"
    }
   ],
   "source": [
    "dd = pd.DataFrame([pd.Series(train_data[1]), pd.Series(train_data[2])]).T\n",
    "dd.columns = ['malware_class', 'doc']\n",
    "dd = dd.groupby(by='malware_class').mean()\n",
    "dd['Malware']= ['Virut', 'Swizzor', 'Agent', 'Patched',  'Allaple', 'Texel',  'Basun',  'AutoIt',  'NothingFound', 'VB']\n",
    "sns.set(rc={\"figure.figsize\":(15, 10)}, font_scale = 1.5)\n",
    "ax = sns.barplot(x=\"Malware\", y=\"doc\", data=dd, saturation=.9).set(title='Average Document Count of Malware Classes')"
   ]
  },
  {
   "cell_type": "code",
   "execution_count": 61,
   "metadata": {},
   "outputs": [
    {
     "data": {
      "text/plain": [
       "Text(0.5, 0, 'Batch')"
      ]
     },
     "execution_count": 61,
     "metadata": {},
     "output_type": "execute_result"
    },
    {
     "data": {
      "image/png": "[encoded data removed]",
      "text/plain": [
       "<Figure size 1080x720 with 1 Axes>"
      ]
     },
     "metadata": {},
     "output_type": "display_data"
    }
   ],
   "source": [
    "sns.set(rc={\"figure.figsize\":(15, 10)}, font_scale = 1.7)\n",
    "all_reports['test_scores'].plot().set(title='Test Scores with different approaches {BOW, COUNT_VEC, TFIDF}') \n",
    "plt.ylabel('Test Accuracy')\n",
    "plt.xlabel('Batch')"
   ]
  },
  {
   "cell_type": "code",
   "execution_count": null,
   "metadata": {},
   "outputs": [],
   "source": []
  }
 ],
 "metadata": {
  "kernelspec": {
   "display_name": "Python 3 (ipykernel)",
   "language": "python",
   "name": "python3"
  },
  "language_info": {
   "codemirror_mode": {
    "name": "ipython",
    "version": 3
   },
   "file_extension": ".py",
   "mimetype": "text/x-python",
   "name": "python",
   "nbconvert_exporter": "python",
   "pygments_lexer": "ipython3",
   "version": "3.9.7"
  }
 },
 "nbformat": 4,
 "nbformat_minor": 4
}
