{
 "cells": [
  {
   "cell_type": "code",
   "execution_count": null,
   "metadata": {},
   "outputs": [],
   "source": [
    "!mkdir data\n",
    "%cd data\n",
    "!wget https://nextcloud.mpi-klsb.mpg.de/index.php/s/pJrRGzm2So2PMZm/download -O train.tar.gz \n",
    "!tar xzf train.tar.gz\n",
    "!wget https://nextcloud.mpi-klsb.mpg.de/index.php/s/zN3yeWzQB3i5WqE/download -O test.tar.gz \n",
    "!tar xzf test.tar.gz\n",
    "%cd ..\n",
    "!wget https://raw.githubusercontent.com/shahrukhx01/ocr-test/main/application_vocab_5521.pkl"
   ]
  },
  {
   "cell_type": "markdown",
   "metadata": {
    "id": "qKo3S_fOsMim"
   },
   "source": [
    "# ML in Cybersecurity: Task 3\n",
    "\n",
    "## Team\n",
    "  * **Team name**:  *R2D2C3P0BB8*\n",
    "  * **Members**:  <br/> **Navdeeppal Singh (s8nlsing@stud.uni-saarland.de)** <br/> **Shahrukh Khan (shkh00001@stud.uni-saarland.de)** <br/> **Mahnoor Shahid (mash00001@stud.uni-saarland.de)**\n",
    "\n",
    "\n",
    "## Logistics\n",
    "  * **Due date**: 9th December 2021, 23:59:59\n",
    "  * Email the completed notebook to: `mlcysec_ws2022_staff@lists.cispa.saarland`\n",
    "  * Complete this in **teams of 3**\n",
    "  * Feel free to use the forum to discuss.\n",
    "  \n",
    "## Timeline\n",
    "  * 26-Nov-2021: hand-out\n",
    "  * **09-Dec-2021**: Email completed notebook\n",
    "  \n",
    "  \n",
    "## About this Project\n",
    "In this project, you will explore an application of ML to a popular task in cybersecurity: malware classification.\n",
    "You will be presented with precomputed behaviour analysis reports of thousands of program binaries, many of which are malwares.\n",
    "Your goal is to train a malware detector using this behavioural reports.\n",
    "\n",
    "\n",
    "## A Note on Grading\n",
    "The grading for this project will depend on:\n",
    " 1. Vectorizing Inputs\n",
    "   * Obtaining a reasonable vectorized representations of the input data (a file containing a sequence of system calls)\n",
    "   * Understanding the influence these representations have on your model\n",
    " 1. Classification Model  \n",
    "   * Following a clear ML pipeline\n",
    "   * Obtaining reasonable performances (>60\\%) on held-out test set\n",
    "   * Choice of evaluation metric\n",
    "   * Visualizing loss/accuracy curves\n",
    " 1. Analysis\n",
    "   * Which methods (input representations/ML models) work better than the rest and why?\n",
    "   * Which hyper-parameters and design-choices were important in each of your methods?\n",
    "   * Quantifying influence of these hyper-parameters on loss and/or validation accuracies\n",
    "   * Trade-offs between methods, hyper-parameters, design-choices\n",
    "   * Anything else you find interesting (this part is open-ended)\n",
    "\n",
    "\n",
    "## Grading Details\n",
    " * 40 points: Vectorizing input data (each input = behaviour analysis file in our case)\n",
    " * 40 points: Training a classification model\n",
    " * 15 points: Analysis/Discussion\n",
    " * 5 points: Clean code\n",
    " \n",
    "## Filling-in the Notebook\n",
    "You'll be submitting this very notebook that is filled-in with your code and analysis. Make sure you submit one that has been previously executed in-order. (So that results/graphs are already visible upon opening it). \n",
    "\n",
    "The notebook you submit **should compile** (or should be self-contained and sufficiently commented). Check tutorial 1 on how to set up the Python3 environment.\n",
    "\n",
    "\n",
    "**The notebook is your project report. So, to make the report readable, omit code for techniques/models/things that did not work. You can use the final summary to provide a report about these.**\n",
    "\n",
    "It is extremely important that you **do not** re-order the existing sections. Apart from that, the code blocks that you need to fill-in are given by:\n",
    "```\n",
    "#\n",
    "#\n",
    "# ------- Your Code -------\n",
    "#\n",
    "#\n",
    "```\n",
    "Feel free to break this into multiple-cells. It's even better if you interleave explanations and code-blocks so that the entire notebook forms a readable \"story\".\n",
    "\n",
    "\n",
    "## Code of Honor\n",
    "We encourage discussing ideas and concepts with other students to help you learn and better understand the course content. However, the work you submit and present **must be original** and demonstrate your effort in solving the presented problems. **We will not tolerate** blatantly using existing solutions (such as from the internet), improper collaboration (e.g., sharing code or experimental data between groups) and plagiarism. If the honor code is not met, no points will be awarded.\n",
    "\n",
    " \n",
    " ## Versions\n",
    "  * v1.1: Updated deadline\n",
    "  * v1.0: Initial notebook\n",
    "  \n",
    "  ---"
   ]
  },
  {
   "cell_type": "code",
   "execution_count": 3,
   "metadata": {
    "id": "uyCiLbXbsMiq",
    "tags": []
   },
   "outputs": [
    {
     "name": "stdout",
     "output_type": "stream",
     "text": [
      "The autoreload extension is already loaded. To reload it, use:\n",
      "  %reload_ext autoreload\n"
     ]
    }
   ],
   "source": [
    "import time \n",
    " \n",
    "import numpy as np \n",
    "import matplotlib.pyplot as plt \n",
    "\n",
    "import json \n",
    "import time \n",
    "import pickle \n",
    "import sys \n",
    "import csv \n",
    "import os \n",
    "import os.path as osp \n",
    "import shutil \n",
    "import pathlib\n",
    "from pathlib import Path\n",
    "\n",
    "from IPython.display import display, HTML\n",
    " \n",
    "%matplotlib inline \n",
    "plt.rcParams['figure.figsize'] = (10.0, 8.0) # set default size of plots \n",
    "plt.rcParams['image.interpolation'] = 'nearest' \n",
    "plt.rcParams['image.cmap'] = 'gray' \n",
    " \n",
    "# for auto-reloading external modules \n",
    "# see http://stackoverflow.com/questions/1907993/autoreload-of-modules-in-ipython \n",
    "%load_ext autoreload\n",
    "%autoreload 2"
   ]
  },
  {
   "cell_type": "code",
   "execution_count": 2,
   "metadata": {
    "id": "7dHogdxRsMis",
    "tags": []
   },
   "outputs": [],
   "source": [
    "# Some suggestions of our libraries that might be helpful for this project\n",
    "from collections import Counter          # an even easier way to count\n",
    "from multiprocessing import Pool         # for multiprocessing\n",
    "from tqdm import tqdm                    # fancy progress bars\n",
    "\n",
    "# Load other libraries here.\n",
    "from sklearn.metrics import precision_score, recall_score, f1_score, accuracy_score, roc_curve\n",
    "\n",
    "import pandas as pd\n",
    "import warnings\n",
    "import seaborn as sns\n",
    "import optuna\n",
    "from optuna.visualization import plot_optimization_history, plot_parallel_coordinate, plot_param_importances, plot_slice\n",
    "# Keep it minimal! We should be easily able to reproduce your code.\n",
    "\n",
    "# We preload pytorch as an example\n",
    "import torch\n",
    "import torch.nn as nn\n",
    "import torch.nn.functional as F\n",
    "import torch.optim as optim\n",
    "from torch.utils.data import DataLoader, Dataset, TensorDataset"
   ]
  },
  {
   "cell_type": "markdown",
   "metadata": {
    "id": "oJWkh3GUsMit"
   },
   "source": [
    "# Setup\n",
    "\n",
    "  * Download the datasets: [train](https://nextcloud.mpi-klsb.mpg.de/index.php/s/pJrRGzm2So2PMZm) (128M) and [test](https://nextcloud.mpi-klsb.mpg.de/index.php/s/zN3yeWzQB3i5WqE) (92M)\n",
    "  * Unpack them under `./data/train` and `./data/test`\n",
    "  * Hint: you can execute shell scripts from notebooks using the `!` prefix, e.g., `! wget <url>`"
   ]
  },
  {
   "cell_type": "code",
   "execution_count": 4,
   "metadata": {
    "id": "wlhs4w44sMit"
   },
   "outputs": [
    {
     "name": "stdout",
     "output_type": "stream",
     "text": [
      "# train examples (Should be 13682) :  13682\n",
      "# test examples (Should be 13682) :  10000\n"
     ]
    }
   ],
   "source": [
    "# Check that you are prepared with the data\n",
    "try:\n",
    "    print(f\"# train examples (Should be 13682) : \", len(os.listdir('./data/train')))\n",
    "    print(f\"# test examples (Should be 13682) : \", len(os.listdir('./data/test')))\n",
    "\n",
    "except Exception as e:\n",
    "    print(\"You don't have the data!\")\n",
    "# ! printf '# train examples (Should be 13682) : '; ls data/train | wc -l\n",
    "# ! printf '# test  examples (Should be 10000) : '; ls data/test | wc -l"
   ]
  },
  {
   "cell_type": "markdown",
   "metadata": {
    "id": "Zh1-JHNIsMiv"
   },
   "source": [
    "Now that you're set, let's briefly look at the data you have been handed.\n",
    "Each file encodes the behavior report of a program (potentially a malware), using an encoding scheme called \"The Malware Instruction Set\" (MIST for short).\n",
    "At this point, we highly recommend you briefly read-up Sec. 2 of the [MIST](http://www.mlsec.org/malheur/docs/mist-tr.pdf) documentation.\n",
    "\n",
    "You will find each file named as `filename.<malwarename>`:\n",
    "```\n",
    "» ls data/train | head\n",
    "00005ecc06ae3e489042e979717bb1455f17ac9d.NothingFound\n",
    "0008e3d188483aeae0de62d8d3a1479bd63ed8c9.Basun\n",
    "000d2eea77ee037b7ef99586eb2f1433991baca9.Patched\n",
    "000d996fa8f3c83c1c5568687bb3883a543ec874.Basun\n",
    "0010f78d3ffee61101068a0722e09a98959a5f2c.Basun\n",
    "0013cd0a8febd88bfc4333e20486bd1a9816fcbf.Basun\n",
    "0014aca72eb88a7f20fce5a4e000c1f7fff4958a.Texel\n",
    "001ffc75f24a0ae63a7033a01b8152ba371f6154.Texel\n",
    "0022d6ba67d556b931e3ab26abcd7490393703c4.Basun\n",
    "0028c307a125cf0fdc97d7a1ffce118c6e560a70.Swizzor\n",
    "...\n",
    "```\n",
    "and within each file, you will see a sequence of individual systems calls monitored duing the run-time of the binary - a malware named 'Basun' in the case:\n",
    "```\n",
    "» head data/train/000d996fa8f3c83c1c5568687bb3883a543ec874.Basun\n",
    "# process 000006c8 0000066a 022c82f4 00000000 thread 0001 #\n",
    "02 01 | 000006c8 0000066a 00015000\n",
    "02 02 | 00006b2c 047c8042 000b9000\n",
    "02 02 | 00006b2c 047c8042 00108000\n",
    "02 02 | 00006b2c 047c8042 00153000\n",
    "02 02 | 00006b2c 047c8042 00091000\n",
    "02 02 | 00006b2c 047c8042 00049000\n",
    "02 02 | 00006b2c 047c8042 000aa000\n",
    "02 02 | 00006b2c 047c8042 00092000\n",
    "02 02 | 00006b2c 047c8042 00011000\n",
    "...\n",
    "```\n",
    "(**Note**: Please ignore the first line that begins with `# process ...`.)\n",
    "\n",
    "Your task in this project is to train a malware detector, which given the sequence of system calls (in the MIST-formatted file like above), predicts one of 10 classes: `{ Agent, Allaple, AutoIt, Basun, NothingFound, Patched, Swizzor, Texel, VB, Virut }`, where `NothingFound` roughly represents no malware is present.\n",
    "In terms of machine learning terminology, your malware detector $F: X \\rightarrow Y$ should learn a mapping from the MIST-encoded behaviour report (the input $x \\in X$) to the malware class $y \\in Y$.\n",
    "\n",
    "Consequently, you will primarily tackle two challenges in this project:\n",
    "  1. \"Vectorizing\" the input data i.e., representing each input (file) as a tensor\n",
    "  1. Training an ML model\n",
    "  \n",
    "\n",
    "### Some tips:\n",
    "  * Begin with an extremely simple representation/ML model and get above chance-level classification performance\n",
    "  * Choose your evaluation metric wisely\n",
    "  * Save intermediate computations (e.g., a token to index mapping). This will avoid you parsing the entire dataset for every experiment\n",
    "  * Try using `multiprocessing.Pool` to parallelize your `for` loops"
   ]
  },
  {
   "cell_type": "markdown",
   "metadata": {
    "id": "p8xloR8dsMiv"
   },
   "source": [
    "---"
   ]
  },
  {
   "cell_type": "markdown",
   "metadata": {
    "id": "vXnyDAdbsMiw"
   },
   "source": [
    "# 1. Vectorize Data"
   ]
  },
  {
   "cell_type": "markdown",
   "metadata": {
    "id": "Ia-xFIQtsMiw"
   },
   "source": [
    "## 1.a. Load Raw Data\n",
    "## => We converted list of list lines to string to save memory in order to load entire dataset"
   ]
  },
  {
   "cell_type": "code",
   "execution_count": 5,
   "metadata": {
    "id": "7BSUdq_-sMiw",
    "scrolled": true
   },
   "outputs": [],
   "source": [
    "train_path = './data/train'\n",
    "test_path = './data/test'\n",
    "n_workers = 10\n",
    "project_mode = 'trainval'    # trainval, traintest, debug, eval\n",
    "np.random.seed(123) "
   ]
  },
  {
   "cell_type": "code",
   "execution_count": 8,
   "metadata": {
    "id": "ZScY-C2IsMiw",
    "tags": []
   },
   "outputs": [],
   "source": [
    "def load_content(filepath):\n",
    "    '''Given a filepath, returns (content, classname), where content = [list of lines in file]'''\n",
    "    ## load file content\n",
    "    file = open(filepath, \"r\")\n",
    "    file_lines = file.read()\n",
    "    ## here converted list of list lines to string to save memory in order to load entire dataset\n",
    "    lines = \"\\n\".join(file_lines.splitlines())\n",
    "    file.close()\n",
    "\n",
    "    ## extracting label\n",
    "    label = filepath.split(\".\")[-1]\n",
    "    return lines, label\n",
    "\n",
    "\n",
    "def load_data(data_path, nworkers=10):\n",
    "    '''Returns each data sample as a tuple (x, y), x = sequence of strings (i.e., syscalls), y = malware program class'''\n",
    "    raw_data_samples = []\n",
    "    \n",
    "    file_paths = [f\"{data_path}/{filename}\" for filename in os.listdir(data_path)]\n",
    "    pool = Pool(processes=nworkers)\n",
    " \n",
    "    raw_data_samples = pool.map(load_content, file_paths)\n",
    "    return raw_data_samples\n",
    "\n",
    "def pickle_file(out_path, file_content):\n",
    "    with open(out_path, 'wb') as wf:\n",
    "        pickle.dump(file_content, wf)\n",
    "        \n",
    "def unpickle_file(in_path):\n",
    "    return pickle.load(open(in_path, \"rb\"))"
   ]
  },
  {
   "cell_type": "code",
   "execution_count": null,
   "metadata": {
    "id": "GG6tcSNJsMiw"
   },
   "outputs": [],
   "source": [
    "## in trainval mode we use test_raw_samples variable to hold validation dataset\n",
    "train_raw_samples, test_raw_samples = [], []\n",
    " \n",
    "if project_mode == 'trainval':\n",
    "    print('=> Loading training data ... ')\n",
    "    train_raw_samples = load_data(Path(train_path), nworkers=n_workers)\n",
    "    # To perform the same split across multiple runs\n",
    "    np.random.seed(123)          \n",
    "    # Split data into train and validation set\n",
    "    np.random.shuffle(train_raw_samples)\n",
    "    train_raw_samples, test_raw_samples = train_raw_samples[:int(len(train_raw_samples)*0.8)], train_raw_samples[int(len(train_raw_samples)*0.8):]\n",
    "\n",
    "elif project_mode == 'traintest':\n",
    "    ## loading train and test set\n",
    "    print('=> Loading training data ... ')\n",
    "    train_raw_samples = load_data(Path(train_path), nworkers=n_workers)\n",
    "    print('=> Loading testing data ... ')\n",
    "    test_raw_samples = load_data(Path(test_path), nworkers=n_workers)\n",
    "    \n",
    "elif project_mode == 'debug':\n",
    "    # Optional, use a small subset of the training and validation data for fast debugging\n",
    "    print('=> Loading training data ... ')\n",
    "    train_raw_samples = load_data(Path(train_path), nworkers=n_workers)[:100]\n",
    "    print('=> Loading testing data ... ')\n",
    "    test_raw_samples = load_data(Path(test_path), nworkers=n_workers)[:100]\n",
    "\n",
    "else:\n",
    "    raise ValueError('Unrecognized mode')\n",
    "    \n",
    "print('=> # Train samples = ', len(train_raw_samples))\n",
    "print('=> # Test  samples = ', len(test_raw_samples))"
   ]
  },
  {
   "cell_type": "markdown",
   "metadata": {
    "id": "GjiNiOVHsMiy"
   },
   "source": [
    "## 1.b. Vectorize: Setup\n",
    "\n",
    "Make one pass over the inputs to identify relevant features/tokens.\n",
    "\n",
    "Suggestion:\n",
    "  - identify tokens (e.g., unigrams, bigrams)\n",
    "  - create a token -> index (int) mapping. Note that you might have a >10K unique tokens. So, you will have to choose a suitable \"vocabulary\" size."
   ]
  },
  {
   "cell_type": "code",
   "execution_count": 6,
   "metadata": {
    "id": "DAtmzL6PsMiy"
   },
   "outputs": [],
   "source": [
    "# Feel free to edit anything in this block\n",
    "\n",
    "def get_key_idx_map(counter, vocab_size, ukn_token='_ukn_'):\n",
    "    \"\"\"counter is a mapping: token -> count\n",
    "    build vectorizer using vocab_size most common elements\"\"\"\n",
    "    key_to_idx, idx_to_key = dict(), dict()\n",
    "    \n",
    "    for idx, (key, value) in tqdm(enumerate(list(train_counter.items())[:vocab_size-1])):\n",
    "        ## perform mapping for token\n",
    "        key_to_idx[key] = idx\n",
    "        idx_to_key[idx] = key\n",
    "    ## perform mapping for unk token at the end\n",
    "    key_to_idx[ukn_token] = vocab_size - 1\n",
    "    idx_to_key[vocab_size - 1] = ukn_token\n",
    "    \n",
    "    return key_to_idx, idx_to_key\n",
    "\n",
    "def preprocess(data):\n",
    "    \"\"\"concatenating all sys calls to single string for tokenization\n",
    "    removing extraneous information such as lines with '# process', white spaces and '|' characters\"\"\"\n",
    "    for i, (X,y) in enumerate(tqdm(data)):\n",
    "        example = \"\"\n",
    "        for line in X.split(\"\\n\"):\n",
    "            ## skip lines containing '# process'\n",
    "            if \"# process\" in line:\n",
    "                continue\n",
    "            ## remove extraneous white spaces and \n",
    "            example += line.replace(\"|\",\"\").replace(\"  \", \" \").strip() + \" \"\n",
    "        example = example.strip()\n",
    "        ## assign preprocessed sample\n",
    "        data[i] = (example, y)\n",
    "    return data\n",
    "        \n",
    "def count_words(data):\n",
    "    \"\"\"\n",
    "    count token occurences for building vocabulary later\n",
    "    \"\"\"\n",
    "    counter = {}\n",
    "    for X,y in tqdm(data):\n",
    "        counts = dict(Counter(X.split()))\n",
    "        counter = dict(counter, **counts)\n",
    "    return counter"
   ]
  },
  {
   "cell_type": "code",
   "execution_count": null,
   "metadata": {},
   "outputs": [],
   "source": [
    "\"\"\"\n",
    "Preprocessing both train and test set and\n",
    "Creating token counter for building vocabulary on train set\n",
    "\"\"\"\n",
    "train_raw_samples = preprocess(train_raw_samples)\n",
    "train_counter = count_words(train_raw_samples)\n",
    "test_raw_samples = preprocess(test_raw_samples)"
   ]
  },
  {
   "cell_type": "code",
   "execution_count": null,
   "metadata": {},
   "outputs": [],
   "source": [
    "## Code for finding appropriate threshold for setting `MAX_VOCAB_SIZE`\n",
    "def choose_vocab_size(min_frequency_threshold=10):\n",
    "    count = 0\n",
    "    for value,key in sorted([(value,key) for (key,value) in train_counter.items()], reverse=True):\n",
    "        if value > min_frequency_threshold:\n",
    "            count+=1\n",
    "    print(f\"Number of tokens are {count} for min. frequency threshold={min_frequency_threshold}\")\n",
    "#choose_vocab_size(10)"
   ]
  },
  {
   "cell_type": "code",
   "execution_count": null,
   "metadata": {},
   "outputs": [],
   "source": [
    "## sorting the counters wrt to count values in decending order\n",
    "train_counter = {key:value for value, key in  sorted([(value,key) for (key,value) in train_counter.items()], reverse=True)}"
   ]
  },
  {
   "cell_type": "code",
   "execution_count": 9,
   "metadata": {
    "id": "LSMEAcgvsMiy",
    "tags": []
   },
   "outputs": [],
   "source": [
    "# Feel free to edit anything in this block\n",
    "## By keeping a minimum count threshold of 10 we get 5520 most frequent tokens in train dataset\n",
    "## adding one to MAX_VOCAB_SIZE for _ukn_ token\n",
    "MAX_VOCAB_SIZE = 5520 + 1\n",
    "token_to_idx, idx_to_token = {}, {}\n",
    "# Path for vocab for saving and loading\n",
    "vocab_path = 'application_vocab_{}.pkl'.format(MAX_VOCAB_SIZE)\n",
    "\n",
    "## check if vocab already exists on file system otherwise create one\n",
    "if os.path.isfile(vocab_path):\n",
    "    token_to_idx, idx_to_token = unpickle_file(vocab_path)['token_to_idx'], unpickle_file(vocab_path)['idx_to_token']\n",
    "    \n",
    "else:\n",
    "    token_to_idx, idx_to_token = get_key_idx_map(train_counter, MAX_VOCAB_SIZE)\n",
    "    with open(vocab_path, 'wb') as wf:\n",
    "        dct = {'token_to_idx': token_to_idx,\n",
    "              'idx_to_token': idx_to_token}\n",
    "        pickle.dump(dct, wf)"
   ]
  },
  {
   "cell_type": "markdown",
   "metadata": {
    "id": "QUefzVjFsMiy"
   },
   "source": [
    "## 1.c. Vectorize Data\n",
    "\n",
    "Use the (token $\\rightarrow$ index) mapping you created before to vectorize your data"
   ]
  },
  {
   "cell_type": "code",
   "execution_count": 10,
   "metadata": {
    "id": "ffJJ0XOvsMiz"
   },
   "outputs": [],
   "source": [
    "def sample_to_idx(sample):\n",
    "    \"\"\"\n",
    "    Maps each document's tokens to their ids in the vocabulary\n",
    "    \"\"\"\n",
    "    idx_sample = []\n",
    "    for token in sample.split(' '):\n",
    "        if token not in token_to_idx:\n",
    "                token = '_ukn_'\n",
    "        idx_sample.append(token_to_idx[token])\n",
    "    return idx_sample\n",
    "\n",
    "\n",
    "## define mapping for labels\n",
    "label_encodings = {'Virut': 0,\n",
    " 'Swizzor': 1,\n",
    " 'Agent': 2,\n",
    " 'Patched': 3,\n",
    " 'Allaple': 4,\n",
    " 'Texel': 5,\n",
    " 'Basun': 6,\n",
    " 'AutoIt': 7,\n",
    " 'NothingFound': 8,\n",
    " 'VB': 9}"
   ]
  },
  {
   "cell_type": "code",
   "execution_count": 11,
   "metadata": {
    "id": "CD5IqJmXsMiz"
   },
   "outputs": [],
   "source": [
    "def vectorize_raw_samples_bow(raw_samples, vocab_length, nworkers=10):\n",
    "    \"\"\"\n",
    "    BAG-OF-WORDS Vectorizer which vectorizes examples by adding '1' for\n",
    "    term i occuring in document j, hence producing a vector for each document\n",
    "    raw_samples: List of documents to vectorize\n",
    "    vocab_length: Size of the vocabulary\n",
    "    \"\"\"\n",
    "    vectorized_samples = []\n",
    "    labels = []\n",
    "    lengths = []\n",
    "    try:\n",
    "        for idx, (X,y) in tqdm(enumerate(raw_samples)):\n",
    "            vectorized_sample = []\n",
    "            ## map labeks to ids\n",
    "            label = label_encodings[y]\n",
    "            ## map tokens to ids\n",
    "            X_idx = sample_to_idx(X)\n",
    "\n",
    "            ## initializing placeholder vector with unknown tokens equivalent to max_length\n",
    "            vector_sample = [0] * vocab_length\n",
    "\n",
    "            ## creating Bag of Words Vectors \n",
    "            for index, val in enumerate(set(X_idx)):\n",
    "                vector_sample[val] = 1\n",
    "            sequence_length = len(X_idx)\n",
    "\n",
    "            ## append sample to respective lists\n",
    "            vectorized_samples.append(vector_sample)\n",
    "            labels.append(label)\n",
    "            lengths.append(sequence_length)\n",
    "    except:\n",
    "        pass\n",
    "            \n",
    "    return (torch.DoubleTensor(vectorized_samples), torch.LongTensor(labels), torch.LongTensor(lengths))\n",
    "\n",
    "\n",
    "\n",
    "def vectorize_raw_samples_count_vectorizer(raw_samples, vocab_length, nworkers=10):\n",
    "    \"\"\" \n",
    "    Count Vectorizer is similar to BAG-OF-WORDS Vectorizer, however this vectorizer places 'counts/frequency' for\n",
    "    term i occuring in document j, hence producing a vector for each document\n",
    "    raw_samples: List of documents to vectorize\n",
    "    vocab_length: Size of the vocabulary\n",
    "    \"\"\"\n",
    "    vectorized_samples = []\n",
    "    labels = []\n",
    "    lengths = []\n",
    "    try:\n",
    "        for idx, (X,y) in tqdm(enumerate(raw_samples)):\n",
    "            vectorized_sample = []\n",
    "            ## map labeks to ids\n",
    "            label = label_encodings[y]\n",
    "            ## map tokens to ids\n",
    "            X_idx = sample_to_idx(X)\n",
    "\n",
    "            ## initializing placeholder vector with unknown tokens equivalent to max_length\n",
    "            vector_sample = [0] * vocab_length\n",
    "            ## compute counts\n",
    "            counts = dict(Counter(X_idx))\n",
    "            ## creating Count Vectors \n",
    "            for index, (key, val) in enumerate(counts.items()):\n",
    "                vector_sample[key] = val\n",
    "            sequence_length = len(X_idx)\n",
    "\n",
    "            ## append sample to respective lists\n",
    "            vectorized_samples.append(vector_sample)\n",
    "            labels.append(label)\n",
    "            lengths.append(sequence_length)\n",
    "    except:\n",
    "        pass\n",
    "    \n",
    "    return (torch.DoubleTensor(vectorized_samples), torch.LongTensor(labels), torch.LongTensor(lengths))\n",
    "\n",
    "\n",
    "\n",
    "def vectorize_raw_samples_tfidf(raw_samples, vocab_length, nworkers=10):\n",
    "    \"\"\" \n",
    "    TF-IDF Vectorizer vectorizes examples computing term frequencies and inverse document\n",
    "    for freqyencies for term i occuring in document j, hence producing a vector for each document\n",
    "    raw_samples: List of documents to vectorize\n",
    "    vocab_length: Size of the vocabulary\n",
    "    \"\"\"\n",
    "    labels = []\n",
    "    lengths = []\n",
    "    tf_samples = [] ## term frequency vector for each sample\n",
    "    tf_idf = np.zeros(shape=(len(raw_samples), vocab_length))\n",
    "    try:\n",
    "        for idx, (X,y) in tqdm(enumerate(raw_samples)):\n",
    "            vectorized_sample = []\n",
    "            ## map labeks to ids\n",
    "            label = label_encodings[y]\n",
    "            ## map tokens to ids\n",
    "            X_idx = sample_to_idx(X)\n",
    "\n",
    "            ## initializing placeholder vector with unknown tokens equivalent to max_length\n",
    "            vector_sample = [0] * vocab_length\n",
    "            ## compute counts\n",
    "            counts = dict(Counter(X_idx))\n",
    "            ## creating Count Vectors \n",
    "            for index, (key, val) in enumerate(counts.items()):\n",
    "                vector_sample[key] = val\n",
    "            sequence_length = len(X_idx)\n",
    "            ## compute term frequencies 'tf => # of times term in the doc / total words in the doc'\n",
    "            term_frequencies = np.array(vector_sample) / sequence_length\n",
    "            ## append sample to respective lists\n",
    "            labels.append(label)\n",
    "            lengths.append(sequence_length)\n",
    "            tf_samples.append(term_frequencies)\n",
    "\n",
    "        # compute idf\n",
    "        # 1. computing BOW matrix \n",
    "        bow = np.zeros(shape=(len(raw_samples), vocab_length))\n",
    "        for i in range(len(tf_samples)):\n",
    "            for j in range(vocab_length):\n",
    "                if tf_samples[i][j] > 0:\n",
    "                    bow[i,j] = 1\n",
    "        # 2, compute idf scores 'idf(t) => log( ((1 + # of docs)/ # of docs with term t + 1) + 1 ) '\n",
    "        idf = [np.log(((1+len(raw_samples))/(1+sum(bow[:, i])))+1) for i in range(vocab_length)]\n",
    "\n",
    "        # compute tf-idf => tf * idf\n",
    "        tf = np.array(tf_samples)\n",
    "\n",
    "        for i in range(vocab_length):\n",
    "            tf_idf[:, i] = tf[:, i] * idf[i]\n",
    "    except:\n",
    "        pass\n",
    "    \n",
    "    return (torch.DoubleTensor(tf_idf), torch.LongTensor(labels), torch.LongTensor(lengths))"
   ]
  },
  {
   "cell_type": "code",
   "execution_count": 12,
   "metadata": {
    "id": "BtS10ASbsMi0",
    "scrolled": true,
    "tags": []
   },
   "outputs": [],
   "source": [
    "## select vectorization_method from {'BOW','COUNT_VEC', 'TF_IDF'}\n",
    "vectorization_method = \"BOW\" \n",
    "train_data, test_data = None, None\n",
    "load_pre_computed_vectors = True  ##load vector pickles files from disk if set True\n",
    "\n",
    "def perform_vectorization():\n",
    "    '''\n",
    "    '''\n",
    "    if vectorization_method == \"BOW\":\n",
    "        print(f'=> {vectorization_method} Processing: Train')\n",
    "        train_data = vectorize_raw_samples_bow(train_raw_samples, vocab_length=MAX_VOCAB_SIZE)\n",
    "        print()\n",
    "        print(f'=> {vectorization_method} Processing: Test')\n",
    "        test_data = vectorize_raw_samples_bow(test_raw_samples, vocab_length=MAX_VOCAB_SIZE)\n",
    "\n",
    "    elif vectorization_method == \"COUNT_VEC\":\n",
    "        print(f'=> {vectorization_method} Processing: Train')\n",
    "        train_data = vectorize_raw_samples_count_vectorizer(train_raw_samples, vocab_length=MAX_VOCAB_SIZE)\n",
    "        print()\n",
    "        print(f'=> {vectorization_method} Processing: Test')\n",
    "        test_data = vectorize_raw_samples_count_vectorizer(test_raw_samples, vocab_length=MAX_VOCAB_SIZE)\n",
    "\n",
    "    elif vectorization_method == \"TF_IDF\":\n",
    "        print(f'=> {vectorization_method} Processing: Train')\n",
    "        train_data = vectorize_raw_samples_tfidf(train_raw_samples, vocab_length=MAX_VOCAB_SIZE)\n",
    "        print()\n",
    "        print(f'=> {vectorization_method} Processing: Test')\n",
    "        test_data = vectorize_raw_samples_tfidf(test_raw_samples, vocab_length=MAX_VOCAB_SIZE)\n",
    "    else:\n",
    "        print(\"Please choose one of the following vectorization method: {'BOW','COUNT_VEC', 'TF_IDF'}\")\n",
    "        "
   ]
  },
  {
   "cell_type": "code",
   "execution_count": 94,
   "metadata": {
    "tags": []
   },
   "outputs": [],
   "source": [
    "if load_pre_computed_vectors:\n",
    "    if project_mode == 'trainval':\n",
    "        train_data = unpickle_file(f'train_v5521_{vectorization_method}.pkl')  \n",
    "        test_data = unpickle_file(f'val_v5521_{vectorization_method}.pkl')\n",
    "    elif project_mode == 'traintest':\n",
    "        train_data = unpickle_file(f'train_v5521_{vectorization_method}.pkl')  \n",
    "        test_data = unpickle_file(f'test_v5521_{vectorization_method}.pkl')    \n",
    "    else:\n",
    "        print(\"Please choose one of the following project modes: {'trainval','traintest', 'eval'}\")\n",
    "else:\n",
    "    perform_vectorization()    "
   ]
  },
  {
   "cell_type": "code",
   "execution_count": 95,
   "metadata": {
    "id": "0XOHr24usMi0"
   },
   "outputs": [],
   "source": [
    "\n",
    "# Suggestions: \n",
    "#\n",
    "# (a) You can use torch.utils.data.TensorDataset to represent the tensors you created previously\n",
    "# trainset = TensorDataset(train_x, train_y)\n",
    "# testset = TensorDataset(test_x, test_y)\n",
    "#\n",
    "# (b) Store your datasets to disk so that you do not need to precompute it every time\n",
    "\n",
    "\"\"\"\n",
    "Standard Pytorch Dataset class for loading datasets.\n",
    "\"\"\"\n",
    "class MalwareDataset(Dataset):\n",
    "\n",
    "    def __init__(self, data_tensor, target_tensor, length_tensor):\n",
    "        \"\"\"\n",
    "        initializes  and populates the the length, data and target tensors, and raw texts list\n",
    "        \"\"\"\n",
    "        assert data_tensor.size(0) == target_tensor.size(0) == length_tensor.size(0)\n",
    "        self.data_tensor = data_tensor\n",
    "        self.target_tensor = target_tensor\n",
    "        self.length_tensor = length_tensor\n",
    "\n",
    "    def __getitem__(self, index):\n",
    "        \"\"\"\n",
    "        returns the tuple of data tensor, targets, lengths of sequences tensor\n",
    "        \"\"\"\n",
    "        return self.data_tensor[index], self.target_tensor[index], self.length_tensor[index]\n",
    "\n",
    "    def __len__(self):\n",
    "        \"\"\"\n",
    "        returns the length of the data tensor.\n",
    "        \"\"\"\n",
    "        return self.data_tensor.size(0)\n",
    "\n",
    "## instantiate train and test datasets\n",
    "malware_testset = MalwareDataset(test_data[0], test_data[1], test_data[2])\n",
    "malware_trainset = MalwareDataset(train_data[0], train_data[1], train_data[2])"
   ]
  },
  {
   "cell_type": "markdown",
   "metadata": {
    "id": "_l0tLsEVsMi0"
   },
   "source": [
    "# 2. Train Model\n",
    "\n",
    "You will now train an ML model on the vectorized datasets you created previously.\n",
    "\n",
    "_Note_: Although we often refer to each input as a 'vector' for simplicity, each of your inputs can also be higher dimensional tensors."
   ]
  },
  {
   "cell_type": "markdown",
   "metadata": {
    "id": "UInY1YzksMi0"
   },
   "source": [
    "## 2.a. Helpers"
   ]
  },
  {
   "cell_type": "code",
   "execution_count": 42,
   "metadata": {
    "id": "VnSv0J75sMi0"
   },
   "outputs": [],
   "source": [
    "# Feel free to edit anything in this block\n",
    "## temporarily upload files to cloud for moving them around: !curl --upload-file ./train_v5700_l2000.pkl https://transfer.sh/train_v5700_l2000.pkl\n",
    "\n",
    "def evaluate_preds(y_gt, y_pred):\n",
    "    recall = recall_score(y_gt, y_pred, average='micro')\n",
    "    precision = precision_score(y_gt, y_pred, average='micro')\n",
    "    accuracy = accuracy_score(y_gt, y_pred)\n",
    "    f1 = f1_score(y_gt, y_pred, average='micro')\n",
    "    return recall, precision, accuracy, f1\n",
    "\n",
    "def another_helper(question):\n",
    "    return 42\n",
    "\n",
    "def save_model(model, out_path):\n",
    "    pass"
   ]
  },
  {
   "cell_type": "markdown",
   "metadata": {
    "id": "PhbVzVLDsMi1"
   },
   "source": [
    "## 2.b. Define Model"
   ]
  },
  {
   "cell_type": "markdown",
   "metadata": {
    "id": "jrUKCNRgsMi1"
   },
   "source": [
    "Describe your model here."
   ]
  },
  {
   "cell_type": "code",
   "execution_count": 21,
   "metadata": {
    "id": "ILB2fBRWsMi1"
   },
   "outputs": [],
   "source": [
    "# Feel free to edit anything in this block\n",
    "\n",
    "class MalwareNet(nn.Module):\n",
    "    \"\"\"\n",
    "        This class is created to specify the Neural Network on which vectorized datasets we have created previously \n",
    "        is trained on, validated and later tested. \n",
    "        It consist of one input layer, one output layer and multiple hidden layers.\n",
    "        ...        \n",
    "    \"\"\"\n",
    "    def __init__(self, input_dim, output_dim):\n",
    "        super(MalwareNet, self).__init__()\n",
    "        # Layer definitions\n",
    "        self.layers = nn.Sequential(\n",
    "            nn.Linear(input_dim, 1024),\n",
    "            nn.ReLU(),\n",
    "            nn.Linear(1024, 512),\n",
    "            nn.ReLU(),\n",
    "             nn.Linear(512, 256),\n",
    "            nn.ReLU(),\n",
    "             nn.Linear(256, 128),\n",
    "            nn.ReLU(),\n",
    "            nn.Linear(128, output_dim)\n",
    "        )\n",
    "\n",
    "    def forward(self, x):\n",
    "        # Forward pass\n",
    "        return self.layers(x)\n",
    "            "
   ]
  },
  {
   "cell_type": "code",
   "execution_count": 43,
   "metadata": {},
   "outputs": [],
   "source": [
    "def _network_training(model, hyper_paramaters, criterion, optimizer, set_device, tuning=False):\n",
    "    '''\n",
    "    training the network given the hyperparameters, crtierion and optimizer\n",
    "    '''\n",
    "    best_accuracy = 0\n",
    "    train_loss_history, recall_train_history, f1_train_history, accuracy_train_history, precision_train_history = list(), list(), list(), list(), list()\n",
    "    validation_loss_history, recall_validation_history, f1_validation_history, accuracy_validation_history, precision_validation_history = list(), list(), list(), list(), list()\n",
    "\n",
    "    for epoch in range(0, hyper_paramaters['NUM_EPOCHS']):\n",
    "        model.train()\n",
    "        train_loss_scores = []\n",
    "        training_acc_scores = []\n",
    "        y_pred, y_true= list(), list()\n",
    "\n",
    "        for batch, targets, lengths in trainloader:\n",
    "            \n",
    "            ## perform forward pass  \n",
    "            batch = batch.type(torch.FloatTensor).to(set_device)\n",
    "            pred = model(batch) \n",
    "            preds = torch.max(pred, 1)[1]\n",
    "\n",
    "            ## accumulate predictions per batch for the epoch\n",
    "            y_pred += list([x.item() for x in preds.detach().cpu().numpy()])\n",
    "            targets = torch.LongTensor([x.item() for x in list(targets)])\n",
    "            y_true +=  list([x.item() for x in targets.detach().cpu().numpy()])\n",
    "            \n",
    "            ## compute loss and perform backward pass\n",
    "            loss = criterion(pred.to(set_device), targets.to(set_device)) ## compute loss \n",
    "            optimizer.zero_grad()\n",
    "            loss.backward() \n",
    "            optimizer.step()\n",
    "\n",
    "            ## accumulate train loss\n",
    "            train_loss_scores.append(loss.item())\n",
    "        \n",
    "        ## accumulate loss, recall, f1, precision per epoch\n",
    "        train_loss_history.append((sum(train_loss_scores)/len(train_loss_scores)))\n",
    "        recall, precision, accuracy, f1 = evaluate_preds(y_true, y_pred)\n",
    "        recall_train_history.append(recall)\n",
    "        precision_train_history.append(precision)\n",
    "        accuracy_train_history.append(accuracy)\n",
    "        f1_train_history.append(f1)\n",
    "        print(f'Training =>  Epoch : {epoch+1} | Loss : {train_loss_history[-1]} | Recall score: {recall_train_history[-1]} | F1 score: {f1_train_history[-1]} | Precision score: {precision_train_history[-1]}')\n",
    "       \n",
    "        model.eval()\n",
    "        with torch.no_grad():\n",
    "            validation_loss_scores = list()\n",
    "            y_true_val, y_pred_val= list(), list()\n",
    "\n",
    "            ## perform validation pass\n",
    "            for batch, targets, lengths in testloader:\n",
    "                ## perform forward pass  \n",
    "                batch = batch.type(torch.FloatTensor).to(set_device)\n",
    "                pred = model(batch) \n",
    "                preds = torch.max(pred, 1)[1]\n",
    "\n",
    "                ## accumulate predictions per batch for the epoch\n",
    "                y_pred_val += list([x.item() for x in preds.detach().cpu().numpy()])\n",
    "                targets = torch.LongTensor([x.item() for x in list(targets)])\n",
    "                y_true_val +=  list([x.item() for x in targets.detach().cpu().numpy()])\n",
    "                \n",
    "                ## computing validate loss\n",
    "                loss = criterion(pred.to(set_device), targets.to(set_device)) ## compute loss \n",
    "\n",
    "                ## accumulate validate loss\n",
    "                validation_loss_scores.append(loss.item())\n",
    "            \n",
    "            ## accumulate loss, recall, f1, precision per epoch\n",
    "            validation_loss_history.append((sum(validation_loss_scores)/len(validation_loss_scores)))\n",
    "            recall, precision, accuracy, f1 = evaluate_preds(y_true_val, y_pred_val)\n",
    "            recall_validation_history.append(recall)\n",
    "            precision_validation_history.append(precision)\n",
    "            accuracy_validation_history.append(accuracy)\n",
    "            f1_validation_history.append(f1)\n",
    "\n",
    "            print(f'Validation =>  Epoch : {epoch+1} | Loss : {validation_loss_history[-1]} | Recall score: {recall_validation_history[-1]} | F1 score: {f1_validation_history[-1]} | Precision score: {precision_validation_history[-1]}')\n",
    "            \n",
    "            if not tuning: \n",
    "                if recall_validation_history[-1]>best_accuracy:\n",
    "                    best_accuracy = recall_validation_history[-1]\n",
    "                    print('Saving the model...')\n",
    "                    torch.save(model.state_dict(), f\"Recall_{best_accuracy}_batchsize_{hyper_paramaters['TRAIN_BATCH_SIZE']}_optim_ADAM_lr_{hyper_paramaters['LEARNING_RATE']}.ckpt\")\n",
    "\n",
    "            \n",
    "    if tuning:\n",
    "        return recall_validation_history\n",
    "        \n",
    "    \n",
    "    return train_loss_history, recall_train_history, f1_train_history, accuracy_train_history, precision_train_history, validation_loss_history, recall_validation_history, \\\n",
    "f1_validation_history, accuracy_validation_history, precision_validation_history\n",
    "\n",
    "        "
   ]
  },
  {
   "cell_type": "markdown",
   "metadata": {
    "id": "QO1yPx7YsMi1"
   },
   "source": [
    "## 2.c. Set Hyperparameters"
   ]
  },
  {
   "cell_type": "code",
   "execution_count": 23,
   "metadata": {
    "id": "0k0jLX5ksMi1"
   },
   "outputs": [
    {
     "name": "stderr",
     "output_type": "stream",
     "text": [
      "\u001b[32m[I 2021-11-30 19:35:51,530]\u001b[0m A new study created in memory with name: no-name-341bfbd3-5f4b-4d6e-89cf-746620db9623\u001b[0m\n"
     ]
    },
    {
     "name": "stdout",
     "output_type": "stream",
     "text": [
      "Training =>  Epoch : 1 | Loss : 2.2874004702235378 | Recall score: 0.09395384297147019 | F1 score: 0.04330896945905675 | Precision score: 0.028217455040007566\n",
      "Validation =>  Epoch : 1 | Loss : 2.269257246061813 | Recall score: 0.1 | F1 score: 0.038952633127390404 | Precision score: 0.02418706613080015\n",
      "Training =>  Epoch : 2 | Loss : 2.248367635316627 | Recall score: 0.1 | F1 score: 0.04089257159470853 | Precision score: 0.025701233439926908\n",
      "Validation =>  Epoch : 2 | Loss : 2.233786643937577 | Recall score: 0.1 | F1 score: 0.038952633127390404 | Precision score: 0.02418706613080015\n",
      "Training =>  Epoch : 3 | Loss : 2.214740826640018 | Recall score: 0.1 | F1 score: 0.04089257159470853 | Precision score: 0.025701233439926908\n",
      "Validation =>  Epoch : 3 | Loss : 2.2021336444588595 | Recall score: 0.1 | F1 score: 0.038952633127390404 | Precision score: 0.02418706613080015\n",
      "Training =>  Epoch : 4 | Loss : 2.1812313282212545 | Recall score: 0.1 | F1 score: 0.04089257159470853 | Precision score: 0.025701233439926908\n",
      "Validation =>  Epoch : 4 | Loss : 2.1728884952012884 | Recall score: 0.1 | F1 score: 0.038952633127390404 | Precision score: 0.02418706613080015\n"
     ]
    },
    {
     "name": "stderr",
     "output_type": "stream",
     "text": [
      "\u001b[32m[I 2021-11-30 19:35:58,800]\u001b[0m Trial 0 finished with value: 0.1 and parameters: {'TRAIN_BATCH_SIZE': 32, 'LEARNING_RATE': 0.002634800226842647, 'OPTIMIZER': 'SGD', 'NUM_EPOCHS': 5}. Best is trial 0 with value: 0.1.\u001b[0m\n"
     ]
    },
    {
     "name": "stdout",
     "output_type": "stream",
     "text": [
      "Training =>  Epoch : 5 | Loss : 2.152475979439048 | Recall score: 0.1 | F1 score: 0.04089257159470853 | Precision score: 0.025701233439926908\n",
      "Validation =>  Epoch : 5 | Loss : 2.145821222039156 | Recall score: 0.1 | F1 score: 0.038952633127390404 | Precision score: 0.02418706613080015\n",
      "Training =>  Epoch : 1 | Loss : 2.264110725979472 | Recall score: 0.10361816576871959 | F1 score: 0.0522337617973081 | Precision score: 0.03935458369020163\n",
      "Validation =>  Epoch : 1 | Loss : 2.2171017957288166 | Recall score: 0.1 | F1 score: 0.04003506721215663 | Precision score: 0.025027402265253927\n",
      "Training =>  Epoch : 2 | Loss : 2.176907483921495 | Recall score: 0.1 | F1 score: 0.039844893181153064 | Precision score: 0.024878940155322066\n",
      "Validation =>  Epoch : 2 | Loss : 2.143368504768194 | Recall score: 0.1 | F1 score: 0.04003506721215663 | Precision score: 0.025027402265253927\n",
      "Training =>  Epoch : 3 | Loss : 2.1065282918686092 | Recall score: 0.1109717892075236 | F1 score: 0.05947898714974835 | Precision score: 0.055513682668619745\n",
      "Validation =>  Epoch : 3 | Loss : 2.081362768661144 | Recall score: 0.13772487705912187 | F1 score: 0.08725565255985435 | Precision score: 0.06585266912563618\n",
      "Training =>  Epoch : 4 | Loss : 2.042071682769199 | Recall score: 0.14077617441397614 | F1 score: 0.09120361740351404 | Precision score: 0.06893408512637747\n",
      "Validation =>  Epoch : 4 | Loss : 2.020361290421597 | Recall score: 0.14032328489205462 | F1 score: 0.08961813815692488 | Precision score: 0.06740265716566671\n"
     ]
    },
    {
     "name": "stderr",
     "output_type": "stream",
     "text": [
      "\u001b[32m[I 2021-11-30 19:36:04,316]\u001b[0m Trial 1 finished with value: 0.14933314221447946 and parameters: {'TRAIN_BATCH_SIZE': 32, 'LEARNING_RATE': 0.0072975489861861415, 'OPTIMIZER': 'SGD', 'NUM_EPOCHS': 5}. Best is trial 1 with value: 0.14933314221447946.\u001b[0m\n"
     ]
    },
    {
     "name": "stdout",
     "output_type": "stream",
     "text": [
      "Training =>  Epoch : 5 | Loss : 1.965147575666738 | Recall score: 0.14616123739017173 | F1 score: 0.09978915254277604 | Precision score: 0.07613179025307408\n",
      "Validation =>  Epoch : 5 | Loss : 1.9160755983618802 | Recall score: 0.14933314221447946 | F1 score: 0.09839483625496508 | Precision score: 0.07337096675939651\n",
      "Training =>  Epoch : 1 | Loss : 0.9182000033730684 | Recall score: 0.586484808129223 | F1 score: 0.5940755497495289 | Precision score: 0.6269040360234466\n",
      "Validation =>  Epoch : 1 | Loss : 0.6262371935123621 | Recall score: 0.7243467832434917 | F1 score: 0.7249167968805452 | Precision score: 0.7527094942413548\n",
      "Training =>  Epoch : 2 | Loss : 0.6015054186762765 | Recall score: 0.724195599149213 | F1 score: 0.7206699351340756 | Precision score: 0.733653010372501\n",
      "Validation =>  Epoch : 2 | Loss : 0.5857279272966607 | Recall score: 0.7484243710243325 | F1 score: 0.7528953287178186 | Precision score: 0.7791656786912665\n",
      "Training =>  Epoch : 3 | Loss : 0.5408827678062195 | Recall score: 0.7545750855640703 | F1 score: 0.7524970849738144 | Precision score: 0.7613910370079109\n",
      "Validation =>  Epoch : 3 | Loss : 0.6067250440287035 | Recall score: 0.7476531857425497 | F1 score: 0.7462017099060081 | Precision score: 0.7796789305623311\n",
      "Training =>  Epoch : 4 | Loss : 0.5053707243398179 | Recall score: 0.7672290120078349 | F1 score: 0.7672542567822014 | Precision score: 0.7803052276678946\n",
      "Validation =>  Epoch : 4 | Loss : 0.6297166978203973 | Recall score: 0.730755954288778 | F1 score: 0.7375618480023911 | Precision score: 0.7939835701945516\n"
     ]
    },
    {
     "name": "stderr",
     "output_type": "stream",
     "text": [
      "\u001b[32m[I 2021-11-30 19:36:11,339]\u001b[0m Trial 2 finished with value: 0.7581230458934535 and parameters: {'TRAIN_BATCH_SIZE': 16, 'LEARNING_RATE': 0.0012862255211365655, 'OPTIMIZER': 'Adam', 'NUM_EPOCHS': 5}. Best is trial 2 with value: 0.7581230458934535.\u001b[0m\n"
     ]
    },
    {
     "name": "stdout",
     "output_type": "stream",
     "text": [
      "Training =>  Epoch : 5 | Loss : 0.48127566070057626 | Recall score: 0.7772916119339732 | F1 score: 0.7768878179626851 | Precision score: 0.7880995601213867\n",
      "Validation =>  Epoch : 5 | Loss : 0.5533131887746412 | Recall score: 0.7581230458934535 | F1 score: 0.7599427280456451 | Precision score: 0.79052809518704\n",
      "Training =>  Epoch : 1 | Loss : 2.309487191743629 | Recall score: 0.12593897393951495 | F1 score: 0.044395289663869505 | Precision score: 0.027403012282664497\n",
      "Validation =>  Epoch : 1 | Loss : 2.2994401344033175 | Recall score: 0.1 | F1 score: 0.02715503631196716 | Precision score: 0.015710632078918523\n",
      "Training =>  Epoch : 2 | Loss : 2.290826395500538 | Recall score: 0.1 | F1 score: 0.025827498408656908 | Precision score: 0.014828688899040657\n",
      "Validation =>  Epoch : 2 | Loss : 2.2819025682848553 | Recall score: 0.1 | F1 score: 0.02715503631196716 | Precision score: 0.015710632078918523\n"
     ]
    },
    {
     "name": "stderr",
     "output_type": "stream",
     "text": [
      "\u001b[32m[I 2021-11-30 19:36:14,623]\u001b[0m Trial 3 finished with value: 0.14391414318836507 and parameters: {'TRAIN_BATCH_SIZE': 32, 'LEARNING_RATE': 0.0011123165971312647, 'OPTIMIZER': 'SGD', 'NUM_EPOCHS': 3}. Best is trial 2 with value: 0.7581230458934535.\u001b[0m\n"
     ]
    },
    {
     "name": "stdout",
     "output_type": "stream",
     "text": [
      "Training =>  Epoch : 3 | Loss : 2.2730245922887047 | Recall score: 0.11185002997481766 | F1 score: 0.04859336158412255 | Precision score: 0.04431492007871011\n",
      "Validation =>  Epoch : 3 | Loss : 2.265130408974581 | Recall score: 0.14391414318836507 | F1 score: 0.10202090512411977 | Precision score: 0.10154656839414174\n",
      "Training =>  Epoch : 1 | Loss : 0.886524242024089 | Recall score: 0.6112394463011727 | F1 score: 0.6170717600556909 | Precision score: 0.691804590708024\n",
      "Validation =>  Epoch : 1 | Loss : 1.0741822359173796 | Recall score: 0.6545255406944827 | F1 score: 0.5874871488373794 | Precision score: 0.6328642673846088\n",
      "Training =>  Epoch : 2 | Loss : 0.5961016146249549 | Recall score: 0.7250904026170766 | F1 score: 0.7222811009889434 | Precision score: 0.7522944725105762\n",
      "Validation =>  Epoch : 2 | Loss : 1.1351998018663982 | Recall score: 0.7497274017831745 | F1 score: 0.694266279136692 | Precision score: 0.724572078906567\n",
      "Training =>  Epoch : 3 | Loss : 0.5295184120362582 | Recall score: 0.7518916336795156 | F1 score: 0.7521751065237833 | Precision score: 0.7680505755131166\n",
      "Validation =>  Epoch : 3 | Loss : 0.605377325484919 | Recall score: 0.7418596123217298 | F1 score: 0.7481341789318715 | Precision score: 0.7919462788160735\n",
      "Training =>  Epoch : 4 | Loss : 0.5001905752389237 | Recall score: 0.7661596756829596 | F1 score: 0.7660083860392637 | Precision score: 0.7799215918024596\n",
      "Validation =>  Epoch : 4 | Loss : 0.5527707608633263 | Recall score: 0.7495780192705641 | F1 score: 0.7551205794211178 | Precision score: 0.8021664446122792\n"
     ]
    },
    {
     "name": "stderr",
     "output_type": "stream",
     "text": [
      "\u001b[32m[I 2021-11-30 19:36:21,075]\u001b[0m Trial 4 finished with value: 0.754190526227963 and parameters: {'TRAIN_BATCH_SIZE': 64, 'LEARNING_RATE': 0.0012544792100237015, 'OPTIMIZER': 'RMSprop', 'NUM_EPOCHS': 5}. Best is trial 2 with value: 0.7581230458934535.\u001b[0m\n"
     ]
    },
    {
     "name": "stdout",
     "output_type": "stream",
     "text": [
      "Training =>  Epoch : 5 | Loss : 0.4893329601821511 | Recall score: 0.774783720194495 | F1 score: 0.7732646705834738 | Precision score: 0.7829751660087417\n",
      "Validation =>  Epoch : 5 | Loss : 0.6589499282282453 | Recall score: 0.754190526227963 | F1 score: 0.7587141702239004 | Precision score: 0.7827658784055676\n",
      "Training =>  Epoch : 1 | Loss : 2.2678920640501867 | Recall score: 0.1050913817146966 | F1 score: 0.05957725755794209 | Precision score: 0.04213328920950733\n",
      "Validation =>  Epoch : 1 | Loss : 2.2233183993849646 | Recall score: 0.1 | F1 score: 0.04003506721215663 | Precision score: 0.025027402265253927\n",
      "Training =>  Epoch : 2 | Loss : 2.1837011776691257 | Recall score: 0.1 | F1 score: 0.039844893181153064 | Precision score: 0.024878940155322066\n",
      "Validation =>  Epoch : 2 | Loss : 2.1525026809337526 | Recall score: 0.1 | F1 score: 0.04003506721215663 | Precision score: 0.025027402265253927\n",
      "Training =>  Epoch : 3 | Loss : 2.1185401622639146 | Recall score: 0.1 | F1 score: 0.039844893181153064 | Precision score: 0.024878940155322066\n",
      "Validation =>  Epoch : 3 | Loss : 2.0967857338661373 | Recall score: 0.1 | F1 score: 0.04003506721215663 | Precision score: 0.025027402265253927\n",
      "Training =>  Epoch : 4 | Loss : 2.065409463505412 | Recall score: 0.12763880618799525 | F1 score: 0.07875492054177387 | Precision score: 0.06310545349125493\n",
      "Validation =>  Epoch : 4 | Loss : 2.050035598666169 | Recall score: 0.14046419829316162 | F1 score: 0.08967783646947698 | Precision score: 0.06723155876381684\n"
     ]
    },
    {
     "name": "stderr",
     "output_type": "stream",
     "text": [
      "\u001b[32m[I 2021-11-30 19:36:26,789]\u001b[0m Trial 5 finished with value: 0.14046419829316162 and parameters: {'TRAIN_BATCH_SIZE': 64, 'LEARNING_RATE': 0.006656363842605176, 'OPTIMIZER': 'SGD', 'NUM_EPOCHS': 5}. Best is trial 2 with value: 0.7581230458934535.\u001b[0m\n"
     ]
    },
    {
     "name": "stdout",
     "output_type": "stream",
     "text": [
      "Training =>  Epoch : 5 | Loss : 2.0206361988256143 | Recall score: 0.13454064525714055 | F1 score: 0.09398828289453728 | Precision score: 0.08279123505097567\n",
      "Validation =>  Epoch : 5 | Loss : 2.0029746876206507 | Recall score: 0.1 | F1 score: 0.038952633127390404 | Precision score: 0.02418706613080015\n",
      "Training =>  Epoch : 1 | Loss : 2.263454546762067 | Recall score: 0.1 | F1 score: 0.025827498408656908 | Precision score: 0.014828688899040657\n",
      "Validation =>  Epoch : 1 | Loss : 2.2495345792105033 | Recall score: 0.10030211480362539 | F1 score: 0.027782287577350455 | Precision score: 0.08239453791758107\n",
      "Training =>  Epoch : 2 | Loss : 2.2328030092771662 | Recall score: 0.10746660989302592 | F1 score: 0.06044460059179034 | Precision score: 0.05545904048549073\n",
      "Validation =>  Epoch : 2 | Loss : 2.221686363220215 | Recall score: 0.1 | F1 score: 0.038952633127390404 | Precision score: 0.02418706613080015\n"
     ]
    },
    {
     "name": "stderr",
     "output_type": "stream",
     "text": [
      "\u001b[32m[I 2021-11-30 19:36:30,090]\u001b[0m Trial 6 finished with value: 0.10030211480362539 and parameters: {'TRAIN_BATCH_SIZE': 64, 'LEARNING_RATE': 0.0021632719847551082, 'OPTIMIZER': 'SGD', 'NUM_EPOCHS': 3}. Best is trial 2 with value: 0.7581230458934535.\u001b[0m\n"
     ]
    },
    {
     "name": "stdout",
     "output_type": "stream",
     "text": [
      "Training =>  Epoch : 3 | Loss : 2.2064030516979307 | Recall score: 0.1 | F1 score: 0.04089257159470853 | Precision score: 0.025701233439926908\n",
      "Validation =>  Epoch : 3 | Loss : 2.1964555063913034 | Recall score: 0.1 | F1 score: 0.038952633127390404 | Precision score: 0.02418706613080015\n",
      "Training =>  Epoch : 1 | Loss : 0.977142431015192 | Recall score: 0.606137180358402 | F1 score: 0.6073372527517874 | Precision score: 0.63187671943741\n",
      "Validation =>  Epoch : 1 | Loss : 1.7654699114866035 | Recall score: 0.5108508163809221 | F1 score: 0.4908112839752194 | Precision score: 0.6160759645349353\n",
      "Training =>  Epoch : 2 | Loss : 0.5920230720278828 | Recall score: 0.7113306462105783 | F1 score: 0.7041074103565663 | Precision score: 0.7411629274032507\n",
      "Validation =>  Epoch : 2 | Loss : 0.8636454364588094 | Recall score: 0.7102506295163193 | F1 score: 0.7051289192226947 | Precision score: 0.8031164116592414\n",
      "Training =>  Epoch : 3 | Loss : 0.546521891341653 | Recall score: 0.7452580268396793 | F1 score: 0.746907163176999 | Precision score: 0.7711311904861498\n",
      "Validation =>  Epoch : 3 | Loss : 1.3005844216014064 | Recall score: 0.6197481292378624 | F1 score: 0.5395322752443892 | Precision score: 0.6048061998840925\n",
      "Training =>  Epoch : 4 | Loss : 0.5393896158838775 | Recall score: 0.7614265279395097 | F1 score: 0.761617861373338 | Precision score: 0.7771803494654197\n",
      "Validation =>  Epoch : 4 | Loss : 0.5637306674968364 | Recall score: 0.7472486479882772 | F1 score: 0.747841316034149 | Precision score: 0.801393982988893\n"
     ]
    },
    {
     "name": "stderr",
     "output_type": "stream",
     "text": [
      "\u001b[32m[I 2021-11-30 19:36:36,382]\u001b[0m Trial 7 finished with value: 0.7625040103302849 and parameters: {'TRAIN_BATCH_SIZE': 64, 'LEARNING_RATE': 0.0017991838273707734, 'OPTIMIZER': 'RMSprop', 'NUM_EPOCHS': 5}. Best is trial 7 with value: 0.7625040103302849.\u001b[0m\n"
     ]
    },
    {
     "name": "stdout",
     "output_type": "stream",
     "text": [
      "Training =>  Epoch : 5 | Loss : 0.48904437347596813 | Recall score: 0.7732667386253641 | F1 score: 0.7741602892279608 | Precision score: 0.7893073573972739\n",
      "Validation =>  Epoch : 5 | Loss : 0.5429606936698737 | Recall score: 0.7625040103302849 | F1 score: 0.7587690484124818 | Precision score: 0.7799456585438642\n",
      "Training =>  Epoch : 1 | Loss : 2.2539310164229813 | Recall score: 0.09850371601501681 | F1 score: 0.046933100097986444 | Precision score: 0.03081640425581674\n",
      "Validation =>  Epoch : 1 | Loss : 2.2192137075024982 | Recall score: 0.1 | F1 score: 0.038952633127390404 | Precision score: 0.02418706613080015\n",
      "Training =>  Epoch : 2 | Loss : 2.182520347972249 | Recall score: 0.1 | F1 score: 0.04089257159470853 | Precision score: 0.025701233439926908\n",
      "Validation =>  Epoch : 2 | Loss : 2.158310152763544 | Recall score: 0.1 | F1 score: 0.038952633127390404 | Precision score: 0.02418706613080015\n",
      "Training =>  Epoch : 3 | Loss : 2.1245669382949206 | Recall score: 0.1 | F1 score: 0.04089257159470853 | Precision score: 0.025701233439926908\n",
      "Validation =>  Epoch : 3 | Loss : 2.1083046613737593 | Recall score: 0.1 | F1 score: 0.038952633127390404 | Precision score: 0.02418706613080015\n",
      "Training =>  Epoch : 4 | Loss : 2.080232634100803 | Recall score: 0.1 | F1 score: 0.04089257159470853 | Precision score: 0.025701233439926908\n",
      "Validation =>  Epoch : 4 | Loss : 2.0654568699903266 | Recall score: 0.1 | F1 score: 0.038952633127390404 | Precision score: 0.02418706613080015\n"
     ]
    },
    {
     "name": "stderr",
     "output_type": "stream",
     "text": [
      "\u001b[32m[I 2021-11-30 19:36:41,807]\u001b[0m Trial 8 finished with value: 0.1 and parameters: {'TRAIN_BATCH_SIZE': 32, 'LEARNING_RATE': 0.005484867455548524, 'OPTIMIZER': 'SGD', 'NUM_EPOCHS': 5}. Best is trial 7 with value: 0.7625040103302849.\u001b[0m\n"
     ]
    },
    {
     "name": "stdout",
     "output_type": "stream",
     "text": [
      "Training =>  Epoch : 5 | Loss : 2.037099595679793 | Recall score: 0.1 | F1 score: 0.04089257159470853 | Precision score: 0.025701233439926908\n",
      "Validation =>  Epoch : 5 | Loss : 2.0224853975828303 | Recall score: 0.1 | F1 score: 0.038952633127390404 | Precision score: 0.02418706613080015\n",
      "Training =>  Epoch : 1 | Loss : 0.8824759938342627 | Recall score: 0.6130244642317599 | F1 score: 0.6160859209262914 | Precision score: 0.6461205341972333\n",
      "Validation =>  Epoch : 1 | Loss : 0.6398818007735319 | Recall score: 0.6397113935505747 | F1 score: 0.6105454864969764 | Precision score: 0.5979798836047723\n",
      "Training =>  Epoch : 2 | Loss : 0.6513855717209882 | Recall score: 0.701667026483769 | F1 score: 0.6995650259088649 | Precision score: 0.7538494461094462\n",
      "Validation =>  Epoch : 2 | Loss : 0.6494779177876406 | Recall score: 0.7115604774018858 | F1 score: 0.6925540018481209 | Precision score: 0.6864237763863085\n",
      "Training =>  Epoch : 3 | Loss : 0.5718015233098075 | Recall score: 0.7342247063118578 | F1 score: 0.7352650698615611 | Precision score: 0.7687248473283639\n",
      "Validation =>  Epoch : 3 | Loss : 0.5634688852831374 | Recall score: 0.755680487054784 | F1 score: 0.7584127158806881 | Precision score: 0.7789408634336361\n",
      "Training =>  Epoch : 4 | Loss : 0.5620546242178872 | Recall score: 0.7555594763078368 | F1 score: 0.7550369975100806 | Precision score: 0.7653549717472444\n",
      "Validation =>  Epoch : 4 | Loss : 0.6561688364938248 | Recall score: 0.7321655370597614 | F1 score: 0.7369483638770692 | Precision score: 0.7736027757119557\n"
     ]
    },
    {
     "name": "stderr",
     "output_type": "stream",
     "text": [
      "\u001b[32m[I 2021-11-30 19:36:49,239]\u001b[0m Trial 9 finished with value: 0.755680487054784 and parameters: {'TRAIN_BATCH_SIZE': 32, 'LEARNING_RATE': 0.006654785801951377, 'OPTIMIZER': 'Adam', 'NUM_EPOCHS': 5}. Best is trial 7 with value: 0.7625040103302849.\u001b[0m\n"
     ]
    },
    {
     "name": "stdout",
     "output_type": "stream",
     "text": [
      "Training =>  Epoch : 5 | Loss : 0.5359445691195338 | Recall score: 0.7606554944801558 | F1 score: 0.7617840769998955 | Precision score: 0.7753547803369243\n",
      "Validation =>  Epoch : 5 | Loss : 0.6331028411554736 | Recall score: 0.744743733756828 | F1 score: 0.7501382161717631 | Precision score: 0.7763350063449113\n"
     ]
    }
   ],
   "source": [
    "# Data Loaders\n",
    "trainloader = DataLoader(malware_trainset, batch_size=64, shuffle=True)\n",
    "testloader = DataLoader(malware_testset, batch_size=64, shuffle=False)\n",
    "\n",
    "# Define your hyperparameters here\n",
    "def _hyper_parameter_tuning(trial):\n",
    "    \n",
    "    set_device = torch.device(\"cuda\" if torch.cuda.is_available() else \"cpu\")\n",
    "    \n",
    "    hyper_paramaters = {\n",
    "        'TRAIN_BATCH_SIZE' :  trial.suggest_categorical('TRAIN_BATCH_SIZE', (16, 32, 64)),\n",
    "        'LEARNING_RATE' : trial.suggest_loguniform('LEARNING_RATE', 0.001, 0.01),\n",
    "        'OPTIMIZER': trial.suggest_categorical(\"OPTIMIZER\", [\"Adam\", \"RMSprop\", \"SGD\"]),\n",
    "        'NUM_EPOCHS' : trial.suggest_categorical(\"NUM_EPOCHS\", [3, 5])\n",
    "    }\n",
    "    \n",
    "    model = MalwareNet(input_dim=train_data[0][0].shape[0], output_dim=len(label_encodings)).to(set_device)\n",
    "    criterion = nn.CrossEntropyLoss().to(set_device)\n",
    "    optimizer = getattr(optim, hyper_paramaters['OPTIMIZER'])(model.parameters(), lr=hyper_paramaters['LEARNING_RATE'])\n",
    "    \n",
    "    recall = _network_training(model, hyper_paramaters, criterion, optimizer, set_device, tuning=True)\n",
    "    return np.max(recall)\n",
    "\n",
    "with warnings.catch_warnings(record=True):\n",
    "    analysis_study = optuna.create_study(direction='maximize')\n",
    "    analysis_study.optimize(_hyper_parameter_tuning, n_trials=10)"
   ]
  },
  {
   "cell_type": "markdown",
   "metadata": {
    "tags": []
   },
   "source": [
    "### Selection of hyper parameters on the basis of hyperparameter tuning"
   ]
  },
  {
   "cell_type": "code",
   "execution_count": 24,
   "metadata": {
    "tags": []
   },
   "outputs": [
    {
     "name": "stdout",
     "output_type": "stream",
     "text": [
      "SELECTED BEST SET OF HYPER-PARAMETERS: {'TRAIN_BATCH_SIZE': 64, 'LEARNING_RATE': 0.0017991838273707734, 'OPTIMIZER': 'RMSprop', 'NUM_EPOCHS': 5}\n",
      "LOWEST LOSS SCORE ACHEIVED USING THE BEST HYPER-PARAMTERS 0.7625040103302849\n"
     ]
    }
   ],
   "source": [
    "print(\"SELECTED BEST SET OF HYPER-PARAMETERS:\",analysis_study.best_params)\n",
    "print(\"LOWEST LOSS SCORE ACHEIVED USING THE BEST HYPER-PARAMTERS\", analysis_study.best_value)"
   ]
  },
  {
   "cell_type": "code",
   "execution_count": 25,
   "metadata": {
    "tags": []
   },
   "outputs": [
    {
     "data": {
      "text/html": [
       "<div>\n",
       "<style scoped>\n",
       "    .dataframe tbody tr th:only-of-type {\n",
       "        vertical-align: middle;\n",
       "    }\n",
       "\n",
       "    .dataframe tbody tr th {\n",
       "        vertical-align: top;\n",
       "    }\n",
       "\n",
       "    .dataframe thead th {\n",
       "        text-align: right;\n",
       "    }\n",
       "</style>\n",
       "<table border=\"1\" class=\"dataframe\">\n",
       "  <thead>\n",
       "    <tr style=\"text-align: right;\">\n",
       "      <th></th>\n",
       "      <th>value</th>\n",
       "      <th>duration</th>\n",
       "      <th>params_LEARNING_RATE</th>\n",
       "      <th>params_NUM_EPOCHS</th>\n",
       "      <th>params_OPTIMIZER</th>\n",
       "      <th>params_TRAIN_BATCH_SIZE</th>\n",
       "    </tr>\n",
       "    <tr>\n",
       "      <th>trial</th>\n",
       "      <th></th>\n",
       "      <th></th>\n",
       "      <th></th>\n",
       "      <th></th>\n",
       "      <th></th>\n",
       "      <th></th>\n",
       "    </tr>\n",
       "  </thead>\n",
       "  <tbody>\n",
       "    <tr>\n",
       "      <th>7</th>\n",
       "      <td>0.762504</td>\n",
       "      <td>0 days 00:00:06.291911</td>\n",
       "      <td>0.001799</td>\n",
       "      <td>5</td>\n",
       "      <td>RMSprop</td>\n",
       "      <td>64</td>\n",
       "    </tr>\n",
       "    <tr>\n",
       "      <th>2</th>\n",
       "      <td>0.758123</td>\n",
       "      <td>0 days 00:00:07.021831</td>\n",
       "      <td>0.001286</td>\n",
       "      <td>5</td>\n",
       "      <td>Adam</td>\n",
       "      <td>16</td>\n",
       "    </tr>\n",
       "    <tr>\n",
       "      <th>9</th>\n",
       "      <td>0.755680</td>\n",
       "      <td>0 days 00:00:07.429779</td>\n",
       "      <td>0.006655</td>\n",
       "      <td>5</td>\n",
       "      <td>Adam</td>\n",
       "      <td>32</td>\n",
       "    </tr>\n",
       "    <tr>\n",
       "      <th>4</th>\n",
       "      <td>0.754191</td>\n",
       "      <td>0 days 00:00:06.451629</td>\n",
       "      <td>0.001254</td>\n",
       "      <td>5</td>\n",
       "      <td>RMSprop</td>\n",
       "      <td>64</td>\n",
       "    </tr>\n",
       "    <tr>\n",
       "      <th>1</th>\n",
       "      <td>0.149333</td>\n",
       "      <td>0 days 00:00:05.514051</td>\n",
       "      <td>0.007298</td>\n",
       "      <td>5</td>\n",
       "      <td>SGD</td>\n",
       "      <td>32</td>\n",
       "    </tr>\n",
       "    <tr>\n",
       "      <th>3</th>\n",
       "      <td>0.143914</td>\n",
       "      <td>0 days 00:00:03.283522</td>\n",
       "      <td>0.001112</td>\n",
       "      <td>3</td>\n",
       "      <td>SGD</td>\n",
       "      <td>32</td>\n",
       "    </tr>\n",
       "    <tr>\n",
       "      <th>5</th>\n",
       "      <td>0.140464</td>\n",
       "      <td>0 days 00:00:05.712530</td>\n",
       "      <td>0.006656</td>\n",
       "      <td>5</td>\n",
       "      <td>SGD</td>\n",
       "      <td>64</td>\n",
       "    </tr>\n",
       "    <tr>\n",
       "      <th>6</th>\n",
       "      <td>0.100302</td>\n",
       "      <td>0 days 00:00:03.298882</td>\n",
       "      <td>0.002163</td>\n",
       "      <td>3</td>\n",
       "      <td>SGD</td>\n",
       "      <td>64</td>\n",
       "    </tr>\n",
       "    <tr>\n",
       "      <th>0</th>\n",
       "      <td>0.100000</td>\n",
       "      <td>0 days 00:00:07.268048</td>\n",
       "      <td>0.002635</td>\n",
       "      <td>5</td>\n",
       "      <td>SGD</td>\n",
       "      <td>32</td>\n",
       "    </tr>\n",
       "    <tr>\n",
       "      <th>8</th>\n",
       "      <td>0.100000</td>\n",
       "      <td>0 days 00:00:05.424652</td>\n",
       "      <td>0.005485</td>\n",
       "      <td>5</td>\n",
       "      <td>SGD</td>\n",
       "      <td>32</td>\n",
       "    </tr>\n",
       "  </tbody>\n",
       "</table>\n",
       "</div>"
      ],
      "text/plain": [
       "          value               duration  params_LEARNING_RATE  \\\n",
       "trial                                                          \n",
       "7      0.762504 0 days 00:00:06.291911              0.001799   \n",
       "2      0.758123 0 days 00:00:07.021831              0.001286   \n",
       "9      0.755680 0 days 00:00:07.429779              0.006655   \n",
       "4      0.754191 0 days 00:00:06.451629              0.001254   \n",
       "1      0.149333 0 days 00:00:05.514051              0.007298   \n",
       "3      0.143914 0 days 00:00:03.283522              0.001112   \n",
       "5      0.140464 0 days 00:00:05.712530              0.006656   \n",
       "6      0.100302 0 days 00:00:03.298882              0.002163   \n",
       "0      0.100000 0 days 00:00:07.268048              0.002635   \n",
       "8      0.100000 0 days 00:00:05.424652              0.005485   \n",
       "\n",
       "       params_NUM_EPOCHS params_OPTIMIZER  params_TRAIN_BATCH_SIZE  \n",
       "trial                                                               \n",
       "7                      5          RMSprop                       64  \n",
       "2                      5             Adam                       16  \n",
       "9                      5             Adam                       32  \n",
       "4                      5          RMSprop                       64  \n",
       "1                      5              SGD                       32  \n",
       "3                      3              SGD                       32  \n",
       "5                      5              SGD                       64  \n",
       "6                      3              SGD                       64  \n",
       "0                      5              SGD                       32  \n",
       "8                      5              SGD                       32  "
      ]
     },
     "execution_count": 25,
     "metadata": {},
     "output_type": "execute_result"
    }
   ],
   "source": [
    "df = analysis_study.trials_dataframe().drop(['state','datetime_start','datetime_complete','number'], axis=1)\n",
    "df.index.name = 'trial'\n",
    "df.sort_values(by='value', ascending=False).head(20)"
   ]
  },
  {
   "cell_type": "markdown",
   "metadata": {
    "id": "NtpgVAO1sMi2"
   },
   "source": [
    "## 2.d. Train your Model"
   ]
  },
  {
   "cell_type": "code",
   "execution_count": 92,
   "metadata": {
    "id": "3afVBWVKsMi2"
   },
   "outputs": [
    {
     "name": "stdout",
     "output_type": "stream",
     "text": [
      "Network structure is: <bound method Module.parameters of MalwareNet(\n",
      "  (layers): Sequential(\n",
      "    (0): Linear(in_features=5521, out_features=1024, bias=True)\n",
      "    (1): ReLU()\n",
      "    (2): Linear(in_features=1024, out_features=512, bias=True)\n",
      "    (3): ReLU()\n",
      "    (4): Linear(in_features=512, out_features=256, bias=True)\n",
      "    (5): ReLU()\n",
      "    (6): Linear(in_features=256, out_features=128, bias=True)\n",
      "    (7): ReLU()\n",
      "    (8): Linear(in_features=128, out_features=10, bias=True)\n",
      "  )\n",
      ")>\n",
      "Total number of parameters: 6344842\n",
      "Training =>  Epoch : 1 | Loss : 0.8155573687730656 | Recall score: 0.719780721790772 | F1 score: 0.7197807217907719 | Precision score: 0.719780721790772\n",
      "Validation =>  Epoch : 1 | Loss : 0.6063788489893426 | Recall score: 0.782608695652174 | F1 score: 0.782608695652174 | Precision score: 0.782608695652174\n",
      "Saving the model...\n",
      "Training =>  Epoch : 2 | Loss : 0.5628079070381103 | Recall score: 0.8003654636820466 | F1 score: 0.8003654636820466 | Precision score: 0.8003654636820466\n",
      "Validation =>  Epoch : 2 | Loss : 0.5824354289229526 | Recall score: 0.8012422360248447 | F1 score: 0.8012422360248448 | Precision score: 0.8012422360248447\n",
      "Saving the model...\n",
      "Training =>  Epoch : 3 | Loss : 0.5214529086566875 | Recall score: 0.8165372316126085 | F1 score: 0.8165372316126085 | Precision score: 0.8165372316126085\n",
      "Validation =>  Epoch : 3 | Loss : 0.5396552546772846 | Recall score: 0.8100109609061016 | F1 score: 0.8100109609061017 | Precision score: 0.8100109609061016\n",
      "Saving the model...\n",
      "Training =>  Epoch : 4 | Loss : 0.49740515744763136 | Recall score: 0.822384650525354 | F1 score: 0.822384650525354 | Precision score: 0.822384650525354\n",
      "Validation =>  Epoch : 4 | Loss : 0.5740765034286088 | Recall score: 0.8048958713920351 | F1 score: 0.8048958713920351 | Precision score: 0.8048958713920351\n",
      "Training =>  Epoch : 5 | Loss : 0.48915968870108745 | Recall score: 0.8266788487894016 | F1 score: 0.8266788487894016 | Precision score: 0.8266788487894016\n",
      "Validation =>  Epoch : 5 | Loss : 0.5498243516614271 | Recall score: 0.803799780781878 | F1 score: 0.803799780781878 | Precision score: 0.803799780781878\n",
      "Training =>  Epoch : 6 | Loss : 0.483491828073218 | Recall score: 0.8253083599817268 | F1 score: 0.8253083599817268 | Precision score: 0.8253083599817268\n",
      "Validation =>  Epoch : 6 | Loss : 0.541709513685038 | Recall score: 0.8103763244428206 | F1 score: 0.8103763244428206 | Precision score: 0.8103763244428206\n",
      "Saving the model...\n",
      "Training =>  Epoch : 7 | Loss : 0.4563565875421232 | Recall score: 0.8328003654636821 | F1 score: 0.8328003654636821 | Precision score: 0.8328003654636821\n",
      "Validation =>  Epoch : 7 | Loss : 0.5507123622783395 | Recall score: 0.804165144318597 | F1 score: 0.804165144318597 | Precision score: 0.804165144318597\n",
      "Training =>  Epoch : 8 | Loss : 0.4435593292073675 | Recall score: 0.8360895386021014 | F1 score: 0.8360895386021014 | Precision score: 0.8360895386021014\n",
      "Validation =>  Epoch : 8 | Loss : 0.6160949186183685 | Recall score: 0.8023383266350018 | F1 score: 0.8023383266350018 | Precision score: 0.8023383266350018\n",
      "Training =>  Epoch : 9 | Loss : 0.4380390773101034 | Recall score: 0.8386477843764276 | F1 score: 0.8386477843764276 | Precision score: 0.8386477843764276\n",
      "Validation =>  Epoch : 9 | Loss : 0.521256686296574 | Recall score: 0.8176835951772013 | F1 score: 0.8176835951772013 | Precision score: 0.8176835951772013\n",
      "Saving the model...\n",
      "Training =>  Epoch : 10 | Loss : 0.4249076713365299 | Recall score: 0.8405664687071722 | F1 score: 0.8405664687071722 | Precision score: 0.8405664687071722\n",
      "Validation =>  Epoch : 10 | Loss : 0.5226687471880469 | Recall score: 0.8114724150529777 | F1 score: 0.8114724150529777 | Precision score: 0.8114724150529777\n",
      "Training =>  Epoch : 11 | Loss : 0.42166398630719143 | Recall score: 0.8444038373686615 | F1 score: 0.8444038373686614 | Precision score: 0.8444038373686615\n",
      "Validation =>  Epoch : 11 | Loss : 0.5435818672873253 | Recall score: 0.8125685056631348 | F1 score: 0.8125685056631348 | Precision score: 0.8125685056631348\n",
      "Training =>  Epoch : 12 | Loss : 0.4175652538374631 | Recall score: 0.841662859753312 | F1 score: 0.841662859753312 | Precision score: 0.841662859753312\n",
      "Validation =>  Epoch : 12 | Loss : 0.5422878060923066 | Recall score: 0.8315674095725246 | F1 score: 0.8315674095725246 | Precision score: 0.8315674095725246\n",
      "Saving the model...\n",
      "Training =>  Epoch : 13 | Loss : 0.4129058681917173 | Recall score: 0.8418455915943354 | F1 score: 0.8418455915943353 | Precision score: 0.8418455915943354\n",
      "Validation =>  Epoch : 13 | Loss : 0.5339259004523588 | Recall score: 0.8322981366459627 | F1 score: 0.8322981366459627 | Precision score: 0.8322981366459627\n",
      "Saving the model...\n",
      "Training =>  Epoch : 14 | Loss : 0.4009441719424392 | Recall score: 0.8457743261763362 | F1 score: 0.8457743261763362 | Precision score: 0.8457743261763362\n",
      "Validation =>  Epoch : 14 | Loss : 0.5707731496456058 | Recall score: 0.8206065034709537 | F1 score: 0.8206065034709537 | Precision score: 0.8206065034709537\n",
      "Training =>  Epoch : 15 | Loss : 0.39804972720443765 | Recall score: 0.8482412060301507 | F1 score: 0.8482412060301507 | Precision score: 0.8482412060301507\n",
      "Validation =>  Epoch : 15 | Loss : 0.5492665864700494 | Recall score: 0.8125685056631348 | F1 score: 0.8125685056631348 | Precision score: 0.8125685056631348\n",
      "Training =>  Epoch : 16 | Loss : 0.39265245534703624 | Recall score: 0.8504339881224303 | F1 score: 0.8504339881224303 | Precision score: 0.8504339881224303\n",
      "Validation =>  Epoch : 16 | Loss : 0.5805736732517564 | Recall score: 0.8132992327365729 | F1 score: 0.8132992327365729 | Precision score: 0.8132992327365729\n",
      "Training =>  Epoch : 17 | Loss : 0.38993100635164335 | Recall score: 0.8514390132480585 | F1 score: 0.8514390132480585 | Precision score: 0.8514390132480585\n",
      "Validation =>  Epoch : 17 | Loss : 0.5732766921783603 | Recall score: 0.8176835951772013 | F1 score: 0.8176835951772013 | Precision score: 0.8176835951772013\n",
      "Training =>  Epoch : 18 | Loss : 0.37959451869173577 | Recall score: 0.8533576975788031 | F1 score: 0.8533576975788031 | Precision score: 0.8533576975788031\n",
      "Validation =>  Epoch : 18 | Loss : 0.5824100395967794 | Recall score: 0.8337595907928389 | F1 score: 0.8337595907928389 | Precision score: 0.8337595907928389\n",
      "Saving the model...\n",
      "Training =>  Epoch : 19 | Loss : 0.3851383299765017 | Recall score: 0.8527181361352215 | F1 score: 0.8527181361352215 | Precision score: 0.8527181361352215\n",
      "Validation =>  Epoch : 19 | Loss : 0.5849724229165288 | Recall score: 0.8202411399342345 | F1 score: 0.8202411399342346 | Precision score: 0.8202411399342345\n",
      "Training =>  Epoch : 20 | Loss : 0.3767077087233951 | Recall score: 0.8560986751941526 | F1 score: 0.8560986751941526 | Precision score: 0.8560986751941526\n",
      "Validation =>  Epoch : 20 | Loss : 0.6266932101097218 | Recall score: 0.803799780781878 | F1 score: 0.803799780781878 | Precision score: 0.803799780781878\n",
      "Training =>  Epoch : 21 | Loss : 0.37318774777038277 | Recall score: 0.8565555047967108 | F1 score: 0.8565555047967109 | Precision score: 0.8565555047967108\n",
      "Validation =>  Epoch : 21 | Loss : 0.6073047194716542 | Recall score: 0.8227986846912678 | F1 score: 0.8227986846912678 | Precision score: 0.8227986846912678\n",
      "Training =>  Epoch : 22 | Loss : 0.3765910983853702 | Recall score: 0.8539972590223847 | F1 score: 0.8539972590223847 | Precision score: 0.8539972590223847\n",
      "Validation =>  Epoch : 22 | Loss : 0.6246870764812757 | Recall score: 0.8118377785896967 | F1 score: 0.8118377785896967 | Precision score: 0.8118377785896967\n",
      "Training =>  Epoch : 23 | Loss : 0.3722934839546507 | Recall score: 0.858565555047967 | F1 score: 0.8585655550479669 | Precision score: 0.858565555047967\n",
      "Validation =>  Epoch : 23 | Loss : 0.6129038926473883 | Recall score: 0.8275484106686153 | F1 score: 0.8275484106686153 | Precision score: 0.8275484106686153\n",
      "Training =>  Epoch : 24 | Loss : 0.37126230591848364 | Recall score: 0.861215166742805 | F1 score: 0.861215166742805 | Precision score: 0.861215166742805\n",
      "Validation =>  Epoch : 24 | Loss : 0.5945463991442392 | Recall score: 0.8176835951772013 | F1 score: 0.8176835951772013 | Precision score: 0.8176835951772013\n",
      "Training =>  Epoch : 25 | Loss : 0.3635093077973791 | Recall score: 0.86094106898127 | F1 score: 0.86094106898127 | Precision score: 0.86094106898127\n",
      "Validation =>  Epoch : 25 | Loss : 0.5977452839183253 | Recall score: 0.8290098648154914 | F1 score: 0.8290098648154914 | Precision score: 0.8290098648154914\n"
     ]
    }
   ],
   "source": [
    "\n",
    "set_device = torch.device(\"cuda\" if torch.cuda.is_available() else \"cpu\")\n",
    "    \n",
    "training_params = {\n",
    "        'TRAIN_BATCH_SIZE' : 32,\n",
    "        'TEST_BATCH_SIZE' : 32,\n",
    "        'LEARNING_RATE' : 0.001,\n",
    "        'OPTIMIZER': optim.Adam,\n",
    "        'NUM_EPOCHS' : 25\n",
    "}\n",
    "\n",
    "trainloader = DataLoader(malware_trainset, batch_size=training_params['TRAIN_BATCH_SIZE'], shuffle=True) ##### duplicated\n",
    "testloader = DataLoader(malware_testset, batch_size=training_params['TEST_BATCH_SIZE'], shuffle=False)    ###### duplicated\n",
    "model = MalwareNet(input_dim=train_data[0][0].shape[0], output_dim=len(label_encodings)).to(set_device)\n",
    "print(f'Network structure is: {model.parameters}')\n",
    "print(f'Total number of parameters: {sum(p.numel() for p in model.parameters())}')\n",
    "    \n",
    "criterion = nn.CrossEntropyLoss().to(set_device)\n",
    "optimizer = training_params['OPTIMIZER'](model.parameters(), lr=training_params['LEARNING_RATE'])\n",
    "with warnings.catch_warnings(record=True):\n",
    "    train_loss_history, recall_train_history, f1_train_history, accuracy_train_history, precision_train_history, validation_loss_history, \\\n",
    "    recall_validation_history, f1_validation_history, accuracy_validation_history, precision_validation_history = _network_training(model, training_params, criterion, optimizer, set_device, tuning=False)\n",
    "        "
   ]
  },
  {
   "cell_type": "markdown",
   "metadata": {},
   "source": [
    "### Loss curves: Training Loss vs Validation Loss Per Epoch During Learning"
   ]
  },
  {
   "cell_type": "code",
   "execution_count": 45,
   "metadata": {},
   "outputs": [
    {
     "data": {
      "image/png": "[encoded data removed]",
      "text/plain": [
       "<Figure size 864x504 with 1 Axes>"
      ]
     },
     "metadata": {
      "needs_background": "light"
     },
     "output_type": "display_data"
    }
   ],
   "source": [
    "\n",
    "df = pd.DataFrame({'Training Loss':train_loss_history, 'Validation Loss':validation_loss_history})\n",
    "df.plot(linewidth=4, alpha=0.7, figsize=(12,7), label='Loss')\n",
    "plt.xlim([0,30])\n",
    "# plt.ylim(-20,100)\n",
    "plt.title('Training Loss vs Validation Loss per Epoch', fontsize=20)\n",
    "plt.grid(axis='y', alpha=.5)\n",
    "plt.yticks(fontsize=12, alpha=.7)\n",
    "plt.xticks(fontsize=12, alpha=.7)\n",
    "plt.xlabel('Epoch', fontsize=18, alpha=.7)\n",
    "plt.ylabel('Loss Value', fontsize=18, alpha=.7)\n",
    "# Lighten borders\n",
    "plt.gca().spines[\"top\"].set_alpha(.0)\n",
    "plt.gca().spines[\"bottom\"].set_alpha(.3)\n",
    "plt.gca().spines[\"right\"].set_alpha(.0)\n",
    "plt.gca().spines[\"left\"].set_alpha(.3)\n",
    "\n",
    "plt.legend(loc='upper center')\n",
    "plt.show()\n"
   ]
  },
  {
   "cell_type": "markdown",
   "metadata": {},
   "source": [
    "### Recall curves: Training Recall vs Validation Recall Per Epoch During Learning"
   ]
  },
  {
   "cell_type": "code",
   "execution_count": 46,
   "metadata": {},
   "outputs": [
    {
     "data": {
      "image/png": "[encoded data removed]",
      "text/plain": [
       "<Figure size 864x504 with 1 Axes>"
      ]
     },
     "metadata": {
      "needs_background": "light"
     },
     "output_type": "display_data"
    }
   ],
   "source": [
    "\n",
    "df = pd.DataFrame({'Training Recall':recall_train_history, 'Validation Recall':recall_validation_history})\n",
    "df.plot(linewidth=4, alpha=0.7, figsize=(12,7), label='Loss')\n",
    "plt.xlim([0,30])\n",
    "# plt.ylim(-20,100)\n",
    "plt.title('Training Recall vs Validation Recall per Epoch', fontsize=20)\n",
    "plt.grid(axis='y', alpha=.5)\n",
    "plt.yticks(fontsize=12, alpha=.7)\n",
    "plt.xticks(fontsize=12, alpha=.7)\n",
    "plt.xlabel('Epoch', fontsize=18, alpha=.7)\n",
    "plt.ylabel('Recall', fontsize=18, alpha=.7)\n",
    "# Lighten borders\n",
    "plt.gca().spines[\"top\"].set_alpha(.0)\n",
    "plt.gca().spines[\"bottom\"].set_alpha(.3)\n",
    "plt.gca().spines[\"right\"].set_alpha(.0)\n",
    "plt.gca().spines[\"left\"].set_alpha(.3)\n",
    "\n",
    "plt.legend(loc='lower center')\n",
    "plt.show()\n"
   ]
  },
  {
   "cell_type": "markdown",
   "metadata": {},
   "source": [
    "### F1 curves: Training F1 scores vs Validation F1 scores Per Epoch During Learning"
   ]
  },
  {
   "cell_type": "code",
   "execution_count": 47,
   "metadata": {},
   "outputs": [
    {
     "data": {
      "image/png": "[encoded data removed]",
      "text/plain": [
       "<Figure size 864x504 with 1 Axes>"
      ]
     },
     "metadata": {
      "needs_background": "light"
     },
     "output_type": "display_data"
    }
   ],
   "source": [
    "\n",
    "df = pd.DataFrame({'Training F1 scores':f1_train_history, 'Validation F1 scores':f1_validation_history})\n",
    "df.plot(linewidth=4, alpha=0.7, figsize=(12,7), label='Loss')\n",
    "plt.xlim([0,30])\n",
    "# plt.ylim(-20,100)\n",
    "plt.title('Training F1 scores vs Validation F1 scores per Epoch', fontsize=20)\n",
    "plt.grid(axis='y', alpha=.5)\n",
    "plt.yticks(fontsize=12, alpha=.7)\n",
    "plt.xticks(fontsize=12, alpha=.7)\n",
    "plt.xlabel('Epoch', fontsize=18, alpha=.7)\n",
    "plt.ylabel('F1 scores', fontsize=18, alpha=.7)\n",
    "# Lighten borders\n",
    "plt.gca().spines[\"top\"].set_alpha(.0)\n",
    "plt.gca().spines[\"bottom\"].set_alpha(.3)\n",
    "plt.gca().spines[\"right\"].set_alpha(.0)\n",
    "plt.gca().spines[\"left\"].set_alpha(.3)\n",
    "\n",
    "plt.legend(loc='lower center')\n",
    "plt.show()\n"
   ]
  },
  {
   "cell_type": "markdown",
   "metadata": {
    "id": "Z5w-7O5jsMi2"
   },
   "source": [
    "## 2.e. Evaluate model"
   ]
  },
  {
   "cell_type": "code",
   "execution_count": 96,
   "metadata": {
    "id": "CMbzX1h4sMi2"
   },
   "outputs": [],
   "source": [
    "def _test_model(model):\n",
    "    \n",
    "    model.load_state_dict(torch.load('Recall_0.8337595907928389_batchsize_32_optim_ADAM_lr_0.001.ckpt'))    \n",
    "    recall_test_history, f1_test_history, accuracy_test_history, precision_test_history = list(), list(), list(), list()\n",
    "\n",
    "    model.eval()\n",
    "    with torch.no_grad():\n",
    "        y_true_val, y_pred_val= list(), list()\n",
    "\n",
    "        for batch, targets, lengths in testloader:\n",
    "            ## perform forward pass  \n",
    "            batch = batch.type(torch.FloatTensor).to(set_device)\n",
    "            pred = model(batch) \n",
    "            preds = torch.max(pred, 1)[1]\n",
    "\n",
    "            ## accumulate predictions per batch for the epoch\n",
    "            y_pred_val += list([x.item() for x in preds.detach().cpu().numpy()])\n",
    "            targets = torch.LongTensor([x.item() for x in list(targets)])\n",
    "            y_true_val +=  list([x.item() for x in targets.detach().cpu().numpy()])\n",
    "\n",
    "            recall, precision, accuracy, f1 = evaluate_preds(y_true_val, y_pred_val)\n",
    "            recall_validation_history.append(recall)\n",
    "            precision_validation_history.append(precision)\n",
    "            accuracy_validation_history.append(accuracy)\n",
    "            f1_validation_history.append(f1)\n",
    "\n",
    "        print(f'Testing => Recall score: {recall_validation_history[-1]} | F1 score: {f1_validation_history[-1]} | Precision score: {precision_validation_history[-1]}')\n"
   ]
  },
  {
   "cell_type": "code",
   "execution_count": 97,
   "metadata": {},
   "outputs": [
    {
     "name": "stdout",
     "output_type": "stream",
     "text": [
      "Testing => Recall score: 0.8361 | F1 score: 0.8361 | Precision score: 0.8361\n"
     ]
    }
   ],
   "source": [
    "with warnings.catch_warnings(record=True):\n",
    "    testloader = DataLoader(malware_testset, batch_size=64, shuffle=False)  \n",
    "    _test_model(model)"
   ]
  },
  {
   "cell_type": "markdown",
   "metadata": {
    "id": "U_GE1BQjsMi3"
   },
   "source": [
    "## 2.f. Save Model + Data"
   ]
  },
  {
   "cell_type": "code",
   "execution_count": 87,
   "metadata": {},
   "outputs": [
    {
     "data": {
      "text/plain": [
       "<AxesSubplot:xlabel='Malware_Name'>"
      ]
     },
     "execution_count": 87,
     "metadata": {},
     "output_type": "execute_result"
    },
    {
     "data": {
      "image/png": "[encoded data removed]",
      "text/plain": [
       "<Figure size 1080x720 with 1 Axes>"
      ]
     },
     "metadata": {},
     "output_type": "display_data"
    }
   ],
   "source": [
    "dd = pd.DataFrame([pd.Series(train_data[1]), pd.Series(train_data[2])])\n",
    "dd = dd.T\n",
    "dd.columns = ['Malware', 'doc']\n",
    "\n",
    "dd = dd.groupby(by='Malware').mean()\n",
    "dd['Malware_Name']= ['Virut', 'Swizzor', 'Agent', 'Patched',  'Allaple', 'Texel',  'Basun',  'AutoIt',  'NothingFound', 'VB']\n",
    "dd.plot(x='Malware_Name',kind='bar')\n",
    "\n",
    "label_encodings = {'Virut': 0,\n",
    " 'Swizzor': 1,\n",
    " 'Agent': 2,\n",
    " 'Patched': 3,\n",
    " 'Allaple': 4,\n",
    " 'Texel': 5,\n",
    " 'Basun': 6,\n",
    " 'AutoIt': 7,\n",
    " 'NothingFound': 8,\n",
    " 'VB': 9}"
   ]
  },
  {
   "cell_type": "code",
   "execution_count": 48,
   "metadata": {},
   "outputs": [
    {
     "data": {
      "image/png": "[encoded data removed]",
      "text/plain": [
       "<Figure size 1080x720 with 1 Axes>"
      ]
     },
     "metadata": {},
     "output_type": "display_data"
    }
   ],
   "source": [
    "dff = pd.DataFrame()\n",
    "dff['Freq'] = pd.Series(train_data[1]).value_counts().sort_index()\n",
    "dff['Malware'] = ['Virut', 'Swizzor', 'Agent', 'Patched',  'Allaple', 'Texel',  'Basun',  'AutoIt',  'NothingFound', 'VB']\n",
    "sns.set(rc={\"figure.figsize\":(15, 10)}, font_scale = 1.5)\n",
    "ax = sns.barplot(x=\"Malware\", y=\"Freq\", data=dff, saturation=.9).set(title='Frequency Count of Malware Classes')"
   ]
  },
  {
   "cell_type": "markdown",
   "metadata": {
    "id": "W-UQbfCrsMi3"
   },
   "source": [
    "---"
   ]
  },
  {
   "cell_type": "markdown",
   "metadata": {
    "id": "uLD6dur1sMi3"
   },
   "source": [
    "# 3. Analysis"
   ]
  },
  {
   "cell_type": "markdown",
   "metadata": {
    "id": "1QRKxLsPsMi3"
   },
   "source": [
    "## 3.a. Summary: Main Results\n",
    "\n",
    "Summarize your approach and results here"
   ]
  },
  {
   "cell_type": "markdown",
   "metadata": {
    "id": "dNKqJAoasMi4"
   },
   "source": [
    "## 3.b. Discussion\n",
    "\n",
    "Enter your final summary here.\n",
    "\n",
    "For instance, you can address:\n",
    "- What was the performance you obtained with the simplest approach?\n",
    "- Which vectorized input representations helped more than the others?\n",
    "- Which malwares are difficult to detect and why?\n",
    "- Which approach do you recommend to perform malware classification?"
   ]
  },
  {
   "cell_type": "code",
   "execution_count": null,
   "metadata": {},
   "outputs": [],
   "source": []
  }
 ],
 "metadata": {
  "kernelspec": {
   "display_name": "Python 3 (ipykernel)",
   "language": "python",
   "name": "python3"
  },
  "language_info": {
   "codemirror_mode": {
    "name": "ipython",
    "version": 3
   },
   "file_extension": ".py",
   "mimetype": "text/x-python",
   "name": "python",
   "nbconvert_exporter": "python",
   "pygments_lexer": "ipython3",
   "version": "3.9.7"
  }
 },
 "nbformat": 4,
 "nbformat_minor": 4
}
