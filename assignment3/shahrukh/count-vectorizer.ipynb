{
 "cells": [
  {
   "cell_type": "code",
   "execution_count": 1,
   "metadata": {
    "execution": {
     "iopub.execute_input": "2021-11-28T14:46:43.957993Z",
     "iopub.status.busy": "2021-11-28T14:46:43.957500Z",
     "iopub.status.idle": "2021-11-28T14:49:06.314617Z",
     "shell.execute_reply": "2021-11-28T14:49:06.313854Z",
     "shell.execute_reply.started": "2021-11-28T14:46:43.957862Z"
    }
   },
   "outputs": [
    {
     "name": "stdout",
     "output_type": "stream",
     "text": [
      "/kaggle/working/data\n",
      "--2021-11-28 14:46:45--  https://nextcloud.mpi-klsb.mpg.de/index.php/s/pJrRGzm2So2PMZm/download\n",
      "Resolving nextcloud.mpi-klsb.mpg.de (nextcloud.mpi-klsb.mpg.de)... 139.19.205.150\n",
      "Connecting to nextcloud.mpi-klsb.mpg.de (nextcloud.mpi-klsb.mpg.de)|139.19.205.150|:443... connected.\n",
      "HTTP request sent, awaiting response... 200 OK\n",
      "Length: 134409420 (128M) [application/x-gzip]\n",
      "Saving to: ‘train.tar.gz’\n",
      "\n",
      "train.tar.gz        100%[===================>] 128.18M   100MB/s    in 1.3s    \n",
      "\n",
      "2021-11-28 14:46:48 (100 MB/s) - ‘train.tar.gz’ saved [134409420/134409420]\n",
      "\n",
      "--2021-11-28 14:47:49--  https://nextcloud.mpi-klsb.mpg.de/index.php/s/zN3yeWzQB3i5WqE/download\n",
      "Resolving nextcloud.mpi-klsb.mpg.de (nextcloud.mpi-klsb.mpg.de)... 139.19.205.150\n",
      "Connecting to nextcloud.mpi-klsb.mpg.de (nextcloud.mpi-klsb.mpg.de)|139.19.205.150|:443... connected.\n",
      "HTTP request sent, awaiting response... 200 OK\n",
      "Length: 96255569 (92M) [application/x-gzip]\n",
      "Saving to: ‘test.tar.gz’\n",
      "\n",
      "test.tar.gz         100%[===================>]  91.80M  96.6MB/s    in 1.0s    \n",
      "\n",
      "2021-11-28 14:47:50 (96.6 MB/s) - ‘test.tar.gz’ saved [96255569/96255569]\n",
      "\n",
      "/kaggle/working\n"
     ]
    }
   ],
   "source": [
    "!mkdir data\n",
    "%cd data\n",
    "!wget https://nextcloud.mpi-klsb.mpg.de/index.php/s/pJrRGzm2So2PMZm/download -O train.tar.gz \n",
    "!tar xzf train.tar.gz\n",
    "!wget https://nextcloud.mpi-klsb.mpg.de/index.php/s/zN3yeWzQB3i5WqE/download -O test.tar.gz \n",
    "!tar xzf test.tar.gz\n",
    "%cd .."
   ]
  },
  {
   "cell_type": "markdown",
   "metadata": {
    "id": "qKo3S_fOsMim"
   },
   "source": [
    "# ML in Cybersecurity: Task 3\n",
    "\n",
    "## Team\n",
    "  * **Team name**:  *R2D2C3P0BB8*\n",
    "  * **Members**:  <br/> **Navdeeppal Singh (s8nlsing@stud.uni-saarland.de)** <br/> **Shahrukh Khan (shkh00001@stud.uni-saarland.de)** <br/> **Mahnoor Shahid (mash00001@stud.uni-saarland.de)**\n",
    "\n",
    "\n",
    "## Logistics\n",
    "  * **Due date**: 9th December 2021, 23:59:59\n",
    "  * Email the completed notebook to: `mlcysec_ws2022_staff@lists.cispa.saarland`\n",
    "  * Complete this in **teams of 3**\n",
    "  * Feel free to use the forum to discuss.\n",
    "  \n",
    "## Timeline\n",
    "  * 26-Nov-2021: hand-out\n",
    "  * **09-Dec-2021**: Email completed notebook\n",
    "  \n",
    "  \n",
    "## About this Project\n",
    "In this project, you will explore an application of ML to a popular task in cybersecurity: malware classification.\n",
    "You will be presented with precomputed behaviour analysis reports of thousands of program binaries, many of which are malwares.\n",
    "Your goal is to train a malware detector using this behavioural reports.\n",
    "\n",
    "\n",
    "## A Note on Grading\n",
    "The grading for this project will depend on:\n",
    " 1. Vectorizing Inputs\n",
    "   * Obtaining a reasonable vectorized representations of the input data (a file containing a sequence of system calls)\n",
    "   * Understanding the influence these representations have on your model\n",
    " 1. Classification Model  \n",
    "   * Following a clear ML pipeline\n",
    "   * Obtaining reasonable performances (>60\\%) on held-out test set\n",
    "   * Choice of evaluation metric\n",
    "   * Visualizing loss/accuracy curves\n",
    " 1. Analysis\n",
    "   * Which methods (input representations/ML models) work better than the rest and why?\n",
    "   * Which hyper-parameters and design-choices were important in each of your methods?\n",
    "   * Quantifying influence of these hyper-parameters on loss and/or validation accuracies\n",
    "   * Trade-offs between methods, hyper-parameters, design-choices\n",
    "   * Anything else you find interesting (this part is open-ended)\n",
    "\n",
    "\n",
    "## Grading Details\n",
    " * 40 points: Vectorizing input data (each input = behaviour analysis file in our case)\n",
    " * 40 points: Training a classification model\n",
    " * 15 points: Analysis/Discussion\n",
    " * 5 points: Clean code\n",
    " \n",
    "## Filling-in the Notebook\n",
    "You'll be submitting this very notebook that is filled-in with your code and analysis. Make sure you submit one that has been previously executed in-order. (So that results/graphs are already visible upon opening it). \n",
    "\n",
    "The notebook you submit **should compile** (or should be self-contained and sufficiently commented). Check tutorial 1 on how to set up the Python3 environment.\n",
    "\n",
    "\n",
    "**The notebook is your project report. So, to make the report readable, omit code for techniques/models/things that did not work. You can use the final summary to provide a report about these.**\n",
    "\n",
    "It is extremely important that you **do not** re-order the existing sections. Apart from that, the code blocks that you need to fill-in are given by:\n",
    "```\n",
    "#\n",
    "#\n",
    "# ------- Your Code -------\n",
    "#\n",
    "#\n",
    "```\n",
    "Feel free to break this into multiple-cells. It's even better if you interleave explanations and code-blocks so that the entire notebook forms a readable \"story\".\n",
    "\n",
    "\n",
    "## Code of Honor\n",
    "We encourage discussing ideas and concepts with other students to help you learn and better understand the course content. However, the work you submit and present **must be original** and demonstrate your effort in solving the presented problems. **We will not tolerate** blatantly using existing solutions (such as from the internet), improper collaboration (e.g., sharing code or experimental data between groups) and plagiarism. If the honor code is not met, no points will be awarded.\n",
    "\n",
    " \n",
    " ## Versions\n",
    "  * v1.1: Updated deadline\n",
    "  * v1.0: Initial notebook\n",
    "  \n",
    "  ---"
   ]
  },
  {
   "cell_type": "code",
   "execution_count": 1,
   "metadata": {
    "execution": {
     "iopub.execute_input": "2021-11-28T15:17:43.399379Z",
     "iopub.status.busy": "2021-11-28T15:17:43.398760Z",
     "iopub.status.idle": "2021-11-28T15:17:43.455337Z",
     "shell.execute_reply": "2021-11-28T15:17:43.454678Z",
     "shell.execute_reply.started": "2021-11-28T15:17:43.399284Z"
    },
    "id": "uyCiLbXbsMiq"
   },
   "outputs": [],
   "source": [
    "import time \n",
    " \n",
    "import numpy as np \n",
    "import matplotlib.pyplot as plt \n",
    "\n",
    "import json \n",
    "import time \n",
    "import pickle \n",
    "import sys \n",
    "import csv \n",
    "import os \n",
    "import os.path as osp \n",
    "import shutil \n",
    "import pathlib\n",
    "from pathlib import Path\n",
    "\n",
    "from IPython.display import display, HTML\n",
    " \n",
    "%matplotlib inline \n",
    "plt.rcParams['figure.figsize'] = (10.0, 8.0) # set default size of plots \n",
    "plt.rcParams['image.interpolation'] = 'nearest' \n",
    "plt.rcParams['image.cmap'] = 'gray' \n",
    " \n",
    "# for auto-reloading external modules \n",
    "# see http://stackoverflow.com/questions/1907993/autoreload-of-modules-in-ipython \n",
    "%load_ext autoreload\n",
    "%autoreload 2"
   ]
  },
  {
   "cell_type": "code",
   "execution_count": 2,
   "metadata": {
    "execution": {
     "iopub.execute_input": "2021-11-28T15:17:45.478546Z",
     "iopub.status.busy": "2021-11-28T15:17:45.478040Z",
     "iopub.status.idle": "2021-11-28T15:17:47.502034Z",
     "shell.execute_reply": "2021-11-28T15:17:47.501320Z",
     "shell.execute_reply.started": "2021-11-28T15:17:45.478510Z"
    },
    "id": "7dHogdxRsMis"
   },
   "outputs": [],
   "source": [
    "# Some suggestions of our libraries that might be helpful for this project\n",
    "from collections import Counter          # an even easier way to count\n",
    "from multiprocessing import Pool         # for multiprocessing\n",
    "from tqdm import tqdm                    # fancy progress bars\n",
    "\n",
    "# Load other libraries here.\n",
    "from sklearn.metrics import recall_score\n",
    "# Keep it minimal! We should be easily able to reproduce your code.\n",
    "\n",
    "# We preload pytorch as an example\n",
    "import torch\n",
    "import torch.nn as nn\n",
    "import torch.nn.functional as F\n",
    "import torch.optim as optim\n",
    "from torch.utils.data import DataLoader, Dataset, TensorDataset"
   ]
  },
  {
   "cell_type": "markdown",
   "metadata": {
    "id": "oJWkh3GUsMit"
   },
   "source": [
    "# Setup\n",
    "\n",
    "  * Download the datasets: [train](https://nextcloud.mpi-klsb.mpg.de/index.php/s/pJrRGzm2So2PMZm) (128M) and [test](https://nextcloud.mpi-klsb.mpg.de/index.php/s/zN3yeWzQB3i5WqE) (92M)\n",
    "  * Unpack them under `./data/train` and `./data/test`\n",
    "  * Hint: you can execute shell scripts from notebooks using the `!` prefix, e.g., `! wget <url>`"
   ]
  },
  {
   "cell_type": "code",
   "execution_count": 4,
   "metadata": {
    "execution": {
     "iopub.execute_input": "2021-11-28T14:49:14.849694Z",
     "iopub.status.busy": "2021-11-28T14:49:14.849394Z",
     "iopub.status.idle": "2021-11-28T14:49:18.492198Z",
     "shell.execute_reply": "2021-11-28T14:49:18.491218Z",
     "shell.execute_reply.started": "2021-11-28T14:49:14.849658Z"
    },
    "id": "wlhs4w44sMit"
   },
   "outputs": [
    {
     "name": "stdout",
     "output_type": "stream",
     "text": [
      "# train examples (Should be 13682) : 13682\n",
      "# test  examples (Should be 10000) : 10000\n"
     ]
    }
   ],
   "source": [
    "# Check that you are prepared with the data\n",
    "! printf '# train examples (Should be 13682) : '; ls data/train | wc -l\n",
    "! printf '# test  examples (Should be 10000) : '; ls data/test | wc -l"
   ]
  },
  {
   "cell_type": "markdown",
   "metadata": {
    "id": "Zh1-JHNIsMiv"
   },
   "source": [
    "Now that you're set, let's briefly look at the data you have been handed.\n",
    "Each file encodes the behavior report of a program (potentially a malware), using an encoding scheme called \"The Malware Instruction Set\" (MIST for short).\n",
    "At this point, we highly recommend you briefly read-up Sec. 2 of the [MIST](http://www.mlsec.org/malheur/docs/mist-tr.pdf) documentation.\n",
    "\n",
    "You will find each file named as `filename.<malwarename>`:\n",
    "```\n",
    "» ls data/train | head\n",
    "00005ecc06ae3e489042e979717bb1455f17ac9d.NothingFound\n",
    "0008e3d188483aeae0de62d8d3a1479bd63ed8c9.Basun\n",
    "000d2eea77ee037b7ef99586eb2f1433991baca9.Patched\n",
    "000d996fa8f3c83c1c5568687bb3883a543ec874.Basun\n",
    "0010f78d3ffee61101068a0722e09a98959a5f2c.Basun\n",
    "0013cd0a8febd88bfc4333e20486bd1a9816fcbf.Basun\n",
    "0014aca72eb88a7f20fce5a4e000c1f7fff4958a.Texel\n",
    "001ffc75f24a0ae63a7033a01b8152ba371f6154.Texel\n",
    "0022d6ba67d556b931e3ab26abcd7490393703c4.Basun\n",
    "0028c307a125cf0fdc97d7a1ffce118c6e560a70.Swizzor\n",
    "...\n",
    "```\n",
    "and within each file, you will see a sequence of individual systems calls monitored duing the run-time of the binary - a malware named 'Basun' in the case:\n",
    "```\n",
    "» head data/train/000d996fa8f3c83c1c5568687bb3883a543ec874.Basun\n",
    "# process 000006c8 0000066a 022c82f4 00000000 thread 0001 #\n",
    "02 01 | 000006c8 0000066a 00015000\n",
    "02 02 | 00006b2c 047c8042 000b9000\n",
    "02 02 | 00006b2c 047c8042 00108000\n",
    "02 02 | 00006b2c 047c8042 00153000\n",
    "02 02 | 00006b2c 047c8042 00091000\n",
    "02 02 | 00006b2c 047c8042 00049000\n",
    "02 02 | 00006b2c 047c8042 000aa000\n",
    "02 02 | 00006b2c 047c8042 00092000\n",
    "02 02 | 00006b2c 047c8042 00011000\n",
    "...\n",
    "```\n",
    "(**Note**: Please ignore the first line that begins with `# process ...`.)\n",
    "\n",
    "Your task in this project is to train a malware detector, which given the sequence of system calls (in the MIST-formatted file like above), predicts one of 10 classes: `{ Agent, Allaple, AutoIt, Basun, NothingFound, Patched, Swizzor, Texel, VB, Virut }`, where `NothingFound` roughly represents no malware is present.\n",
    "In terms of machine learning terminology, your malware detector $F: X \\rightarrow Y$ should learn a mapping from the MIST-encoded behaviour report (the input $x \\in X$) to the malware class $y \\in Y$.\n",
    "\n",
    "Consequently, you will primarily tackle two challenges in this project:\n",
    "  1. \"Vectorizing\" the input data i.e., representing each input (file) as a tensor\n",
    "  1. Training an ML model\n",
    "  \n",
    "\n",
    "### Some tips:\n",
    "  * Begin with an extremely simple representation/ML model and get above chance-level classification performance\n",
    "  * Choose your evaluation metric wisely\n",
    "  * Save intermediate computations (e.g., a token to index mapping). This will avoid you parsing the entire dataset for every experiment\n",
    "  * Try using `multiprocessing.Pool` to parallelize your `for` loops"
   ]
  },
  {
   "cell_type": "markdown",
   "metadata": {
    "id": "p8xloR8dsMiv"
   },
   "source": [
    "---"
   ]
  },
  {
   "cell_type": "markdown",
   "metadata": {
    "id": "vXnyDAdbsMiw"
   },
   "source": [
    "# 1. Vectorize Data"
   ]
  },
  {
   "cell_type": "markdown",
   "metadata": {
    "id": "Ia-xFIQtsMiw"
   },
   "source": [
    "## 1.a. Load Raw Data\n",
    "## => We converted list of list lines to string to save memory in order to load entire dataset"
   ]
  },
  {
   "cell_type": "code",
   "execution_count": 5,
   "metadata": {
    "execution": {
     "iopub.execute_input": "2021-11-28T14:53:11.288900Z",
     "iopub.status.busy": "2021-11-28T14:53:11.286799Z",
     "iopub.status.idle": "2021-11-28T14:53:11.352314Z",
     "shell.execute_reply": "2021-11-28T14:53:11.351649Z",
     "shell.execute_reply.started": "2021-11-28T14:53:11.288827Z"
    },
    "id": "ZScY-C2IsMiw"
   },
   "outputs": [],
   "source": [
    "def load_content(filepath):\n",
    "    '''Given a filepath, returns (content, classname), where content = [list of lines in file]'''\n",
    "    ## load file content\n",
    "    file = open(filepath, \"r\")\n",
    "    file_lines = file.read()\n",
    "    ## here converted list of list lines to string to save memory in order to load entire dataset\n",
    "    lines = \"\\n\".join(file_lines.splitlines())\n",
    "    file.close()\n",
    "\n",
    "    ## extracting label\n",
    "    label = filepath.split(\".\")[-1]\n",
    "    return lines, label\n",
    "\n",
    "\n",
    "def load_data(data_path, nworkers=10):\n",
    "    '''Returns each data sample as a tuple (x, y), x = sequence of strings (i.e., syscalls), y = malware program class'''\n",
    "    raw_data_samples = []\n",
    "    \n",
    "    file_paths = [f\"{data_path}/{filename}\" for filename in os.listdir(data_path)]\n",
    "    pool = Pool(processes=nworkers)\n",
    " \n",
    "    raw_data_samples = pool.map(load_content, file_paths)\n",
    "    return raw_data_samples"
   ]
  },
  {
   "cell_type": "code",
   "execution_count": 6,
   "metadata": {
    "execution": {
     "iopub.execute_input": "2021-11-28T14:53:12.320679Z",
     "iopub.status.busy": "2021-11-28T14:53:12.320115Z",
     "iopub.status.idle": "2021-11-28T14:53:12.355091Z",
     "shell.execute_reply": "2021-11-28T14:53:12.354210Z",
     "shell.execute_reply.started": "2021-11-28T14:53:12.320644Z"
    },
    "id": "7BSUdq_-sMiw",
    "scrolled": true
   },
   "outputs": [],
   "source": [
    "train_path = './data/train'\n",
    "test_path = './data/test'\n",
    "n_workers = 10"
   ]
  },
  {
   "cell_type": "code",
   "execution_count": 7,
   "metadata": {
    "execution": {
     "iopub.execute_input": "2021-11-28T14:53:16.790310Z",
     "iopub.status.busy": "2021-11-28T14:53:16.790025Z",
     "iopub.status.idle": "2021-11-28T14:54:47.239335Z",
     "shell.execute_reply": "2021-11-28T14:54:47.237822Z",
     "shell.execute_reply.started": "2021-11-28T14:53:16.790281Z"
    },
    "id": "GG6tcSNJsMiw"
   },
   "outputs": [
    {
     "name": "stdout",
     "output_type": "stream",
     "text": [
      "=> Loading training data ... \n",
      "=> # Train samples =  10945\n",
      "=> # Test  samples =  2737\n"
     ]
    }
   ],
   "source": [
    "project_mode = 'trainval'    # trainval, traintest, debug, eval\n",
    "np.random.seed(123)          # To perform the same split across multiple runs\n",
    "\n",
    "## in trainval mode we use test_raw_samples variable to hold validation dataset\n",
    "train_raw_samples, test_raw_samples = [], []\n",
    " \n",
    "if project_mode == 'trainval':\n",
    "    print('=> Loading training data ... ')\n",
    "    train_raw_samples = load_data(Path(train_path), nworkers=n_workers)\n",
    "    # Split data into train and validation set\n",
    "    np.random.shuffle(train_raw_samples)\n",
    "    train_raw_samples, test_raw_samples = train_raw_samples[:int(len(train_raw_samples)*0.8)], train_raw_samples[int(len(train_raw_samples)*0.8):]\n",
    "\n",
    "elif project_mode == 'traintest':\n",
    "    ## loading train and test set\n",
    "    print('=> Loading training data ... ')\n",
    "    train_raw_samples = load_data(Path(train_path), nworkers=n_workers)\n",
    "    print('=> Loading testing data ... ')\n",
    "    test_raw_samples = load_data(Path(test_path), nworkers=n_workers)\n",
    "    \n",
    "elif project_mode == 'debug':\n",
    "    print('=> Loading training data ... ')\n",
    "    train_raw_samples = load_data(Path(train_path), nworkers=n_workers)\n",
    "    print('=> Loading testing data ... ')\n",
    "    test_raw_samples = load_data(Path(test_path), nworkers=n_workers)\n",
    "    # Optional, use a small subset of the training and validation data for fast debugging\n",
    "    train_set, test_set = train_raw_samples[:100], test_raw_samples[:100]\n",
    "\n",
    "elif project_mode == 'eval':\n",
    "    ## load only test set for evaluating the model\n",
    "    print('=> Loading testing data ... ')\n",
    "    test_raw_samples = load_data(Path(test_path), nworkers=n_workers)\n",
    "\n",
    "else:\n",
    "    raise ValueError('Unrecognized mode')\n",
    "    \n",
    "print('=> # Train samples = ', len(train_raw_samples))\n",
    "print('=> # Test  samples = ', len(test_raw_samples))"
   ]
  },
  {
   "cell_type": "markdown",
   "metadata": {
    "id": "GjiNiOVHsMiy"
   },
   "source": [
    "## 1.b. Vectorize: Setup\n",
    "\n",
    "Make one pass over the inputs to identify relevant features/tokens.\n",
    "\n",
    "Suggestion:\n",
    "  - identify tokens (e.g., unigrams, bigrams)\n",
    "  - create a token -> index (int) mapping. Note that you might have a >10K unique tokens. So, you will have to choose a suitable \"vocabulary\" size."
   ]
  },
  {
   "cell_type": "code",
   "execution_count": 8,
   "metadata": {
    "execution": {
     "iopub.execute_input": "2021-11-28T14:55:58.437846Z",
     "iopub.status.busy": "2021-11-28T14:55:58.437396Z",
     "iopub.status.idle": "2021-11-28T14:55:58.562831Z",
     "shell.execute_reply": "2021-11-28T14:55:58.562013Z",
     "shell.execute_reply.started": "2021-11-28T14:55:58.437794Z"
    },
    "id": "DAtmzL6PsMiy"
   },
   "outputs": [],
   "source": [
    "# Feel free to edit anything in this block\n",
    "\n",
    "def get_key_idx_map(counter, vocab_size, ukn_token='_ukn_'):\n",
    "    \"\"\"counter is a mapping: token -> count\n",
    "    build vectorizer using vocab_size most common elements\"\"\"\n",
    "    key_to_idx, idx_to_key = dict(), dict()\n",
    "    \n",
    "    for idx, (key, value) in tqdm(enumerate(list(train_counter.items())[:vocab_size-1])):\n",
    "        ## perform mapping for token\n",
    "        key_to_idx[key] = idx\n",
    "        idx_to_key[idx] = key\n",
    "    ## perform mapping for unk token at the end\n",
    "    key_to_idx[ukn_token] = vocab_size - 1\n",
    "    idx_to_key[vocab_size - 1] = ukn_token\n",
    "    \n",
    "    return key_to_idx, idx_to_key\n",
    "\n",
    "def preprocess(data):\n",
    "    \"\"\"concatenating all sys calls to single string for tokenization\n",
    "    removing extraneous information such as lines with '# process', white spaces and '|' characters\"\"\"\n",
    "    for i, (X,y) in enumerate(tqdm(data)):\n",
    "        example = \"\"\n",
    "        for line in X.split(\"\\n\"):\n",
    "            ## skip lines containing '# process'\n",
    "            if \"# process\" in line:\n",
    "                continue\n",
    "            ## remove extraneous white spaces and \n",
    "            example += line.replace(\"|\",\"\").replace(\"  \", \" \").strip() + \" \"\n",
    "        example = example.strip()\n",
    "        ## assign preprocessed sample\n",
    "        data[i] = (example, y)\n",
    "    return data\n",
    "        \n",
    "def count_words(data):\n",
    "    \"\"\"\n",
    "    count token occurences for building vocabulary later\n",
    "    \"\"\"\n",
    "    counter = {}\n",
    "    for X,y in tqdm(data):\n",
    "        counts = dict(Counter(X.split()))\n",
    "        counter = dict(counter, **counts)\n",
    "    return counter"
   ]
  },
  {
   "cell_type": "code",
   "execution_count": 9,
   "metadata": {
    "execution": {
     "iopub.execute_input": "2021-11-28T14:56:05.364533Z",
     "iopub.status.busy": "2021-11-28T14:56:05.364241Z",
     "iopub.status.idle": "2021-11-28T15:03:21.485333Z",
     "shell.execute_reply": "2021-11-28T15:03:21.484364Z",
     "shell.execute_reply.started": "2021-11-28T14:56:05.364503Z"
    }
   },
   "outputs": [
    {
     "name": "stderr",
     "output_type": "stream",
     "text": [
      "100%|██████████| 10945/10945 [02:12<00:00, 82.63it/s] \n",
      "100%|██████████| 10945/10945 [04:29<00:00, 40.64it/s]\n",
      "100%|██████████| 2737/2737 [00:34<00:00, 79.84it/s] \n"
     ]
    }
   ],
   "source": [
    "\"\"\"\n",
    "Preprocessing both train and test set and\n",
    "Creating token counter for building vocabulary on train set\n",
    "\"\"\"\n",
    "train_counter = None\n",
    "if project_mode != \"eval\":\n",
    "    train_raw_samples = preprocess(train_raw_samples)\n",
    "    train_counter = count_words(train_raw_samples)\n",
    "test_raw_samples = preprocess(test_raw_samples)"
   ]
  },
  {
   "cell_type": "code",
   "execution_count": 10,
   "metadata": {
    "execution": {
     "iopub.execute_input": "2021-11-28T15:03:21.487931Z",
     "iopub.status.busy": "2021-11-28T15:03:21.487104Z",
     "iopub.status.idle": "2021-11-28T15:03:21.647819Z",
     "shell.execute_reply": "2021-11-28T15:03:21.646466Z",
     "shell.execute_reply.started": "2021-11-28T15:03:21.487895Z"
    }
   },
   "outputs": [],
   "source": [
    "## Code for finding appropriate threshold for setting `MAX_VOCAB_SIZE`\n",
    "def choose_vocab_size(min_frequency_threshold=10):\n",
    "    count = 0\n",
    "    for value,key in sorted([(value,key) for (key,value) in train_counter.items()], reverse=True):\n",
    "        if value > min_frequency_threshold:\n",
    "            count+=1\n",
    "    print(f\"Number of tokens are {count} for min. frequency threshold={min_frequency_threshold}\")\n",
    "#choose_vocab_size(10)"
   ]
  },
  {
   "cell_type": "code",
   "execution_count": 11,
   "metadata": {
    "execution": {
     "iopub.execute_input": "2021-11-28T15:03:21.649402Z",
     "iopub.status.busy": "2021-11-28T15:03:21.649148Z",
     "iopub.status.idle": "2021-11-28T15:03:22.023147Z",
     "shell.execute_reply": "2021-11-28T15:03:22.022244Z",
     "shell.execute_reply.started": "2021-11-28T15:03:21.649372Z"
    }
   },
   "outputs": [],
   "source": [
    "## sorting the counters wrt to count values in decending order\n",
    "train_counter = {key:value for value, key in  sorted([(value,key) for (key,value) in train_counter.items()], reverse=True)}"
   ]
  },
  {
   "cell_type": "code",
   "execution_count": 12,
   "metadata": {
    "execution": {
     "iopub.execute_input": "2021-11-28T15:03:22.025213Z",
     "iopub.status.busy": "2021-11-28T15:03:22.024978Z",
     "iopub.status.idle": "2021-11-28T15:03:22.106335Z",
     "shell.execute_reply": "2021-11-28T15:03:22.105723Z",
     "shell.execute_reply.started": "2021-11-28T15:03:22.025187Z"
    },
    "id": "LSMEAcgvsMiy"
   },
   "outputs": [
    {
     "name": "stderr",
     "output_type": "stream",
     "text": [
      "5701it [00:00, 1165800.16it/s]\n"
     ]
    }
   ],
   "source": [
    "# Feel free to edit anything in this block\n",
    "## By keeping a minimum count threshold of 10 we get 6316 most frequent tokens in train dataset\n",
    "## adding one to MAX_VOCAB_SIZE for _ukn_ token\n",
    "MAX_VOCAB_SIZE = 5701\n",
    "\n",
    "token_to_idx, idx_to_token = get_key_idx_map(train_counter, MAX_VOCAB_SIZE)\n",
    "\n",
    "# Save vocab to file\n",
    "out_path = 'application_vocab_{}.pkl'.format(MAX_VOCAB_SIZE)\n",
    "with open(out_path, 'wb') as wf:\n",
    "    dct = {'token_to_idx': token_to_idx,\n",
    "          'idx_to_token': idx_to_token}\n",
    "    pickle.dump(dct, wf)"
   ]
  },
  {
   "cell_type": "markdown",
   "metadata": {
    "id": "QUefzVjFsMiy"
   },
   "source": [
    "## 1.c. Vectorize Data\n",
    "\n",
    "Use the (token $\\rightarrow$ index) mapping you created before to vectorize your data"
   ]
  },
  {
   "cell_type": "code",
   "execution_count": 13,
   "metadata": {
    "execution": {
     "iopub.execute_input": "2021-11-28T15:03:22.107682Z",
     "iopub.status.busy": "2021-11-28T15:03:22.107455Z",
     "iopub.status.idle": "2021-11-28T15:03:22.143815Z",
     "shell.execute_reply": "2021-11-28T15:03:22.142764Z",
     "shell.execute_reply.started": "2021-11-28T15:03:22.107653Z"
    },
    "id": "ffJJ0XOvsMiz"
   },
   "outputs": [],
   "source": [
    "def sample_to_idx(sample):\n",
    "    idx_sample = []\n",
    "    for token in sample.split(' '):\n",
    "        if token not in token_to_idx:\n",
    "                token = '_ukn_'\n",
    "        idx_sample.append(token_to_idx[token])\n",
    "    return idx_sample"
   ]
  },
  {
   "cell_type": "code",
   "execution_count": 4,
   "metadata": {
    "execution": {
     "iopub.execute_input": "2021-11-28T15:19:04.693099Z",
     "iopub.status.busy": "2021-11-28T15:19:04.692719Z",
     "iopub.status.idle": "2021-11-28T15:19:04.734389Z",
     "shell.execute_reply": "2021-11-28T15:19:04.733574Z",
     "shell.execute_reply.started": "2021-11-28T15:19:04.693058Z"
    }
   },
   "outputs": [],
   "source": [
    "## define mapping for labels\n",
    "label_encodings = {'Virut': 0,\n",
    " 'Swizzor': 1,\n",
    " 'Agent': 2,\n",
    " 'Patched': 3,\n",
    " 'Allaple': 4,\n",
    " 'Texel': 5,\n",
    " 'Basun': 6,\n",
    " 'AutoIt': 7,\n",
    " 'NothingFound': 8,\n",
    " 'VB': 9}"
   ]
  },
  {
   "cell_type": "code",
   "execution_count": 16,
   "metadata": {
    "execution": {
     "iopub.execute_input": "2021-11-28T15:03:44.106861Z",
     "iopub.status.busy": "2021-11-28T15:03:44.104391Z",
     "iopub.status.idle": "2021-11-28T15:03:44.145349Z",
     "shell.execute_reply": "2021-11-28T15:03:44.144223Z",
     "shell.execute_reply.started": "2021-11-28T15:03:44.106812Z"
    },
    "id": "CD5IqJmXsMiz"
   },
   "outputs": [],
   "source": [
    "def vectorize_raw_samples(raw_samples, vocab_length, nworkers=10):\n",
    "    vectorized_samples = []\n",
    "    labels = []\n",
    "    lengths = []\n",
    "    for idx, (X,y) in tqdm(enumerate(raw_samples)):\n",
    "        vectorized_sample = []\n",
    "        ## map labeks to ids\n",
    "        label = label_encodings[y]\n",
    "        ## map tokens to ids\n",
    "        X_idx = sample_to_idx(X)\n",
    "        \n",
    "        ## initializing placeholder vector with unknown tokens equivalent to max_length\n",
    "        vector_sample = [0] * vocab_length\n",
    "        ## compute counts\n",
    "        counts = dict(Counter(X_idx))\n",
    "        ## creating Count Vectors \n",
    "        for index, (key, val) in enumerate(counts.items()):\n",
    "            vector_sample[key] = val\n",
    "        sequence_length = len(X_idx)\n",
    "        \n",
    "        ## append sample to respective lists\n",
    "        vectorized_samples.append(vector_sample)\n",
    "        labels.append(label)\n",
    "        lengths.append(sequence_length)\n",
    "    \n",
    "    return (torch.LongTensor(vectorized_samples), torch.LongTensor(labels), torch.LongTensor(lengths))"
   ]
  },
  {
   "cell_type": "code",
   "execution_count": 25,
   "metadata": {
    "execution": {
     "iopub.execute_input": "2021-11-28T15:07:08.406107Z",
     "iopub.status.busy": "2021-11-28T15:07:08.405796Z",
     "iopub.status.idle": "2021-11-28T15:12:50.323936Z",
     "shell.execute_reply": "2021-11-28T15:12:50.323271Z",
     "shell.execute_reply.started": "2021-11-28T15:07:08.406075Z"
    },
    "id": "BtS10ASbsMi0",
    "scrolled": true
   },
   "outputs": [
    {
     "name": "stdout",
     "output_type": "stream",
     "text": [
      "=> Processing: Train\n"
     ]
    },
    {
     "name": "stderr",
     "output_type": "stream",
     "text": [
      "10945it [04:32, 40.20it/s]\n"
     ]
    },
    {
     "name": "stdout",
     "output_type": "stream",
     "text": [
      "\n",
      "=> Processing: Test\n"
     ]
    },
    {
     "name": "stderr",
     "output_type": "stream",
     "text": [
      "2737it [01:08, 40.19it/s]\n"
     ]
    }
   ],
   "source": [
    "print('=> Processing: Train')\n",
    "train_data = vectorize_raw_samples(train_raw_samples, vocab_length=MAX_VOCAB_SIZE)\n",
    "print()\n",
    "print('=> Processing: Test')\n",
    "test_data = vectorize_raw_samples(test_raw_samples, vocab_length=MAX_VOCAB_SIZE)"
   ]
  },
  {
   "cell_type": "code",
   "execution_count": 15,
   "metadata": {
    "execution": {
     "iopub.execute_input": "2021-11-28T15:20:18.464815Z",
     "iopub.status.busy": "2021-11-28T15:20:18.464551Z",
     "iopub.status.idle": "2021-11-28T15:20:18.504513Z",
     "shell.execute_reply": "2021-11-28T15:20:18.503704Z",
     "shell.execute_reply.started": "2021-11-28T15:20:18.464770Z"
    },
    "id": "0XOHr24usMi0"
   },
   "outputs": [],
   "source": [
    "\n",
    "# Suggestions: \n",
    "#\n",
    "# (a) You can use torch.utils.data.TensorDataset to represent the tensors you created previously\n",
    "# trainset = TensorDataset(train_x, train_y)\n",
    "# testset = TensorDataset(test_x, test_y)\n",
    "#\n",
    "# (b) Store your datasets to disk so that you do not need to precompute it every time\n",
    "\n",
    "\"\"\"\n",
    "Standard Pytorch Dataset class for loading datasets.\n",
    "\"\"\"\n",
    "class MalwareDataset(Dataset):\n",
    "\n",
    "    def __init__(self, data_tensor, target_tensor, length_tensor):\n",
    "        \"\"\"\n",
    "        initializes  and populates the the length, data and target tensors, and raw texts list\n",
    "        \"\"\"\n",
    "        assert data_tensor.size(0) == target_tensor.size(0) == length_tensor.size(0)\n",
    "        self.data_tensor = data_tensor\n",
    "        self.target_tensor = target_tensor\n",
    "        self.length_tensor = length_tensor\n",
    "\n",
    "    def __getitem__(self, index):\n",
    "        \"\"\"\n",
    "        returns the tuple of data tensor, targets, lengths of sequences tensor\n",
    "        \"\"\"\n",
    "        return self.data_tensor[index], self.target_tensor[index], self.length_tensor[index]\n",
    "\n",
    "    def __len__(self):\n",
    "        \"\"\"\n",
    "        returns the length of the data tensor.\n",
    "        \"\"\"\n",
    "        return self.data_tensor.size(0)\n",
    "\n",
    "## instantiate train and test datasets\n",
    "malware_testset = MalwareDataset(test_data[0], test_data[1], test_data[2])\n",
    "malware_trainset = MalwareDataset(train_data[0], train_data[1], train_data[2])"
   ]
  },
  {
   "cell_type": "markdown",
   "metadata": {
    "id": "_l0tLsEVsMi0"
   },
   "source": [
    "# 2. Train Model\n",
    "\n",
    "You will now train an ML model on the vectorized datasets you created previously.\n",
    "\n",
    "_Note_: Although we often refer to each input as a 'vector' for simplicity, each of your inputs can also be higher dimensional tensors."
   ]
  },
  {
   "cell_type": "markdown",
   "metadata": {
    "id": "UInY1YzksMi0"
   },
   "source": [
    "## 2.a. Helpers"
   ]
  },
  {
   "cell_type": "code",
   "execution_count": 6,
   "metadata": {
    "execution": {
     "iopub.execute_input": "2021-11-28T15:19:12.977877Z",
     "iopub.status.busy": "2021-11-28T15:19:12.977292Z",
     "iopub.status.idle": "2021-11-28T15:19:13.019672Z",
     "shell.execute_reply": "2021-11-28T15:19:13.018779Z",
     "shell.execute_reply.started": "2021-11-28T15:19:12.977837Z"
    },
    "id": "VnSv0J75sMi0"
   },
   "outputs": [],
   "source": [
    "# Feel free to edit anything in this block\n",
    "## temporarily upload files to cloud for moving them around: !curl --upload-file ./train_v5700_l2000.pkl https://transfer.sh/train_v5700_l2000.pkl\n",
    "\n",
    "def evaluate_preds(y_gt, y_pred):\n",
    "    recall = recall_score(y_gt, y_pred, average='macro')\n",
    "    return recall\n",
    "\n",
    "\n",
    "def another_helper(question):\n",
    "    return 42\n",
    "\n",
    "\n",
    "def save_model(model, out_path):\n",
    "    pass\n",
    "\n",
    "\n",
    "def pickle_file(out_path, file_content):\n",
    "    with open(out_path, 'wb') as wf:\n",
    "        pickle.dump(file_content, wf)\n",
    "        \n",
    "def unpickle_file(in_path):\n",
    "    return pickle.load(open(in_path, \"rb\"))"
   ]
  },
  {
   "cell_type": "code",
   "execution_count": 3,
   "metadata": {
    "execution": {
     "iopub.execute_input": "2021-11-28T15:18:02.618328Z",
     "iopub.status.busy": "2021-11-28T15:18:02.618057Z",
     "iopub.status.idle": "2021-11-28T15:19:04.690898Z",
     "shell.execute_reply": "2021-11-28T15:19:04.690134Z",
     "shell.execute_reply.started": "2021-11-28T15:18:02.618298Z"
    }
   },
   "outputs": [
    {
     "name": "stdout",
     "output_type": "stream",
     "text": [
      "--2021-11-28 15:18:03--  https://transfer.sh/gx4mk4/test_v5701_count_vec.pkl\n",
      "Resolving transfer.sh (transfer.sh)... 144.76.136.153\n",
      "Connecting to transfer.sh (transfer.sh)|144.76.136.153|:443... connected.\n",
      "HTTP request sent, awaiting response... 200 OK\n",
      "Length: 124873877 (119M)\n",
      "Saving to: ‘test_v5701_count_vec.pkl’\n",
      "\n",
      "test_v5701_count_ve 100%[===================>] 119.09M  11.4MB/s    in 12s     \n",
      "\n",
      "2021-11-28 15:18:17 (9.89 MB/s) - ‘test_v5701_count_vec.pkl’ saved [124873877/124873877]\n",
      "\n",
      "--2021-11-28 15:18:17--  https://transfer.sh/InS52r/train_v5701_count_vec.pkl\n",
      "Resolving transfer.sh (transfer.sh)... 144.76.136.153\n",
      "Connecting to transfer.sh (transfer.sh)|144.76.136.153|:443... connected.\n",
      "HTTP request sent, awaiting response... 200 OK\n",
      "Length: 499355669 (476M)\n",
      "Saving to: ‘train_v5701_count_vec.pkl’\n",
      "\n",
      "train_v5701_count_v 100%[===================>] 476.22M  10.9MB/s    in 45s     \n",
      "\n",
      "2021-11-28 15:19:04 (10.7 MB/s) - ‘train_v5701_count_vec.pkl’ saved [499355669/499355669]\n",
      "\n"
     ]
    }
   ],
   "source": [
    "#!curl --upload-file ./test_v5701_count_vec.pkl https://transfer.sh/test_v5701_count_vec.pkl\n",
    "#pickle_file('train_v5701_count_vec.pkl', train_data)\n",
    "#pickle_file('test_v5701_count_vec.pkl', test_data)\n",
    "\n",
    "#application_vocab_5701_count_vec\n",
    "!wget https://transfer.sh/gx4mk4/test_v5701_count_vec.pkl\n",
    "#!wget https://transfer.sh/WTptcx/application_vocab_5701.pkl\n",
    "!wget https://transfer.sh/InS52r/train_v5701_count_vec.pkl\n"
   ]
  },
  {
   "cell_type": "markdown",
   "metadata": {
    "id": "PhbVzVLDsMi1"
   },
   "source": [
    "## 2.b. Define Model"
   ]
  },
  {
   "cell_type": "code",
   "execution_count": 8,
   "metadata": {
    "execution": {
     "iopub.execute_input": "2021-11-28T15:19:26.240847Z",
     "iopub.status.busy": "2021-11-28T15:19:26.240569Z",
     "iopub.status.idle": "2021-11-28T15:19:27.548992Z",
     "shell.execute_reply": "2021-11-28T15:19:27.548217Z",
     "shell.execute_reply.started": "2021-11-28T15:19:26.240813Z"
    }
   },
   "outputs": [],
   "source": [
    "test_data = unpickle_file('./test_v5701_count_vec.pkl')\n",
    "train_data = unpickle_file('./train_v5701_count_vec.pkl')\n",
    "#vocab = unpickle_file('./train_v5701_count_vec.pkl')\n",
    "#len(vocab['token_to_idx'])"
   ]
  },
  {
   "cell_type": "code",
   "execution_count": 10,
   "metadata": {
    "execution": {
     "iopub.execute_input": "2021-11-28T15:19:46.731077Z",
     "iopub.status.busy": "2021-11-28T15:19:46.730512Z",
     "iopub.status.idle": "2021-11-28T15:19:46.770435Z",
     "shell.execute_reply": "2021-11-28T15:19:46.769542Z",
     "shell.execute_reply.started": "2021-11-28T15:19:46.731036Z"
    }
   },
   "outputs": [
    {
     "data": {
      "text/plain": [
       "(torch.Size([10945, 5701]), torch.Size([2737, 5701]))"
      ]
     },
     "execution_count": 10,
     "metadata": {},
     "output_type": "execute_result"
    }
   ],
   "source": [
    "train_data[0].shape, test_data[0].shape,"
   ]
  },
  {
   "cell_type": "markdown",
   "metadata": {
    "id": "jrUKCNRgsMi1"
   },
   "source": [
    "Describe your model here."
   ]
  },
  {
   "cell_type": "code",
   "execution_count": 14,
   "metadata": {
    "execution": {
     "iopub.execute_input": "2021-11-28T15:20:10.368575Z",
     "iopub.status.busy": "2021-11-28T15:20:10.368321Z",
     "iopub.status.idle": "2021-11-28T15:20:10.407055Z",
     "shell.execute_reply": "2021-11-28T15:20:10.406363Z",
     "shell.execute_reply.started": "2021-11-28T15:20:10.368546Z"
    },
    "id": "ILB2fBRWsMi1"
   },
   "outputs": [],
   "source": [
    "# Feel free to edit anything in this block\n",
    "\n",
    "class MalwareNet(nn.Module):\n",
    "    def __init__(self, input_dim, output_dim):\n",
    "        super(MalwareNet, self).__init__()\n",
    "        # Layer definitions\n",
    "        self.layers = nn.Sequential(\n",
    "            nn.Linear(input_dim, 1024),\n",
    "            nn.ReLU(),\n",
    "            nn.Linear(1024, 512),\n",
    "            nn.ReLU(),\n",
    "             nn.Linear(512, 256),\n",
    "            nn.ReLU(),\n",
    "             nn.Linear(256, 128),\n",
    "            nn.ReLU(),\n",
    "            nn.Linear(128, output_dim)\n",
    "        )\n",
    "\n",
    "    def forward(self, x):\n",
    "        # Forward pass\n",
    "        x = self.layers(x)\n",
    "        return x"
   ]
  },
  {
   "cell_type": "markdown",
   "metadata": {
    "id": "QO1yPx7YsMi1"
   },
   "source": [
    "## 2.c. Set Hyperparameters"
   ]
  },
  {
   "cell_type": "code",
   "execution_count": 12,
   "metadata": {
    "execution": {
     "iopub.execute_input": "2021-11-28T15:19:55.452845Z",
     "iopub.status.busy": "2021-11-28T15:19:55.451997Z",
     "iopub.status.idle": "2021-11-28T15:19:55.492895Z",
     "shell.execute_reply": "2021-11-28T15:19:55.492038Z",
     "shell.execute_reply.started": "2021-11-28T15:19:55.452776Z"
    },
    "id": "0k0jLX5ksMi1"
   },
   "outputs": [],
   "source": [
    "# Define your hyperparameters here\n",
    "\n",
    "in_dims = train_data[0][0].shape[0]\n",
    "out_dims = len(label_encodings)\n",
    "\n",
    "# Optimization\n",
    "n_epochs = 100\n",
    "batch_size = 512\n",
    "lr = 0.0001"
   ]
  },
  {
   "cell_type": "markdown",
   "metadata": {
    "id": "NtpgVAO1sMi2"
   },
   "source": [
    "## 2.d. Train your Model"
   ]
  },
  {
   "cell_type": "code",
   "execution_count": 16,
   "metadata": {
    "execution": {
     "iopub.execute_input": "2021-11-28T15:20:22.826680Z",
     "iopub.status.busy": "2021-11-28T15:20:22.826432Z",
     "iopub.status.idle": "2021-11-28T15:20:22.916510Z",
     "shell.execute_reply": "2021-11-28T15:20:22.915797Z",
     "shell.execute_reply.started": "2021-11-28T15:20:22.826651Z"
    },
    "id": "Co0W2ifGsMi2"
   },
   "outputs": [],
   "source": [
    "# Feel free to edit anything in this block\n",
    "\n",
    "model = MalwareNet(input_dim=in_dims, output_dim=out_dims)\n",
    "model.train()\n",
    "\n",
    "# Optimizer\n",
    "optimizer = torch.optim.Adam(model.parameters(), lr=lr)\n",
    "\n",
    "# Data Loaders\n",
    "trainloader = DataLoader(malware_trainset, batch_size=batch_size, shuffle=True)\n",
    "testloader = DataLoader(malware_testset, batch_size=batch_size, shuffle=False)"
   ]
  },
  {
   "cell_type": "code",
   "execution_count": 17,
   "metadata": {
    "execution": {
     "iopub.execute_input": "2021-11-28T15:20:25.145237Z",
     "iopub.status.busy": "2021-11-28T15:20:25.144964Z",
     "iopub.status.idle": "2021-11-28T15:21:26.720740Z",
     "shell.execute_reply": "2021-11-28T15:21:26.719984Z",
     "shell.execute_reply.started": "2021-11-28T15:20:25.145209Z"
    },
    "id": "3afVBWVKsMi2"
   },
   "outputs": [
    {
     "name": "stdout",
     "output_type": "stream",
     "text": [
      "[0/100] Train loss: 56.223865270614624 Recall score: 0.3515160729936873\n",
      "[0/100] Validation Recall score: 0.4322020521614337\n",
      "[1/100] Train loss: 40.63197147846222 Recall score: 0.48308307181388643\n",
      "[1/100] Validation Recall score: 0.4990515038725404\n",
      "[2/100] Train loss: 34.97491776943207 Recall score: 0.5083898147610227\n",
      "[2/100] Validation Recall score: 0.5098675749102016\n",
      "[3/100] Train loss: 32.39625704288483 Recall score: 0.5198836035039245\n",
      "[3/100] Validation Recall score: 0.5227269491214417\n",
      "[4/100] Train loss: 31.59437906742096 Recall score: 0.5236791933043127\n",
      "[4/100] Validation Recall score: 0.5424838450793393\n",
      "[5/100] Train loss: 31.273401141166687 Recall score: 0.586539911549015\n",
      "[5/100] Validation Recall score: 0.5969203694193895\n",
      "[6/100] Train loss: 27.51939332485199 Recall score: 0.5954016665408159\n",
      "[6/100] Validation Recall score: 0.5743492775489452\n",
      "[7/100] Train loss: 25.107501685619354 Recall score: 0.6143571411308667\n",
      "[7/100] Validation Recall score: 0.5557558904825306\n",
      "[8/100] Train loss: 24.05831867456436 Recall score: 0.612322732668151\n",
      "[8/100] Validation Recall score: 0.5233423611698946\n",
      "[9/100] Train loss: 23.66814649105072 Recall score: 0.6083461559126826\n",
      "[9/100] Validation Recall score: 0.5905060027952549\n",
      "[10/100] Train loss: 21.547623872756958 Recall score: 0.6227407097924689\n",
      "[10/100] Validation Recall score: 0.6349494943761497\n",
      "[11/100] Train loss: 21.216910660266876 Recall score: 0.6533686892155851\n",
      "[11/100] Validation Recall score: 0.6296028165075567\n",
      "[12/100] Train loss: 19.51955336332321 Recall score: 0.6635289933230236\n",
      "[12/100] Validation Recall score: 0.6499521435795612\n",
      "[13/100] Train loss: 18.148133993148804 Recall score: 0.6675325050756948\n",
      "[13/100] Validation Recall score: 0.6488947500484156\n",
      "[14/100] Train loss: 19.398752689361572 Recall score: 0.661310803372348\n",
      "[14/100] Validation Recall score: 0.6470433760661163\n",
      "[15/100] Train loss: 17.18913894891739 Recall score: 0.676311446876529\n",
      "[15/100] Validation Recall score: 0.6032665840228371\n",
      "[16/100] Train loss: 17.481413960456848 Recall score: 0.6713664252109813\n",
      "[16/100] Validation Recall score: 0.6631958729764091\n",
      "[17/100] Train loss: 16.580077826976776 Recall score: 0.6862498216992959\n",
      "[17/100] Validation Recall score: 0.6693409009255791\n",
      "[18/100] Train loss: 17.404241800308228 Recall score: 0.6904000414535242\n",
      "[18/100] Validation Recall score: 0.6711774408028024\n",
      "[19/100] Train loss: 15.736792087554932 Recall score: 0.6872410871094382\n",
      "[19/100] Validation Recall score: 0.6707379596721861\n",
      "[20/100] Train loss: 14.42499166727066 Recall score: 0.6976826304847449\n",
      "[20/100] Validation Recall score: 0.653958442683305\n",
      "[21/100] Train loss: 14.812811553478241 Recall score: 0.687624849090726\n",
      "[21/100] Validation Recall score: 0.6757769951308018\n",
      "[22/100] Train loss: 16.282769799232483 Recall score: 0.6915392858323375\n",
      "[22/100] Validation Recall score: 0.731613724538777\n",
      "[23/100] Train loss: 14.17081344127655 Recall score: 0.7228045194309447\n",
      "[23/100] Validation Recall score: 0.7094033765338268\n",
      "[24/100] Train loss: 15.499572396278381 Recall score: 0.7478535367381497\n",
      "[24/100] Validation Recall score: 0.6863894080871062\n",
      "[25/100] Train loss: 15.418445467948914 Recall score: 0.753966066744474\n",
      "[25/100] Validation Recall score: 0.7302106180802945\n",
      "[26/100] Train loss: 13.442915737628937 Recall score: 0.75917106393376\n",
      "[26/100] Validation Recall score: 0.732052729814053\n",
      "[27/100] Train loss: 12.404504239559174 Recall score: 0.7689756692968224\n",
      "[27/100] Validation Recall score: 0.7373951897945618\n",
      "[28/100] Train loss: 12.114435076713562 Recall score: 0.7662133509716043\n",
      "[28/100] Validation Recall score: 0.7439373200816256\n",
      "[29/100] Train loss: 12.17051813006401 Recall score: 0.7723888880663518\n",
      "[29/100] Validation Recall score: 0.7463133853029438\n",
      "[30/100] Train loss: 11.980940163135529 Recall score: 0.7706750275732555\n",
      "[30/100] Validation Recall score: 0.7384549142096023\n",
      "[31/100] Train loss: 13.769907981157303 Recall score: 0.7614623936064145\n",
      "[31/100] Validation Recall score: 0.7177826532460718\n",
      "[32/100] Train loss: 12.173414587974548 Recall score: 0.7721781849304892\n",
      "[32/100] Validation Recall score: 0.7556774818312478\n",
      "[33/100] Train loss: 11.891448318958282 Recall score: 0.7748951679335061\n",
      "[33/100] Validation Recall score: 0.7579293109002835\n",
      "[34/100] Train loss: 11.874739825725555 Recall score: 0.7658452267985936\n",
      "[34/100] Validation Recall score: 0.729672941240366\n",
      "[35/100] Train loss: 12.097352296113968 Recall score: 0.7705131007322339\n",
      "[35/100] Validation Recall score: 0.7382315438649675\n",
      "[36/100] Train loss: 11.743798047304153 Recall score: 0.771795263260761\n",
      "[36/100] Validation Recall score: 0.7571849673681917\n",
      "[37/100] Train loss: 11.4158396422863 Recall score: 0.7760498103900764\n",
      "[37/100] Validation Recall score: 0.7558531744520774\n",
      "[38/100] Train loss: 10.865972816944122 Recall score: 0.7838539284008439\n",
      "[38/100] Validation Recall score: 0.7587336637698293\n",
      "[39/100] Train loss: 10.571798771619797 Recall score: 0.7872265815180111\n",
      "[39/100] Validation Recall score: 0.7425994459971438\n",
      "[40/100] Train loss: 10.65919840335846 Recall score: 0.7854793937872986\n",
      "[40/100] Validation Recall score: 0.7455031593234461\n",
      "[41/100] Train loss: 10.666116535663605 Recall score: 0.7795836905816919\n",
      "[41/100] Validation Recall score: 0.7612071196053565\n",
      "[42/100] Train loss: 10.509893655776978 Recall score: 0.7831616606058365\n",
      "[42/100] Validation Recall score: 0.7554378767471679\n",
      "[43/100] Train loss: 10.314651548862457 Recall score: 0.7910092686040998\n",
      "[43/100] Validation Recall score: 0.7497468741096129\n",
      "[44/100] Train loss: 10.84885385632515 Recall score: 0.7865460561961439\n",
      "[44/100] Validation Recall score: 0.754817509407834\n",
      "[45/100] Train loss: 11.482988476753235 Recall score: 0.7808922690546445\n",
      "[45/100] Validation Recall score: 0.7639103901743951\n",
      "[46/100] Train loss: 10.523779332637787 Recall score: 0.7847986402295005\n",
      "[46/100] Validation Recall score: 0.7551313575478678\n",
      "[47/100] Train loss: 11.161149561405182 Recall score: 0.7836634935048052\n",
      "[47/100] Validation Recall score: 0.6947054634416332\n",
      "[48/100] Train loss: 10.255930453538895 Recall score: 0.784630069151752\n",
      "[48/100] Validation Recall score: 0.7626140215325868\n",
      "[49/100] Train loss: 9.898230373859406 Recall score: 0.7944163906123871\n",
      "[49/100] Validation Recall score: 0.7289426388378324\n",
      "[50/100] Train loss: 9.620160102844238 Recall score: 0.7955483334459637\n",
      "[50/100] Validation Recall score: 0.7608465957926418\n",
      "[51/100] Train loss: 10.348480492830276 Recall score: 0.7898679677689798\n",
      "[51/100] Validation Recall score: 0.7500981215221861\n",
      "[52/100] Train loss: 10.338558077812195 Recall score: 0.7920041580884352\n",
      "[52/100] Validation Recall score: 0.7420506893148471\n",
      "[53/100] Train loss: 10.04889103770256 Recall score: 0.7898354253073276\n",
      "[53/100] Validation Recall score: 0.7469020792262062\n",
      "[54/100] Train loss: 9.80750522017479 Recall score: 0.7931601405580053\n",
      "[54/100] Validation Recall score: 0.7624936699452585\n",
      "[55/100] Train loss: 9.581246882677078 Recall score: 0.7928655574800779\n",
      "[55/100] Validation Recall score: 0.7657996106270836\n",
      "[56/100] Train loss: 9.495479136705399 Recall score: 0.7935353916047331\n",
      "[56/100] Validation Recall score: 0.7491483838856382\n",
      "[57/100] Train loss: 9.74106940627098 Recall score: 0.7939654152153425\n",
      "[57/100] Validation Recall score: 0.7638904243077849\n",
      "[58/100] Train loss: 10.1769859790802 Recall score: 0.7962435128852786\n",
      "[58/100] Validation Recall score: 0.7427469820011974\n",
      "[59/100] Train loss: 10.064377576112747 Recall score: 0.7912958524583751\n",
      "[59/100] Validation Recall score: 0.753940172493673\n",
      "[60/100] Train loss: 9.630200922489166 Recall score: 0.7929029748320169\n",
      "[60/100] Validation Recall score: 0.7553606748276865\n",
      "[61/100] Train loss: 9.830323606729507 Recall score: 0.7863775988449564\n",
      "[61/100] Validation Recall score: 0.7721325824254318\n",
      "[62/100] Train loss: 9.873196244239807 Recall score: 0.7926982876543306\n",
      "[62/100] Validation Recall score: 0.7678946620106327\n",
      "[63/100] Train loss: 9.276938796043396 Recall score: 0.7953133017580253\n",
      "[63/100] Validation Recall score: 0.7692071022362372\n",
      "[64/100] Train loss: 9.29786592721939 Recall score: 0.8004324505127988\n",
      "[64/100] Validation Recall score: 0.7592217752805546\n",
      "[65/100] Train loss: 9.061902195215225 Recall score: 0.8008612670299563\n",
      "[65/100] Validation Recall score: 0.7476541942366932\n",
      "[66/100] Train loss: 9.091457426548004 Recall score: 0.7996476152496806\n",
      "[66/100] Validation Recall score: 0.7581111236430653\n",
      "[67/100] Train loss: 9.318541318178177 Recall score: 0.8004892960963362\n",
      "[67/100] Validation Recall score: 0.7594166878827744\n",
      "[68/100] Train loss: 9.099570572376251 Recall score: 0.8022441745654636\n",
      "[68/100] Validation Recall score: 0.7687247450565838\n",
      "[69/100] Train loss: 8.98200461268425 Recall score: 0.8030117068547848\n",
      "[69/100] Validation Recall score: 0.7741086319662165\n",
      "[70/100] Train loss: 8.930435955524445 Recall score: 0.8042539525230774\n",
      "[70/100] Validation Recall score: 0.7564605476521415\n",
      "[71/100] Train loss: 8.99581292271614 Recall score: 0.8036220706502668\n",
      "[71/100] Validation Recall score: 0.7712953566496494\n",
      "[72/100] Train loss: 8.864083766937256 Recall score: 0.808466430708809\n",
      "[72/100] Validation Recall score: 0.7688737891167315\n",
      "[73/100] Train loss: 8.89286756515503 Recall score: 0.8032399982806091\n",
      "[73/100] Validation Recall score: 0.7533907889105803\n",
      "[74/100] Train loss: 9.014783948659897 Recall score: 0.8020593740307558\n",
      "[74/100] Validation Recall score: 0.7708797000836409\n",
      "[75/100] Train loss: 9.178855508565903 Recall score: 0.8018496374275351\n",
      "[75/100] Validation Recall score: 0.7667918897975975\n",
      "[76/100] Train loss: 9.163614839315414 Recall score: 0.7999291723389833\n",
      "[76/100] Validation Recall score: 0.7683962360990548\n",
      "[77/100] Train loss: 8.779974341392517 Recall score: 0.8079822859385868\n",
      "[77/100] Validation Recall score: 0.7775486051220577\n",
      "[78/100] Train loss: 8.740982055664062 Recall score: 0.809303019975338\n",
      "[78/100] Validation Recall score: 0.7638998968499969\n",
      "[79/100] Train loss: 8.785961538553238 Recall score: 0.8069909962691652\n",
      "[79/100] Validation Recall score: 0.7727963038168454\n",
      "[80/100] Train loss: 8.683881491422653 Recall score: 0.8112938592270673\n",
      "[80/100] Validation Recall score: 0.7719990384490133\n",
      "[81/100] Train loss: 8.614996045827866 Recall score: 0.8057021426670452\n",
      "[81/100] Validation Recall score: 0.7702206462982885\n",
      "[82/100] Train loss: 8.926189333200455 Recall score: 0.8038294724320674\n",
      "[82/100] Validation Recall score: 0.7738123125606725\n",
      "[83/100] Train loss: 9.158589571714401 Recall score: 0.8027102109000929\n",
      "[83/100] Validation Recall score: 0.7747584897420609\n",
      "[84/100] Train loss: 8.757144421339035 Recall score: 0.8105090570333549\n",
      "[84/100] Validation Recall score: 0.7751145975472824\n",
      "[85/100] Train loss: 8.751680314540863 Recall score: 0.8098267708608425\n",
      "[85/100] Validation Recall score: 0.7536192341855819\n",
      "[86/100] Train loss: 8.850116312503815 Recall score: 0.807033704112413\n",
      "[86/100] Validation Recall score: 0.7720933996500525\n",
      "[87/100] Train loss: 8.942078948020935 Recall score: 0.8083332296226716\n",
      "[87/100] Validation Recall score: 0.758529821699976\n",
      "[88/100] Train loss: 9.187501937150955 Recall score: 0.8032437623130738\n",
      "[88/100] Validation Recall score: 0.7742588594163919\n",
      "[89/100] Train loss: 9.418461292982101 Recall score: 0.7989700432506371\n",
      "[89/100] Validation Recall score: 0.7745332025873412\n",
      "[90/100] Train loss: 8.737392902374268 Recall score: 0.8120226507132667\n",
      "[90/100] Validation Recall score: 0.7529426910817003\n",
      "[91/100] Train loss: 8.708090633153915 Recall score: 0.8032220571254542\n",
      "[91/100] Validation Recall score: 0.7671610036120307\n",
      "[92/100] Train loss: 8.792966306209564 Recall score: 0.8106387471710402\n",
      "[92/100] Validation Recall score: 0.7755930866418062\n",
      "[93/100] Train loss: 8.57650887966156 Recall score: 0.8155399485167292\n",
      "[93/100] Validation Recall score: 0.7586914321229494\n",
      "[94/100] Train loss: 8.77235522866249 Recall score: 0.8078344515720183\n",
      "[94/100] Validation Recall score: 0.7817500489459049\n",
      "[95/100] Train loss: 9.138344496488571 Recall score: 0.797993594813063\n",
      "[95/100] Validation Recall score: 0.7723857630263523\n",
      "[96/100] Train loss: 9.665660500526428 Recall score: 0.7979872460916154\n",
      "[96/100] Validation Recall score: 0.7590455402958722\n",
      "[97/100] Train loss: 9.466135025024414 Recall score: 0.8013218219754755\n",
      "[97/100] Validation Recall score: 0.7685853969299534\n",
      "[98/100] Train loss: 8.696150302886963 Recall score: 0.8118473666460639\n",
      "[98/100] Validation Recall score: 0.779088728307627\n",
      "[99/100] Train loss: 8.683765888214111 Recall score: 0.8118444537961949\n",
      "[99/100] Validation Recall score: 0.7788150414424861\n"
     ]
    }
   ],
   "source": [
    "\n",
    "# Example:\n",
    "# for epoch in range(n_epochs):\n",
    "#     ... train ...\n",
    "#     ... validate ...\n",
    "\n",
    "device = device = torch.device(\"cuda\" if torch.cuda.is_available() else \"cpu\")\n",
    "model.to(device)\n",
    "criterion = nn.CrossEntropyLoss() ## since we are doing multiclass classification\n",
    "for epoch in range(n_epochs):\n",
    "    y_true = list()\n",
    "    y_pred = list()\n",
    "    total_loss = 0\n",
    "    for batch, targets, lengths in trainloader:\n",
    "        \n",
    "        ## perform forward pass  \n",
    "        batch = batch.type(torch.FloatTensor).to(device)\n",
    "        pred = model(batch) \n",
    "        preds = torch.max(pred, 1)[1]\n",
    "        \n",
    "        ## accumulate predictions per batch for the epoch\n",
    "        y_pred += list([x.item() for x in preds.detach().cpu().numpy()])\n",
    "        targets = torch.LongTensor([x.item() for x in list(targets)])\n",
    "        y_true +=  list([x.item() for x in targets.detach().cpu().numpy()])\n",
    "        \n",
    "        ## compute loss and perform backward pass\n",
    "        loss = criterion(pred.to(device), targets.to(device)) ## compute loss \n",
    "        optimizer.zero_grad()\n",
    "        loss.backward() \n",
    "        optimizer.step()\n",
    "        \n",
    "        ## accumulate train loss\n",
    "        total_loss += loss.item() \n",
    "        \n",
    "    print(f\"[{epoch}/{n_epochs}] Train loss: {total_loss} Recall score: {evaluate_preds(y_true, y_pred)}\")\n",
    "    \n",
    "    ## init placeholder for predictions and groundtruth\n",
    "    y_true_val = list()\n",
    "    y_pred_val = list()\n",
    "    ## perform validation pass\n",
    "    for batch, targets, lengths in testloader:\n",
    "        ## perform forward pass  \n",
    "        batch = batch.type(torch.FloatTensor).to(device)\n",
    "        pred = model(batch) \n",
    "        preds = torch.max(pred, 1)[1]\n",
    "        \n",
    "        ## accumulate predictions per batch for the epoch\n",
    "        y_pred_val += list([x.item() for x in preds.detach().cpu().numpy()])\n",
    "        targets = torch.LongTensor([x.item() for x in list(targets)])\n",
    "        y_true_val +=  list([x.item() for x in targets.detach().cpu().numpy()])\n",
    "    print(f\"[{epoch}/{n_epochs}] Validation Recall score: {evaluate_preds(y_true_val, y_pred_val)}\")\n",
    "        "
   ]
  },
  {
   "cell_type": "markdown",
   "metadata": {
    "id": "Z5w-7O5jsMi2"
   },
   "source": [
    "## 2.e. Evaluate model"
   ]
  },
  {
   "cell_type": "code",
   "execution_count": null,
   "metadata": {
    "id": "CMbzX1h4sMi2"
   },
   "outputs": [],
   "source": [
    "#\n",
    "#\n",
    "# ------- Your Code -------\n",
    "#\n",
    "# "
   ]
  },
  {
   "cell_type": "markdown",
   "metadata": {
    "id": "U_GE1BQjsMi3"
   },
   "source": [
    "## 2.f. Save Model + Data"
   ]
  },
  {
   "cell_type": "code",
   "execution_count": null,
   "metadata": {
    "id": "4Xvo--GIsMi3"
   },
   "outputs": [],
   "source": [
    "#\n",
    "#\n",
    "# ------- Your Code -------\n",
    "#\n",
    "# "
   ]
  },
  {
   "cell_type": "markdown",
   "metadata": {
    "id": "W-UQbfCrsMi3"
   },
   "source": [
    "---"
   ]
  },
  {
   "cell_type": "markdown",
   "metadata": {
    "id": "uLD6dur1sMi3"
   },
   "source": [
    "# 3. Analysis"
   ]
  },
  {
   "cell_type": "markdown",
   "metadata": {
    "id": "1QRKxLsPsMi3"
   },
   "source": [
    "## 3.a. Summary: Main Results\n",
    "\n",
    "Summarize your approach and results here"
   ]
  },
  {
   "cell_type": "markdown",
   "metadata": {
    "id": "dNKqJAoasMi4"
   },
   "source": [
    "## 3.b. Discussion\n",
    "\n",
    "Enter your final summary here.\n",
    "\n",
    "For instance, you can address:\n",
    "- What was the performance you obtained with the simplest approach?\n",
    "- Which vectorized input representations helped more than the others?\n",
    "- Which malwares are difficult to detect and why?\n",
    "- Which approach do you recommend to perform malware classification?"
   ]
  },
  {
   "cell_type": "code",
   "execution_count": null,
   "metadata": {
    "id": "xYGR9ID1sMi4"
   },
   "outputs": [],
   "source": []
  }
 ],
 "metadata": {
  "kernelspec": {
   "display_name": "Python 3",
   "language": "python",
   "name": "python3"
  },
  "language_info": {
   "codemirror_mode": {
    "name": "ipython",
    "version": 3
   },
   "file_extension": ".py",
   "mimetype": "text/x-python",
   "name": "python",
   "nbconvert_exporter": "python",
   "pygments_lexer": "ipython3",
   "version": "3.8.5"
  }
 },
 "nbformat": 4,
 "nbformat_minor": 4
}
