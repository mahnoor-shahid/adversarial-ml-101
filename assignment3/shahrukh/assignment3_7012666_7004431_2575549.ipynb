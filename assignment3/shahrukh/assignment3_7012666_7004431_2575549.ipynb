{
 "cells": [
  {
   "cell_type": "code",
   "execution_count": 2,
   "metadata": {},
   "outputs": [
    {
     "name": "stdout",
     "output_type": "stream",
     "text": [
      "/Users/shahrukh/Desktop/ml-cybersecurity/assignment3/shahrukh/data\n",
      "--2021-12-02 19:09:54--  https://nextcloud.mpi-klsb.mpg.de/index.php/s/pJrRGzm2So2PMZm/download\n",
      "Resolving nextcloud.mpi-klsb.mpg.de (nextcloud.mpi-klsb.mpg.de)... 139.19.205.150\n",
      "Connecting to nextcloud.mpi-klsb.mpg.de (nextcloud.mpi-klsb.mpg.de)|139.19.205.150|:443... connected.\n",
      "HTTP request sent, awaiting response... 200 OK\n",
      "Length: 134409420 (128M) [application/x-gzip]\n",
      "Saving to: ‘train.tar.gz’\n",
      "\n",
      "train.tar.gz        100%[===================>] 128.18M  6.72MB/s    in 21s     \n",
      "\n",
      "2021-12-02 19:10:14 (6.23 MB/s) - ‘train.tar.gz’ saved [134409420/134409420]\n",
      "\n",
      "--2021-12-02 19:10:33--  https://nextcloud.mpi-klsb.mpg.de/index.php/s/zN3yeWzQB3i5WqE/download\n",
      "Resolving nextcloud.mpi-klsb.mpg.de (nextcloud.mpi-klsb.mpg.de)... 139.19.205.150\n",
      "Connecting to nextcloud.mpi-klsb.mpg.de (nextcloud.mpi-klsb.mpg.de)|139.19.205.150|:443... connected.\n",
      "HTTP request sent, awaiting response... 200 OK\n",
      "Length: 96255569 (92M) [application/x-gzip]\n",
      "Saving to: ‘test.tar.gz’\n",
      "\n",
      "test.tar.gz         100%[===================>]  91.80M  5.92MB/s    in 16s     \n",
      "\n",
      "2021-12-02 19:10:49 (5.77 MB/s) - ‘test.tar.gz’ saved [96255569/96255569]\n",
      "\n",
      "/Users/shahrukh/Desktop/ml-cybersecurity/assignment3/shahrukh\n",
      "--2021-12-02 19:11:01--  https://raw.githubusercontent.com/shahrukhx01/ocr-test/main/application_vocab_5521.pkl\n",
      "Resolving raw.githubusercontent.com (raw.githubusercontent.com)... 185.199.110.133, 185.199.108.133, 185.199.111.133, ...\n",
      "Connecting to raw.githubusercontent.com (raw.githubusercontent.com)|185.199.110.133|:443... connected.\n",
      "HTTP request sent, awaiting response... 200 OK\n",
      "Length: 158028 (154K) [application/octet-stream]\n",
      "Saving to: ‘application_vocab_5521.pkl’\n",
      "\n",
      "application_vocab_5 100%[===================>] 154.32K  --.-KB/s    in 0.05s   \n",
      "\n",
      "2021-12-02 19:11:02 (3.24 MB/s) - ‘application_vocab_5521.pkl’ saved [158028/158028]\n",
      "\n"
     ]
    }
   ],
   "source": [
    "## install additional packages\n",
    "!pip install optuna seaborn\n",
    "\n",
    "## download and unzip train/test datasets\n",
    "!mkdir data\n",
    "%cd data\n",
    "!wget https://nextcloud.mpi-klsb.mpg.de/index.php/s/pJrRGzm2So2PMZm/download -O train.tar.gz \n",
    "!tar xzf train.tar.gz\n",
    "!wget https://nextcloud.mpi-klsb.mpg.de/index.php/s/zN3yeWzQB3i5WqE/download -O test.tar.gz \n",
    "!tar xzf test.tar.gz\n",
    "%cd ..\n",
    "\n",
    "## download precomputed vocab\n",
    "!wget https://raw.githubusercontent.com/shahrukhx01/ocr-test/main/application_vocab_5521.pkl"
   ]
  },
  {
   "cell_type": "markdown",
   "metadata": {
    "id": "qKo3S_fOsMim"
   },
   "source": [
    "# ML in Cybersecurity: Task 3\n",
    "\n",
    "## Team\n",
    "  * **Team name**:  *R2D2C3P0BB8*\n",
    "  * **Members**:  <br/> **Navdeeppal Singh (s8nlsing@stud.uni-saarland.de)** <br/> **Shahrukh Khan (shkh00001@stud.uni-saarland.de)** <br/> **Mahnoor Shahid (mash00001@stud.uni-saarland.de)**\n",
    "\n",
    "\n",
    "## Logistics\n",
    "  * **Due date**: 9th December 2021, 23:59:59\n",
    "  * Email the completed notebook to: `mlcysec_ws2022_staff@lists.cispa.saarland`\n",
    "  * Complete this in **teams of 3**\n",
    "  * Feel free to use the forum to discuss.\n",
    "  \n",
    "## Timeline\n",
    "  * 26-Nov-2021: hand-out\n",
    "  * **09-Dec-2021**: Email completed notebook\n",
    "  \n",
    "  \n",
    "## About this Project\n",
    "In this project, you will explore an application of ML to a popular task in cybersecurity: malware classification.\n",
    "You will be presented with precomputed behaviour analysis reports of thousands of program binaries, many of which are malwares.\n",
    "Your goal is to train a malware detector using this behavioural reports.\n",
    "\n",
    "\n",
    "## A Note on Grading\n",
    "The grading for this project will depend on:\n",
    " 1. Vectorizing Inputs\n",
    "   * Obtaining a reasonable vectorized representations of the input data (a file containing a sequence of system calls)\n",
    "   * Understanding the influence these representations have on your model\n",
    " 1. Classification Model  \n",
    "   * Following a clear ML pipeline\n",
    "   * Obtaining reasonable performances (>60\\%) on held-out test set\n",
    "   * Choice of evaluation metric\n",
    "   * Visualizing loss/accuracy curves\n",
    " 1. Analysis\n",
    "   * Which methods (input representations/ML models) work better than the rest and why?\n",
    "   * Which hyper-parameters and design-choices were important in each of your methods?\n",
    "   * Quantifying influence of these hyper-parameters on loss and/or validation accuracies\n",
    "   * Trade-offs between methods, hyper-parameters, design-choices\n",
    "   * Anything else you find interesting (this part is open-ended)\n",
    "\n",
    "\n",
    "## Grading Details\n",
    " * 40 points: Vectorizing input data (each input = behaviour analysis file in our case)\n",
    " * 40 points: Training a classification model\n",
    " * 15 points: Analysis/Discussion\n",
    " * 5 points: Clean code\n",
    " \n",
    "## Filling-in the Notebook\n",
    "You'll be submitting this very notebook that is filled-in with your code and analysis. Make sure you submit one that has been previously executed in-order. (So that results/graphs are already visible upon opening it). \n",
    "\n",
    "The notebook you submit **should compile** (or should be self-contained and sufficiently commented). Check tutorial 1 on how to set up the Python3 environment.\n",
    "\n",
    "\n",
    "**The notebook is your project report. So, to make the report readable, omit code for techniques/models/things that did not work. You can use the final summary to provide a report about these.**\n",
    "\n",
    "It is extremely important that you **do not** re-order the existing sections. Apart from that, the code blocks that you need to fill-in are given by:\n",
    "```\n",
    "#\n",
    "#\n",
    "# ------- Your Code -------\n",
    "#\n",
    "#\n",
    "```\n",
    "Feel free to break this into multiple-cells. It's even better if you interleave explanations and code-blocks so that the entire notebook forms a readable \"story\".\n",
    "\n",
    "\n",
    "## Code of Honor\n",
    "We encourage discussing ideas and concepts with other students to help you learn and better understand the course content. However, the work you submit and present **must be original** and demonstrate your effort in solving the presented problems. **We will not tolerate** blatantly using existing solutions (such as from the internet), improper collaboration (e.g., sharing code or experimental data between groups) and plagiarism. If the honor code is not met, no points will be awarded.\n",
    "\n",
    " \n",
    " ## Versions\n",
    "  * v1.1: Updated deadline\n",
    "  * v1.0: Initial notebook\n",
    "  \n",
    "  ---"
   ]
  },
  {
   "cell_type": "code",
   "execution_count": 1,
   "metadata": {
    "id": "uyCiLbXbsMiq",
    "tags": []
   },
   "outputs": [],
   "source": [
    "import time \n",
    " \n",
    "import numpy as np \n",
    "import matplotlib.pyplot as plt \n",
    "\n",
    "import json \n",
    "import time \n",
    "import pickle \n",
    "import sys \n",
    "import csv \n",
    "import os \n",
    "import os.path as osp \n",
    "import shutil \n",
    "import pathlib\n",
    "from pathlib import Path\n",
    "\n",
    "from IPython.display import display, HTML\n",
    " \n",
    "%matplotlib inline \n",
    "plt.rcParams['figure.figsize'] = (10.0, 8.0) # set default size of plots \n",
    "plt.rcParams['image.interpolation'] = 'nearest' \n",
    "plt.rcParams['image.cmap'] = 'gray' \n",
    " \n",
    "# for auto-reloading external modules \n",
    "# see http://stackoverflow.com/questions/1907993/autoreload-of-modules-in-ipython \n",
    "%load_ext autoreload\n",
    "%autoreload 2"
   ]
  },
  {
   "cell_type": "code",
   "execution_count": 27,
   "metadata": {
    "id": "7dHogdxRsMis",
    "tags": []
   },
   "outputs": [],
   "source": [
    "# Some suggestions of our libraries that might be helpful for this project\n",
    "from collections import Counter          # an even easier way to count\n",
    "from multiprocessing import Pool         # for multiprocessing\n",
    "from tqdm import tqdm                    # fancy progress bars\n",
    "\n",
    "# Load other libraries here.\n",
    "import pandas as pd\n",
    "import warnings\n",
    "import seaborn as sns\n",
    "import optuna\n",
    "from optuna.visualization import plot_optimization_history, plot_parallel_coordinate, plot_param_importances, plot_slice\n",
    "from sklearn.metrics import recall_score, plot_confusion_matrix, accuracy_score, classification_report\n",
    "# Keep it minimal! We should be easily able to reproduce your code.\n",
    "\n",
    "# We preload pytorch as an example\n",
    "import torch\n",
    "import torch.nn as nn\n",
    "import torch.nn.functional as F\n",
    "import torch.optim as optim\n",
    "from torch.utils.data import DataLoader, Dataset, TensorDataset"
   ]
  },
  {
   "cell_type": "markdown",
   "metadata": {
    "id": "oJWkh3GUsMit"
   },
   "source": [
    "# Setup\n",
    "\n",
    "  * Download the datasets: [train](https://nextcloud.mpi-klsb.mpg.de/index.php/s/pJrRGzm2So2PMZm) (128M) and [test](https://nextcloud.mpi-klsb.mpg.de/index.php/s/zN3yeWzQB3i5WqE) (92M)\n",
    "  * Unpack them under `./data/train` and `./data/test`\n",
    "  * Hint: you can execute shell scripts from notebooks using the `!` prefix, e.g., `! wget <url>`"
   ]
  },
  {
   "cell_type": "code",
   "execution_count": 3,
   "metadata": {
    "id": "wlhs4w44sMit"
   },
   "outputs": [
    {
     "name": "stdout",
     "output_type": "stream",
     "text": [
      "# train examples (Should be 13682) :  13682\n",
      "# test examples (Should be 10000) :  10000\n"
     ]
    }
   ],
   "source": [
    "# Check that you are prepared with the data\n",
    "try:\n",
    "    print(f\"# train examples (Should be 13682) : \", len(os.listdir('./data/train')))\n",
    "    print(f\"# test examples (Should be 10000) : \", len(os.listdir('./data/test')))\n",
    "\n",
    "except Exception as e:\n",
    "    print(\"You don't have the data!\")"
   ]
  },
  {
   "cell_type": "markdown",
   "metadata": {
    "id": "Zh1-JHNIsMiv"
   },
   "source": [
    "Now that you're set, let's briefly look at the data you have been handed.\n",
    "Each file encodes the behavior report of a program (potentially a malware), using an encoding scheme called \"The Malware Instruction Set\" (MIST for short).\n",
    "At this point, we highly recommend you briefly read-up Sec. 2 of the [MIST](http://www.mlsec.org/malheur/docs/mist-tr.pdf) documentation.\n",
    "\n",
    "You will find each file named as `filename.<malwarename>`:\n",
    "```\n",
    "» ls data/train | head\n",
    "00005ecc06ae3e489042e979717bb1455f17ac9d.NothingFound\n",
    "0008e3d188483aeae0de62d8d3a1479bd63ed8c9.Basun\n",
    "000d2eea77ee037b7ef99586eb2f1433991baca9.Patched\n",
    "000d996fa8f3c83c1c5568687bb3883a543ec874.Basun\n",
    "0010f78d3ffee61101068a0722e09a98959a5f2c.Basun\n",
    "0013cd0a8febd88bfc4333e20486bd1a9816fcbf.Basun\n",
    "0014aca72eb88a7f20fce5a4e000c1f7fff4958a.Texel\n",
    "001ffc75f24a0ae63a7033a01b8152ba371f6154.Texel\n",
    "0022d6ba67d556b931e3ab26abcd7490393703c4.Basun\n",
    "0028c307a125cf0fdc97d7a1ffce118c6e560a70.Swizzor\n",
    "...\n",
    "```\n",
    "and within each file, you will see a sequence of individual systems calls monitored duing the run-time of the binary - a malware named 'Basun' in the case:\n",
    "```\n",
    "» head data/train/000d996fa8f3c83c1c5568687bb3883a543ec874.Basun\n",
    "# process 000006c8 0000066a 022c82f4 00000000 thread 0001 #\n",
    "02 01 | 000006c8 0000066a 00015000\n",
    "02 02 | 00006b2c 047c8042 000b9000\n",
    "02 02 | 00006b2c 047c8042 00108000\n",
    "02 02 | 00006b2c 047c8042 00153000\n",
    "02 02 | 00006b2c 047c8042 00091000\n",
    "02 02 | 00006b2c 047c8042 00049000\n",
    "02 02 | 00006b2c 047c8042 000aa000\n",
    "02 02 | 00006b2c 047c8042 00092000\n",
    "02 02 | 00006b2c 047c8042 00011000\n",
    "...\n",
    "```\n",
    "(**Note**: Please ignore the first line that begins with `# process ...`.)\n",
    "\n",
    "Your task in this project is to train a malware detector, which given the sequence of system calls (in the MIST-formatted file like above), predicts one of 10 classes: `{ Agent, Allaple, AutoIt, Basun, NothingFound, Patched, Swizzor, Texel, VB, Virut }`, where `NothingFound` roughly represents no malware is present.\n",
    "In terms of machine learning terminology, your malware detector $F: X \\rightarrow Y$ should learn a mapping from the MIST-encoded behaviour report (the input $x \\in X$) to the malware class $y \\in Y$.\n",
    "\n",
    "Consequently, you will primarily tackle two challenges in this project:\n",
    "  1. \"Vectorizing\" the input data i.e., representing each input (file) as a tensor\n",
    "  1. Training an ML model\n",
    "  \n",
    "\n",
    "### Some tips:\n",
    "  * Begin with an extremely simple representation/ML model and get above chance-level classification performance\n",
    "  * Choose your evaluation metric wisely\n",
    "  * Save intermediate computations (e.g., a token to index mapping). This will avoid you parsing the entire dataset for every experiment\n",
    "  * Try using `multiprocessing.Pool` to parallelize your `for` loops"
   ]
  },
  {
   "cell_type": "markdown",
   "metadata": {
    "id": "p8xloR8dsMiv"
   },
   "source": [
    "---"
   ]
  },
  {
   "cell_type": "markdown",
   "metadata": {
    "id": "vXnyDAdbsMiw"
   },
   "source": [
    "# 1. Vectorize Data"
   ]
  },
  {
   "cell_type": "markdown",
   "metadata": {
    "id": "Ia-xFIQtsMiw"
   },
   "source": [
    "## 1.a. Load Raw Data\n",
    "## => We converted list of list lines to string to save memory in order to load entire dataset"
   ]
  },
  {
   "cell_type": "code",
   "execution_count": 4,
   "metadata": {
    "id": "7BSUdq_-sMiw",
    "scrolled": true
   },
   "outputs": [],
   "source": [
    "train_path = './data/train'\n",
    "test_path = './data/test'\n",
    "n_workers = 10\n",
    "project_mode = 'trainval'    # trainval, traintest, debug, eval\n",
    "np.random.seed(123) "
   ]
  },
  {
   "cell_type": "code",
   "execution_count": 5,
   "metadata": {
    "id": "ZScY-C2IsMiw",
    "tags": []
   },
   "outputs": [],
   "source": [
    "def load_content(filepath):\n",
    "    '''Given a filepath, returns (content, classname), where content = [list of lines in file]'''\n",
    "    ## load file content\n",
    "    file = open(filepath, \"r\")\n",
    "    file_lines = file.read()\n",
    "    ## here converted list of list lines to string to save memory in order to load entire dataset\n",
    "    lines = \"\\n\".join(file_lines.splitlines())\n",
    "    file.close()\n",
    "\n",
    "    ## extracting label\n",
    "    label = filepath.split(\".\")[-1]\n",
    "    return lines, label\n",
    "\n",
    "\n",
    "def load_data(data_path, nworkers=10):\n",
    "    '''Returns each data sample as a tuple (x, y), x = sequence of strings (i.e., syscalls), y = malware program class'''\n",
    "    raw_data_samples = []\n",
    "    \n",
    "    file_paths = [f\"{data_path}/{filename}\" for filename in os.listdir(data_path)]\n",
    "    pool = Pool(processes=nworkers)\n",
    " \n",
    "    raw_data_samples = pool.map(load_content, file_paths)\n",
    "    return raw_data_samples\n",
    "\n",
    "def pickle_file(out_path, file_content):\n",
    "    with open(out_path, 'wb') as wf:\n",
    "        pickle.dump(file_content, wf)\n",
    "        \n",
    "def unpickle_file(in_path):\n",
    "    return pickle.load(open(in_path, \"rb\"))"
   ]
  },
  {
   "cell_type": "markdown",
   "metadata": {},
   "source": [
    "# Note on data splits:\n",
    "We perform the split 80%/20% the train set, to divide it to train and validation set when `project_mode` is `trainval`,\n",
    "however, we store the validation set in `test_raw_samples` for consistency purposes."
   ]
  },
  {
   "cell_type": "code",
   "execution_count": 14,
   "metadata": {
    "id": "GG6tcSNJsMiw"
   },
   "outputs": [
    {
     "name": "stdout",
     "output_type": "stream",
     "text": [
      "=> Loading training data ... \n",
      "=> Loading testing data ... \n",
      "=> # Train samples =  13682\n",
      "=> # Test  samples =  10000\n"
     ]
    }
   ],
   "source": [
    "## in trainval mode we use test_raw_samples variable to hold validation dataset\n",
    "train_raw_samples, test_raw_samples = [], []\n",
    " \n",
    "if project_mode == 'trainval':\n",
    "    print('=> Loading training data ... ')\n",
    "    train_raw_samples = load_data(Path(train_path), nworkers=n_workers)\n",
    "    # To perform the same split across multiple runs\n",
    "    np.random.seed(123)          \n",
    "    # Split data into train and validation set\n",
    "    np.random.shuffle(train_raw_samples)\n",
    "    train_raw_samples, test_raw_samples = train_raw_samples[:int(len(train_raw_samples)*0.8)], train_raw_samples[int(len(train_raw_samples)*0.8):]\n",
    "\n",
    "elif project_mode == 'traintest':\n",
    "    ## loading train and test set\n",
    "    print('=> Loading training data ... ')\n",
    "    train_raw_samples = load_data(Path(train_path), nworkers=n_workers)\n",
    "    print('=> Loading testing data ... ')\n",
    "    test_raw_samples = load_data(Path(test_path), nworkers=n_workers)\n",
    "    \n",
    "elif project_mode == 'debug':\n",
    "    # Optional, use a small subset of the training and validation data for fast debugging\n",
    "    print('=> Loading training data ... ')\n",
    "    train_raw_samples = load_data(Path(train_path), nworkers=n_workers)[:100]\n",
    "    print('=> Loading testing data ... ')\n",
    "    test_raw_samples = load_data(Path(test_path), nworkers=n_workers)[:100]\n",
    "\n",
    "else:\n",
    "    raise ValueError('Unrecognized mode')\n",
    "\n",
    "if project_mode == 'trainval':\n",
    "    print('=> # Train samples = ', len(train_raw_samples))\n",
    "    print('=> # Validation  samples = ', len(test_raw_samples))\n",
    "else:\n",
    "    print('=> # Train samples = ', len(train_raw_samples))\n",
    "    print('=> # Test  samples = ', len(test_raw_samples))\n",
    "    "
   ]
  },
  {
   "cell_type": "markdown",
   "metadata": {
    "id": "GjiNiOVHsMiy"
   },
   "source": [
    "## 1.b. Vectorize: Setup\n",
    "\n",
    "Make one pass over the inputs to identify relevant features/tokens.\n",
    "\n",
    "Suggestion:\n",
    "  - identify tokens (e.g., unigrams, bigrams)\n",
    "  - create a token -> index (int) mapping. Note that you might have a >10K unique tokens. So, you will have to choose a suitable \"vocabulary\" size."
   ]
  },
  {
   "cell_type": "code",
   "execution_count": 15,
   "metadata": {
    "id": "DAtmzL6PsMiy"
   },
   "outputs": [],
   "source": [
    "# Feel free to edit anything in this block\n",
    "\n",
    "def get_key_idx_map(counter, vocab_size, ukn_token='_ukn_'):\n",
    "    \"\"\"counter is a mapping: token -> count\n",
    "    build vectorizer using vocab_size most common elements\"\"\"\n",
    "    key_to_idx, idx_to_key = dict(), dict()\n",
    "    \n",
    "    for idx, (key, value) in tqdm(enumerate(list(train_counter.items())[:vocab_size-1])):\n",
    "        ## perform mapping for token\n",
    "        key_to_idx[key] = idx\n",
    "        idx_to_key[idx] = key\n",
    "    ## perform mapping for unk token at the end\n",
    "    key_to_idx[ukn_token] = vocab_size - 1\n",
    "    idx_to_key[vocab_size - 1] = ukn_token\n",
    "    \n",
    "    return key_to_idx, idx_to_key\n",
    "\n",
    "def preprocess(data):\n",
    "    \"\"\"concatenating all sys calls to single string for tokenization\n",
    "    removing extraneous information such as lines with '# process', white spaces and '|' characters\"\"\"\n",
    "    for i, (X,y) in enumerate(tqdm(data)):\n",
    "        example = \"\"\n",
    "        for line in X.split(\"\\n\"):\n",
    "            ## skip lines containing '# process'\n",
    "            if \"# process\" in line:\n",
    "                continue\n",
    "            ## remove extraneous white spaces and \n",
    "            example += line.replace(\"|\",\"\").replace(\"  \", \" \").strip() + \" \"\n",
    "        example = example.strip()\n",
    "        ## assign preprocessed sample\n",
    "        data[i] = (example, y)\n",
    "    return data\n",
    "        \n",
    "def count_words(data):\n",
    "    \"\"\"\n",
    "    count token occurences for building vocabulary later\n",
    "    \"\"\"\n",
    "    counter = {}\n",
    "    for X,y in tqdm(data):\n",
    "        counts = dict(Counter(X.split()))\n",
    "        counter = dict(counter, **counts)\n",
    "    return counter"
   ]
  },
  {
   "cell_type": "code",
   "execution_count": 16,
   "metadata": {},
   "outputs": [],
   "source": [
    "\"\"\"\n",
    "Preprocessing both train and test set and\n",
    "Creating token counter for building vocabulary on train set\n",
    "\"\"\"\n",
    "train_raw_samples = preprocess(train_raw_samples)\n",
    "train_counter = count_words(train_raw_samples)\n",
    "test_raw_samples = preprocess(test_raw_samples)"
   ]
  },
  {
   "cell_type": "code",
   "execution_count": 17,
   "metadata": {},
   "outputs": [],
   "source": [
    "## Code for finding appropriate threshold for setting `MAX_VOCAB_SIZE`\n",
    "def choose_vocab_size(min_frequency_threshold=10):\n",
    "    count = 0\n",
    "    for value,key in sorted([(value,key) for (key,value) in train_counter.items()], reverse=True):\n",
    "        if value > min_frequency_threshold:\n",
    "            count+=1\n",
    "    print(f\"Number of tokens are {count} for min. frequency threshold={min_frequency_threshold}\")\n",
    "#choose_vocab_size(10)"
   ]
  },
  {
   "cell_type": "code",
   "execution_count": 19,
   "metadata": {},
   "outputs": [],
   "source": [
    "## sorting the counters wrt to count values in decending order\n",
    "train_counter = {key:value for value, key in  sorted([(value,key) for (key,value) in train_counter.items()], reverse=True)}"
   ]
  },
  {
   "cell_type": "code",
   "execution_count": 6,
   "metadata": {
    "id": "LSMEAcgvsMiy",
    "tags": []
   },
   "outputs": [],
   "source": [
    "# Feel free to edit anything in this block\n",
    "## By keeping a minimum count threshold of 10 we get 5520 most frequent tokens in train dataset\n",
    "## adding one to MAX_VOCAB_SIZE for _ukn_ token\n",
    "MAX_VOCAB_SIZE = 5520 + 1\n",
    "token_to_idx, idx_to_token = {}, {}\n",
    "# Path for vocab for saving and loading\n",
    "vocab_path = 'application_vocab_{}.pkl'.format(MAX_VOCAB_SIZE)\n",
    "\n",
    "## check if vocab already exists on file system otherwise create one\n",
    "if os.path.isfile(vocab_path):\n",
    "    token_to_idx, idx_to_token = unpickle_file(vocab_path)['token_to_idx'], unpickle_file(vocab_path)['idx_to_token']\n",
    "    \n",
    "else:\n",
    "    token_to_idx, idx_to_token = get_key_idx_map(train_counter, MAX_VOCAB_SIZE)\n",
    "    with open(vocab_path, 'wb') as wf:\n",
    "        dct = {'token_to_idx': token_to_idx,\n",
    "              'idx_to_token': idx_to_token}\n",
    "        pickle.dump(dct, wf)"
   ]
  },
  {
   "cell_type": "markdown",
   "metadata": {
    "id": "QUefzVjFsMiy"
   },
   "source": [
    "## 1.c. Vectorize Data\n",
    "\n",
    "Use the (token $\\rightarrow$ index) mapping you created before to vectorize your data"
   ]
  },
  {
   "cell_type": "code",
   "execution_count": 7,
   "metadata": {
    "id": "ffJJ0XOvsMiz"
   },
   "outputs": [],
   "source": [
    "def sample_to_idx(sample):\n",
    "    \"\"\"\n",
    "    Maps each document's tokens to their ids in the vocabulary\n",
    "    \"\"\"\n",
    "    idx_sample = []\n",
    "    for token in sample.split(' '):\n",
    "        if token not in token_to_idx:\n",
    "                token = '_ukn_'\n",
    "        idx_sample.append(token_to_idx[token])\n",
    "    return idx_sample\n",
    "\n",
    "\n",
    "## define mapping for labels\n",
    "label_encodings = {'Virut': 0,\n",
    " 'Swizzor': 1,\n",
    " 'Agent': 2,\n",
    " 'Patched': 3,\n",
    " 'Allaple': 4,\n",
    " 'Texel': 5,\n",
    " 'Basun': 6,\n",
    " 'AutoIt': 7,\n",
    " 'NothingFound': 8,\n",
    " 'VB': 9}"
   ]
  },
  {
   "cell_type": "code",
   "execution_count": 43,
   "metadata": {
    "id": "CD5IqJmXsMiz"
   },
   "outputs": [],
   "source": [
    "def vectorize_raw_samples_bow(raw_samples, vocab_length, nworkers=10):\n",
    "    \"\"\"\n",
    "    BAG-OF-WORDS Vectorizer which vectorizes examples by adding '1' for\n",
    "    term i occuring in document j, hence producing a vector for each document\n",
    "    raw_samples: List of documents to vectorize\n",
    "    vocab_length: Size of the vocabulary\n",
    "    \"\"\"\n",
    "    vectorized_samples = []\n",
    "    labels = []\n",
    "    lengths = []\n",
    "    try:\n",
    "        for idx, (X,y) in tqdm(enumerate(raw_samples)):\n",
    "            vectorized_sample = []\n",
    "            ## map labeks to ids\n",
    "            label = label_encodings[y]\n",
    "            ## map tokens to ids\n",
    "            X_idx = sample_to_idx(X)\n",
    "\n",
    "            ## initializing placeholder vector with unknown tokens equivalent to max_length\n",
    "            vector_sample = [0] * vocab_length\n",
    "\n",
    "            ## creating Bag of Words Vectors \n",
    "            for index, val in enumerate(set(X_idx)):\n",
    "                vector_sample[val] = 1\n",
    "            sequence_length = len(X_idx)\n",
    "\n",
    "            ## append sample to respective lists\n",
    "            vectorized_samples.append(vector_sample)\n",
    "            labels.append(label)\n",
    "            lengths.append(sequence_length)\n",
    "    except:\n",
    "        pass\n",
    "            \n",
    "    return (torch.DoubleTensor(vectorized_samples), torch.LongTensor(labels), torch.LongTensor(lengths))\n",
    "\n",
    "\n",
    "\n",
    "def vectorize_raw_samples_count_vectorizer(raw_samples, vocab_length, nworkers=10):\n",
    "    \"\"\" \n",
    "    Count Vectorizer is similar to BAG-OF-WORDS Vectorizer, however this vectorizer places 'counts/frequency' for\n",
    "    term i occuring in document j, hence producing a vector for each document\n",
    "    raw_samples: List of documents to vectorize\n",
    "    vocab_length: Size of the vocabulary\n",
    "    \"\"\"\n",
    "    vectorized_samples = []\n",
    "    labels = []\n",
    "    lengths = []\n",
    "    try:\n",
    "        for idx, (X,y) in tqdm(enumerate(raw_samples)):\n",
    "            vectorized_sample = []\n",
    "            ## map labeks to ids\n",
    "            label = label_encodings[y]\n",
    "            ## map tokens to ids\n",
    "            X_idx = sample_to_idx(X)\n",
    "\n",
    "            ## initializing placeholder vector with unknown tokens equivalent to max_length\n",
    "            vector_sample = [0] * vocab_length\n",
    "            ## compute counts\n",
    "            counts = dict(Counter(X_idx))\n",
    "            ## creating Count Vectors \n",
    "            for index, (key, val) in enumerate(counts.items()):\n",
    "                vector_sample[key] = val\n",
    "            sequence_length = len(X_idx)\n",
    "\n",
    "            ## append sample to respective lists\n",
    "            vectorized_samples.append(vector_sample)\n",
    "            labels.append(label)\n",
    "            lengths.append(sequence_length)\n",
    "    except:\n",
    "        pass\n",
    "    \n",
    "    return (torch.DoubleTensor(vectorized_samples), torch.LongTensor(labels), torch.LongTensor(lengths))\n",
    "\n",
    "\n",
    "\n",
    "def vectorize_raw_samples_tfidf(raw_samples, vocab_length, nworkers=10):\n",
    "    \"\"\" \n",
    "    TF-IDF Vectorizer vectorizes examples computing term frequencies and inverse document\n",
    "    for freqyencies for term i occuring in document j, hence producing a vector for each document\n",
    "    raw_samples: List of documents to vectorize\n",
    "    vocab_length: Size of the vocabulary\n",
    "    \"\"\"\n",
    "    labels = []\n",
    "    lengths = []\n",
    "    tf_samples = [] ## term frequency vector for each sample\n",
    "    tf_idf = np.zeros(shape=(len(raw_samples), vocab_length))\n",
    "    try:\n",
    "        for idx, (X,y) in tqdm(enumerate(raw_samples)):\n",
    "            vectorized_sample = []\n",
    "            ## map labeks to ids\n",
    "            label = label_encodings[y]\n",
    "            ## map tokens to ids\n",
    "            X_idx = sample_to_idx(X)\n",
    "\n",
    "            ## initializing placeholder vector with unknown tokens equivalent to max_length\n",
    "            vector_sample = [0] * vocab_length\n",
    "            ## compute counts\n",
    "            counts = dict(Counter(X_idx))\n",
    "            ## creating Count Vectors \n",
    "            for index, (key, val) in enumerate(counts.items()):\n",
    "                vector_sample[key] = val\n",
    "            sequence_length = len(X_idx)\n",
    "            ## compute term frequencies 'tf => # of times term in the doc / total words in the doc'\n",
    "            term_frequencies = np.array(vector_sample) / sequence_length\n",
    "            ## append sample to respective lists\n",
    "            labels.append(label)\n",
    "            lengths.append(sequence_length)\n",
    "            tf_samples.append(term_frequencies)\n",
    "\n",
    "        # compute idf\n",
    "        # 1. computing BOW matrix \n",
    "        bow = np.zeros(shape=(len(raw_samples), vocab_length))\n",
    "        for i in range(len(tf_samples)):\n",
    "            for j in range(vocab_length):\n",
    "                if tf_samples[i][j] > 0:\n",
    "                    bow[i,j] = 1\n",
    "        # 2, compute idf scores 'idf(t) => log( ((1 + # of docs)/ # of docs with term t + 1) + 1 ) '\n",
    "        idf = [np.log(((1+len(raw_samples))/(1+sum(bow[:, i])))+1) for i in range(vocab_length)]\n",
    "\n",
    "        # compute tf-idf => tf * idf\n",
    "        tf = np.array(tf_samples)\n",
    "\n",
    "        for i in range(vocab_length):\n",
    "            tf_idf[:, i] = tf[:, i] * idf[i]\n",
    "    except:\n",
    "        pass\n",
    "    \n",
    "    return (torch.DoubleTensor(tf_idf), torch.LongTensor(labels), torch.LongTensor(lengths))"
   ]
  },
  {
   "cell_type": "code",
   "execution_count": 8,
   "metadata": {
    "id": "BtS10ASbsMi0",
    "scrolled": true,
    "tags": []
   },
   "outputs": [],
   "source": [
    "## select vectorization_method from {'BOW','COUNT_VEC', 'TF_IDF'}\n",
    "vectorization_method = \"BOW\" \n",
    "train_data, test_data = None, None\n",
    "load_pre_computed_vectors = True  ##load vector pickles files from disk if set True\n",
    "\n",
    "def perform_vectorization():\n",
    "    \"\"\"\n",
    "    Performs vectorization based on the chosen technique \n",
    "    applies the method to convert documents to vectors\n",
    "    \"\"\"\n",
    "    if vectorization_method == \"BOW\":\n",
    "        print(f'=> {vectorization_method} Processing: Train')\n",
    "        train_data = vectorize_raw_samples_bow(train_raw_samples, vocab_length=MAX_VOCAB_SIZE)\n",
    "        print()\n",
    "        print(f'=> {vectorization_method} Processing: Test')\n",
    "        test_data = vectorize_raw_samples_bow(test_raw_samples, vocab_length=MAX_VOCAB_SIZE)\n",
    "\n",
    "    elif vectorization_method == \"COUNT_VEC\":\n",
    "        print(f'=> {vectorization_method} Processing: Train')\n",
    "        train_data = vectorize_raw_samples_count_vectorizer(train_raw_samples, vocab_length=MAX_VOCAB_SIZE)\n",
    "        print()\n",
    "        print(f'=> {vectorization_method} Processing: Test')\n",
    "        test_data = vectorize_raw_samples_count_vectorizer(test_raw_samples, vocab_length=MAX_VOCAB_SIZE)\n",
    "\n",
    "    elif vectorization_method == \"TF_IDF\":\n",
    "        print(f'=> {vectorization_method} Processing: Train')\n",
    "        train_data = vectorize_raw_samples_tfidf(train_raw_samples, vocab_length=MAX_VOCAB_SIZE)\n",
    "        print()\n",
    "        print(f'=> {vectorization_method} Processing: Test')\n",
    "        test_data = vectorize_raw_samples_tfidf(test_raw_samples, vocab_length=MAX_VOCAB_SIZE)\n",
    "    else:\n",
    "        print(\"Please choose one of the following vectorization method: {'BOW','COUNT_VEC', 'TF_IDF'}\")\n",
    "        "
   ]
  },
  {
   "cell_type": "code",
   "execution_count": 9,
   "metadata": {
    "tags": []
   },
   "outputs": [],
   "source": [
    "if load_pre_computed_vectors:\n",
    "    if project_mode == 'trainval':\n",
    "        train_data = unpickle_file(f'train_v5521_{vectorization_method}.pkl')  \n",
    "        test_data = unpickle_file(f'val_v5521_{vectorization_method}.pkl')\n",
    "    elif project_mode == 'traintest':\n",
    "        train_data = unpickle_file(f'train_v5521_{vectorization_method}.pkl')  \n",
    "        test_data = unpickle_file(f'test_v5521_{vectorization_method}.pkl')    \n",
    "    else:\n",
    "        print(\"Please choose one of the following project modes: {'trainval','traintest', 'eval'}\")\n",
    "else:\n",
    "    perform_vectorization()    "
   ]
  },
  {
   "cell_type": "code",
   "execution_count": 10,
   "metadata": {
    "id": "0XOHr24usMi0"
   },
   "outputs": [],
   "source": [
    "\n",
    "# Suggestions: \n",
    "#\n",
    "# (a) You can use torch.utils.data.TensorDataset to represent the tensors you created previously\n",
    "# trainset = TensorDataset(train_x, train_y)\n",
    "# testset = TensorDataset(test_x, test_y)\n",
    "#\n",
    "# (b) Store your datasets to disk so that you do not need to precompute it every time\n",
    "\n",
    "\"\"\"\n",
    "Standard Pytorch Dataset class for loading datasets.\n",
    "\"\"\"\n",
    "class MalwareDataset(Dataset):\n",
    "\n",
    "    def __init__(self, data_tensor, target_tensor, length_tensor):\n",
    "        \"\"\"\n",
    "        initializes  and populates the the length, data and target tensors, and raw texts list\n",
    "        \"\"\"\n",
    "        assert data_tensor.size(0) == target_tensor.size(0) == length_tensor.size(0)\n",
    "        self.data_tensor = data_tensor\n",
    "        self.target_tensor = target_tensor\n",
    "        self.length_tensor = length_tensor\n",
    "\n",
    "    def __getitem__(self, index):\n",
    "        \"\"\"\n",
    "        returns the tuple of data tensor, targets, lengths of sequences tensor\n",
    "        \"\"\"\n",
    "        return self.data_tensor[index], self.target_tensor[index], self.length_tensor[index]\n",
    "\n",
    "    def __len__(self):\n",
    "        \"\"\"\n",
    "        returns the length of the data tensor.\n",
    "        \"\"\"\n",
    "        return self.data_tensor.size(0)\n",
    "\n",
    "## instantiate train and test datasets\n",
    "malware_testset = MalwareDataset(test_data[0], test_data[1], test_data[2])\n",
    "malware_trainset = MalwareDataset(train_data[0], train_data[1], train_data[2])"
   ]
  },
  {
   "cell_type": "markdown",
   "metadata": {
    "id": "_l0tLsEVsMi0"
   },
   "source": [
    "# 2. Train Model\n",
    "\n",
    "You will now train an ML model on the vectorized datasets you created previously.\n",
    "\n",
    "_Note_: Although we often refer to each input as a 'vector' for simplicity, each of your inputs can also be higher dimensional tensors."
   ]
  },
  {
   "cell_type": "markdown",
   "metadata": {
    "id": "UInY1YzksMi0"
   },
   "source": [
    "## 2.a. Helpers"
   ]
  },
  {
   "cell_type": "code",
   "execution_count": 11,
   "metadata": {
    "id": "VnSv0J75sMi0"
   },
   "outputs": [],
   "source": [
    "# Feel free to edit anything in this block\n",
    "\n",
    "def evaluate_preds(y_gt, y_pred):\n",
    "    recall = recall_score(y_gt, y_pred, average='micro')\n",
    "    return recall\n",
    "\n",
    "def load_model(model, out_path):\n",
    "    model.load_state_dict(torch.load(out_path, map_location=set_device))  \n",
    "\n",
    "def save_model(model, out_path):\n",
    "    torch.save(model.state_dict(), out_path)"
   ]
  },
  {
   "cell_type": "markdown",
   "metadata": {
    "id": "PhbVzVLDsMi1"
   },
   "source": [
    "## 2.b. Define Model"
   ]
  },
  {
   "cell_type": "markdown",
   "metadata": {
    "id": "jrUKCNRgsMi1"
   },
   "source": [
    "Describe your model here."
   ]
  },
  {
   "cell_type": "code",
   "execution_count": 12,
   "metadata": {
    "id": "ILB2fBRWsMi1"
   },
   "outputs": [],
   "source": [
    "# Feel free to edit anything in this block\n",
    "\n",
    "class MalwareNet(nn.Module):\n",
    "    \"\"\"\n",
    "    This class is created to specify the Neural Network on which vectorized datasets we have created previously\n",
    "    is trained on, validated and later tested.\n",
    "    It consist of one input layer, one output layer and multiple hidden layers.\n",
    "    ...\n",
    "    \"\"\"\n",
    "    def __init__(self, input_dim, output_dim, dropout=0.5):\n",
    "        super(MalwareNet, self).__init__()\n",
    "        # Layer definitions\n",
    "        self.layers = nn.Sequential(\n",
    "        nn.Linear(input_dim, 1024),\n",
    "        nn.ReLU(),\n",
    "        nn.Dropout(dropout),\n",
    "        nn.Linear(1024, 512),\n",
    "        nn.ReLU(),\n",
    "        nn.Dropout(dropout),\n",
    "        nn.Linear(512, 256),\n",
    "        nn.ReLU(),\n",
    "        nn.Dropout(dropout),\n",
    "        nn.Linear(256, 128),\n",
    "        nn.ReLU(),\n",
    "        nn.Dropout(dropout),\n",
    "        nn.Linear(128, output_dim)\n",
    "        )\n",
    "\n",
    "    def forward(self, x):\n",
    "        # Forward pass\n",
    "        return self.layers(x)\n",
    "            "
   ]
  },
  {
   "cell_type": "code",
   "execution_count": 13,
   "metadata": {},
   "outputs": [],
   "source": [
    "def _network_training(model, hyper_paramaters, criterion, optimizer, set_device, tuning=False):\n",
    "    '''\n",
    "    training the network given the hyperparameters, crtierion and optimizer\n",
    "    '''\n",
    "    best_accuracy = 0\n",
    "    train_loss_history, recall_train_history= list(), list()\n",
    "    validation_loss_history, recall_validation_history = list(), list()\n",
    "\n",
    "    for epoch in range(0, hyper_paramaters['NUM_EPOCHS']):\n",
    "        model.train()\n",
    "        train_loss_scores = []\n",
    "        training_acc_scores = []\n",
    "        y_pred, y_true= list(), list()\n",
    "\n",
    "        for batch, targets, lengths in trainloader:\n",
    "            \n",
    "            ## perform forward pass  \n",
    "            batch = batch.type(torch.FloatTensor).to(set_device)\n",
    "            pred = model(batch) \n",
    "            preds = torch.max(pred, 1)[1]\n",
    "\n",
    "            ## accumulate predictions per batch for the epoch\n",
    "            y_pred += list([x.item() for x in preds.detach().cpu().numpy()])\n",
    "            targets = torch.LongTensor([x.item() for x in list(targets)])\n",
    "            y_true +=  list([x.item() for x in targets.detach().cpu().numpy()])\n",
    "            \n",
    "            ## compute loss and perform backward pass\n",
    "            loss = criterion(pred.to(set_device), targets.to(set_device)) ## compute loss \n",
    "            optimizer.zero_grad()\n",
    "            loss.backward() \n",
    "            optimizer.step()\n",
    "\n",
    "            ## accumulate train loss\n",
    "            train_loss_scores.append(loss.item())\n",
    "        \n",
    "        ## accumulate loss, recall, f1, precision per epoch\n",
    "        train_loss_history.append((sum(train_loss_scores)/len(train_loss_scores)))\n",
    "        recall = evaluate_preds(y_true, y_pred)\n",
    "        recall_train_history.append(recall)\n",
    "        print(f'Training =>  Epoch : {epoch+1} | Loss : {train_loss_history[-1]} | Recall score: {recall_train_history[-1]}')\n",
    "       \n",
    "        model.eval()\n",
    "        with torch.no_grad():\n",
    "            validation_loss_scores = list()\n",
    "            y_true_val, y_pred_val= list(), list()\n",
    "\n",
    "            ## perform validation pass\n",
    "            for batch, targets, lengths in testloader:\n",
    "                ## perform forward pass  \n",
    "                batch = batch.type(torch.FloatTensor).to(set_device)\n",
    "                pred = model(batch) \n",
    "                preds = torch.max(pred, 1)[1]\n",
    "\n",
    "                ## accumulate predictions per batch for the epoch\n",
    "                y_pred_val += list([x.item() for x in preds.detach().cpu().numpy()])\n",
    "                targets = torch.LongTensor([x.item() for x in list(targets)])\n",
    "                y_true_val +=  list([x.item() for x in targets.detach().cpu().numpy()])\n",
    "                \n",
    "                ## computing validate loss\n",
    "                loss = criterion(pred.to(set_device), targets.to(set_device)) ## compute loss \n",
    "\n",
    "                ## accumulate validate loss\n",
    "                validation_loss_scores.append(loss.item())\n",
    "            \n",
    "            ## accumulate loss, recall, f1, precision per epoch\n",
    "            validation_loss_history.append((sum(validation_loss_scores)/len(validation_loss_scores)))\n",
    "            recall = evaluate_preds(y_true_val, y_pred_val)\n",
    "            recall_validation_history.append(recall)\n",
    "\n",
    "            print(f'Validation =>  Epoch : {epoch+1} | Loss : {validation_loss_history[-1]} | Recall score: {recall_validation_history[-1]} ')\n",
    "            \n",
    "            if not tuning: \n",
    "                if recall_validation_history[-1]>best_accuracy:\n",
    "                    best_accuracy = recall_validation_history[-1]\n",
    "                    print('Saving the model...')\n",
    "                    save_model(model, out_path=f\"{vectorization_method}_model.ckpt\")\n",
    "                    \n",
    "            \n",
    "    if tuning:\n",
    "        return recall_validation_history\n",
    "        \n",
    "    \n",
    "    return train_loss_history, recall_train_history, validation_loss_history, recall_validation_history\n",
    "\n",
    "        "
   ]
  },
  {
   "cell_type": "markdown",
   "metadata": {
    "id": "QO1yPx7YsMi1"
   },
   "source": [
    "## 2.c. Set Hyperparameters"
   ]
  },
  {
   "cell_type": "code",
   "execution_count": null,
   "metadata": {
    "id": "0k0jLX5ksMi1"
   },
   "outputs": [
    {
     "name": "stderr",
     "output_type": "stream",
     "text": [
      "\u001b[32m[I 2021-12-03 18:24:40,929]\u001b[0m A new study created in memory with name: no-name-c63ef8f2-3cfe-4598-89c1-ac20377d6b0c\u001b[0m\n"
     ]
    },
    {
     "name": "stdout",
     "output_type": "stream",
     "text": [
      "Training =>  Epoch : 1 | Loss : 1.1000308754832246 | Recall score: 0.6229328460484239\n",
      "Validation =>  Epoch : 1 | Loss : 0.6988055608993353 | Recall score: 0.7778589696748265 \n",
      "Training =>  Epoch : 2 | Loss : 0.757027612262687 | Recall score: 0.7548652352672454\n",
      "Validation =>  Epoch : 2 | Loss : 0.634306073881859 | Recall score: 0.7815126050420168 \n",
      "Training =>  Epoch : 3 | Loss : 0.7072913878878881 | Recall score: 0.7735952489721334\n",
      "Validation =>  Epoch : 3 | Loss : 0.6608426945154057 | Recall score: 0.773109243697479 \n",
      "Training =>  Epoch : 4 | Loss : 0.7297432046643523 | Recall score: 0.7794426678848789\n",
      "Validation =>  Epoch : 4 | Loss : 0.6190982821375824 | Recall score: 0.7880891487029594 \n",
      "Training =>  Epoch : 5 | Loss : 0.6727094672793565 | Recall score: 0.786203746002741\n"
     ]
    },
    {
     "name": "stderr",
     "output_type": "stream",
     "text": [
      "\u001b[32m[I 2021-12-03 18:25:04,026]\u001b[0m Trial 0 finished with value: 0.7924735111435879 and parameters: {'TRAIN_BATCH_SIZE': 64, 'LEARNING_RATE': 0.0031772254309900072, 'OPTIMIZER': 'Adam', 'NUM_EPOCHS': 5, 'DROPOUT': 0.5}. Best is trial 0 with value: 0.7924735111435879.\u001b[0m\n"
     ]
    },
    {
     "name": "stdout",
     "output_type": "stream",
     "text": [
      "Validation =>  Epoch : 5 | Loss : 0.6199188170044921 | Recall score: 0.7924735111435879 \n",
      "Training =>  Epoch : 1 | Loss : 1.340762806839721 | Recall score: 0.5659205116491549\n",
      "Validation =>  Epoch : 1 | Loss : 0.9056086554083713 | Recall score: 0.6887102667153818 \n",
      "Training =>  Epoch : 2 | Loss : 1.3719569503567939 | Recall score: 0.5785290086797624\n",
      "Validation =>  Epoch : 2 | Loss : 0.956783398639324 | Recall score: 0.6832298136645962 \n",
      "Training =>  Epoch : 3 | Loss : 1.593111372877692 | Recall score: 0.5058017359524897\n",
      "Validation =>  Epoch : 3 | Loss : 1.1819085728290468 | Recall score: 0.5717939349652905 \n",
      "Training =>  Epoch : 4 | Loss : 1.599911350150441 | Recall score: 0.48707172224760165\n",
      "Validation =>  Epoch : 4 | Loss : 1.3279902685520262 | Recall score: 0.5622944830105956 \n",
      "Training =>  Epoch : 5 | Loss : 1.5396957862255878 | Recall score: 0.473184102329831\n"
     ]
    },
    {
     "name": "stderr",
     "output_type": "stream",
     "text": [
      "\u001b[32m[I 2021-12-03 18:25:27,234]\u001b[0m Trial 1 finished with value: 0.6887102667153818 and parameters: {'TRAIN_BATCH_SIZE': 64, 'LEARNING_RATE': 0.009860026136663418, 'OPTIMIZER': 'Adam', 'NUM_EPOCHS': 5, 'DROPOUT': 0.1}. Best is trial 0 with value: 0.7924735111435879.\u001b[0m\n"
     ]
    },
    {
     "name": "stdout",
     "output_type": "stream",
     "text": [
      "Validation =>  Epoch : 5 | Loss : 1.245877465536428 | Recall score: 0.5699671172816952 \n",
      "Training =>  Epoch : 1 | Loss : 1.1130347106345864 | Recall score: 0.629968021927821\n",
      "Validation =>  Epoch : 1 | Loss : 0.7546563273252442 | Recall score: 0.752648885641213 \n",
      "Training =>  Epoch : 2 | Loss : 0.7582075332486088 | Recall score: 0.7539515760621288\n",
      "Validation =>  Epoch : 2 | Loss : 0.6403105092603106 | Recall score: 0.7800511508951407 \n",
      "Training =>  Epoch : 3 | Loss : 0.7438955574058169 | Recall score: 0.7732297852900868\n"
     ]
    },
    {
     "name": "stderr",
     "output_type": "stream",
     "text": [
      "\u001b[32m[I 2021-12-03 18:25:41,344]\u001b[0m Trial 2 finished with value: 0.7873584216295214 and parameters: {'TRAIN_BATCH_SIZE': 32, 'LEARNING_RATE': 0.0036830483085327007, 'OPTIMIZER': 'Adam', 'NUM_EPOCHS': 3, 'DROPOUT': 0.5}. Best is trial 0 with value: 0.7924735111435879.\u001b[0m\n"
     ]
    },
    {
     "name": "stdout",
     "output_type": "stream",
     "text": [
      "Validation =>  Epoch : 3 | Loss : 0.6229036914747815 | Recall score: 0.7873584216295214 \n",
      "Training =>  Epoch : 1 | Loss : 1.0881398450150046 | Recall score: 0.6214709913202375\n",
      "Validation =>  Epoch : 1 | Loss : 0.658339340326398 | Recall score: 0.773109243697479 \n",
      "Training =>  Epoch : 2 | Loss : 0.7159273793438969 | Recall score: 0.7636363636363637\n",
      "Validation =>  Epoch : 2 | Loss : 0.6370741641798685 | Recall score: 0.7888198757763976 \n",
      "Training =>  Epoch : 3 | Loss : 0.6877163257016692 | Recall score: 0.7814527181361353\n",
      "Validation =>  Epoch : 3 | Loss : 0.6022555044917173 | Recall score: 0.7873584216295214 \n",
      "Training =>  Epoch : 4 | Loss : 0.6711319594449082 | Recall score: 0.7762448606669712\n",
      "Validation =>  Epoch : 4 | Loss : 0.611093049825624 | Recall score: 0.7888198757763976 \n",
      "Training =>  Epoch : 5 | Loss : 0.6742792302785918 | Recall score: 0.7820009136592051\n"
     ]
    },
    {
     "name": "stderr",
     "output_type": "stream",
     "text": [
      "\u001b[32m[I 2021-12-03 18:26:04,450]\u001b[0m Trial 3 finished with value: 0.794665692363902 and parameters: {'TRAIN_BATCH_SIZE': 64, 'LEARNING_RATE': 0.0027997096218844567, 'OPTIMIZER': 'Adam', 'NUM_EPOCHS': 5, 'DROPOUT': 0.5}. Best is trial 3 with value: 0.794665692363902.\u001b[0m\n"
     ]
    },
    {
     "name": "stdout",
     "output_type": "stream",
     "text": [
      "Validation =>  Epoch : 5 | Loss : 0.5973551980284757 | Recall score: 0.794665692363902 \n",
      "Training =>  Epoch : 1 | Loss : 1.1155335272467413 | Recall score: 0.6155322064869804\n",
      "Validation =>  Epoch : 1 | Loss : 0.7723485390807308 | Recall score: 0.7599561563755937 \n",
      "Training =>  Epoch : 2 | Loss : 0.9586293518023435 | Recall score: 0.7307446322521699\n",
      "Validation =>  Epoch : 2 | Loss : 0.7087214415849641 | Recall score: 0.7793204238217026 \n",
      "Training =>  Epoch : 3 | Loss : 0.9621711087434791 | Recall score: 0.7272727272727273\n",
      "Validation =>  Epoch : 3 | Loss : 0.7176632084125696 | Recall score: 0.7778589696748265 \n",
      "Training =>  Epoch : 4 | Loss : 1.0297023425346408 | Recall score: 0.7301964367291001\n",
      "Validation =>  Epoch : 4 | Loss : 0.6956149755522262 | Recall score: 0.7763975155279503 \n",
      "Training =>  Epoch : 5 | Loss : 0.9561724016486213 | Recall score: 0.7392416628597533\n"
     ]
    },
    {
     "name": "stderr",
     "output_type": "stream",
     "text": [
      "\u001b[32m[I 2021-12-03 18:26:27,325]\u001b[0m Trial 4 finished with value: 0.7793204238217026 and parameters: {'TRAIN_BATCH_SIZE': 64, 'LEARNING_RATE': 0.005363026429645663, 'OPTIMIZER': 'Adam', 'NUM_EPOCHS': 5, 'DROPOUT': 0.5}. Best is trial 3 with value: 0.794665692363902.\u001b[0m\n"
     ]
    },
    {
     "name": "stdout",
     "output_type": "stream",
     "text": [
      "Validation =>  Epoch : 5 | Loss : 0.6905260307844295 | Recall score: 0.7789550602849835 \n",
      "Training =>  Epoch : 1 | Loss : 2.2944126295488934 | Recall score: 0.21681132937414344\n",
      "Validation =>  Epoch : 1 | Loss : 2.284345809803453 | Recall score: 0.2502740226525393 \n",
      "Training =>  Epoch : 2 | Loss : 2.2757492508999135 | Recall score: 0.2488807674737323\n",
      "Validation =>  Epoch : 2 | Loss : 2.2659329869026363 | Recall score: 0.2502740226525393 \n",
      "Training =>  Epoch : 3 | Loss : 2.257688451644986 | Recall score: 0.2488807674737323\n",
      "Validation =>  Epoch : 3 | Loss : 2.2488337616587795 | Recall score: 0.2502740226525393 \n",
      "Training =>  Epoch : 4 | Loss : 2.240580371645994 | Recall score: 0.2492462311557789\n",
      "Validation =>  Epoch : 4 | Loss : 2.2324148388796075 | Recall score: 0.2502740226525393 \n",
      "Training =>  Epoch : 5 | Loss : 2.223242382670558 | Recall score: 0.2490634993147556\n"
     ]
    },
    {
     "name": "stderr",
     "output_type": "stream",
     "text": [
      "\u001b[32m[I 2021-12-03 18:26:40,664]\u001b[0m Trial 5 finished with value: 0.2502740226525393 and parameters: {'TRAIN_BATCH_SIZE': 32, 'LEARNING_RATE': 0.0013909155759201078, 'OPTIMIZER': 'SGD', 'NUM_EPOCHS': 5, 'DROPOUT': 0.5}. Best is trial 3 with value: 0.794665692363902.\u001b[0m\n"
     ]
    },
    {
     "name": "stdout",
     "output_type": "stream",
     "text": [
      "Validation =>  Epoch : 5 | Loss : 2.2165011583372602 | Recall score: 0.2502740226525393 \n",
      "Training =>  Epoch : 1 | Loss : 2.297822406125623 | Recall score: 0.07291000456829602\n",
      "Validation =>  Epoch : 1 | Loss : 2.2853450276130856 | Recall score: 0.08878333942272561 \n",
      "Training =>  Epoch : 2 | Loss : 2.2744852831197337 | Recall score: 0.21279122887163088\n",
      "Validation =>  Epoch : 2 | Loss : 2.26320003908734 | Recall score: 0.24187066130800147 \n",
      "Training =>  Epoch : 3 | Loss : 2.25255604954653 | Recall score: 0.25207857469164\n",
      "Validation =>  Epoch : 3 | Loss : 2.2424383662467777 | Recall score: 0.24187066130800147 \n",
      "Training =>  Epoch : 4 | Loss : 2.2314580318539643 | Recall score: 0.25116491548652353\n",
      "Validation =>  Epoch : 4 | Loss : 2.222840808158697 | Recall score: 0.24187066130800147 \n",
      "Training =>  Epoch : 5 | Loss : 2.212048189584599 | Recall score: 0.2535404294198264\n"
     ]
    },
    {
     "name": "stderr",
     "output_type": "stream",
     "text": [
      "\u001b[32m[I 2021-12-03 18:26:53,579]\u001b[0m Trial 6 finished with value: 0.24187066130800147 and parameters: {'TRAIN_BATCH_SIZE': 32, 'LEARNING_RATE': 0.0015679535585867276, 'OPTIMIZER': 'SGD', 'NUM_EPOCHS': 5, 'DROPOUT': 0.5}. Best is trial 3 with value: 0.794665692363902.\u001b[0m\n"
     ]
    },
    {
     "name": "stdout",
     "output_type": "stream",
     "text": [
      "Validation =>  Epoch : 5 | Loss : 2.2044096991073254 | Recall score: 0.24187066130800147 \n",
      "Training =>  Epoch : 1 | Loss : 2.319662913333538 | Recall score: 0.050525354042941985\n",
      "Validation =>  Epoch : 1 | Loss : 2.3075776155604872 | Recall score: 0.03215199123127512 \n",
      "Training =>  Epoch : 2 | Loss : 2.2955671715181927 | Recall score: 0.08743718592964825\n",
      "Validation =>  Epoch : 2 | Loss : 2.2848962295887083 | Recall score: 0.09426379247351115 \n",
      "Training =>  Epoch : 3 | Loss : 2.273710022138995 | Recall score: 0.22311557788944725\n",
      "Validation =>  Epoch : 3 | Loss : 2.2635302599086318 | Recall score: 0.24187066130800147 \n",
      "Training =>  Epoch : 4 | Loss : 2.252368748188019 | Recall score: 0.25582457743261766\n",
      "Validation =>  Epoch : 4 | Loss : 2.2434398296267486 | Recall score: 0.24187066130800147 \n",
      "Training =>  Epoch : 5 | Loss : 2.2312754655993263 | Recall score: 0.25363179534033803\n"
     ]
    },
    {
     "name": "stderr",
     "output_type": "stream",
     "text": [
      "\u001b[32m[I 2021-12-03 18:27:06,505]\u001b[0m Trial 7 finished with value: 0.24187066130800147 and parameters: {'TRAIN_BATCH_SIZE': 32, 'LEARNING_RATE': 0.001476773324930558, 'OPTIMIZER': 'SGD', 'NUM_EPOCHS': 5, 'DROPOUT': 0.5}. Best is trial 3 with value: 0.794665692363902.\u001b[0m\n"
     ]
    },
    {
     "name": "stdout",
     "output_type": "stream",
     "text": [
      "Validation =>  Epoch : 5 | Loss : 2.2241597120151964 | Recall score: 0.24187066130800147 \n",
      "Training =>  Epoch : 1 | Loss : 2.251894724923511 | Recall score: 0.2201005025125628\n",
      "Validation =>  Epoch : 1 | Loss : 2.2101386314214664 | Recall score: 0.24187066130800147 \n",
      "Training =>  Epoch : 2 | Loss : 2.171167740988177 | Recall score: 0.25701233439926907\n",
      "Validation =>  Epoch : 2 | Loss : 2.144756611003432 | Recall score: 0.24187066130800147 \n",
      "Training =>  Epoch : 3 | Loss : 2.115110772986745 | Recall score: 0.2566468707172225\n",
      "Validation =>  Epoch : 3 | Loss : 2.0952961999316546 | Recall score: 0.24187066130800147 \n",
      "Training =>  Epoch : 4 | Loss : 2.0650697516840557 | Recall score: 0.25874828688899043\n",
      "Validation =>  Epoch : 4 | Loss : 2.0558717139931613 | Recall score: 0.24187066130800147 \n",
      "Training =>  Epoch : 5 | Loss : 2.0343749980593837 | Recall score: 0.26624029237094565\n"
     ]
    },
    {
     "name": "stderr",
     "output_type": "stream",
     "text": [
      "\u001b[32m[I 2021-12-03 18:27:19,286]\u001b[0m Trial 8 finished with value: 0.24187066130800147 and parameters: {'TRAIN_BATCH_SIZE': 32, 'LEARNING_RATE': 0.006919868586810927, 'OPTIMIZER': 'SGD', 'NUM_EPOCHS': 5, 'DROPOUT': 0.1}. Best is trial 3 with value: 0.794665692363902.\u001b[0m\n"
     ]
    },
    {
     "name": "stdout",
     "output_type": "stream",
     "text": [
      "Validation =>  Epoch : 5 | Loss : 2.0236197876375774 | Recall score: 0.24187066130800147 \n",
      "Training =>  Epoch : 1 | Loss : 2.268897827281508 | Recall score: 0.16738236637734125\n",
      "Validation =>  Epoch : 1 | Loss : 2.238264887831932 | Recall score: 0.24187066130800147 \n",
      "Training =>  Epoch : 2 | Loss : 2.2051571164020274 | Recall score: 0.25637277295568756\n",
      "Validation =>  Epoch : 2 | Loss : 2.1818804075551586 | Recall score: 0.24187066130800147 \n",
      "Training =>  Epoch : 3 | Loss : 2.1549610453982684 | Recall score: 0.25829145728643216\n"
     ]
    },
    {
     "name": "stderr",
     "output_type": "stream",
     "text": [
      "\u001b[32m[I 2021-12-03 18:27:27,398]\u001b[0m Trial 9 finished with value: 0.24187066130800147 and parameters: {'TRAIN_BATCH_SIZE': 32, 'LEARNING_RATE': 0.00468226023599736, 'OPTIMIZER': 'SGD', 'NUM_EPOCHS': 3, 'DROPOUT': 0.5}. Best is trial 3 with value: 0.794665692363902.\u001b[0m\n"
     ]
    },
    {
     "name": "stdout",
     "output_type": "stream",
     "text": [
      "Validation =>  Epoch : 3 | Loss : 2.1346853278404057 | Recall score: 0.24187066130800147 \n"
     ]
    }
   ],
   "source": [
    "# Data Loaders\n",
    "trainloader = DataLoader(malware_trainset, batch_size=64, shuffle=True)\n",
    "testloader = DataLoader(malware_testset, batch_size=64, shuffle=False)\n",
    "\n",
    "# Define your hyperparameters here\n",
    "def _hyper_parameter_tuning(trial):\n",
    "    \n",
    "    set_device = torch.device(\"cuda\" if torch.cuda.is_available() else \"cpu\")\n",
    "    \n",
    "    hyper_paramaters = {\n",
    "        'TRAIN_BATCH_SIZE' :  trial.suggest_categorical('TRAIN_BATCH_SIZE', (32, 64)),\n",
    "        'LEARNING_RATE' : trial.suggest_loguniform('LEARNING_RATE', 0.001, 0.01),\n",
    "        'OPTIMIZER': trial.suggest_categorical(\"OPTIMIZER\", [\"Adam\", \"RMSprop\", \"SGD\"]),\n",
    "        'NUM_EPOCHS' : trial.suggest_categorical(\"NUM_EPOCHS\", [3, 5]),\n",
    "        'DROPOUT' : trial.suggest_categorical(\"DROPOUT\", [0.1, 0.3, 0.5])\n",
    "    }\n",
    "    \n",
    "    model = MalwareNet(input_dim=train_data[0][0].shape[0], output_dim=len(label_encodings)).to(set_device)\n",
    "    criterion = nn.CrossEntropyLoss().to(set_device)\n",
    "    optimizer = getattr(optim, hyper_paramaters['OPTIMIZER'])(model.parameters(), lr=hyper_paramaters['LEARNING_RATE'])\n",
    "    \n",
    "    recall = _network_training(model, hyper_paramaters, criterion, optimizer, set_device, tuning=True)\n",
    "    return np.max(recall)\n",
    "\n",
    "with warnings.catch_warnings(record=True):\n",
    "    analysis_study = optuna.create_study(direction='maximize')\n",
    "    analysis_study.optimize(_hyper_parameter_tuning, n_trials=10)"
   ]
  },
  {
   "cell_type": "markdown",
   "metadata": {
    "tags": []
   },
   "source": [
    "### Selection of hyper parameters on the basis of hyperparameter tuning"
   ]
  },
  {
   "cell_type": "code",
   "execution_count": 36,
   "metadata": {
    "tags": []
   },
   "outputs": [
    {
     "name": "stdout",
     "output_type": "stream",
     "text": [
      "SELECTED BEST SET OF HYPER-PARAMETERS: {'TRAIN_BATCH_SIZE': 64, 'LEARNING_RATE': 0.0027997096218844567, 'OPTIMIZER': 'Adam', 'NUM_EPOCHS': 5, 'DROPOUT': 0.5}\n",
      "RECALL SCORE ACHEIVED USING THE BEST HYPER-PARAMTERS 0.794665692363902\n"
     ]
    }
   ],
   "source": [
    "print(\"SELECTED BEST SET OF HYPER-PARAMETERS:\",analysis_study.best_params)\n",
    "print(\"RECALL SCORE ACHEIVED USING THE BEST HYPER-PARAMTERS\", analysis_study.best_value)"
   ]
  },
  {
   "cell_type": "code",
   "execution_count": 37,
   "metadata": {
    "tags": []
   },
   "outputs": [
    {
     "data": {
      "text/html": [
       "<div>\n",
       "<style scoped>\n",
       "    .dataframe tbody tr th:only-of-type {\n",
       "        vertical-align: middle;\n",
       "    }\n",
       "\n",
       "    .dataframe tbody tr th {\n",
       "        vertical-align: top;\n",
       "    }\n",
       "\n",
       "    .dataframe thead th {\n",
       "        text-align: right;\n",
       "    }\n",
       "</style>\n",
       "<table border=\"1\" class=\"dataframe\">\n",
       "  <thead>\n",
       "    <tr style=\"text-align: right;\">\n",
       "      <th></th>\n",
       "      <th>value</th>\n",
       "      <th>duration</th>\n",
       "      <th>params_DROPOUT</th>\n",
       "      <th>params_LEARNING_RATE</th>\n",
       "      <th>params_NUM_EPOCHS</th>\n",
       "      <th>params_OPTIMIZER</th>\n",
       "      <th>params_TRAIN_BATCH_SIZE</th>\n",
       "    </tr>\n",
       "    <tr>\n",
       "      <th>trial</th>\n",
       "      <th></th>\n",
       "      <th></th>\n",
       "      <th></th>\n",
       "      <th></th>\n",
       "      <th></th>\n",
       "      <th></th>\n",
       "      <th></th>\n",
       "    </tr>\n",
       "  </thead>\n",
       "  <tbody>\n",
       "    <tr>\n",
       "      <th>3</th>\n",
       "      <td>0.794666</td>\n",
       "      <td>0 days 00:00:23.105603</td>\n",
       "      <td>0.5</td>\n",
       "      <td>0.002800</td>\n",
       "      <td>5</td>\n",
       "      <td>Adam</td>\n",
       "      <td>64</td>\n",
       "    </tr>\n",
       "    <tr>\n",
       "      <th>0</th>\n",
       "      <td>0.792474</td>\n",
       "      <td>0 days 00:00:23.096978</td>\n",
       "      <td>0.5</td>\n",
       "      <td>0.003177</td>\n",
       "      <td>5</td>\n",
       "      <td>Adam</td>\n",
       "      <td>64</td>\n",
       "    </tr>\n",
       "    <tr>\n",
       "      <th>2</th>\n",
       "      <td>0.787358</td>\n",
       "      <td>0 days 00:00:14.110369</td>\n",
       "      <td>0.5</td>\n",
       "      <td>0.003683</td>\n",
       "      <td>3</td>\n",
       "      <td>Adam</td>\n",
       "      <td>32</td>\n",
       "    </tr>\n",
       "    <tr>\n",
       "      <th>4</th>\n",
       "      <td>0.779320</td>\n",
       "      <td>0 days 00:00:22.875442</td>\n",
       "      <td>0.5</td>\n",
       "      <td>0.005363</td>\n",
       "      <td>5</td>\n",
       "      <td>Adam</td>\n",
       "      <td>64</td>\n",
       "    </tr>\n",
       "    <tr>\n",
       "      <th>1</th>\n",
       "      <td>0.688710</td>\n",
       "      <td>0 days 00:00:23.207712</td>\n",
       "      <td>0.1</td>\n",
       "      <td>0.009860</td>\n",
       "      <td>5</td>\n",
       "      <td>Adam</td>\n",
       "      <td>64</td>\n",
       "    </tr>\n",
       "    <tr>\n",
       "      <th>5</th>\n",
       "      <td>0.250274</td>\n",
       "      <td>0 days 00:00:13.330855</td>\n",
       "      <td>0.5</td>\n",
       "      <td>0.001391</td>\n",
       "      <td>5</td>\n",
       "      <td>SGD</td>\n",
       "      <td>32</td>\n",
       "    </tr>\n",
       "    <tr>\n",
       "      <th>6</th>\n",
       "      <td>0.241871</td>\n",
       "      <td>0 days 00:00:12.915385</td>\n",
       "      <td>0.5</td>\n",
       "      <td>0.001568</td>\n",
       "      <td>5</td>\n",
       "      <td>SGD</td>\n",
       "      <td>32</td>\n",
       "    </tr>\n",
       "    <tr>\n",
       "      <th>7</th>\n",
       "      <td>0.241871</td>\n",
       "      <td>0 days 00:00:12.926099</td>\n",
       "      <td>0.5</td>\n",
       "      <td>0.001477</td>\n",
       "      <td>5</td>\n",
       "      <td>SGD</td>\n",
       "      <td>32</td>\n",
       "    </tr>\n",
       "    <tr>\n",
       "      <th>8</th>\n",
       "      <td>0.241871</td>\n",
       "      <td>0 days 00:00:12.763447</td>\n",
       "      <td>0.1</td>\n",
       "      <td>0.006920</td>\n",
       "      <td>5</td>\n",
       "      <td>SGD</td>\n",
       "      <td>32</td>\n",
       "    </tr>\n",
       "    <tr>\n",
       "      <th>9</th>\n",
       "      <td>0.241871</td>\n",
       "      <td>0 days 00:00:08.112415</td>\n",
       "      <td>0.5</td>\n",
       "      <td>0.004682</td>\n",
       "      <td>3</td>\n",
       "      <td>SGD</td>\n",
       "      <td>32</td>\n",
       "    </tr>\n",
       "  </tbody>\n",
       "</table>\n",
       "</div>"
      ],
      "text/plain": [
       "          value               duration  params_DROPOUT  params_LEARNING_RATE  \\\n",
       "trial                                                                          \n",
       "3      0.794666 0 days 00:00:23.105603             0.5              0.002800   \n",
       "0      0.792474 0 days 00:00:23.096978             0.5              0.003177   \n",
       "2      0.787358 0 days 00:00:14.110369             0.5              0.003683   \n",
       "4      0.779320 0 days 00:00:22.875442             0.5              0.005363   \n",
       "1      0.688710 0 days 00:00:23.207712             0.1              0.009860   \n",
       "5      0.250274 0 days 00:00:13.330855             0.5              0.001391   \n",
       "6      0.241871 0 days 00:00:12.915385             0.5              0.001568   \n",
       "7      0.241871 0 days 00:00:12.926099             0.5              0.001477   \n",
       "8      0.241871 0 days 00:00:12.763447             0.1              0.006920   \n",
       "9      0.241871 0 days 00:00:08.112415             0.5              0.004682   \n",
       "\n",
       "       params_NUM_EPOCHS params_OPTIMIZER  params_TRAIN_BATCH_SIZE  \n",
       "trial                                                               \n",
       "3                      5             Adam                       64  \n",
       "0                      5             Adam                       64  \n",
       "2                      3             Adam                       32  \n",
       "4                      5             Adam                       64  \n",
       "1                      5             Adam                       64  \n",
       "5                      5              SGD                       32  \n",
       "6                      5              SGD                       32  \n",
       "7                      5              SGD                       32  \n",
       "8                      5              SGD                       32  \n",
       "9                      3              SGD                       32  "
      ]
     },
     "execution_count": 37,
     "metadata": {},
     "output_type": "execute_result"
    }
   ],
   "source": [
    "df = analysis_study.trials_dataframe().drop(['state','datetime_start','datetime_complete','number'], axis=1)\n",
    "df.index.name = 'trial'\n",
    "df.sort_values(by='value', ascending=False).head(20)"
   ]
  },
  {
   "cell_type": "markdown",
   "metadata": {},
   "source": [
    "#### Hyper-parameters were important and how did they influence your results?\n",
    "> From the results of the hyper parameter tuning we can summarize and visualize in the plot below that for our network, **choice of optimizer had significance importance on our objective value (recall_scores)**. Adam was able to display good results and just within 5 epochs with a learning rate of around 0.002, we were able to reach more than 0.79 recall score."
   ]
  },
  {
   "cell_type": "code",
   "execution_count": 39,
   "metadata": {},
   "outputs": [
    {
     "data": {
      "application/vnd.plotly.v1+json": {
       "config": {
        "plotlyServerURL": "https://plot.ly"
       },
       "data": [
        {
         "cliponaxis": false,
         "hovertemplate": [
          "DROPOUT (CategoricalDistribution): 0.004970557892755552<extra></extra>",
          "NUM_EPOCHS (CategoricalDistribution): 0.01571855379583892<extra></extra>",
          "LEARNING_RATE (LogUniformDistribution): 0.016113898636704996<extra></extra>",
          "TRAIN_BATCH_SIZE (CategoricalDistribution): 0.21703935637412008<extra></extra>",
          "OPTIMIZER (CategoricalDistribution): 0.7461576333005805<extra></extra>"
         ],
         "marker": {
          "color": "rgb(66,146,198)"
         },
         "orientation": "h",
         "text": [
          "0.004970557892755552",
          "0.01571855379583892",
          "0.016113898636704996",
          "0.21703935637412008",
          "0.7461576333005805"
         ],
         "textposition": "outside",
         "texttemplate": "%{text:.2f}",
         "type": "bar",
         "x": [
          0.004970557892755552,
          0.01571855379583892,
          0.016113898636704996,
          0.21703935637412008,
          0.7461576333005805
         ],
         "y": [
          "DROPOUT",
          "NUM_EPOCHS",
          "LEARNING_RATE",
          "TRAIN_BATCH_SIZE",
          "OPTIMIZER"
         ]
        }
       ],
       "layout": {
        "autosize": true,
        "showlegend": false,
        "template": {
         "data": {
          "bar": [
           {
            "error_x": {
             "color": "#2a3f5f"
            },
            "error_y": {
             "color": "#2a3f5f"
            },
            "marker": {
             "line": {
              "color": "#E5ECF6",
              "width": 0.5
             },
             "pattern": {
              "fillmode": "overlay",
              "size": 10,
              "solidity": 0.2
             }
            },
            "type": "bar"
           }
          ],
          "barpolar": [
           {
            "marker": {
             "line": {
              "color": "#E5ECF6",
              "width": 0.5
             },
             "pattern": {
              "fillmode": "overlay",
              "size": 10,
              "solidity": 0.2
             }
            },
            "type": "barpolar"
           }
          ],
          "carpet": [
           {
            "aaxis": {
             "endlinecolor": "#2a3f5f",
             "gridcolor": "white",
             "linecolor": "white",
             "minorgridcolor": "white",
             "startlinecolor": "#2a3f5f"
            },
            "baxis": {
             "endlinecolor": "#2a3f5f",
             "gridcolor": "white",
             "linecolor": "white",
             "minorgridcolor": "white",
             "startlinecolor": "#2a3f5f"
            },
            "type": "carpet"
           }
          ],
          "choropleth": [
           {
            "colorbar": {
             "outlinewidth": 0,
             "ticks": ""
            },
            "type": "choropleth"
           }
          ],
          "contour": [
           {
            "colorbar": {
             "outlinewidth": 0,
             "ticks": ""
            },
            "colorscale": [
             [
              0,
              "#0d0887"
             ],
             [
              0.1111111111111111,
              "#46039f"
             ],
             [
              0.2222222222222222,
              "#7201a8"
             ],
             [
              0.3333333333333333,
              "#9c179e"
             ],
             [
              0.4444444444444444,
              "#bd3786"
             ],
             [
              0.5555555555555556,
              "#d8576b"
             ],
             [
              0.6666666666666666,
              "#ed7953"
             ],
             [
              0.7777777777777778,
              "#fb9f3a"
             ],
             [
              0.8888888888888888,
              "#fdca26"
             ],
             [
              1,
              "#f0f921"
             ]
            ],
            "type": "contour"
           }
          ],
          "contourcarpet": [
           {
            "colorbar": {
             "outlinewidth": 0,
             "ticks": ""
            },
            "type": "contourcarpet"
           }
          ],
          "heatmap": [
           {
            "colorbar": {
             "outlinewidth": 0,
             "ticks": ""
            },
            "colorscale": [
             [
              0,
              "#0d0887"
             ],
             [
              0.1111111111111111,
              "#46039f"
             ],
             [
              0.2222222222222222,
              "#7201a8"
             ],
             [
              0.3333333333333333,
              "#9c179e"
             ],
             [
              0.4444444444444444,
              "#bd3786"
             ],
             [
              0.5555555555555556,
              "#d8576b"
             ],
             [
              0.6666666666666666,
              "#ed7953"
             ],
             [
              0.7777777777777778,
              "#fb9f3a"
             ],
             [
              0.8888888888888888,
              "#fdca26"
             ],
             [
              1,
              "#f0f921"
             ]
            ],
            "type": "heatmap"
           }
          ],
          "heatmapgl": [
           {
            "colorbar": {
             "outlinewidth": 0,
             "ticks": ""
            },
            "colorscale": [
             [
              0,
              "#0d0887"
             ],
             [
              0.1111111111111111,
              "#46039f"
             ],
             [
              0.2222222222222222,
              "#7201a8"
             ],
             [
              0.3333333333333333,
              "#9c179e"
             ],
             [
              0.4444444444444444,
              "#bd3786"
             ],
             [
              0.5555555555555556,
              "#d8576b"
             ],
             [
              0.6666666666666666,
              "#ed7953"
             ],
             [
              0.7777777777777778,
              "#fb9f3a"
             ],
             [
              0.8888888888888888,
              "#fdca26"
             ],
             [
              1,
              "#f0f921"
             ]
            ],
            "type": "heatmapgl"
           }
          ],
          "histogram": [
           {
            "marker": {
             "pattern": {
              "fillmode": "overlay",
              "size": 10,
              "solidity": 0.2
             }
            },
            "type": "histogram"
           }
          ],
          "histogram2d": [
           {
            "colorbar": {
             "outlinewidth": 0,
             "ticks": ""
            },
            "colorscale": [
             [
              0,
              "#0d0887"
             ],
             [
              0.1111111111111111,
              "#46039f"
             ],
             [
              0.2222222222222222,
              "#7201a8"
             ],
             [
              0.3333333333333333,
              "#9c179e"
             ],
             [
              0.4444444444444444,
              "#bd3786"
             ],
             [
              0.5555555555555556,
              "#d8576b"
             ],
             [
              0.6666666666666666,
              "#ed7953"
             ],
             [
              0.7777777777777778,
              "#fb9f3a"
             ],
             [
              0.8888888888888888,
              "#fdca26"
             ],
             [
              1,
              "#f0f921"
             ]
            ],
            "type": "histogram2d"
           }
          ],
          "histogram2dcontour": [
           {
            "colorbar": {
             "outlinewidth": 0,
             "ticks": ""
            },
            "colorscale": [
             [
              0,
              "#0d0887"
             ],
             [
              0.1111111111111111,
              "#46039f"
             ],
             [
              0.2222222222222222,
              "#7201a8"
             ],
             [
              0.3333333333333333,
              "#9c179e"
             ],
             [
              0.4444444444444444,
              "#bd3786"
             ],
             [
              0.5555555555555556,
              "#d8576b"
             ],
             [
              0.6666666666666666,
              "#ed7953"
             ],
             [
              0.7777777777777778,
              "#fb9f3a"
             ],
             [
              0.8888888888888888,
              "#fdca26"
             ],
             [
              1,
              "#f0f921"
             ]
            ],
            "type": "histogram2dcontour"
           }
          ],
          "mesh3d": [
           {
            "colorbar": {
             "outlinewidth": 0,
             "ticks": ""
            },
            "type": "mesh3d"
           }
          ],
          "parcoords": [
           {
            "line": {
             "colorbar": {
              "outlinewidth": 0,
              "ticks": ""
             }
            },
            "type": "parcoords"
           }
          ],
          "pie": [
           {
            "automargin": true,
            "type": "pie"
           }
          ],
          "scatter": [
           {
            "marker": {
             "colorbar": {
              "outlinewidth": 0,
              "ticks": ""
             }
            },
            "type": "scatter"
           }
          ],
          "scatter3d": [
           {
            "line": {
             "colorbar": {
              "outlinewidth": 0,
              "ticks": ""
             }
            },
            "marker": {
             "colorbar": {
              "outlinewidth": 0,
              "ticks": ""
             }
            },
            "type": "scatter3d"
           }
          ],
          "scattercarpet": [
           {
            "marker": {
             "colorbar": {
              "outlinewidth": 0,
              "ticks": ""
             }
            },
            "type": "scattercarpet"
           }
          ],
          "scattergeo": [
           {
            "marker": {
             "colorbar": {
              "outlinewidth": 0,
              "ticks": ""
             }
            },
            "type": "scattergeo"
           }
          ],
          "scattergl": [
           {
            "marker": {
             "colorbar": {
              "outlinewidth": 0,
              "ticks": ""
             }
            },
            "type": "scattergl"
           }
          ],
          "scattermapbox": [
           {
            "marker": {
             "colorbar": {
              "outlinewidth": 0,
              "ticks": ""
             }
            },
            "type": "scattermapbox"
           }
          ],
          "scatterpolar": [
           {
            "marker": {
             "colorbar": {
              "outlinewidth": 0,
              "ticks": ""
             }
            },
            "type": "scatterpolar"
           }
          ],
          "scatterpolargl": [
           {
            "marker": {
             "colorbar": {
              "outlinewidth": 0,
              "ticks": ""
             }
            },
            "type": "scatterpolargl"
           }
          ],
          "scatterternary": [
           {
            "marker": {
             "colorbar": {
              "outlinewidth": 0,
              "ticks": ""
             }
            },
            "type": "scatterternary"
           }
          ],
          "surface": [
           {
            "colorbar": {
             "outlinewidth": 0,
             "ticks": ""
            },
            "colorscale": [
             [
              0,
              "#0d0887"
             ],
             [
              0.1111111111111111,
              "#46039f"
             ],
             [
              0.2222222222222222,
              "#7201a8"
             ],
             [
              0.3333333333333333,
              "#9c179e"
             ],
             [
              0.4444444444444444,
              "#bd3786"
             ],
             [
              0.5555555555555556,
              "#d8576b"
             ],
             [
              0.6666666666666666,
              "#ed7953"
             ],
             [
              0.7777777777777778,
              "#fb9f3a"
             ],
             [
              0.8888888888888888,
              "#fdca26"
             ],
             [
              1,
              "#f0f921"
             ]
            ],
            "type": "surface"
           }
          ],
          "table": [
           {
            "cells": {
             "fill": {
              "color": "#EBF0F8"
             },
             "line": {
              "color": "white"
             }
            },
            "header": {
             "fill": {
              "color": "#C8D4E3"
             },
             "line": {
              "color": "white"
             }
            },
            "type": "table"
           }
          ]
         },
         "layout": {
          "annotationdefaults": {
           "arrowcolor": "#2a3f5f",
           "arrowhead": 0,
           "arrowwidth": 1
          },
          "autotypenumbers": "strict",
          "coloraxis": {
           "colorbar": {
            "outlinewidth": 0,
            "ticks": ""
           }
          },
          "colorscale": {
           "diverging": [
            [
             0,
             "#8e0152"
            ],
            [
             0.1,
             "#c51b7d"
            ],
            [
             0.2,
             "#de77ae"
            ],
            [
             0.3,
             "#f1b6da"
            ],
            [
             0.4,
             "#fde0ef"
            ],
            [
             0.5,
             "#f7f7f7"
            ],
            [
             0.6,
             "#e6f5d0"
            ],
            [
             0.7,
             "#b8e186"
            ],
            [
             0.8,
             "#7fbc41"
            ],
            [
             0.9,
             "#4d9221"
            ],
            [
             1,
             "#276419"
            ]
           ],
           "sequential": [
            [
             0,
             "#0d0887"
            ],
            [
             0.1111111111111111,
             "#46039f"
            ],
            [
             0.2222222222222222,
             "#7201a8"
            ],
            [
             0.3333333333333333,
             "#9c179e"
            ],
            [
             0.4444444444444444,
             "#bd3786"
            ],
            [
             0.5555555555555556,
             "#d8576b"
            ],
            [
             0.6666666666666666,
             "#ed7953"
            ],
            [
             0.7777777777777778,
             "#fb9f3a"
            ],
            [
             0.8888888888888888,
             "#fdca26"
            ],
            [
             1,
             "#f0f921"
            ]
           ],
           "sequentialminus": [
            [
             0,
             "#0d0887"
            ],
            [
             0.1111111111111111,
             "#46039f"
            ],
            [
             0.2222222222222222,
             "#7201a8"
            ],
            [
             0.3333333333333333,
             "#9c179e"
            ],
            [
             0.4444444444444444,
             "#bd3786"
            ],
            [
             0.5555555555555556,
             "#d8576b"
            ],
            [
             0.6666666666666666,
             "#ed7953"
            ],
            [
             0.7777777777777778,
             "#fb9f3a"
            ],
            [
             0.8888888888888888,
             "#fdca26"
            ],
            [
             1,
             "#f0f921"
            ]
           ]
          },
          "colorway": [
           "#636efa",
           "#EF553B",
           "#00cc96",
           "#ab63fa",
           "#FFA15A",
           "#19d3f3",
           "#FF6692",
           "#B6E880",
           "#FF97FF",
           "#FECB52"
          ],
          "font": {
           "color": "#2a3f5f"
          },
          "geo": {
           "bgcolor": "white",
           "lakecolor": "white",
           "landcolor": "#E5ECF6",
           "showlakes": true,
           "showland": true,
           "subunitcolor": "white"
          },
          "hoverlabel": {
           "align": "left"
          },
          "hovermode": "closest",
          "mapbox": {
           "style": "light"
          },
          "paper_bgcolor": "white",
          "plot_bgcolor": "#E5ECF6",
          "polar": {
           "angularaxis": {
            "gridcolor": "white",
            "linecolor": "white",
            "ticks": ""
           },
           "bgcolor": "#E5ECF6",
           "radialaxis": {
            "gridcolor": "white",
            "linecolor": "white",
            "ticks": ""
           }
          },
          "scene": {
           "xaxis": {
            "backgroundcolor": "#E5ECF6",
            "gridcolor": "white",
            "gridwidth": 2,
            "linecolor": "white",
            "showbackground": true,
            "ticks": "",
            "zerolinecolor": "white"
           },
           "yaxis": {
            "backgroundcolor": "#E5ECF6",
            "gridcolor": "white",
            "gridwidth": 2,
            "linecolor": "white",
            "showbackground": true,
            "ticks": "",
            "zerolinecolor": "white"
           },
           "zaxis": {
            "backgroundcolor": "#E5ECF6",
            "gridcolor": "white",
            "gridwidth": 2,
            "linecolor": "white",
            "showbackground": true,
            "ticks": "",
            "zerolinecolor": "white"
           }
          },
          "shapedefaults": {
           "line": {
            "color": "#2a3f5f"
           }
          },
          "ternary": {
           "aaxis": {
            "gridcolor": "white",
            "linecolor": "white",
            "ticks": ""
           },
           "baxis": {
            "gridcolor": "white",
            "linecolor": "white",
            "ticks": ""
           },
           "bgcolor": "#E5ECF6",
           "caxis": {
            "gridcolor": "white",
            "linecolor": "white",
            "ticks": ""
           }
          },
          "title": {
           "x": 0.05
          },
          "xaxis": {
           "automargin": true,
           "gridcolor": "white",
           "linecolor": "white",
           "ticks": "",
           "title": {
            "standoff": 15
           },
           "zerolinecolor": "white",
           "zerolinewidth": 2
          },
          "yaxis": {
           "automargin": true,
           "gridcolor": "white",
           "linecolor": "white",
           "ticks": "",
           "title": {
            "standoff": 15
           },
           "zerolinecolor": "white",
           "zerolinewidth": 2
          }
         }
        },
        "title": {
         "text": "Hyperparameter Importances"
        },
        "xaxis": {
         "autorange": true,
         "range": [
          0,
          0.7854290876848216
         ],
         "title": {
          "text": "Importance for Objective Value"
         },
         "type": "linear"
        },
        "yaxis": {
         "autorange": true,
         "range": [
          -0.5,
          4.5
         ],
         "title": {
          "text": "Hyperparameter"
         },
         "type": "category"
        }
       }
      },
      "image/png": "[encoded data removed]",
      "text/html": [
       "<div>                            <div id=\"9ed7359b-42a1-425c-ae18-b605903353ce\" class=\"plotly-graph-div\" style=\"height:525px; width:100%;\"></div>            <script type=\"text/javascript\">                require([\"plotly\"], function(Plotly) {                    window.PLOTLYENV=window.PLOTLYENV || {};                                    if (document.getElementById(\"9ed7359b-42a1-425c-ae18-b605903353ce\")) {                    Plotly.newPlot(                        \"9ed7359b-42a1-425c-ae18-b605903353ce\",                        [{\"cliponaxis\":false,\"hovertemplate\":[\"DROPOUT (CategoricalDistribution): 0.004970557892755552<extra></extra>\",\"NUM_EPOCHS (CategoricalDistribution): 0.01571855379583892<extra></extra>\",\"LEARNING_RATE (LogUniformDistribution): 0.016113898636704996<extra></extra>\",\"TRAIN_BATCH_SIZE (CategoricalDistribution): 0.21703935637412008<extra></extra>\",\"OPTIMIZER (CategoricalDistribution): 0.7461576333005805<extra></extra>\"],\"marker\":{\"color\":\"rgb(66,146,198)\"},\"orientation\":\"h\",\"text\":[\"0.004970557892755552\",\"0.01571855379583892\",\"0.016113898636704996\",\"0.21703935637412008\",\"0.7461576333005805\"],\"textposition\":\"outside\",\"texttemplate\":\"%{text:.2f}\",\"type\":\"bar\",\"x\":[0.004970557892755552,0.01571855379583892,0.016113898636704996,0.21703935637412008,0.7461576333005805],\"y\":[\"DROPOUT\",\"NUM_EPOCHS\",\"LEARNING_RATE\",\"TRAIN_BATCH_SIZE\",\"OPTIMIZER\"]}],                        {\"showlegend\":false,\"template\":{\"data\":{\"bar\":[{\"error_x\":{\"color\":\"#2a3f5f\"},\"error_y\":{\"color\":\"#2a3f5f\"},\"marker\":{\"line\":{\"color\":\"#E5ECF6\",\"width\":0.5},\"pattern\":{\"fillmode\":\"overlay\",\"size\":10,\"solidity\":0.2}},\"type\":\"bar\"}],\"barpolar\":[{\"marker\":{\"line\":{\"color\":\"#E5ECF6\",\"width\":0.5},\"pattern\":{\"fillmode\":\"overlay\",\"size\":10,\"solidity\":0.2}},\"type\":\"barpolar\"}],\"carpet\":[{\"aaxis\":{\"endlinecolor\":\"#2a3f5f\",\"gridcolor\":\"white\",\"linecolor\":\"white\",\"minorgridcolor\":\"white\",\"startlinecolor\":\"#2a3f5f\"},\"baxis\":{\"endlinecolor\":\"#2a3f5f\",\"gridcolor\":\"white\",\"linecolor\":\"white\",\"minorgridcolor\":\"white\",\"startlinecolor\":\"#2a3f5f\"},\"type\":\"carpet\"}],\"choropleth\":[{\"colorbar\":{\"outlinewidth\":0,\"ticks\":\"\"},\"type\":\"choropleth\"}],\"contour\":[{\"colorbar\":{\"outlinewidth\":0,\"ticks\":\"\"},\"colorscale\":[[0.0,\"#0d0887\"],[0.1111111111111111,\"#46039f\"],[0.2222222222222222,\"#7201a8\"],[0.3333333333333333,\"#9c179e\"],[0.4444444444444444,\"#bd3786\"],[0.5555555555555556,\"#d8576b\"],[0.6666666666666666,\"#ed7953\"],[0.7777777777777778,\"#fb9f3a\"],[0.8888888888888888,\"#fdca26\"],[1.0,\"#f0f921\"]],\"type\":\"contour\"}],\"contourcarpet\":[{\"colorbar\":{\"outlinewidth\":0,\"ticks\":\"\"},\"type\":\"contourcarpet\"}],\"heatmap\":[{\"colorbar\":{\"outlinewidth\":0,\"ticks\":\"\"},\"colorscale\":[[0.0,\"#0d0887\"],[0.1111111111111111,\"#46039f\"],[0.2222222222222222,\"#7201a8\"],[0.3333333333333333,\"#9c179e\"],[0.4444444444444444,\"#bd3786\"],[0.5555555555555556,\"#d8576b\"],[0.6666666666666666,\"#ed7953\"],[0.7777777777777778,\"#fb9f3a\"],[0.8888888888888888,\"#fdca26\"],[1.0,\"#f0f921\"]],\"type\":\"heatmap\"}],\"heatmapgl\":[{\"colorbar\":{\"outlinewidth\":0,\"ticks\":\"\"},\"colorscale\":[[0.0,\"#0d0887\"],[0.1111111111111111,\"#46039f\"],[0.2222222222222222,\"#7201a8\"],[0.3333333333333333,\"#9c179e\"],[0.4444444444444444,\"#bd3786\"],[0.5555555555555556,\"#d8576b\"],[0.6666666666666666,\"#ed7953\"],[0.7777777777777778,\"#fb9f3a\"],[0.8888888888888888,\"#fdca26\"],[1.0,\"#f0f921\"]],\"type\":\"heatmapgl\"}],\"histogram\":[{\"marker\":{\"pattern\":{\"fillmode\":\"overlay\",\"size\":10,\"solidity\":0.2}},\"type\":\"histogram\"}],\"histogram2d\":[{\"colorbar\":{\"outlinewidth\":0,\"ticks\":\"\"},\"colorscale\":[[0.0,\"#0d0887\"],[0.1111111111111111,\"#46039f\"],[0.2222222222222222,\"#7201a8\"],[0.3333333333333333,\"#9c179e\"],[0.4444444444444444,\"#bd3786\"],[0.5555555555555556,\"#d8576b\"],[0.6666666666666666,\"#ed7953\"],[0.7777777777777778,\"#fb9f3a\"],[0.8888888888888888,\"#fdca26\"],[1.0,\"#f0f921\"]],\"type\":\"histogram2d\"}],\"histogram2dcontour\":[{\"colorbar\":{\"outlinewidth\":0,\"ticks\":\"\"},\"colorscale\":[[0.0,\"#0d0887\"],[0.1111111111111111,\"#46039f\"],[0.2222222222222222,\"#7201a8\"],[0.3333333333333333,\"#9c179e\"],[0.4444444444444444,\"#bd3786\"],[0.5555555555555556,\"#d8576b\"],[0.6666666666666666,\"#ed7953\"],[0.7777777777777778,\"#fb9f3a\"],[0.8888888888888888,\"#fdca26\"],[1.0,\"#f0f921\"]],\"type\":\"histogram2dcontour\"}],\"mesh3d\":[{\"colorbar\":{\"outlinewidth\":0,\"ticks\":\"\"},\"type\":\"mesh3d\"}],\"parcoords\":[{\"line\":{\"colorbar\":{\"outlinewidth\":0,\"ticks\":\"\"}},\"type\":\"parcoords\"}],\"pie\":[{\"automargin\":true,\"type\":\"pie\"}],\"scatter\":[{\"marker\":{\"colorbar\":{\"outlinewidth\":0,\"ticks\":\"\"}},\"type\":\"scatter\"}],\"scatter3d\":[{\"line\":{\"colorbar\":{\"outlinewidth\":0,\"ticks\":\"\"}},\"marker\":{\"colorbar\":{\"outlinewidth\":0,\"ticks\":\"\"}},\"type\":\"scatter3d\"}],\"scattercarpet\":[{\"marker\":{\"colorbar\":{\"outlinewidth\":0,\"ticks\":\"\"}},\"type\":\"scattercarpet\"}],\"scattergeo\":[{\"marker\":{\"colorbar\":{\"outlinewidth\":0,\"ticks\":\"\"}},\"type\":\"scattergeo\"}],\"scattergl\":[{\"marker\":{\"colorbar\":{\"outlinewidth\":0,\"ticks\":\"\"}},\"type\":\"scattergl\"}],\"scattermapbox\":[{\"marker\":{\"colorbar\":{\"outlinewidth\":0,\"ticks\":\"\"}},\"type\":\"scattermapbox\"}],\"scatterpolar\":[{\"marker\":{\"colorbar\":{\"outlinewidth\":0,\"ticks\":\"\"}},\"type\":\"scatterpolar\"}],\"scatterpolargl\":[{\"marker\":{\"colorbar\":{\"outlinewidth\":0,\"ticks\":\"\"}},\"type\":\"scatterpolargl\"}],\"scatterternary\":[{\"marker\":{\"colorbar\":{\"outlinewidth\":0,\"ticks\":\"\"}},\"type\":\"scatterternary\"}],\"surface\":[{\"colorbar\":{\"outlinewidth\":0,\"ticks\":\"\"},\"colorscale\":[[0.0,\"#0d0887\"],[0.1111111111111111,\"#46039f\"],[0.2222222222222222,\"#7201a8\"],[0.3333333333333333,\"#9c179e\"],[0.4444444444444444,\"#bd3786\"],[0.5555555555555556,\"#d8576b\"],[0.6666666666666666,\"#ed7953\"],[0.7777777777777778,\"#fb9f3a\"],[0.8888888888888888,\"#fdca26\"],[1.0,\"#f0f921\"]],\"type\":\"surface\"}],\"table\":[{\"cells\":{\"fill\":{\"color\":\"#EBF0F8\"},\"line\":{\"color\":\"white\"}},\"header\":{\"fill\":{\"color\":\"#C8D4E3\"},\"line\":{\"color\":\"white\"}},\"type\":\"table\"}]},\"layout\":{\"annotationdefaults\":{\"arrowcolor\":\"#2a3f5f\",\"arrowhead\":0,\"arrowwidth\":1},\"autotypenumbers\":\"strict\",\"coloraxis\":{\"colorbar\":{\"outlinewidth\":0,\"ticks\":\"\"}},\"colorscale\":{\"diverging\":[[0,\"#8e0152\"],[0.1,\"#c51b7d\"],[0.2,\"#de77ae\"],[0.3,\"#f1b6da\"],[0.4,\"#fde0ef\"],[0.5,\"#f7f7f7\"],[0.6,\"#e6f5d0\"],[0.7,\"#b8e186\"],[0.8,\"#7fbc41\"],[0.9,\"#4d9221\"],[1,\"#276419\"]],\"sequential\":[[0.0,\"#0d0887\"],[0.1111111111111111,\"#46039f\"],[0.2222222222222222,\"#7201a8\"],[0.3333333333333333,\"#9c179e\"],[0.4444444444444444,\"#bd3786\"],[0.5555555555555556,\"#d8576b\"],[0.6666666666666666,\"#ed7953\"],[0.7777777777777778,\"#fb9f3a\"],[0.8888888888888888,\"#fdca26\"],[1.0,\"#f0f921\"]],\"sequentialminus\":[[0.0,\"#0d0887\"],[0.1111111111111111,\"#46039f\"],[0.2222222222222222,\"#7201a8\"],[0.3333333333333333,\"#9c179e\"],[0.4444444444444444,\"#bd3786\"],[0.5555555555555556,\"#d8576b\"],[0.6666666666666666,\"#ed7953\"],[0.7777777777777778,\"#fb9f3a\"],[0.8888888888888888,\"#fdca26\"],[1.0,\"#f0f921\"]]},\"colorway\":[\"#636efa\",\"#EF553B\",\"#00cc96\",\"#ab63fa\",\"#FFA15A\",\"#19d3f3\",\"#FF6692\",\"#B6E880\",\"#FF97FF\",\"#FECB52\"],\"font\":{\"color\":\"#2a3f5f\"},\"geo\":{\"bgcolor\":\"white\",\"lakecolor\":\"white\",\"landcolor\":\"#E5ECF6\",\"showlakes\":true,\"showland\":true,\"subunitcolor\":\"white\"},\"hoverlabel\":{\"align\":\"left\"},\"hovermode\":\"closest\",\"mapbox\":{\"style\":\"light\"},\"paper_bgcolor\":\"white\",\"plot_bgcolor\":\"#E5ECF6\",\"polar\":{\"angularaxis\":{\"gridcolor\":\"white\",\"linecolor\":\"white\",\"ticks\":\"\"},\"bgcolor\":\"#E5ECF6\",\"radialaxis\":{\"gridcolor\":\"white\",\"linecolor\":\"white\",\"ticks\":\"\"}},\"scene\":{\"xaxis\":{\"backgroundcolor\":\"#E5ECF6\",\"gridcolor\":\"white\",\"gridwidth\":2,\"linecolor\":\"white\",\"showbackground\":true,\"ticks\":\"\",\"zerolinecolor\":\"white\"},\"yaxis\":{\"backgroundcolor\":\"#E5ECF6\",\"gridcolor\":\"white\",\"gridwidth\":2,\"linecolor\":\"white\",\"showbackground\":true,\"ticks\":\"\",\"zerolinecolor\":\"white\"},\"zaxis\":{\"backgroundcolor\":\"#E5ECF6\",\"gridcolor\":\"white\",\"gridwidth\":2,\"linecolor\":\"white\",\"showbackground\":true,\"ticks\":\"\",\"zerolinecolor\":\"white\"}},\"shapedefaults\":{\"line\":{\"color\":\"#2a3f5f\"}},\"ternary\":{\"aaxis\":{\"gridcolor\":\"white\",\"linecolor\":\"white\",\"ticks\":\"\"},\"baxis\":{\"gridcolor\":\"white\",\"linecolor\":\"white\",\"ticks\":\"\"},\"bgcolor\":\"#E5ECF6\",\"caxis\":{\"gridcolor\":\"white\",\"linecolor\":\"white\",\"ticks\":\"\"}},\"title\":{\"x\":0.05},\"xaxis\":{\"automargin\":true,\"gridcolor\":\"white\",\"linecolor\":\"white\",\"ticks\":\"\",\"title\":{\"standoff\":15},\"zerolinecolor\":\"white\",\"zerolinewidth\":2},\"yaxis\":{\"automargin\":true,\"gridcolor\":\"white\",\"linecolor\":\"white\",\"ticks\":\"\",\"title\":{\"standoff\":15},\"zerolinecolor\":\"white\",\"zerolinewidth\":2}}},\"title\":{\"text\":\"Hyperparameter Importances\"},\"xaxis\":{\"title\":{\"text\":\"Importance for Objective Value\"}},\"yaxis\":{\"title\":{\"text\":\"Hyperparameter\"}}},                        {\"responsive\": true}                    ).then(function(){\n",
       "                            \n",
       "var gd = document.getElementById('9ed7359b-42a1-425c-ae18-b605903353ce');\n",
       "var x = new MutationObserver(function (mutations, observer) {{\n",
       "        var display = window.getComputedStyle(gd).display;\n",
       "        if (!display || display === 'none') {{\n",
       "            console.log([gd, 'removed!']);\n",
       "            Plotly.purge(gd);\n",
       "            observer.disconnect();\n",
       "        }}\n",
       "}});\n",
       "\n",
       "// Listen for the removal of the full notebook cells\n",
       "var notebookContainer = gd.closest('#notebook-container');\n",
       "if (notebookContainer) {{\n",
       "    x.observe(notebookContainer, {childList: true});\n",
       "}}\n",
       "\n",
       "// Listen for the clearing of the current output cell\n",
       "var outputEl = gd.closest('.output');\n",
       "if (outputEl) {{\n",
       "    x.observe(outputEl, {childList: true});\n",
       "}}\n",
       "\n",
       "                        })                };                });            </script>        </div>"
      ]
     },
     "metadata": {},
     "output_type": "display_data"
    }
   ],
   "source": [
    "plot_param_importances(analysis_study)"
   ]
  },
  {
   "cell_type": "markdown",
   "metadata": {},
   "source": [
    "Parallel coordinate plot displays the dependence of the objective value (recall scores) with respect to the hyper parameters. \n",
    "- The highest objective value corresponds to the droput value 0.5 and with 0.1 dropout we got lower recall scores. \n",
    "- Better learning rates lie below 0.009 and above 0.001.\n",
    "- As for optimizer, SGD has provided the worst scores and ADAM gave the best scores.\n",
    "- Objective value using batch size 32 ad 64 are reasonably similar but the training for **batch 32 is faster compartively to batch 64**. "
   ]
  },
  {
   "cell_type": "code",
   "execution_count": 40,
   "metadata": {},
   "outputs": [
    {
     "data": {
      "application/vnd.plotly.v1+json": {
       "config": {
        "plotlyServerURL": "https://plot.ly"
       },
       "data": [
        {
         "dimensions": [
          {
           "label": "Objective Value",
           "range": [
            0.24187066130800147,
            0.794665692363902
           ],
           "values": [
            0.24187066130800147,
            0.6887102667153818,
            0.7873584216295214,
            0.24187066130800147,
            0.2502740226525393,
            0.24187066130800147,
            0.24187066130800147,
            0.7924735111435879,
            0.794665692363902,
            0.7793204238217026
           ]
          },
          {
           "label": "DROPOUT",
           "range": [
            0,
            1
           ],
           "ticktext": [
            0.1,
            0.5
           ],
           "tickvals": [
            0,
            1
           ],
           "values": [
            0,
            0,
            1,
            1,
            1,
            1,
            1,
            1,
            1,
            1
           ]
          },
          {
           "label": "LEARNING_RATE",
           "range": [
            -2.8566992294793665,
            -2.006121933842394
           ],
           "ticktext": [
            "0.00139",
            "0.00986"
           ],
           "tickvals": [
            -2.8566992294793665,
            -2.006121933842394
           ],
           "values": [
            -2.1599021530237015,
            -2.006121933842394,
            -2.4337925847042543,
            -2.3295444522547646,
            -2.8566992294793665,
            -2.8046668048838574,
            -2.830686160941735,
            -2.4979519699504107,
            -2.5528870101409558,
            -2.2705900627757
           ]
          },
          {
           "label": "NUM_EPOCHS",
           "range": [
            0,
            1
           ],
           "ticktext": [
            3,
            5
           ],
           "tickvals": [
            0,
            1
           ],
           "values": [
            1,
            1,
            0,
            0,
            1,
            1,
            1,
            1,
            1,
            1
           ]
          },
          {
           "label": "OPTIMIZER",
           "range": [
            0,
            1
           ],
           "ticktext": [
            "Adam",
            "SGD"
           ],
           "tickvals": [
            0,
            1
           ],
           "values": [
            1,
            0,
            0,
            1,
            1,
            1,
            1,
            0,
            0,
            0
           ]
          },
          {
           "label": "TRAIN_BATCH_SIZE",
           "range": [
            0,
            1
           ],
           "ticktext": [
            32,
            64
           ],
           "tickvals": [
            0,
            1
           ],
           "values": [
            0,
            1,
            0,
            0,
            0,
            0,
            0,
            1,
            1,
            1
           ]
          }
         ],
         "labelangle": 30,
         "labelside": "bottom",
         "line": {
          "color": [
           0.24187066130800147,
           0.6887102667153818,
           0.7873584216295214,
           0.24187066130800147,
           0.2502740226525393,
           0.24187066130800147,
           0.24187066130800147,
           0.7924735111435879,
           0.794665692363902,
           0.7793204238217026
          ],
          "colorbar": {
           "title": {
            "text": "Objective Value"
           }
          },
          "colorscale": [
           [
            0,
            "rgb(247,251,255)"
           ],
           [
            0.125,
            "rgb(222,235,247)"
           ],
           [
            0.25,
            "rgb(198,219,239)"
           ],
           [
            0.375,
            "rgb(158,202,225)"
           ],
           [
            0.5,
            "rgb(107,174,214)"
           ],
           [
            0.625,
            "rgb(66,146,198)"
           ],
           [
            0.75,
            "rgb(33,113,181)"
           ],
           [
            0.875,
            "rgb(8,81,156)"
           ],
           [
            1,
            "rgb(8,48,107)"
           ]
          ],
          "reversescale": false,
          "showscale": true
         },
         "type": "parcoords"
        }
       ],
       "layout": {
        "autosize": true,
        "template": {
         "data": {
          "bar": [
           {
            "error_x": {
             "color": "#2a3f5f"
            },
            "error_y": {
             "color": "#2a3f5f"
            },
            "marker": {
             "line": {
              "color": "#E5ECF6",
              "width": 0.5
             },
             "pattern": {
              "fillmode": "overlay",
              "size": 10,
              "solidity": 0.2
             }
            },
            "type": "bar"
           }
          ],
          "barpolar": [
           {
            "marker": {
             "line": {
              "color": "#E5ECF6",
              "width": 0.5
             },
             "pattern": {
              "fillmode": "overlay",
              "size": 10,
              "solidity": 0.2
             }
            },
            "type": "barpolar"
           }
          ],
          "carpet": [
           {
            "aaxis": {
             "endlinecolor": "#2a3f5f",
             "gridcolor": "white",
             "linecolor": "white",
             "minorgridcolor": "white",
             "startlinecolor": "#2a3f5f"
            },
            "baxis": {
             "endlinecolor": "#2a3f5f",
             "gridcolor": "white",
             "linecolor": "white",
             "minorgridcolor": "white",
             "startlinecolor": "#2a3f5f"
            },
            "type": "carpet"
           }
          ],
          "choropleth": [
           {
            "colorbar": {
             "outlinewidth": 0,
             "ticks": ""
            },
            "type": "choropleth"
           }
          ],
          "contour": [
           {
            "colorbar": {
             "outlinewidth": 0,
             "ticks": ""
            },
            "colorscale": [
             [
              0,
              "#0d0887"
             ],
             [
              0.1111111111111111,
              "#46039f"
             ],
             [
              0.2222222222222222,
              "#7201a8"
             ],
             [
              0.3333333333333333,
              "#9c179e"
             ],
             [
              0.4444444444444444,
              "#bd3786"
             ],
             [
              0.5555555555555556,
              "#d8576b"
             ],
             [
              0.6666666666666666,
              "#ed7953"
             ],
             [
              0.7777777777777778,
              "#fb9f3a"
             ],
             [
              0.8888888888888888,
              "#fdca26"
             ],
             [
              1,
              "#f0f921"
             ]
            ],
            "type": "contour"
           }
          ],
          "contourcarpet": [
           {
            "colorbar": {
             "outlinewidth": 0,
             "ticks": ""
            },
            "type": "contourcarpet"
           }
          ],
          "heatmap": [
           {
            "colorbar": {
             "outlinewidth": 0,
             "ticks": ""
            },
            "colorscale": [
             [
              0,
              "#0d0887"
             ],
             [
              0.1111111111111111,
              "#46039f"
             ],
             [
              0.2222222222222222,
              "#7201a8"
             ],
             [
              0.3333333333333333,
              "#9c179e"
             ],
             [
              0.4444444444444444,
              "#bd3786"
             ],
             [
              0.5555555555555556,
              "#d8576b"
             ],
             [
              0.6666666666666666,
              "#ed7953"
             ],
             [
              0.7777777777777778,
              "#fb9f3a"
             ],
             [
              0.8888888888888888,
              "#fdca26"
             ],
             [
              1,
              "#f0f921"
             ]
            ],
            "type": "heatmap"
           }
          ],
          "heatmapgl": [
           {
            "colorbar": {
             "outlinewidth": 0,
             "ticks": ""
            },
            "colorscale": [
             [
              0,
              "#0d0887"
             ],
             [
              0.1111111111111111,
              "#46039f"
             ],
             [
              0.2222222222222222,
              "#7201a8"
             ],
             [
              0.3333333333333333,
              "#9c179e"
             ],
             [
              0.4444444444444444,
              "#bd3786"
             ],
             [
              0.5555555555555556,
              "#d8576b"
             ],
             [
              0.6666666666666666,
              "#ed7953"
             ],
             [
              0.7777777777777778,
              "#fb9f3a"
             ],
             [
              0.8888888888888888,
              "#fdca26"
             ],
             [
              1,
              "#f0f921"
             ]
            ],
            "type": "heatmapgl"
           }
          ],
          "histogram": [
           {
            "marker": {
             "pattern": {
              "fillmode": "overlay",
              "size": 10,
              "solidity": 0.2
             }
            },
            "type": "histogram"
           }
          ],
          "histogram2d": [
           {
            "colorbar": {
             "outlinewidth": 0,
             "ticks": ""
            },
            "colorscale": [
             [
              0,
              "#0d0887"
             ],
             [
              0.1111111111111111,
              "#46039f"
             ],
             [
              0.2222222222222222,
              "#7201a8"
             ],
             [
              0.3333333333333333,
              "#9c179e"
             ],
             [
              0.4444444444444444,
              "#bd3786"
             ],
             [
              0.5555555555555556,
              "#d8576b"
             ],
             [
              0.6666666666666666,
              "#ed7953"
             ],
             [
              0.7777777777777778,
              "#fb9f3a"
             ],
             [
              0.8888888888888888,
              "#fdca26"
             ],
             [
              1,
              "#f0f921"
             ]
            ],
            "type": "histogram2d"
           }
          ],
          "histogram2dcontour": [
           {
            "colorbar": {
             "outlinewidth": 0,
             "ticks": ""
            },
            "colorscale": [
             [
              0,
              "#0d0887"
             ],
             [
              0.1111111111111111,
              "#46039f"
             ],
             [
              0.2222222222222222,
              "#7201a8"
             ],
             [
              0.3333333333333333,
              "#9c179e"
             ],
             [
              0.4444444444444444,
              "#bd3786"
             ],
             [
              0.5555555555555556,
              "#d8576b"
             ],
             [
              0.6666666666666666,
              "#ed7953"
             ],
             [
              0.7777777777777778,
              "#fb9f3a"
             ],
             [
              0.8888888888888888,
              "#fdca26"
             ],
             [
              1,
              "#f0f921"
             ]
            ],
            "type": "histogram2dcontour"
           }
          ],
          "mesh3d": [
           {
            "colorbar": {
             "outlinewidth": 0,
             "ticks": ""
            },
            "type": "mesh3d"
           }
          ],
          "parcoords": [
           {
            "line": {
             "colorbar": {
              "outlinewidth": 0,
              "ticks": ""
             }
            },
            "type": "parcoords"
           }
          ],
          "pie": [
           {
            "automargin": true,
            "type": "pie"
           }
          ],
          "scatter": [
           {
            "marker": {
             "colorbar": {
              "outlinewidth": 0,
              "ticks": ""
             }
            },
            "type": "scatter"
           }
          ],
          "scatter3d": [
           {
            "line": {
             "colorbar": {
              "outlinewidth": 0,
              "ticks": ""
             }
            },
            "marker": {
             "colorbar": {
              "outlinewidth": 0,
              "ticks": ""
             }
            },
            "type": "scatter3d"
           }
          ],
          "scattercarpet": [
           {
            "marker": {
             "colorbar": {
              "outlinewidth": 0,
              "ticks": ""
             }
            },
            "type": "scattercarpet"
           }
          ],
          "scattergeo": [
           {
            "marker": {
             "colorbar": {
              "outlinewidth": 0,
              "ticks": ""
             }
            },
            "type": "scattergeo"
           }
          ],
          "scattergl": [
           {
            "marker": {
             "colorbar": {
              "outlinewidth": 0,
              "ticks": ""
             }
            },
            "type": "scattergl"
           }
          ],
          "scattermapbox": [
           {
            "marker": {
             "colorbar": {
              "outlinewidth": 0,
              "ticks": ""
             }
            },
            "type": "scattermapbox"
           }
          ],
          "scatterpolar": [
           {
            "marker": {
             "colorbar": {
              "outlinewidth": 0,
              "ticks": ""
             }
            },
            "type": "scatterpolar"
           }
          ],
          "scatterpolargl": [
           {
            "marker": {
             "colorbar": {
              "outlinewidth": 0,
              "ticks": ""
             }
            },
            "type": "scatterpolargl"
           }
          ],
          "scatterternary": [
           {
            "marker": {
             "colorbar": {
              "outlinewidth": 0,
              "ticks": ""
             }
            },
            "type": "scatterternary"
           }
          ],
          "surface": [
           {
            "colorbar": {
             "outlinewidth": 0,
             "ticks": ""
            },
            "colorscale": [
             [
              0,
              "#0d0887"
             ],
             [
              0.1111111111111111,
              "#46039f"
             ],
             [
              0.2222222222222222,
              "#7201a8"
             ],
             [
              0.3333333333333333,
              "#9c179e"
             ],
             [
              0.4444444444444444,
              "#bd3786"
             ],
             [
              0.5555555555555556,
              "#d8576b"
             ],
             [
              0.6666666666666666,
              "#ed7953"
             ],
             [
              0.7777777777777778,
              "#fb9f3a"
             ],
             [
              0.8888888888888888,
              "#fdca26"
             ],
             [
              1,
              "#f0f921"
             ]
            ],
            "type": "surface"
           }
          ],
          "table": [
           {
            "cells": {
             "fill": {
              "color": "#EBF0F8"
             },
             "line": {
              "color": "white"
             }
            },
            "header": {
             "fill": {
              "color": "#C8D4E3"
             },
             "line": {
              "color": "white"
             }
            },
            "type": "table"
           }
          ]
         },
         "layout": {
          "annotationdefaults": {
           "arrowcolor": "#2a3f5f",
           "arrowhead": 0,
           "arrowwidth": 1
          },
          "autotypenumbers": "strict",
          "coloraxis": {
           "colorbar": {
            "outlinewidth": 0,
            "ticks": ""
           }
          },
          "colorscale": {
           "diverging": [
            [
             0,
             "#8e0152"
            ],
            [
             0.1,
             "#c51b7d"
            ],
            [
             0.2,
             "#de77ae"
            ],
            [
             0.3,
             "#f1b6da"
            ],
            [
             0.4,
             "#fde0ef"
            ],
            [
             0.5,
             "#f7f7f7"
            ],
            [
             0.6,
             "#e6f5d0"
            ],
            [
             0.7,
             "#b8e186"
            ],
            [
             0.8,
             "#7fbc41"
            ],
            [
             0.9,
             "#4d9221"
            ],
            [
             1,
             "#276419"
            ]
           ],
           "sequential": [
            [
             0,
             "#0d0887"
            ],
            [
             0.1111111111111111,
             "#46039f"
            ],
            [
             0.2222222222222222,
             "#7201a8"
            ],
            [
             0.3333333333333333,
             "#9c179e"
            ],
            [
             0.4444444444444444,
             "#bd3786"
            ],
            [
             0.5555555555555556,
             "#d8576b"
            ],
            [
             0.6666666666666666,
             "#ed7953"
            ],
            [
             0.7777777777777778,
             "#fb9f3a"
            ],
            [
             0.8888888888888888,
             "#fdca26"
            ],
            [
             1,
             "#f0f921"
            ]
           ],
           "sequentialminus": [
            [
             0,
             "#0d0887"
            ],
            [
             0.1111111111111111,
             "#46039f"
            ],
            [
             0.2222222222222222,
             "#7201a8"
            ],
            [
             0.3333333333333333,
             "#9c179e"
            ],
            [
             0.4444444444444444,
             "#bd3786"
            ],
            [
             0.5555555555555556,
             "#d8576b"
            ],
            [
             0.6666666666666666,
             "#ed7953"
            ],
            [
             0.7777777777777778,
             "#fb9f3a"
            ],
            [
             0.8888888888888888,
             "#fdca26"
            ],
            [
             1,
             "#f0f921"
            ]
           ]
          },
          "colorway": [
           "#636efa",
           "#EF553B",
           "#00cc96",
           "#ab63fa",
           "#FFA15A",
           "#19d3f3",
           "#FF6692",
           "#B6E880",
           "#FF97FF",
           "#FECB52"
          ],
          "font": {
           "color": "#2a3f5f"
          },
          "geo": {
           "bgcolor": "white",
           "lakecolor": "white",
           "landcolor": "#E5ECF6",
           "showlakes": true,
           "showland": true,
           "subunitcolor": "white"
          },
          "hoverlabel": {
           "align": "left"
          },
          "hovermode": "closest",
          "mapbox": {
           "style": "light"
          },
          "paper_bgcolor": "white",
          "plot_bgcolor": "#E5ECF6",
          "polar": {
           "angularaxis": {
            "gridcolor": "white",
            "linecolor": "white",
            "ticks": ""
           },
           "bgcolor": "#E5ECF6",
           "radialaxis": {
            "gridcolor": "white",
            "linecolor": "white",
            "ticks": ""
           }
          },
          "scene": {
           "xaxis": {
            "backgroundcolor": "#E5ECF6",
            "gridcolor": "white",
            "gridwidth": 2,
            "linecolor": "white",
            "showbackground": true,
            "ticks": "",
            "zerolinecolor": "white"
           },
           "yaxis": {
            "backgroundcolor": "#E5ECF6",
            "gridcolor": "white",
            "gridwidth": 2,
            "linecolor": "white",
            "showbackground": true,
            "ticks": "",
            "zerolinecolor": "white"
           },
           "zaxis": {
            "backgroundcolor": "#E5ECF6",
            "gridcolor": "white",
            "gridwidth": 2,
            "linecolor": "white",
            "showbackground": true,
            "ticks": "",
            "zerolinecolor": "white"
           }
          },
          "shapedefaults": {
           "line": {
            "color": "#2a3f5f"
           }
          },
          "ternary": {
           "aaxis": {
            "gridcolor": "white",
            "linecolor": "white",
            "ticks": ""
           },
           "baxis": {
            "gridcolor": "white",
            "linecolor": "white",
            "ticks": ""
           },
           "bgcolor": "#E5ECF6",
           "caxis": {
            "gridcolor": "white",
            "linecolor": "white",
            "ticks": ""
           }
          },
          "title": {
           "x": 0.05
          },
          "xaxis": {
           "automargin": true,
           "gridcolor": "white",
           "linecolor": "white",
           "ticks": "",
           "title": {
            "standoff": 15
           },
           "zerolinecolor": "white",
           "zerolinewidth": 2
          },
          "yaxis": {
           "automargin": true,
           "gridcolor": "white",
           "linecolor": "white",
           "ticks": "",
           "title": {
            "standoff": 15
           },
           "zerolinecolor": "white",
           "zerolinewidth": 2
          }
         }
        },
        "title": {
         "text": "Parallel Coordinate Plot"
        }
       }
      },
      "image/png": "[encoded data removed]",
      "text/html": [
       "<div>                            <div id=\"88086037-1404-4c8f-baff-db8509c1ca62\" class=\"plotly-graph-div\" style=\"height:525px; width:100%;\"></div>            <script type=\"text/javascript\">                require([\"plotly\"], function(Plotly) {                    window.PLOTLYENV=window.PLOTLYENV || {};                                    if (document.getElementById(\"88086037-1404-4c8f-baff-db8509c1ca62\")) {                    Plotly.newPlot(                        \"88086037-1404-4c8f-baff-db8509c1ca62\",                        [{\"dimensions\":[{\"label\":\"Objective Value\",\"range\":[0.24187066130800147,0.794665692363902],\"values\":[0.24187066130800147,0.6887102667153818,0.7873584216295214,0.24187066130800147,0.2502740226525393,0.24187066130800147,0.24187066130800147,0.7924735111435879,0.794665692363902,0.7793204238217026]},{\"label\":\"DROPOUT\",\"range\":[0,1],\"ticktext\":[0.1,0.5],\"tickvals\":[0,1],\"values\":[0,0,1,1,1,1,1,1,1,1]},{\"label\":\"LEARNING_RATE\",\"range\":[-2.8566992294793665,-2.006121933842394],\"ticktext\":[\"0.00139\",\"0.00986\"],\"tickvals\":[-2.8566992294793665,-2.006121933842394],\"values\":[-2.1599021530237015,-2.006121933842394,-2.4337925847042543,-2.3295444522547646,-2.8566992294793665,-2.8046668048838574,-2.830686160941735,-2.4979519699504107,-2.5528870101409558,-2.2705900627757]},{\"label\":\"NUM_EPOCHS\",\"range\":[0,1],\"ticktext\":[3,5],\"tickvals\":[0,1],\"values\":[1,1,0,0,1,1,1,1,1,1]},{\"label\":\"OPTIMIZER\",\"range\":[0,1],\"ticktext\":[\"Adam\",\"SGD\"],\"tickvals\":[0,1],\"values\":[1,0,0,1,1,1,1,0,0,0]},{\"label\":\"TRAIN_BATCH_SIZE\",\"range\":[0,1],\"ticktext\":[32,64],\"tickvals\":[0,1],\"values\":[0,1,0,0,0,0,0,1,1,1]}],\"labelangle\":30,\"labelside\":\"bottom\",\"line\":{\"color\":[0.24187066130800147,0.6887102667153818,0.7873584216295214,0.24187066130800147,0.2502740226525393,0.24187066130800147,0.24187066130800147,0.7924735111435879,0.794665692363902,0.7793204238217026],\"colorbar\":{\"title\":{\"text\":\"Objective Value\"}},\"colorscale\":[[0.0,\"rgb(247,251,255)\"],[0.125,\"rgb(222,235,247)\"],[0.25,\"rgb(198,219,239)\"],[0.375,\"rgb(158,202,225)\"],[0.5,\"rgb(107,174,214)\"],[0.625,\"rgb(66,146,198)\"],[0.75,\"rgb(33,113,181)\"],[0.875,\"rgb(8,81,156)\"],[1.0,\"rgb(8,48,107)\"]],\"reversescale\":false,\"showscale\":true},\"type\":\"parcoords\"}],                        {\"template\":{\"data\":{\"bar\":[{\"error_x\":{\"color\":\"#2a3f5f\"},\"error_y\":{\"color\":\"#2a3f5f\"},\"marker\":{\"line\":{\"color\":\"#E5ECF6\",\"width\":0.5},\"pattern\":{\"fillmode\":\"overlay\",\"size\":10,\"solidity\":0.2}},\"type\":\"bar\"}],\"barpolar\":[{\"marker\":{\"line\":{\"color\":\"#E5ECF6\",\"width\":0.5},\"pattern\":{\"fillmode\":\"overlay\",\"size\":10,\"solidity\":0.2}},\"type\":\"barpolar\"}],\"carpet\":[{\"aaxis\":{\"endlinecolor\":\"#2a3f5f\",\"gridcolor\":\"white\",\"linecolor\":\"white\",\"minorgridcolor\":\"white\",\"startlinecolor\":\"#2a3f5f\"},\"baxis\":{\"endlinecolor\":\"#2a3f5f\",\"gridcolor\":\"white\",\"linecolor\":\"white\",\"minorgridcolor\":\"white\",\"startlinecolor\":\"#2a3f5f\"},\"type\":\"carpet\"}],\"choropleth\":[{\"colorbar\":{\"outlinewidth\":0,\"ticks\":\"\"},\"type\":\"choropleth\"}],\"contour\":[{\"colorbar\":{\"outlinewidth\":0,\"ticks\":\"\"},\"colorscale\":[[0.0,\"#0d0887\"],[0.1111111111111111,\"#46039f\"],[0.2222222222222222,\"#7201a8\"],[0.3333333333333333,\"#9c179e\"],[0.4444444444444444,\"#bd3786\"],[0.5555555555555556,\"#d8576b\"],[0.6666666666666666,\"#ed7953\"],[0.7777777777777778,\"#fb9f3a\"],[0.8888888888888888,\"#fdca26\"],[1.0,\"#f0f921\"]],\"type\":\"contour\"}],\"contourcarpet\":[{\"colorbar\":{\"outlinewidth\":0,\"ticks\":\"\"},\"type\":\"contourcarpet\"}],\"heatmap\":[{\"colorbar\":{\"outlinewidth\":0,\"ticks\":\"\"},\"colorscale\":[[0.0,\"#0d0887\"],[0.1111111111111111,\"#46039f\"],[0.2222222222222222,\"#7201a8\"],[0.3333333333333333,\"#9c179e\"],[0.4444444444444444,\"#bd3786\"],[0.5555555555555556,\"#d8576b\"],[0.6666666666666666,\"#ed7953\"],[0.7777777777777778,\"#fb9f3a\"],[0.8888888888888888,\"#fdca26\"],[1.0,\"#f0f921\"]],\"type\":\"heatmap\"}],\"heatmapgl\":[{\"colorbar\":{\"outlinewidth\":0,\"ticks\":\"\"},\"colorscale\":[[0.0,\"#0d0887\"],[0.1111111111111111,\"#46039f\"],[0.2222222222222222,\"#7201a8\"],[0.3333333333333333,\"#9c179e\"],[0.4444444444444444,\"#bd3786\"],[0.5555555555555556,\"#d8576b\"],[0.6666666666666666,\"#ed7953\"],[0.7777777777777778,\"#fb9f3a\"],[0.8888888888888888,\"#fdca26\"],[1.0,\"#f0f921\"]],\"type\":\"heatmapgl\"}],\"histogram\":[{\"marker\":{\"pattern\":{\"fillmode\":\"overlay\",\"size\":10,\"solidity\":0.2}},\"type\":\"histogram\"}],\"histogram2d\":[{\"colorbar\":{\"outlinewidth\":0,\"ticks\":\"\"},\"colorscale\":[[0.0,\"#0d0887\"],[0.1111111111111111,\"#46039f\"],[0.2222222222222222,\"#7201a8\"],[0.3333333333333333,\"#9c179e\"],[0.4444444444444444,\"#bd3786\"],[0.5555555555555556,\"#d8576b\"],[0.6666666666666666,\"#ed7953\"],[0.7777777777777778,\"#fb9f3a\"],[0.8888888888888888,\"#fdca26\"],[1.0,\"#f0f921\"]],\"type\":\"histogram2d\"}],\"histogram2dcontour\":[{\"colorbar\":{\"outlinewidth\":0,\"ticks\":\"\"},\"colorscale\":[[0.0,\"#0d0887\"],[0.1111111111111111,\"#46039f\"],[0.2222222222222222,\"#7201a8\"],[0.3333333333333333,\"#9c179e\"],[0.4444444444444444,\"#bd3786\"],[0.5555555555555556,\"#d8576b\"],[0.6666666666666666,\"#ed7953\"],[0.7777777777777778,\"#fb9f3a\"],[0.8888888888888888,\"#fdca26\"],[1.0,\"#f0f921\"]],\"type\":\"histogram2dcontour\"}],\"mesh3d\":[{\"colorbar\":{\"outlinewidth\":0,\"ticks\":\"\"},\"type\":\"mesh3d\"}],\"parcoords\":[{\"line\":{\"colorbar\":{\"outlinewidth\":0,\"ticks\":\"\"}},\"type\":\"parcoords\"}],\"pie\":[{\"automargin\":true,\"type\":\"pie\"}],\"scatter\":[{\"marker\":{\"colorbar\":{\"outlinewidth\":0,\"ticks\":\"\"}},\"type\":\"scatter\"}],\"scatter3d\":[{\"line\":{\"colorbar\":{\"outlinewidth\":0,\"ticks\":\"\"}},\"marker\":{\"colorbar\":{\"outlinewidth\":0,\"ticks\":\"\"}},\"type\":\"scatter3d\"}],\"scattercarpet\":[{\"marker\":{\"colorbar\":{\"outlinewidth\":0,\"ticks\":\"\"}},\"type\":\"scattercarpet\"}],\"scattergeo\":[{\"marker\":{\"colorbar\":{\"outlinewidth\":0,\"ticks\":\"\"}},\"type\":\"scattergeo\"}],\"scattergl\":[{\"marker\":{\"colorbar\":{\"outlinewidth\":0,\"ticks\":\"\"}},\"type\":\"scattergl\"}],\"scattermapbox\":[{\"marker\":{\"colorbar\":{\"outlinewidth\":0,\"ticks\":\"\"}},\"type\":\"scattermapbox\"}],\"scatterpolar\":[{\"marker\":{\"colorbar\":{\"outlinewidth\":0,\"ticks\":\"\"}},\"type\":\"scatterpolar\"}],\"scatterpolargl\":[{\"marker\":{\"colorbar\":{\"outlinewidth\":0,\"ticks\":\"\"}},\"type\":\"scatterpolargl\"}],\"scatterternary\":[{\"marker\":{\"colorbar\":{\"outlinewidth\":0,\"ticks\":\"\"}},\"type\":\"scatterternary\"}],\"surface\":[{\"colorbar\":{\"outlinewidth\":0,\"ticks\":\"\"},\"colorscale\":[[0.0,\"#0d0887\"],[0.1111111111111111,\"#46039f\"],[0.2222222222222222,\"#7201a8\"],[0.3333333333333333,\"#9c179e\"],[0.4444444444444444,\"#bd3786\"],[0.5555555555555556,\"#d8576b\"],[0.6666666666666666,\"#ed7953\"],[0.7777777777777778,\"#fb9f3a\"],[0.8888888888888888,\"#fdca26\"],[1.0,\"#f0f921\"]],\"type\":\"surface\"}],\"table\":[{\"cells\":{\"fill\":{\"color\":\"#EBF0F8\"},\"line\":{\"color\":\"white\"}},\"header\":{\"fill\":{\"color\":\"#C8D4E3\"},\"line\":{\"color\":\"white\"}},\"type\":\"table\"}]},\"layout\":{\"annotationdefaults\":{\"arrowcolor\":\"#2a3f5f\",\"arrowhead\":0,\"arrowwidth\":1},\"autotypenumbers\":\"strict\",\"coloraxis\":{\"colorbar\":{\"outlinewidth\":0,\"ticks\":\"\"}},\"colorscale\":{\"diverging\":[[0,\"#8e0152\"],[0.1,\"#c51b7d\"],[0.2,\"#de77ae\"],[0.3,\"#f1b6da\"],[0.4,\"#fde0ef\"],[0.5,\"#f7f7f7\"],[0.6,\"#e6f5d0\"],[0.7,\"#b8e186\"],[0.8,\"#7fbc41\"],[0.9,\"#4d9221\"],[1,\"#276419\"]],\"sequential\":[[0.0,\"#0d0887\"],[0.1111111111111111,\"#46039f\"],[0.2222222222222222,\"#7201a8\"],[0.3333333333333333,\"#9c179e\"],[0.4444444444444444,\"#bd3786\"],[0.5555555555555556,\"#d8576b\"],[0.6666666666666666,\"#ed7953\"],[0.7777777777777778,\"#fb9f3a\"],[0.8888888888888888,\"#fdca26\"],[1.0,\"#f0f921\"]],\"sequentialminus\":[[0.0,\"#0d0887\"],[0.1111111111111111,\"#46039f\"],[0.2222222222222222,\"#7201a8\"],[0.3333333333333333,\"#9c179e\"],[0.4444444444444444,\"#bd3786\"],[0.5555555555555556,\"#d8576b\"],[0.6666666666666666,\"#ed7953\"],[0.7777777777777778,\"#fb9f3a\"],[0.8888888888888888,\"#fdca26\"],[1.0,\"#f0f921\"]]},\"colorway\":[\"#636efa\",\"#EF553B\",\"#00cc96\",\"#ab63fa\",\"#FFA15A\",\"#19d3f3\",\"#FF6692\",\"#B6E880\",\"#FF97FF\",\"#FECB52\"],\"font\":{\"color\":\"#2a3f5f\"},\"geo\":{\"bgcolor\":\"white\",\"lakecolor\":\"white\",\"landcolor\":\"#E5ECF6\",\"showlakes\":true,\"showland\":true,\"subunitcolor\":\"white\"},\"hoverlabel\":{\"align\":\"left\"},\"hovermode\":\"closest\",\"mapbox\":{\"style\":\"light\"},\"paper_bgcolor\":\"white\",\"plot_bgcolor\":\"#E5ECF6\",\"polar\":{\"angularaxis\":{\"gridcolor\":\"white\",\"linecolor\":\"white\",\"ticks\":\"\"},\"bgcolor\":\"#E5ECF6\",\"radialaxis\":{\"gridcolor\":\"white\",\"linecolor\":\"white\",\"ticks\":\"\"}},\"scene\":{\"xaxis\":{\"backgroundcolor\":\"#E5ECF6\",\"gridcolor\":\"white\",\"gridwidth\":2,\"linecolor\":\"white\",\"showbackground\":true,\"ticks\":\"\",\"zerolinecolor\":\"white\"},\"yaxis\":{\"backgroundcolor\":\"#E5ECF6\",\"gridcolor\":\"white\",\"gridwidth\":2,\"linecolor\":\"white\",\"showbackground\":true,\"ticks\":\"\",\"zerolinecolor\":\"white\"},\"zaxis\":{\"backgroundcolor\":\"#E5ECF6\",\"gridcolor\":\"white\",\"gridwidth\":2,\"linecolor\":\"white\",\"showbackground\":true,\"ticks\":\"\",\"zerolinecolor\":\"white\"}},\"shapedefaults\":{\"line\":{\"color\":\"#2a3f5f\"}},\"ternary\":{\"aaxis\":{\"gridcolor\":\"white\",\"linecolor\":\"white\",\"ticks\":\"\"},\"baxis\":{\"gridcolor\":\"white\",\"linecolor\":\"white\",\"ticks\":\"\"},\"bgcolor\":\"#E5ECF6\",\"caxis\":{\"gridcolor\":\"white\",\"linecolor\":\"white\",\"ticks\":\"\"}},\"title\":{\"x\":0.05},\"xaxis\":{\"automargin\":true,\"gridcolor\":\"white\",\"linecolor\":\"white\",\"ticks\":\"\",\"title\":{\"standoff\":15},\"zerolinecolor\":\"white\",\"zerolinewidth\":2},\"yaxis\":{\"automargin\":true,\"gridcolor\":\"white\",\"linecolor\":\"white\",\"ticks\":\"\",\"title\":{\"standoff\":15},\"zerolinecolor\":\"white\",\"zerolinewidth\":2}}},\"title\":{\"text\":\"Parallel Coordinate Plot\"}},                        {\"responsive\": true}                    ).then(function(){\n",
       "                            \n",
       "var gd = document.getElementById('88086037-1404-4c8f-baff-db8509c1ca62');\n",
       "var x = new MutationObserver(function (mutations, observer) {{\n",
       "        var display = window.getComputedStyle(gd).display;\n",
       "        if (!display || display === 'none') {{\n",
       "            console.log([gd, 'removed!']);\n",
       "            Plotly.purge(gd);\n",
       "            observer.disconnect();\n",
       "        }}\n",
       "}});\n",
       "\n",
       "// Listen for the removal of the full notebook cells\n",
       "var notebookContainer = gd.closest('#notebook-container');\n",
       "if (notebookContainer) {{\n",
       "    x.observe(notebookContainer, {childList: true});\n",
       "}}\n",
       "\n",
       "// Listen for the clearing of the current output cell\n",
       "var outputEl = gd.closest('.output');\n",
       "if (outputEl) {{\n",
       "    x.observe(outputEl, {childList: true});\n",
       "}}\n",
       "\n",
       "                        })                };                });            </script>        </div>"
      ]
     },
     "metadata": {},
     "output_type": "display_data"
    }
   ],
   "source": [
    "plot_parallel_coordinate(analysis_study)"
   ]
  },
  {
   "cell_type": "markdown",
   "metadata": {},
   "source": [
    "> Below graph shows the history of the optimization trials that were conducted and this plot we can observe that trial 3 was able to achieve a higher recall (objective value), before that trial 0 and 2 were pretty close and they both had used ADAM with dropout 0.5 but with a higher learning rate and after that the next trials conducted using SGD gave worst results."
   ]
  },
  {
   "cell_type": "code",
   "execution_count": 41,
   "metadata": {},
   "outputs": [
    {
     "data": {
      "application/vnd.plotly.v1+json": {
       "config": {
        "plotlyServerURL": "https://plot.ly"
       },
       "data": [
        {
         "mode": "markers",
         "name": "Objective Value",
         "type": "scatter",
         "x": [
          0,
          1,
          2,
          3,
          4,
          5,
          6,
          7,
          8,
          9
         ],
         "y": [
          0.7924735111435879,
          0.6887102667153818,
          0.7873584216295214,
          0.794665692363902,
          0.7793204238217026,
          0.2502740226525393,
          0.24187066130800147,
          0.24187066130800147,
          0.24187066130800147,
          0.24187066130800147
         ]
        },
        {
         "name": "Best Value",
         "type": "scatter",
         "x": [
          0,
          1,
          2,
          3,
          4,
          5,
          6,
          7,
          8,
          9
         ],
         "y": [
          0.7924735111435879,
          0.7924735111435879,
          0.7924735111435879,
          0.794665692363902,
          0.794665692363902,
          0.794665692363902,
          0.794665692363902,
          0.794665692363902,
          0.794665692363902,
          0.794665692363902
         ]
        }
       ],
       "layout": {
        "autosize": true,
        "template": {
         "data": {
          "bar": [
           {
            "error_x": {
             "color": "#2a3f5f"
            },
            "error_y": {
             "color": "#2a3f5f"
            },
            "marker": {
             "line": {
              "color": "#E5ECF6",
              "width": 0.5
             },
             "pattern": {
              "fillmode": "overlay",
              "size": 10,
              "solidity": 0.2
             }
            },
            "type": "bar"
           }
          ],
          "barpolar": [
           {
            "marker": {
             "line": {
              "color": "#E5ECF6",
              "width": 0.5
             },
             "pattern": {
              "fillmode": "overlay",
              "size": 10,
              "solidity": 0.2
             }
            },
            "type": "barpolar"
           }
          ],
          "carpet": [
           {
            "aaxis": {
             "endlinecolor": "#2a3f5f",
             "gridcolor": "white",
             "linecolor": "white",
             "minorgridcolor": "white",
             "startlinecolor": "#2a3f5f"
            },
            "baxis": {
             "endlinecolor": "#2a3f5f",
             "gridcolor": "white",
             "linecolor": "white",
             "minorgridcolor": "white",
             "startlinecolor": "#2a3f5f"
            },
            "type": "carpet"
           }
          ],
          "choropleth": [
           {
            "colorbar": {
             "outlinewidth": 0,
             "ticks": ""
            },
            "type": "choropleth"
           }
          ],
          "contour": [
           {
            "colorbar": {
             "outlinewidth": 0,
             "ticks": ""
            },
            "colorscale": [
             [
              0,
              "#0d0887"
             ],
             [
              0.1111111111111111,
              "#46039f"
             ],
             [
              0.2222222222222222,
              "#7201a8"
             ],
             [
              0.3333333333333333,
              "#9c179e"
             ],
             [
              0.4444444444444444,
              "#bd3786"
             ],
             [
              0.5555555555555556,
              "#d8576b"
             ],
             [
              0.6666666666666666,
              "#ed7953"
             ],
             [
              0.7777777777777778,
              "#fb9f3a"
             ],
             [
              0.8888888888888888,
              "#fdca26"
             ],
             [
              1,
              "#f0f921"
             ]
            ],
            "type": "contour"
           }
          ],
          "contourcarpet": [
           {
            "colorbar": {
             "outlinewidth": 0,
             "ticks": ""
            },
            "type": "contourcarpet"
           }
          ],
          "heatmap": [
           {
            "colorbar": {
             "outlinewidth": 0,
             "ticks": ""
            },
            "colorscale": [
             [
              0,
              "#0d0887"
             ],
             [
              0.1111111111111111,
              "#46039f"
             ],
             [
              0.2222222222222222,
              "#7201a8"
             ],
             [
              0.3333333333333333,
              "#9c179e"
             ],
             [
              0.4444444444444444,
              "#bd3786"
             ],
             [
              0.5555555555555556,
              "#d8576b"
             ],
             [
              0.6666666666666666,
              "#ed7953"
             ],
             [
              0.7777777777777778,
              "#fb9f3a"
             ],
             [
              0.8888888888888888,
              "#fdca26"
             ],
             [
              1,
              "#f0f921"
             ]
            ],
            "type": "heatmap"
           }
          ],
          "heatmapgl": [
           {
            "colorbar": {
             "outlinewidth": 0,
             "ticks": ""
            },
            "colorscale": [
             [
              0,
              "#0d0887"
             ],
             [
              0.1111111111111111,
              "#46039f"
             ],
             [
              0.2222222222222222,
              "#7201a8"
             ],
             [
              0.3333333333333333,
              "#9c179e"
             ],
             [
              0.4444444444444444,
              "#bd3786"
             ],
             [
              0.5555555555555556,
              "#d8576b"
             ],
             [
              0.6666666666666666,
              "#ed7953"
             ],
             [
              0.7777777777777778,
              "#fb9f3a"
             ],
             [
              0.8888888888888888,
              "#fdca26"
             ],
             [
              1,
              "#f0f921"
             ]
            ],
            "type": "heatmapgl"
           }
          ],
          "histogram": [
           {
            "marker": {
             "pattern": {
              "fillmode": "overlay",
              "size": 10,
              "solidity": 0.2
             }
            },
            "type": "histogram"
           }
          ],
          "histogram2d": [
           {
            "colorbar": {
             "outlinewidth": 0,
             "ticks": ""
            },
            "colorscale": [
             [
              0,
              "#0d0887"
             ],
             [
              0.1111111111111111,
              "#46039f"
             ],
             [
              0.2222222222222222,
              "#7201a8"
             ],
             [
              0.3333333333333333,
              "#9c179e"
             ],
             [
              0.4444444444444444,
              "#bd3786"
             ],
             [
              0.5555555555555556,
              "#d8576b"
             ],
             [
              0.6666666666666666,
              "#ed7953"
             ],
             [
              0.7777777777777778,
              "#fb9f3a"
             ],
             [
              0.8888888888888888,
              "#fdca26"
             ],
             [
              1,
              "#f0f921"
             ]
            ],
            "type": "histogram2d"
           }
          ],
          "histogram2dcontour": [
           {
            "colorbar": {
             "outlinewidth": 0,
             "ticks": ""
            },
            "colorscale": [
             [
              0,
              "#0d0887"
             ],
             [
              0.1111111111111111,
              "#46039f"
             ],
             [
              0.2222222222222222,
              "#7201a8"
             ],
             [
              0.3333333333333333,
              "#9c179e"
             ],
             [
              0.4444444444444444,
              "#bd3786"
             ],
             [
              0.5555555555555556,
              "#d8576b"
             ],
             [
              0.6666666666666666,
              "#ed7953"
             ],
             [
              0.7777777777777778,
              "#fb9f3a"
             ],
             [
              0.8888888888888888,
              "#fdca26"
             ],
             [
              1,
              "#f0f921"
             ]
            ],
            "type": "histogram2dcontour"
           }
          ],
          "mesh3d": [
           {
            "colorbar": {
             "outlinewidth": 0,
             "ticks": ""
            },
            "type": "mesh3d"
           }
          ],
          "parcoords": [
           {
            "line": {
             "colorbar": {
              "outlinewidth": 0,
              "ticks": ""
             }
            },
            "type": "parcoords"
           }
          ],
          "pie": [
           {
            "automargin": true,
            "type": "pie"
           }
          ],
          "scatter": [
           {
            "marker": {
             "colorbar": {
              "outlinewidth": 0,
              "ticks": ""
             }
            },
            "type": "scatter"
           }
          ],
          "scatter3d": [
           {
            "line": {
             "colorbar": {
              "outlinewidth": 0,
              "ticks": ""
             }
            },
            "marker": {
             "colorbar": {
              "outlinewidth": 0,
              "ticks": ""
             }
            },
            "type": "scatter3d"
           }
          ],
          "scattercarpet": [
           {
            "marker": {
             "colorbar": {
              "outlinewidth": 0,
              "ticks": ""
             }
            },
            "type": "scattercarpet"
           }
          ],
          "scattergeo": [
           {
            "marker": {
             "colorbar": {
              "outlinewidth": 0,
              "ticks": ""
             }
            },
            "type": "scattergeo"
           }
          ],
          "scattergl": [
           {
            "marker": {
             "colorbar": {
              "outlinewidth": 0,
              "ticks": ""
             }
            },
            "type": "scattergl"
           }
          ],
          "scattermapbox": [
           {
            "marker": {
             "colorbar": {
              "outlinewidth": 0,
              "ticks": ""
             }
            },
            "type": "scattermapbox"
           }
          ],
          "scatterpolar": [
           {
            "marker": {
             "colorbar": {
              "outlinewidth": 0,
              "ticks": ""
             }
            },
            "type": "scatterpolar"
           }
          ],
          "scatterpolargl": [
           {
            "marker": {
             "colorbar": {
              "outlinewidth": 0,
              "ticks": ""
             }
            },
            "type": "scatterpolargl"
           }
          ],
          "scatterternary": [
           {
            "marker": {
             "colorbar": {
              "outlinewidth": 0,
              "ticks": ""
             }
            },
            "type": "scatterternary"
           }
          ],
          "surface": [
           {
            "colorbar": {
             "outlinewidth": 0,
             "ticks": ""
            },
            "colorscale": [
             [
              0,
              "#0d0887"
             ],
             [
              0.1111111111111111,
              "#46039f"
             ],
             [
              0.2222222222222222,
              "#7201a8"
             ],
             [
              0.3333333333333333,
              "#9c179e"
             ],
             [
              0.4444444444444444,
              "#bd3786"
             ],
             [
              0.5555555555555556,
              "#d8576b"
             ],
             [
              0.6666666666666666,
              "#ed7953"
             ],
             [
              0.7777777777777778,
              "#fb9f3a"
             ],
             [
              0.8888888888888888,
              "#fdca26"
             ],
             [
              1,
              "#f0f921"
             ]
            ],
            "type": "surface"
           }
          ],
          "table": [
           {
            "cells": {
             "fill": {
              "color": "#EBF0F8"
             },
             "line": {
              "color": "white"
             }
            },
            "header": {
             "fill": {
              "color": "#C8D4E3"
             },
             "line": {
              "color": "white"
             }
            },
            "type": "table"
           }
          ]
         },
         "layout": {
          "annotationdefaults": {
           "arrowcolor": "#2a3f5f",
           "arrowhead": 0,
           "arrowwidth": 1
          },
          "autotypenumbers": "strict",
          "coloraxis": {
           "colorbar": {
            "outlinewidth": 0,
            "ticks": ""
           }
          },
          "colorscale": {
           "diverging": [
            [
             0,
             "#8e0152"
            ],
            [
             0.1,
             "#c51b7d"
            ],
            [
             0.2,
             "#de77ae"
            ],
            [
             0.3,
             "#f1b6da"
            ],
            [
             0.4,
             "#fde0ef"
            ],
            [
             0.5,
             "#f7f7f7"
            ],
            [
             0.6,
             "#e6f5d0"
            ],
            [
             0.7,
             "#b8e186"
            ],
            [
             0.8,
             "#7fbc41"
            ],
            [
             0.9,
             "#4d9221"
            ],
            [
             1,
             "#276419"
            ]
           ],
           "sequential": [
            [
             0,
             "#0d0887"
            ],
            [
             0.1111111111111111,
             "#46039f"
            ],
            [
             0.2222222222222222,
             "#7201a8"
            ],
            [
             0.3333333333333333,
             "#9c179e"
            ],
            [
             0.4444444444444444,
             "#bd3786"
            ],
            [
             0.5555555555555556,
             "#d8576b"
            ],
            [
             0.6666666666666666,
             "#ed7953"
            ],
            [
             0.7777777777777778,
             "#fb9f3a"
            ],
            [
             0.8888888888888888,
             "#fdca26"
            ],
            [
             1,
             "#f0f921"
            ]
           ],
           "sequentialminus": [
            [
             0,
             "#0d0887"
            ],
            [
             0.1111111111111111,
             "#46039f"
            ],
            [
             0.2222222222222222,
             "#7201a8"
            ],
            [
             0.3333333333333333,
             "#9c179e"
            ],
            [
             0.4444444444444444,
             "#bd3786"
            ],
            [
             0.5555555555555556,
             "#d8576b"
            ],
            [
             0.6666666666666666,
             "#ed7953"
            ],
            [
             0.7777777777777778,
             "#fb9f3a"
            ],
            [
             0.8888888888888888,
             "#fdca26"
            ],
            [
             1,
             "#f0f921"
            ]
           ]
          },
          "colorway": [
           "#636efa",
           "#EF553B",
           "#00cc96",
           "#ab63fa",
           "#FFA15A",
           "#19d3f3",
           "#FF6692",
           "#B6E880",
           "#FF97FF",
           "#FECB52"
          ],
          "font": {
           "color": "#2a3f5f"
          },
          "geo": {
           "bgcolor": "white",
           "lakecolor": "white",
           "landcolor": "#E5ECF6",
           "showlakes": true,
           "showland": true,
           "subunitcolor": "white"
          },
          "hoverlabel": {
           "align": "left"
          },
          "hovermode": "closest",
          "mapbox": {
           "style": "light"
          },
          "paper_bgcolor": "white",
          "plot_bgcolor": "#E5ECF6",
          "polar": {
           "angularaxis": {
            "gridcolor": "white",
            "linecolor": "white",
            "ticks": ""
           },
           "bgcolor": "#E5ECF6",
           "radialaxis": {
            "gridcolor": "white",
            "linecolor": "white",
            "ticks": ""
           }
          },
          "scene": {
           "xaxis": {
            "backgroundcolor": "#E5ECF6",
            "gridcolor": "white",
            "gridwidth": 2,
            "linecolor": "white",
            "showbackground": true,
            "ticks": "",
            "zerolinecolor": "white"
           },
           "yaxis": {
            "backgroundcolor": "#E5ECF6",
            "gridcolor": "white",
            "gridwidth": 2,
            "linecolor": "white",
            "showbackground": true,
            "ticks": "",
            "zerolinecolor": "white"
           },
           "zaxis": {
            "backgroundcolor": "#E5ECF6",
            "gridcolor": "white",
            "gridwidth": 2,
            "linecolor": "white",
            "showbackground": true,
            "ticks": "",
            "zerolinecolor": "white"
           }
          },
          "shapedefaults": {
           "line": {
            "color": "#2a3f5f"
           }
          },
          "ternary": {
           "aaxis": {
            "gridcolor": "white",
            "linecolor": "white",
            "ticks": ""
           },
           "baxis": {
            "gridcolor": "white",
            "linecolor": "white",
            "ticks": ""
           },
           "bgcolor": "#E5ECF6",
           "caxis": {
            "gridcolor": "white",
            "linecolor": "white",
            "ticks": ""
           }
          },
          "title": {
           "x": 0.05
          },
          "xaxis": {
           "automargin": true,
           "gridcolor": "white",
           "linecolor": "white",
           "ticks": "",
           "title": {
            "standoff": 15
           },
           "zerolinecolor": "white",
           "zerolinewidth": 2
          },
          "yaxis": {
           "automargin": true,
           "gridcolor": "white",
           "linecolor": "white",
           "ticks": "",
           "title": {
            "standoff": 15
           },
           "zerolinecolor": "white",
           "zerolinewidth": 2
          }
         }
        },
        "title": {
         "text": "Optimization History Plot"
        },
        "xaxis": {
         "autorange": true,
         "range": [
          -0.5343029637760704,
          9.53430296377607
         ],
         "title": {
          "text": "#Trials"
         },
         "type": "linear"
        },
        "yaxis": {
         "autorange": true,
         "range": [
          0.19625165389076696,
          0.8402846997811366
         ],
         "title": {
          "text": "Objective Value"
         },
         "type": "linear"
        }
       }
      },
      "image/png": "[encoded data removed]",
      "text/html": [
       "<div>                            <div id=\"de3e4944-6963-4325-b528-db89e3e9837c\" class=\"plotly-graph-div\" style=\"height:525px; width:100%;\"></div>            <script type=\"text/javascript\">                require([\"plotly\"], function(Plotly) {                    window.PLOTLYENV=window.PLOTLYENV || {};                                    if (document.getElementById(\"de3e4944-6963-4325-b528-db89e3e9837c\")) {                    Plotly.newPlot(                        \"de3e4944-6963-4325-b528-db89e3e9837c\",                        [{\"mode\":\"markers\",\"name\":\"Objective Value\",\"type\":\"scatter\",\"x\":[0,1,2,3,4,5,6,7,8,9],\"y\":[0.7924735111435879,0.6887102667153818,0.7873584216295214,0.794665692363902,0.7793204238217026,0.2502740226525393,0.24187066130800147,0.24187066130800147,0.24187066130800147,0.24187066130800147]},{\"name\":\"Best Value\",\"type\":\"scatter\",\"x\":[0,1,2,3,4,5,6,7,8,9],\"y\":[0.7924735111435879,0.7924735111435879,0.7924735111435879,0.794665692363902,0.794665692363902,0.794665692363902,0.794665692363902,0.794665692363902,0.794665692363902,0.794665692363902]}],                        {\"template\":{\"data\":{\"bar\":[{\"error_x\":{\"color\":\"#2a3f5f\"},\"error_y\":{\"color\":\"#2a3f5f\"},\"marker\":{\"line\":{\"color\":\"#E5ECF6\",\"width\":0.5},\"pattern\":{\"fillmode\":\"overlay\",\"size\":10,\"solidity\":0.2}},\"type\":\"bar\"}],\"barpolar\":[{\"marker\":{\"line\":{\"color\":\"#E5ECF6\",\"width\":0.5},\"pattern\":{\"fillmode\":\"overlay\",\"size\":10,\"solidity\":0.2}},\"type\":\"barpolar\"}],\"carpet\":[{\"aaxis\":{\"endlinecolor\":\"#2a3f5f\",\"gridcolor\":\"white\",\"linecolor\":\"white\",\"minorgridcolor\":\"white\",\"startlinecolor\":\"#2a3f5f\"},\"baxis\":{\"endlinecolor\":\"#2a3f5f\",\"gridcolor\":\"white\",\"linecolor\":\"white\",\"minorgridcolor\":\"white\",\"startlinecolor\":\"#2a3f5f\"},\"type\":\"carpet\"}],\"choropleth\":[{\"colorbar\":{\"outlinewidth\":0,\"ticks\":\"\"},\"type\":\"choropleth\"}],\"contour\":[{\"colorbar\":{\"outlinewidth\":0,\"ticks\":\"\"},\"colorscale\":[[0.0,\"#0d0887\"],[0.1111111111111111,\"#46039f\"],[0.2222222222222222,\"#7201a8\"],[0.3333333333333333,\"#9c179e\"],[0.4444444444444444,\"#bd3786\"],[0.5555555555555556,\"#d8576b\"],[0.6666666666666666,\"#ed7953\"],[0.7777777777777778,\"#fb9f3a\"],[0.8888888888888888,\"#fdca26\"],[1.0,\"#f0f921\"]],\"type\":\"contour\"}],\"contourcarpet\":[{\"colorbar\":{\"outlinewidth\":0,\"ticks\":\"\"},\"type\":\"contourcarpet\"}],\"heatmap\":[{\"colorbar\":{\"outlinewidth\":0,\"ticks\":\"\"},\"colorscale\":[[0.0,\"#0d0887\"],[0.1111111111111111,\"#46039f\"],[0.2222222222222222,\"#7201a8\"],[0.3333333333333333,\"#9c179e\"],[0.4444444444444444,\"#bd3786\"],[0.5555555555555556,\"#d8576b\"],[0.6666666666666666,\"#ed7953\"],[0.7777777777777778,\"#fb9f3a\"],[0.8888888888888888,\"#fdca26\"],[1.0,\"#f0f921\"]],\"type\":\"heatmap\"}],\"heatmapgl\":[{\"colorbar\":{\"outlinewidth\":0,\"ticks\":\"\"},\"colorscale\":[[0.0,\"#0d0887\"],[0.1111111111111111,\"#46039f\"],[0.2222222222222222,\"#7201a8\"],[0.3333333333333333,\"#9c179e\"],[0.4444444444444444,\"#bd3786\"],[0.5555555555555556,\"#d8576b\"],[0.6666666666666666,\"#ed7953\"],[0.7777777777777778,\"#fb9f3a\"],[0.8888888888888888,\"#fdca26\"],[1.0,\"#f0f921\"]],\"type\":\"heatmapgl\"}],\"histogram\":[{\"marker\":{\"pattern\":{\"fillmode\":\"overlay\",\"size\":10,\"solidity\":0.2}},\"type\":\"histogram\"}],\"histogram2d\":[{\"colorbar\":{\"outlinewidth\":0,\"ticks\":\"\"},\"colorscale\":[[0.0,\"#0d0887\"],[0.1111111111111111,\"#46039f\"],[0.2222222222222222,\"#7201a8\"],[0.3333333333333333,\"#9c179e\"],[0.4444444444444444,\"#bd3786\"],[0.5555555555555556,\"#d8576b\"],[0.6666666666666666,\"#ed7953\"],[0.7777777777777778,\"#fb9f3a\"],[0.8888888888888888,\"#fdca26\"],[1.0,\"#f0f921\"]],\"type\":\"histogram2d\"}],\"histogram2dcontour\":[{\"colorbar\":{\"outlinewidth\":0,\"ticks\":\"\"},\"colorscale\":[[0.0,\"#0d0887\"],[0.1111111111111111,\"#46039f\"],[0.2222222222222222,\"#7201a8\"],[0.3333333333333333,\"#9c179e\"],[0.4444444444444444,\"#bd3786\"],[0.5555555555555556,\"#d8576b\"],[0.6666666666666666,\"#ed7953\"],[0.7777777777777778,\"#fb9f3a\"],[0.8888888888888888,\"#fdca26\"],[1.0,\"#f0f921\"]],\"type\":\"histogram2dcontour\"}],\"mesh3d\":[{\"colorbar\":{\"outlinewidth\":0,\"ticks\":\"\"},\"type\":\"mesh3d\"}],\"parcoords\":[{\"line\":{\"colorbar\":{\"outlinewidth\":0,\"ticks\":\"\"}},\"type\":\"parcoords\"}],\"pie\":[{\"automargin\":true,\"type\":\"pie\"}],\"scatter\":[{\"marker\":{\"colorbar\":{\"outlinewidth\":0,\"ticks\":\"\"}},\"type\":\"scatter\"}],\"scatter3d\":[{\"line\":{\"colorbar\":{\"outlinewidth\":0,\"ticks\":\"\"}},\"marker\":{\"colorbar\":{\"outlinewidth\":0,\"ticks\":\"\"}},\"type\":\"scatter3d\"}],\"scattercarpet\":[{\"marker\":{\"colorbar\":{\"outlinewidth\":0,\"ticks\":\"\"}},\"type\":\"scattercarpet\"}],\"scattergeo\":[{\"marker\":{\"colorbar\":{\"outlinewidth\":0,\"ticks\":\"\"}},\"type\":\"scattergeo\"}],\"scattergl\":[{\"marker\":{\"colorbar\":{\"outlinewidth\":0,\"ticks\":\"\"}},\"type\":\"scattergl\"}],\"scattermapbox\":[{\"marker\":{\"colorbar\":{\"outlinewidth\":0,\"ticks\":\"\"}},\"type\":\"scattermapbox\"}],\"scatterpolar\":[{\"marker\":{\"colorbar\":{\"outlinewidth\":0,\"ticks\":\"\"}},\"type\":\"scatterpolar\"}],\"scatterpolargl\":[{\"marker\":{\"colorbar\":{\"outlinewidth\":0,\"ticks\":\"\"}},\"type\":\"scatterpolargl\"}],\"scatterternary\":[{\"marker\":{\"colorbar\":{\"outlinewidth\":0,\"ticks\":\"\"}},\"type\":\"scatterternary\"}],\"surface\":[{\"colorbar\":{\"outlinewidth\":0,\"ticks\":\"\"},\"colorscale\":[[0.0,\"#0d0887\"],[0.1111111111111111,\"#46039f\"],[0.2222222222222222,\"#7201a8\"],[0.3333333333333333,\"#9c179e\"],[0.4444444444444444,\"#bd3786\"],[0.5555555555555556,\"#d8576b\"],[0.6666666666666666,\"#ed7953\"],[0.7777777777777778,\"#fb9f3a\"],[0.8888888888888888,\"#fdca26\"],[1.0,\"#f0f921\"]],\"type\":\"surface\"}],\"table\":[{\"cells\":{\"fill\":{\"color\":\"#EBF0F8\"},\"line\":{\"color\":\"white\"}},\"header\":{\"fill\":{\"color\":\"#C8D4E3\"},\"line\":{\"color\":\"white\"}},\"type\":\"table\"}]},\"layout\":{\"annotationdefaults\":{\"arrowcolor\":\"#2a3f5f\",\"arrowhead\":0,\"arrowwidth\":1},\"autotypenumbers\":\"strict\",\"coloraxis\":{\"colorbar\":{\"outlinewidth\":0,\"ticks\":\"\"}},\"colorscale\":{\"diverging\":[[0,\"#8e0152\"],[0.1,\"#c51b7d\"],[0.2,\"#de77ae\"],[0.3,\"#f1b6da\"],[0.4,\"#fde0ef\"],[0.5,\"#f7f7f7\"],[0.6,\"#e6f5d0\"],[0.7,\"#b8e186\"],[0.8,\"#7fbc41\"],[0.9,\"#4d9221\"],[1,\"#276419\"]],\"sequential\":[[0.0,\"#0d0887\"],[0.1111111111111111,\"#46039f\"],[0.2222222222222222,\"#7201a8\"],[0.3333333333333333,\"#9c179e\"],[0.4444444444444444,\"#bd3786\"],[0.5555555555555556,\"#d8576b\"],[0.6666666666666666,\"#ed7953\"],[0.7777777777777778,\"#fb9f3a\"],[0.8888888888888888,\"#fdca26\"],[1.0,\"#f0f921\"]],\"sequentialminus\":[[0.0,\"#0d0887\"],[0.1111111111111111,\"#46039f\"],[0.2222222222222222,\"#7201a8\"],[0.3333333333333333,\"#9c179e\"],[0.4444444444444444,\"#bd3786\"],[0.5555555555555556,\"#d8576b\"],[0.6666666666666666,\"#ed7953\"],[0.7777777777777778,\"#fb9f3a\"],[0.8888888888888888,\"#fdca26\"],[1.0,\"#f0f921\"]]},\"colorway\":[\"#636efa\",\"#EF553B\",\"#00cc96\",\"#ab63fa\",\"#FFA15A\",\"#19d3f3\",\"#FF6692\",\"#B6E880\",\"#FF97FF\",\"#FECB52\"],\"font\":{\"color\":\"#2a3f5f\"},\"geo\":{\"bgcolor\":\"white\",\"lakecolor\":\"white\",\"landcolor\":\"#E5ECF6\",\"showlakes\":true,\"showland\":true,\"subunitcolor\":\"white\"},\"hoverlabel\":{\"align\":\"left\"},\"hovermode\":\"closest\",\"mapbox\":{\"style\":\"light\"},\"paper_bgcolor\":\"white\",\"plot_bgcolor\":\"#E5ECF6\",\"polar\":{\"angularaxis\":{\"gridcolor\":\"white\",\"linecolor\":\"white\",\"ticks\":\"\"},\"bgcolor\":\"#E5ECF6\",\"radialaxis\":{\"gridcolor\":\"white\",\"linecolor\":\"white\",\"ticks\":\"\"}},\"scene\":{\"xaxis\":{\"backgroundcolor\":\"#E5ECF6\",\"gridcolor\":\"white\",\"gridwidth\":2,\"linecolor\":\"white\",\"showbackground\":true,\"ticks\":\"\",\"zerolinecolor\":\"white\"},\"yaxis\":{\"backgroundcolor\":\"#E5ECF6\",\"gridcolor\":\"white\",\"gridwidth\":2,\"linecolor\":\"white\",\"showbackground\":true,\"ticks\":\"\",\"zerolinecolor\":\"white\"},\"zaxis\":{\"backgroundcolor\":\"#E5ECF6\",\"gridcolor\":\"white\",\"gridwidth\":2,\"linecolor\":\"white\",\"showbackground\":true,\"ticks\":\"\",\"zerolinecolor\":\"white\"}},\"shapedefaults\":{\"line\":{\"color\":\"#2a3f5f\"}},\"ternary\":{\"aaxis\":{\"gridcolor\":\"white\",\"linecolor\":\"white\",\"ticks\":\"\"},\"baxis\":{\"gridcolor\":\"white\",\"linecolor\":\"white\",\"ticks\":\"\"},\"bgcolor\":\"#E5ECF6\",\"caxis\":{\"gridcolor\":\"white\",\"linecolor\":\"white\",\"ticks\":\"\"}},\"title\":{\"x\":0.05},\"xaxis\":{\"automargin\":true,\"gridcolor\":\"white\",\"linecolor\":\"white\",\"ticks\":\"\",\"title\":{\"standoff\":15},\"zerolinecolor\":\"white\",\"zerolinewidth\":2},\"yaxis\":{\"automargin\":true,\"gridcolor\":\"white\",\"linecolor\":\"white\",\"ticks\":\"\",\"title\":{\"standoff\":15},\"zerolinecolor\":\"white\",\"zerolinewidth\":2}}},\"title\":{\"text\":\"Optimization History Plot\"},\"xaxis\":{\"title\":{\"text\":\"#Trials\"}},\"yaxis\":{\"title\":{\"text\":\"Objective Value\"}}},                        {\"responsive\": true}                    ).then(function(){\n",
       "                            \n",
       "var gd = document.getElementById('de3e4944-6963-4325-b528-db89e3e9837c');\n",
       "var x = new MutationObserver(function (mutations, observer) {{\n",
       "        var display = window.getComputedStyle(gd).display;\n",
       "        if (!display || display === 'none') {{\n",
       "            console.log([gd, 'removed!']);\n",
       "            Plotly.purge(gd);\n",
       "            observer.disconnect();\n",
       "        }}\n",
       "}});\n",
       "\n",
       "// Listen for the removal of the full notebook cells\n",
       "var notebookContainer = gd.closest('#notebook-container');\n",
       "if (notebookContainer) {{\n",
       "    x.observe(notebookContainer, {childList: true});\n",
       "}}\n",
       "\n",
       "// Listen for the clearing of the current output cell\n",
       "var outputEl = gd.closest('.output');\n",
       "if (outputEl) {{\n",
       "    x.observe(outputEl, {childList: true});\n",
       "}}\n",
       "\n",
       "                        })                };                });            </script>        </div>"
      ]
     },
     "metadata": {},
     "output_type": "display_data"
    }
   ],
   "source": [
    "plot_optimization_history(analysis_study)"
   ]
  },
  {
   "cell_type": "markdown",
   "metadata": {},
   "source": [
    "#### What were other design choices you faced?\n",
    "> Objective was able to reach abouve 0.70 recall score with a simple 4 layered DNN model. However some regularisation techniques like dropout was included to have even better results."
   ]
  },
  {
   "cell_type": "markdown",
   "metadata": {
    "id": "NtpgVAO1sMi2"
   },
   "source": [
    "## 2.d. Train your Model"
   ]
  },
  {
   "cell_type": "code",
   "execution_count": 62,
   "metadata": {
    "id": "3afVBWVKsMi2"
   },
   "outputs": [
    {
     "name": "stdout",
     "output_type": "stream",
     "text": [
      "Network structure is: <bound method Module.parameters of MalwareNet(\n",
      "  (layers): Sequential(\n",
      "    (0): Linear(in_features=5521, out_features=1024, bias=True)\n",
      "    (1): ReLU()\n",
      "    (2): Linear(in_features=1024, out_features=512, bias=True)\n",
      "    (3): ReLU()\n",
      "    (4): Linear(in_features=512, out_features=256, bias=True)\n",
      "    (5): ReLU()\n",
      "    (6): Linear(in_features=256, out_features=128, bias=True)\n",
      "    (7): ReLU()\n",
      "    (8): Linear(in_features=128, out_features=10, bias=True)\n",
      "    (9): Dropout(p=0.1, inplace=False)\n",
      "  )\n",
      ")>\n",
      "Total number of parameters: 6344842\n",
      "Training =>  Epoch : 1 | Loss : 1.0109317820779113 | Recall score: 0.6532663316582915\n",
      "Validation =>  Epoch : 1 | Loss : 0.6421010230862817 | Recall score: 0.7690902447935696 \n",
      "Saving the model...\n",
      "Training =>  Epoch : 2 | Loss : 0.7094655324553334 | Recall score: 0.7472818638647785\n",
      "Validation =>  Epoch : 2 | Loss : 0.6110247948835063 | Recall score: 0.8019729630982828 \n",
      "Saving the model...\n",
      "Training =>  Epoch : 3 | Loss : 0.6534487901385441 | Recall score: 0.7577889447236181\n",
      "Validation =>  Epoch : 3 | Loss : 0.5532514723234399 | Recall score: 0.8100109609061016 \n",
      "Saving the model...\n",
      "Training =>  Epoch : 4 | Loss : 0.6067940627419671 | Recall score: 0.7767016902695295\n",
      "Validation =>  Epoch : 4 | Loss : 0.5581820329954458 | Recall score: 0.8092802338326635 \n",
      "Training =>  Epoch : 5 | Loss : 0.605486120942027 | Recall score: 0.7756966651439013\n",
      "Validation =>  Epoch : 5 | Loss : 0.558241469915523 | Recall score: 0.8070880526123493 \n",
      "Training =>  Epoch : 6 | Loss : 0.574553111037456 | Recall score: 0.7811786203746003\n",
      "Validation =>  Epoch : 6 | Loss : 0.578746076240096 | Recall score: 0.7917427840701498 \n",
      "Training =>  Epoch : 7 | Loss : 0.5623387897083926 | Recall score: 0.7854728186386478\n",
      "Validation =>  Epoch : 7 | Loss : 0.5400029448575752 | Recall score: 0.8118377785896967 \n",
      "Saving the model...\n",
      "Training =>  Epoch : 8 | Loss : 0.5563782916382648 | Recall score: 0.7879396984924623\n",
      "Validation =>  Epoch : 8 | Loss : 0.5349775178487911 | Recall score: 0.8107416879795396 \n",
      "Training =>  Epoch : 9 | Loss : 0.5457051207506379 | Recall score: 0.792964824120603\n",
      "Validation =>  Epoch : 9 | Loss : 0.5584466263305309 | Recall score: 0.8089148702959444 \n",
      "Training =>  Epoch : 10 | Loss : 0.5485601840692378 | Recall score: 0.7888533576975788\n",
      "Validation =>  Epoch : 10 | Loss : 0.5317739012629487 | Recall score: 0.8187796857873584 \n",
      "Saving the model...\n",
      "Training =>  Epoch : 11 | Loss : 0.5301180478445319 | Recall score: 0.7926907263590681\n",
      "Validation =>  Epoch : 11 | Loss : 0.5235855399176131 | Recall score: 0.8198757763975155 \n",
      "Saving the model...\n",
      "Training =>  Epoch : 12 | Loss : 0.523733394696962 | Recall score: 0.7940612151667428\n",
      "Validation =>  Epoch : 12 | Loss : 0.5281579861807268 | Recall score: 0.8154914139568871 \n",
      "Training =>  Epoch : 13 | Loss : 0.5258011502500753 | Recall score: 0.7968935587026039\n",
      "Validation =>  Epoch : 13 | Loss : 0.5416863394338031 | Recall score: 0.8074534161490683 \n",
      "Training =>  Epoch : 14 | Loss : 0.5081714883793232 | Recall score: 0.8021927820922796\n",
      "Validation =>  Epoch : 14 | Loss : 0.5706404801024947 | Recall score: 0.8154914139568871 \n",
      "Training =>  Epoch : 15 | Loss : 0.5109112592803877 | Recall score: 0.803654636820466\n",
      "Validation =>  Epoch : 15 | Loss : 0.6040592900542325 | Recall score: 0.8217025940811107 \n",
      "Saving the model...\n",
      "Training =>  Epoch : 16 | Loss : 0.5011653898413791 | Recall score: 0.8027409776153495\n",
      "Validation =>  Epoch : 16 | Loss : 0.5812824319961459 | Recall score: 0.8235294117647058 \n",
      "Saving the model...\n",
      "Training =>  Epoch : 17 | Loss : 0.5019382860424907 | Recall score: 0.8072179077204202\n",
      "Validation =>  Epoch : 17 | Loss : 0.5667706935904747 | Recall score: 0.8052612349287541 \n",
      "Training =>  Epoch : 18 | Loss : 0.5001391241716784 | Recall score: 0.8030150753768844\n",
      "Validation =>  Epoch : 18 | Loss : 0.623129375452219 | Recall score: 0.8209718670076727 \n",
      "Training =>  Epoch : 19 | Loss : 0.5014182530170264 | Recall score: 0.8040201005025126\n",
      "Validation =>  Epoch : 19 | Loss : 0.627504650243493 | Recall score: 0.8184143222506394 \n",
      "Training =>  Epoch : 20 | Loss : 0.4977230909706884 | Recall score: 0.805207857469164\n",
      "Validation =>  Epoch : 20 | Loss : 0.5782254102618195 | Recall score: 0.8129338691998539 \n",
      "Training =>  Epoch : 21 | Loss : 0.4996323585510254 | Recall score: 0.8032891731384194\n",
      "Validation =>  Epoch : 21 | Loss : 0.596416481705599 | Recall score: 0.8191450493240775 \n",
      "Training =>  Epoch : 22 | Loss : 0.48778522872301033 | Recall score: 0.8095934216537232\n",
      "Validation =>  Epoch : 22 | Loss : 0.6106225002643674 | Recall score: 0.8067226890756303 \n",
      "Training =>  Epoch : 23 | Loss : 0.49303533318777415 | Recall score: 0.8110552763819096\n",
      "Validation =>  Epoch : 23 | Loss : 0.5771558374859566 | Recall score: 0.8268176835951772 \n",
      "Saving the model...\n",
      "Training =>  Epoch : 24 | Loss : 0.48078462607389705 | Recall score: 0.8097761534947464\n",
      "Validation =>  Epoch : 24 | Loss : 0.5724151079044786 | Recall score: 0.8180489587139204 \n",
      "Training =>  Epoch : 25 | Loss : 0.4796848726827045 | Recall score: 0.8092279579716766\n",
      "Validation =>  Epoch : 25 | Loss : 0.6193290872629299 | Recall score: 0.8111070515162587 \n",
      "Training =>  Epoch : 26 | Loss : 0.4649208316144257 | Recall score: 0.8170854271356784\n",
      "Validation =>  Epoch : 26 | Loss : 0.59085486032242 | Recall score: 0.8312020460358056 \n",
      "Saving the model...\n",
      "Training =>  Epoch : 27 | Loss : 0.4664344070262687 | Recall score: 0.8124257651895843\n",
      "Validation =>  Epoch : 27 | Loss : 0.6359316110610962 | Recall score: 0.8326635001826818 \n",
      "Saving the model...\n",
      "Training =>  Epoch : 28 | Loss : 0.47113652873870937 | Recall score: 0.8148012791228871\n",
      "Validation =>  Epoch : 28 | Loss : 0.6166470889435258 | Recall score: 0.8333942272561199 \n",
      "Saving the model...\n",
      "Training =>  Epoch : 29 | Loss : 0.45549098211665484 | Recall score: 0.8235724074920054\n",
      "Validation =>  Epoch : 29 | Loss : 0.6473832262116809 | Recall score: 0.8414322250639387 \n",
      "Saving the model...\n",
      "Training =>  Epoch : 30 | Loss : 0.45214549807268517 | Recall score: 0.8176336226587483\n",
      "Validation =>  Epoch : 30 | Loss : 0.6642394356949385 | Recall score: 0.8191450493240775 \n"
     ]
    }
   ],
   "source": [
    "\n",
    "set_device = torch.device(\"cuda\" if torch.cuda.is_available() else \"cpu\")\n",
    "    \n",
    "training_params = {\n",
    "        'TRAIN_BATCH_SIZE' : 64,\n",
    "        'TEST_BATCH_SIZE' : 64,\n",
    "        'LEARNING_RATE' : 0.001,\n",
    "        'OPTIMIZER': optim.Adam,\n",
    "        'NUM_EPOCHS' : 30\n",
    "        'DROPOUT' : 0.5\n",
    "}\n",
    "\n",
    "model = MalwareNet(input_dim=train_data[0][0].shape[0], output_dim=len(label_encodings)).to(set_device)\n",
    "print(f'Network structure is: {model.parameters}')\n",
    "print(f'Total number of parameters: {sum(p.numel() for p in model.parameters())}')\n",
    "    \n",
    "criterion = nn.CrossEntropyLoss().to(set_device)\n",
    "optimizer = training_params['OPTIMIZER'](model.parameters(), lr=training_params['LEARNING_RATE'])\n",
    "with warnings.catch_warnings(record=True):\n",
    "    train_loss_history, recall_train_history,  validation_loss_history, recall_validation_history = _network_training(model, training_params, criterion, optimizer, set_device, tuning=False)\n",
    "        "
   ]
  },
  {
   "cell_type": "markdown",
   "metadata": {},
   "source": [
    "### Loss curves: Training Loss vs Validation Loss Per Epoch During Learning"
   ]
  },
  {
   "cell_type": "code",
   "execution_count": 63,
   "metadata": {},
   "outputs": [
    {
     "data": {
      "image/png": "[encoded data removed]",
      "text/plain": [
       "<Figure size 864x504 with 1 Axes>"
      ]
     },
     "metadata": {},
     "output_type": "display_data"
    }
   ],
   "source": [
    "\n",
    "df = pd.DataFrame({'Training Loss':train_loss_history, 'Validation Loss':validation_loss_history})\n",
    "df.plot(linewidth=4, alpha=0.7, figsize=(12,7), label='Loss')\n",
    "plt.xlim([0,30])\n",
    "\n",
    "plt.title('Training Loss vs Validation Loss per Epoch', fontsize=20)\n",
    "plt.grid(axis='y', alpha=.5)\n",
    "plt.yticks(fontsize=12, alpha=.7)\n",
    "plt.xticks(fontsize=12, alpha=.7)\n",
    "plt.xlabel('Epoch', fontsize=18, alpha=.7)\n",
    "plt.ylabel('Loss Value', fontsize=18, alpha=.7)\n",
    "# Lighten borders\n",
    "plt.gca().spines[\"top\"].set_alpha(.0)\n",
    "plt.gca().spines[\"bottom\"].set_alpha(.3)\n",
    "plt.gca().spines[\"right\"].set_alpha(.0)\n",
    "plt.gca().spines[\"left\"].set_alpha(.3)\n",
    "\n",
    "plt.legend(loc='upper center')\n",
    "plt.show()\n"
   ]
  },
  {
   "cell_type": "markdown",
   "metadata": {},
   "source": [
    "### Recall curves: Training Recall vs Validation Recall Per Epoch During Learning"
   ]
  },
  {
   "cell_type": "code",
   "execution_count": 64,
   "metadata": {},
   "outputs": [
    {
     "data": {
      "image/png": "[encoded data removed]",
      "text/plain": [
       "<Figure size 864x504 with 1 Axes>"
      ]
     },
     "metadata": {},
     "output_type": "display_data"
    }
   ],
   "source": [
    "\n",
    "df = pd.DataFrame({'Training Recall':recall_train_history, 'Validation Recall':recall_validation_history})\n",
    "df.plot(linewidth=4, alpha=0.7, figsize=(12,7), label='Loss')\n",
    "plt.xlim([0,30])\n",
    "# plt.ylim(-20,100)\n",
    "plt.title('Training Recall vs Validation Recall per Epoch', fontsize=20)\n",
    "plt.grid(axis='y', alpha=.5)\n",
    "plt.yticks(fontsize=12, alpha=.7)\n",
    "plt.xticks(fontsize=12, alpha=.7)\n",
    "plt.xlabel('Epoch', fontsize=18, alpha=.7)\n",
    "plt.ylabel('Recall', fontsize=18, alpha=.7)\n",
    "# Lighten borders\n",
    "plt.gca().spines[\"top\"].set_alpha(.0)\n",
    "plt.gca().spines[\"bottom\"].set_alpha(.3)\n",
    "plt.gca().spines[\"right\"].set_alpha(.0)\n",
    "plt.gca().spines[\"left\"].set_alpha(.3)\n",
    "\n",
    "plt.legend(loc='lower center')\n",
    "plt.show()\n"
   ]
  },
  {
   "cell_type": "markdown",
   "metadata": {
    "id": "Z5w-7O5jsMi2"
   },
   "source": [
    "## 2.e. Evaluate model"
   ]
  },
  {
   "cell_type": "code",
   "execution_count": 77,
   "metadata": {
    "id": "CMbzX1h4sMi2"
   },
   "outputs": [],
   "source": [
    "def test_model(model, dataloader, vectorization_method, checkpoint_path=None):\n",
    "    \"\"\"\n",
    "    Performs evaluation on the test set for a given model,\n",
    "    while loading pretrained checkpoint from disk.\n",
    "    \"\"\"\n",
    "    if checkpoint_path:\n",
    "        load_model(model, checkpoint_path)  \n",
    "    recall_test_history = list()\n",
    "\n",
    "    model.eval()\n",
    "    with torch.no_grad():\n",
    "        y_true_test, y_pred_test= list(), list()\n",
    "\n",
    "        for batch, targets, lengths in testloader:\n",
    "            ## perform forward pass  \n",
    "            batch = batch.type(torch.FloatTensor).to(set_device)\n",
    "            pred = model(batch) \n",
    "            preds = torch.max(pred, 1)[1]\n",
    "\n",
    "            ## accumulate predictions per batch for the epoch\n",
    "            y_pred_test += list([list(label_encodings.keys())[x.item()] for x in preds.detach().cpu().numpy()])\n",
    "            targets = torch.LongTensor([x.item() for x in list(targets)])\n",
    "            y_true_test +=  list([list(label_encodings.keys())[x.item()] for x in targets.detach().cpu().numpy()])\n",
    "\n",
    "        print(f\"{vectorization_method} Vectorization: Test set\")\n",
    "        print(f'Recall score (Micro Avg)=> {evaluate_preds(y_true_test, y_pred_test)}')\n",
    "        print(f'Classification Report =>\\n {classification_report(y_true_test, y_pred_test)}')"
   ]
  },
  {
   "cell_type": "code",
   "execution_count": 78,
   "metadata": {},
   "outputs": [
    {
     "name": "stdout",
     "output_type": "stream",
     "text": [
      "BOW Vectorization: Test set\n",
      "Recall score (Micro Avg)=> 0.8408\n",
      "Classification Report =>\n",
      "               precision    recall  f1-score   support\n",
      "\n",
      "       Agent       0.70      0.50      0.58       294\n",
      "     Allaple       0.99      1.00      1.00       345\n",
      "      AutoIt       0.99      1.00      1.00       467\n",
      "       Basun       0.82      0.94      0.88      1563\n",
      "NothingFound       0.80      0.74      0.77      2528\n",
      "     Patched       0.33      0.02      0.03       335\n",
      "     Swizzor       0.98      1.00      0.99       428\n",
      "       Texel       0.80      0.94      0.86      2585\n",
      "          VB       0.91      0.87      0.89       556\n",
      "       Virut       0.93      0.84      0.89       899\n",
      "\n",
      "    accuracy                           0.84     10000\n",
      "   macro avg       0.83      0.78      0.79     10000\n",
      "weighted avg       0.83      0.84      0.83     10000\n",
      "\n"
     ]
    }
   ],
   "source": [
    "## evaluate model on test set\n",
    "set_device = torch.device(\"cuda\" if torch.cuda.is_available() else \"cpu\")\n",
    "with warnings.catch_warnings(record=True):\n",
    "    testloader = DataLoader(malware_testset, batch_size=32, shuffle=False)  \n",
    "    model = MalwareNet(input_dim=train_data[0][0].shape[0], output_dim=len(label_encodings)).to(set_device)\n",
    "    test_model(model, testloader, vectorization_method, f'{vectorization_method}_model.ckpt')"
   ]
  },
  {
   "cell_type": "markdown",
   "metadata": {
    "id": "U_GE1BQjsMi3"
   },
   "source": [
    "## 2.f. Save Model + Data"
   ]
  },
  {
   "cell_type": "code",
   "execution_count": 30,
   "metadata": {},
   "outputs": [],
   "source": [
    "## saving the model\n",
    "save_model(model, out_path=f\"{vectorization_method}_model.ckpt\")\n",
    "\n",
    "## saving the train dataset\n",
    "pickle_file(f\"train_v{MAX_VOCAB_SIZE}_{vectorization_method}.pkl\", train_data)\n",
    "\n",
    "## saving the test dataset\n",
    "pickle_file(f\"test_v{MAX_VOCAB_SIZE}_{vectorization_method}.pkl\", test_data)"
   ]
  },
  {
   "cell_type": "markdown",
   "metadata": {
    "id": "uLD6dur1sMi3"
   },
   "source": [
    "# 3. Analysis"
   ]
  },
  {
   "cell_type": "markdown",
   "metadata": {
    "id": "1QRKxLsPsMi3"
   },
   "source": [
    "## 3.a. Summary: Main Results\n",
    "\n",
    "**Vectorization Approach:** For vectorization we considered three approaches which include **Bag-Of-Words** which places '1' if a certain token from dictionary occurs in the given document then it adds '1' at the index of that token for that given document, hence resulting in a matrix equivalent to (number of documents x vocabulary size), secondly, we opted for **Count Vectorizer** which similar to Bag-Of-Words however instead of placing '1' it places the count of that perticular term in the given document at the index. Finally, we chose **TF-IDF (term frequency–inverse document frequency)** which more sphosticated as it computes term importance by computing term frequencies and inverse document frequencies in order to give weight to rare terms which could be important for a given document during training of a classifier. After computing the vectors using the above mentioned approaches we then trained separate malware classifiers for each vectorized dataset, and performed hyperparameter tuning for each. Also, we chose **recall** also known as true positive rate as **evaluation metric**, since we it computes the rate of correctly predicted malwares out of the true class of malware, since our goal is to correctly identify the category of malware since that would greatly help in the consequent diagnostic measures.\n",
    "\n",
    "Following are the results for the best models from each vectorizer."
   ]
  },
  {
   "cell_type": "code",
   "execution_count": 92,
   "metadata": {},
   "outputs": [
    {
     "name": "stdout",
     "output_type": "stream",
     "text": [
      "BOW Vectorization: Test set\n",
      "Recall score (Micro Avg)=> 0.8388\n",
      "Classification Report =>\n",
      "               precision    recall  f1-score   support\n",
      "\n",
      "       Agent       0.62      0.57      0.60       294\n",
      "     Allaple       1.00      1.00      1.00       345\n",
      "      AutoIt       0.99      1.00      1.00       467\n",
      "       Basun       0.82      0.94      0.88      1563\n",
      "NothingFound       0.81      0.71      0.76      2528\n",
      "     Patched       0.60      0.01      0.02       335\n",
      "     Swizzor       0.98      1.00      0.99       428\n",
      "       Texel       0.79      0.96      0.86      2585\n",
      "          VB       0.90      0.87      0.88       556\n",
      "       Virut       0.95      0.84      0.89       899\n",
      "\n",
      "    accuracy                           0.84     10000\n",
      "   macro avg       0.85      0.79      0.79     10000\n",
      "weighted avg       0.83      0.84      0.82     10000\n",
      "\n",
      "COUNT_VEC Vectorization: Test set\n",
      "Recall score (Micro Avg)=> 0.7735\n",
      "Classification Report =>\n",
      "               precision    recall  f1-score   support\n",
      "\n",
      "       Agent       0.00      0.00      0.00       294\n",
      "     Allaple       1.00      1.00      1.00       345\n",
      "      AutoIt       0.99      1.00      0.99       467\n",
      "       Basun       0.76      1.00      0.86      1563\n",
      "NothingFound       0.68      0.65      0.67      2528\n",
      "     Patched       0.00      0.00      0.00       335\n",
      "     Swizzor       0.96      0.98      0.97       428\n",
      "       Texel       0.75      0.89      0.81      2585\n",
      "          VB       0.72      0.58      0.64       556\n",
      "       Virut       0.93      0.74      0.83       899\n",
      "\n",
      "    accuracy                           0.77     10000\n",
      "   macro avg       0.68      0.68      0.68     10000\n",
      "weighted avg       0.73      0.77      0.75     10000\n",
      "\n",
      "TF_IDF Vectorization: Test set\n",
      "Recall score (Micro Avg)=> 0.8084\n",
      "Classification Report =>\n",
      "               precision    recall  f1-score   support\n",
      "\n",
      "       Agent       0.64      0.37      0.47       294\n",
      "     Allaple       1.00      1.00      1.00       345\n",
      "      AutoIt       0.99      1.00      1.00       467\n",
      "       Basun       0.76      1.00      0.86      1563\n",
      "NothingFound       0.74      0.67      0.70      2528\n",
      "     Patched       0.00      0.00      0.00       335\n",
      "     Swizzor       0.97      1.00      0.99       428\n",
      "       Texel       0.79      0.91      0.85      2585\n",
      "          VB       0.83      0.80      0.82       556\n",
      "       Virut       0.96      0.76      0.85       899\n",
      "\n",
      "    accuracy                           0.81     10000\n",
      "   macro avg       0.77      0.75      0.75     10000\n",
      "weighted avg       0.78      0.81      0.79     10000\n",
      "\n"
     ]
    }
   ],
   "source": [
    "## Print recall score and classification reports of all three vectorization methods\n",
    "vectorization_methods = [\"BOW\", \"COUNT_VEC\", \"TF_IDF\"]\n",
    "\n",
    "for vec_method in vectorization_methods:\n",
    "    ## read test data from disk\n",
    "    test_data = unpickle_file(f'test_v{MAX_VOCAB_SIZE}_{vec_method}.pkl')\n",
    "    \n",
    "    ## wrap it with torch data set\n",
    "    malware_testset = MalwareDataset(test_data[0], test_data[1], test_data[2])\n",
    "    \n",
    "    ## create dataloader from the dataset\n",
    "    testloader = DataLoader(malware_testset, batch_size=32, shuffle=False)  \n",
    "    \n",
    "    ## init empty model\n",
    "    model = MalwareNet(input_dim=test_data[0][0].shape[0], output_dim=len(label_encodings)).to(set_device)\n",
    "    \n",
    "    ## perform evaluation by providing path to checkpoint\n",
    "    test_model(model, testloader, vec_method, f'{vec_method}_model.ckpt')"
   ]
  },
  {
   "cell_type": "markdown",
   "metadata": {
    "id": "dNKqJAoasMi4"
   },
   "source": [
    "## 3.b. Discussion\n",
    "\n",
    "Enter your final summary here."
   ]
  },
  {
   "cell_type": "markdown",
   "metadata": {},
   "source": [
    "For instance, you can address:\n",
    "- **What was the performance you obtained with the simplest approach?** <br/>\n",
    "We achieved the recall score of 84% (micro averaged) with the simplest approach Bag-Of-Words which computes sparse vectors each documents by placing '1' for each occurence of a term in the given document."
   ]
  },
  {
   "cell_type": "markdown",
   "metadata": {},
   "source": [
    "- **Which vectorized input representations helped more than the others?** <br/>\n",
    "The simplest Bag-of-words approach outperformed the other counter vectorizer and tf-idf vectorizer. Also, following is the plot of per batch recall scores (micro averaged) of each of the vectorizer's best model on the test set. It can be seen that BOW approach makes more stable and quality predictions as compared to the other two across all batches of test set.\n",
    "![Malware Per Batch Test Recall](https://raw.githubusercontent.com/shahrukhx01/ocr-test/main/per_batch_recall_malware.png)"
   ]
  },
  {
   "cell_type": "code",
   "execution_count": 43,
   "metadata": {},
   "outputs": [
    {
     "data": {
      "image/png": "[encoded data removed]",
      "text/plain": [
       "<Figure size 1080x720 with 1 Axes>"
      ]
     },
     "metadata": {},
     "output_type": "display_data"
    }
   ],
   "source": [
    "dff = pd.DataFrame()\n",
    "dff['Freq'] = pd.Series(train_data[1]).value_counts().sort_index()\n",
    "dff['Malware'] = ['Virut', 'Swizzor', 'Agent', 'Patched',  'Allaple', 'Texel',  'Basun',  'AutoIt',  'NothingFound', 'VB']\n",
    "sns.set(rc={\"figure.figsize\":(15, 10)}, font_scale = 1.5)\n",
    "ax = sns.barplot(x=\"Malware\", y=\"Freq\", data=dff, saturation=.9).set(title='Frequency Count of Malware Classes')"
   ]
  },
  {
   "cell_type": "code",
   "execution_count": 44,
   "metadata": {},
   "outputs": [
    {
     "data": {
      "image/png": "[encoded data removed]",
      "text/plain": [
       "<Figure size 1080x720 with 1 Axes>"
      ]
     },
     "metadata": {},
     "output_type": "display_data"
    }
   ],
   "source": [
    "dd = pd.DataFrame([pd.Series(train_data[1]), pd.Series(train_data[2])]).T\n",
    "dd.columns = ['malware_class', 'doc']\n",
    "dd = dd.groupby(by='malware_class').mean()\n",
    "dd['Malware']= ['Virut', 'Swizzor', 'Agent', 'Patched',  'Allaple', 'Texel',  'Basun',  'AutoIt',  'NothingFound', 'VB']\n",
    "sns.set(rc={\"figure.figsize\":(15, 10)}, font_scale = 1.5)\n",
    "ax = sns.barplot(x=\"Malware\", y=\"doc\", data=dd, saturation=.9).set(title='Average Document Count of Malware Classes')"
   ]
  },
  {
   "cell_type": "markdown",
   "metadata": {},
   "source": [
    "- **Which malwares are difficult to detect and why?** <br/>\n",
    "Malware **'Patched'** proved to be the most difficult to detect the best model producing a recall score of mere 1% whereas the other two approaches yielded 0% recall. Secondly, malware **'Agent'** was also slightly tricky to detect for all the model which yielded the accuracy of 57% by the best model. \n",
    "<br/>This could be down to the following reasons: <br/>\n",
    "Firstly, **class imbalance** it can be seen in the following plot of labels distribution in terms of frequency in the training dataset. It is clearly evident both malwares Agent and Patched have less than 1/5 of the number of training samples as compared to the most frequent malware 'Texel', this could've prevented the classifier to not find any reasonable patterns since the number of samples were too small for these two malwares.\n",
    "\n",
    "![Malware Labels Histogram](https://raw.githubusercontent.com/shahrukhx01/ocr-test/main/freq_malware.png)\n",
    "\n",
    "Secondly, another potential reason could be **small document content length** it can be seen below where we present the average document length for each type of malware in training dataset. Also, both these malwares have small average content length, however, the smallest content length based malware **texel** still manages to achieve a recall score of 91% on the best model. So, potentially either one of these two reasons or both have contributed to make them very hard to detect.\n",
    "![Malware Document Length](https://raw.githubusercontent.com/shahrukhx01/ocr-test/main/document_len_malware.png)"
   ]
  },
  {
   "cell_type": "markdown",
   "metadata": {},
   "source": [
    "- **Which approach do you recommend to perform malware classification?** <br/>\n",
    "Empirically, BOW (Bag-Of-Words) outperformed the other two vectorization approaches, however, more sphosticated vectorizers which incorporate contextual information from the sequences such as word embeddings (Word2Vec) and recent state-of-the-art attention mechanism based transformer model based approaches such as BERT, GPT-2/3 can potentially produce far better quality of results when detecting the type of malware. However, the downside would such approaches are more effective on sequences of smaller to medium length sequnces (512 to 2k tokens per document/sequence), however, in our case some of the malware files was 300k token per document/sequence. However, incorporating some contextual information could prove to be interesting."
   ]
  }
 ],
 "metadata": {
  "kernelspec": {
   "display_name": "Python 3 (ipykernel)",
   "language": "python",
   "name": "python3"
  },
  "language_info": {
   "codemirror_mode": {
    "name": "ipython",
    "version": 3
   },
   "file_extension": ".py",
   "mimetype": "text/x-python",
   "name": "python",
   "nbconvert_exporter": "python",
   "pygments_lexer": "ipython3",
   "version": "3.9.7"
  }
 },
 "nbformat": 4,
 "nbformat_minor": 4
}
