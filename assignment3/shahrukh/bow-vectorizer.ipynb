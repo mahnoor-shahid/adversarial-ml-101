{
 "cells": [
  {
   "cell_type": "code",
   "execution_count": null,
   "metadata": {},
   "outputs": [],
   "source": [
    "!mkdir data\n",
    "%cd data\n",
    "!wget https://nextcloud.mpi-klsb.mpg.de/index.php/s/pJrRGzm2So2PMZm/download -O train.tar.gz \n",
    "!tar xzf train.tar.gz\n",
    "!wget https://nextcloud.mpi-klsb.mpg.de/index.php/s/zN3yeWzQB3i5WqE/download -O test.tar.gz \n",
    "!tar xzf test.tar.gz\n",
    "%cd .."
   ]
  },
  {
   "cell_type": "markdown",
   "metadata": {
    "id": "qKo3S_fOsMim"
   },
   "source": [
    "# ML in Cybersecurity: Task 3\n",
    "\n",
    "## Team\n",
    "  * **Team name**:  *R2D2C3P0BB8*\n",
    "  * **Members**:  <br/> **Navdeeppal Singh (s8nlsing@stud.uni-saarland.de)** <br/> **Shahrukh Khan (shkh00001@stud.uni-saarland.de)** <br/> **Mahnoor Shahid (mash00001@stud.uni-saarland.de)**\n",
    "\n",
    "\n",
    "## Logistics\n",
    "  * **Due date**: 9th December 2021, 23:59:59\n",
    "  * Email the completed notebook to: `mlcysec_ws2022_staff@lists.cispa.saarland`\n",
    "  * Complete this in **teams of 3**\n",
    "  * Feel free to use the forum to discuss.\n",
    "  \n",
    "## Timeline\n",
    "  * 26-Nov-2021: hand-out\n",
    "  * **09-Dec-2021**: Email completed notebook\n",
    "  \n",
    "  \n",
    "## About this Project\n",
    "In this project, you will explore an application of ML to a popular task in cybersecurity: malware classification.\n",
    "You will be presented with precomputed behaviour analysis reports of thousands of program binaries, many of which are malwares.\n",
    "Your goal is to train a malware detector using this behavioural reports.\n",
    "\n",
    "\n",
    "## A Note on Grading\n",
    "The grading for this project will depend on:\n",
    " 1. Vectorizing Inputs\n",
    "   * Obtaining a reasonable vectorized representations of the input data (a file containing a sequence of system calls)\n",
    "   * Understanding the influence these representations have on your model\n",
    " 1. Classification Model  \n",
    "   * Following a clear ML pipeline\n",
    "   * Obtaining reasonable performances (>60\\%) on held-out test set\n",
    "   * Choice of evaluation metric\n",
    "   * Visualizing loss/accuracy curves\n",
    " 1. Analysis\n",
    "   * Which methods (input representations/ML models) work better than the rest and why?\n",
    "   * Which hyper-parameters and design-choices were important in each of your methods?\n",
    "   * Quantifying influence of these hyper-parameters on loss and/or validation accuracies\n",
    "   * Trade-offs between methods, hyper-parameters, design-choices\n",
    "   * Anything else you find interesting (this part is open-ended)\n",
    "\n",
    "\n",
    "## Grading Details\n",
    " * 40 points: Vectorizing input data (each input = behaviour analysis file in our case)\n",
    " * 40 points: Training a classification model\n",
    " * 15 points: Analysis/Discussion\n",
    " * 5 points: Clean code\n",
    " \n",
    "## Filling-in the Notebook\n",
    "You'll be submitting this very notebook that is filled-in with your code and analysis. Make sure you submit one that has been previously executed in-order. (So that results/graphs are already visible upon opening it). \n",
    "\n",
    "The notebook you submit **should compile** (or should be self-contained and sufficiently commented). Check tutorial 1 on how to set up the Python3 environment.\n",
    "\n",
    "\n",
    "**The notebook is your project report. So, to make the report readable, omit code for techniques/models/things that did not work. You can use the final summary to provide a report about these.**\n",
    "\n",
    "It is extremely important that you **do not** re-order the existing sections. Apart from that, the code blocks that you need to fill-in are given by:\n",
    "```\n",
    "#\n",
    "#\n",
    "# ------- Your Code -------\n",
    "#\n",
    "#\n",
    "```\n",
    "Feel free to break this into multiple-cells. It's even better if you interleave explanations and code-blocks so that the entire notebook forms a readable \"story\".\n",
    "\n",
    "\n",
    "## Code of Honor\n",
    "We encourage discussing ideas and concepts with other students to help you learn and better understand the course content. However, the work you submit and present **must be original** and demonstrate your effort in solving the presented problems. **We will not tolerate** blatantly using existing solutions (such as from the internet), improper collaboration (e.g., sharing code or experimental data between groups) and plagiarism. If the honor code is not met, no points will be awarded.\n",
    "\n",
    " \n",
    " ## Versions\n",
    "  * v1.1: Updated deadline\n",
    "  * v1.0: Initial notebook\n",
    "  \n",
    "  ---"
   ]
  },
  {
   "cell_type": "code",
   "execution_count": 1,
   "metadata": {
    "execution": {
     "iopub.execute_input": "2021-11-28T15:32:07.561256Z",
     "iopub.status.busy": "2021-11-28T15:32:07.560887Z",
     "iopub.status.idle": "2021-11-28T15:32:07.630175Z",
     "shell.execute_reply": "2021-11-28T15:32:07.629254Z",
     "shell.execute_reply.started": "2021-11-28T15:32:07.561173Z"
    },
    "id": "uyCiLbXbsMiq"
   },
   "outputs": [],
   "source": [
    "import time \n",
    " \n",
    "import numpy as np \n",
    "import matplotlib.pyplot as plt \n",
    "\n",
    "import json \n",
    "import time \n",
    "import pickle \n",
    "import sys \n",
    "import csv \n",
    "import os \n",
    "import os.path as osp \n",
    "import shutil \n",
    "import pathlib\n",
    "from pathlib import Path\n",
    "\n",
    "from IPython.display import display, HTML\n",
    " \n",
    "%matplotlib inline \n",
    "plt.rcParams['figure.figsize'] = (10.0, 8.0) # set default size of plots \n",
    "plt.rcParams['image.interpolation'] = 'nearest' \n",
    "plt.rcParams['image.cmap'] = 'gray' \n",
    " \n",
    "# for auto-reloading external modules \n",
    "# see http://stackoverflow.com/questions/1907993/autoreload-of-modules-in-ipython \n",
    "%load_ext autoreload\n",
    "%autoreload 2"
   ]
  },
  {
   "cell_type": "code",
   "execution_count": 2,
   "metadata": {
    "execution": {
     "iopub.execute_input": "2021-11-28T15:32:07.632169Z",
     "iopub.status.busy": "2021-11-28T15:32:07.631802Z",
     "iopub.status.idle": "2021-11-28T15:32:10.143674Z",
     "shell.execute_reply": "2021-11-28T15:32:10.142784Z",
     "shell.execute_reply.started": "2021-11-28T15:32:07.632111Z"
    },
    "id": "7dHogdxRsMis"
   },
   "outputs": [],
   "source": [
    "# Some suggestions of our libraries that might be helpful for this project\n",
    "from collections import Counter          # an even easier way to count\n",
    "from multiprocessing import Pool         # for multiprocessing\n",
    "from tqdm import tqdm                    # fancy progress bars\n",
    "\n",
    "# Load other libraries here.\n",
    "from sklearn.metrics import recall_score\n",
    "# Keep it minimal! We should be easily able to reproduce your code.\n",
    "\n",
    "# We preload pytorch as an example\n",
    "import torch\n",
    "import torch.nn as nn\n",
    "import torch.nn.functional as F\n",
    "import torch.optim as optim\n",
    "from torch.utils.data import DataLoader, Dataset, TensorDataset"
   ]
  },
  {
   "cell_type": "markdown",
   "metadata": {
    "id": "oJWkh3GUsMit"
   },
   "source": [
    "# Setup\n",
    "\n",
    "  * Download the datasets: [train](https://nextcloud.mpi-klsb.mpg.de/index.php/s/pJrRGzm2So2PMZm) (128M) and [test](https://nextcloud.mpi-klsb.mpg.de/index.php/s/zN3yeWzQB3i5WqE) (92M)\n",
    "  * Unpack them under `./data/train` and `./data/test`\n",
    "  * Hint: you can execute shell scripts from notebooks using the `!` prefix, e.g., `! wget <url>`"
   ]
  },
  {
   "cell_type": "code",
   "execution_count": 3,
   "metadata": {
    "execution": {
     "iopub.execute_input": "2021-11-28T15:32:13.768392Z",
     "iopub.status.busy": "2021-11-28T15:32:13.768076Z",
     "iopub.status.idle": "2021-11-28T15:32:15.339113Z",
     "shell.execute_reply": "2021-11-28T15:32:15.337988Z",
     "shell.execute_reply.started": "2021-11-28T15:32:13.768361Z"
    },
    "id": "wlhs4w44sMit"
   },
   "outputs": [
    {
     "name": "stdout",
     "output_type": "stream",
     "text": [
      "# train examples (Should be 13682) : ls: cannot access 'data/train': No such file or directory\n",
      "0\n",
      "# test  examples (Should be 10000) : ls: cannot access 'data/test': No such file or directory\n",
      "0\n"
     ]
    }
   ],
   "source": [
    "# Check that you are prepared with the data\n",
    "! printf '# train examples (Should be 13682) : '; ls data/train | wc -l\n",
    "! printf '# test  examples (Should be 10000) : '; ls data/test | wc -l"
   ]
  },
  {
   "cell_type": "markdown",
   "metadata": {
    "id": "Zh1-JHNIsMiv"
   },
   "source": [
    "Now that you're set, let's briefly look at the data you have been handed.\n",
    "Each file encodes the behavior report of a program (potentially a malware), using an encoding scheme called \"The Malware Instruction Set\" (MIST for short).\n",
    "At this point, we highly recommend you briefly read-up Sec. 2 of the [MIST](http://www.mlsec.org/malheur/docs/mist-tr.pdf) documentation.\n",
    "\n",
    "You will find each file named as `filename.<malwarename>`:\n",
    "```\n",
    "» ls data/train | head\n",
    "00005ecc06ae3e489042e979717bb1455f17ac9d.NothingFound\n",
    "0008e3d188483aeae0de62d8d3a1479bd63ed8c9.Basun\n",
    "000d2eea77ee037b7ef99586eb2f1433991baca9.Patched\n",
    "000d996fa8f3c83c1c5568687bb3883a543ec874.Basun\n",
    "0010f78d3ffee61101068a0722e09a98959a5f2c.Basun\n",
    "0013cd0a8febd88bfc4333e20486bd1a9816fcbf.Basun\n",
    "0014aca72eb88a7f20fce5a4e000c1f7fff4958a.Texel\n",
    "001ffc75f24a0ae63a7033a01b8152ba371f6154.Texel\n",
    "0022d6ba67d556b931e3ab26abcd7490393703c4.Basun\n",
    "0028c307a125cf0fdc97d7a1ffce118c6e560a70.Swizzor\n",
    "...\n",
    "```\n",
    "and within each file, you will see a sequence of individual systems calls monitored duing the run-time of the binary - a malware named 'Basun' in the case:\n",
    "```\n",
    "» head data/train/000d996fa8f3c83c1c5568687bb3883a543ec874.Basun\n",
    "# process 000006c8 0000066a 022c82f4 00000000 thread 0001 #\n",
    "02 01 | 000006c8 0000066a 00015000\n",
    "02 02 | 00006b2c 047c8042 000b9000\n",
    "02 02 | 00006b2c 047c8042 00108000\n",
    "02 02 | 00006b2c 047c8042 00153000\n",
    "02 02 | 00006b2c 047c8042 00091000\n",
    "02 02 | 00006b2c 047c8042 00049000\n",
    "02 02 | 00006b2c 047c8042 000aa000\n",
    "02 02 | 00006b2c 047c8042 00092000\n",
    "02 02 | 00006b2c 047c8042 00011000\n",
    "...\n",
    "```\n",
    "(**Note**: Please ignore the first line that begins with `# process ...`.)\n",
    "\n",
    "Your task in this project is to train a malware detector, which given the sequence of system calls (in the MIST-formatted file like above), predicts one of 10 classes: `{ Agent, Allaple, AutoIt, Basun, NothingFound, Patched, Swizzor, Texel, VB, Virut }`, where `NothingFound` roughly represents no malware is present.\n",
    "In terms of machine learning terminology, your malware detector $F: X \\rightarrow Y$ should learn a mapping from the MIST-encoded behaviour report (the input $x \\in X$) to the malware class $y \\in Y$.\n",
    "\n",
    "Consequently, you will primarily tackle two challenges in this project:\n",
    "  1. \"Vectorizing\" the input data i.e., representing each input (file) as a tensor\n",
    "  1. Training an ML model\n",
    "  \n",
    "\n",
    "### Some tips:\n",
    "  * Begin with an extremely simple representation/ML model and get above chance-level classification performance\n",
    "  * Choose your evaluation metric wisely\n",
    "  * Save intermediate computations (e.g., a token to index mapping). This will avoid you parsing the entire dataset for every experiment\n",
    "  * Try using `multiprocessing.Pool` to parallelize your `for` loops"
   ]
  },
  {
   "cell_type": "markdown",
   "metadata": {
    "id": "p8xloR8dsMiv"
   },
   "source": [
    "---"
   ]
  },
  {
   "cell_type": "markdown",
   "metadata": {
    "id": "vXnyDAdbsMiw"
   },
   "source": [
    "# 1. Vectorize Data"
   ]
  },
  {
   "cell_type": "markdown",
   "metadata": {
    "id": "Ia-xFIQtsMiw"
   },
   "source": [
    "## 1.a. Load Raw Data\n",
    "## => We converted list of list lines to string to save memory in order to load entire dataset"
   ]
  },
  {
   "cell_type": "code",
   "execution_count": null,
   "metadata": {
    "id": "ZScY-C2IsMiw"
   },
   "outputs": [],
   "source": [
    "def load_content(filepath):\n",
    "    '''Given a filepath, returns (content, classname), where content = [list of lines in file]'''\n",
    "    ## load file content\n",
    "    file = open(filepath, \"r\")\n",
    "    file_lines = file.read()\n",
    "    ## here converted list of list lines to string to save memory in order to load entire dataset\n",
    "    lines = \"\\n\".join(file_lines.splitlines())\n",
    "    file.close()\n",
    "\n",
    "    ## extracting label\n",
    "    label = filepath.split(\".\")[-1]\n",
    "    return lines, label\n",
    "\n",
    "\n",
    "def load_data(data_path, nworkers=10):\n",
    "    '''Returns each data sample as a tuple (x, y), x = sequence of strings (i.e., syscalls), y = malware program class'''\n",
    "    raw_data_samples = []\n",
    "    \n",
    "    file_paths = [f\"{data_path}/{filename}\" for filename in os.listdir(data_path)]\n",
    "    pool = Pool(processes=nworkers)\n",
    " \n",
    "    raw_data_samples = pool.map(load_content, file_paths)\n",
    "    return raw_data_samples"
   ]
  },
  {
   "cell_type": "code",
   "execution_count": null,
   "metadata": {
    "id": "7BSUdq_-sMiw",
    "scrolled": true
   },
   "outputs": [],
   "source": [
    "train_path = './data/train'\n",
    "test_path = './data/test'\n",
    "n_workers = 10"
   ]
  },
  {
   "cell_type": "code",
   "execution_count": null,
   "metadata": {
    "id": "GG6tcSNJsMiw"
   },
   "outputs": [],
   "source": [
    "project_mode = 'trainval'    # trainval, traintest, debug, eval\n",
    "np.random.seed(123)          # To perform the same split across multiple runs\n",
    "\n",
    "## in trainval mode we use test_raw_samples variable to hold validation dataset\n",
    "train_raw_samples, test_raw_samples = [], []\n",
    " \n",
    "if project_mode == 'trainval':\n",
    "    print('=> Loading training data ... ')\n",
    "    train_raw_samples = load_data(Path(train_path), nworkers=n_workers)\n",
    "    # Split data into train and validation set\n",
    "    np.random.shuffle(train_raw_samples)\n",
    "    train_raw_samples, test_raw_samples = train_raw_samples[:int(len(train_raw_samples)*0.8)], train_raw_samples[int(len(train_raw_samples)*0.8):]\n",
    "\n",
    "elif project_mode == 'traintest':\n",
    "    ## loading train and test set\n",
    "    print('=> Loading training data ... ')\n",
    "    train_raw_samples = load_data(Path(train_path), nworkers=n_workers)\n",
    "    print('=> Loading testing data ... ')\n",
    "    test_raw_samples = load_data(Path(test_path), nworkers=n_workers)\n",
    "    \n",
    "elif project_mode == 'debug':\n",
    "    print('=> Loading training data ... ')\n",
    "    train_raw_samples = load_data(Path(train_path), nworkers=n_workers)\n",
    "    print('=> Loading testing data ... ')\n",
    "    test_raw_samples = load_data(Path(test_path), nworkers=n_workers)\n",
    "    # Optional, use a small subset of the training and validation data for fast debugging\n",
    "    train_set, test_set = train_raw_samples[:100], test_raw_samples[:100]\n",
    "\n",
    "elif project_mode == 'eval':\n",
    "    ## load only test set for evaluating the model\n",
    "    print('=> Loading testing data ... ')\n",
    "    test_raw_samples = load_data(Path(test_path), nworkers=n_workers)\n",
    "\n",
    "else:\n",
    "    raise ValueError('Unrecognized mode')\n",
    "    \n",
    "print('=> # Train samples = ', len(train_raw_samples))\n",
    "print('=> # Test  samples = ', len(test_raw_samples))"
   ]
  },
  {
   "cell_type": "markdown",
   "metadata": {
    "id": "GjiNiOVHsMiy"
   },
   "source": [
    "## 1.b. Vectorize: Setup\n",
    "\n",
    "Make one pass over the inputs to identify relevant features/tokens.\n",
    "\n",
    "Suggestion:\n",
    "  - identify tokens (e.g., unigrams, bigrams)\n",
    "  - create a token -> index (int) mapping. Note that you might have a >10K unique tokens. So, you will have to choose a suitable \"vocabulary\" size."
   ]
  },
  {
   "cell_type": "code",
   "execution_count": null,
   "metadata": {
    "id": "DAtmzL6PsMiy"
   },
   "outputs": [],
   "source": [
    "# Feel free to edit anything in this block\n",
    "\n",
    "def get_key_idx_map(counter, vocab_size, ukn_token='_ukn_'):\n",
    "    \"\"\"counter is a mapping: token -> count\n",
    "    build vectorizer using vocab_size most common elements\"\"\"\n",
    "    key_to_idx, idx_to_key = dict(), dict()\n",
    "    \n",
    "    for idx, (key, value) in tqdm(enumerate(list(train_counter.items())[:vocab_size-1])):\n",
    "        ## perform mapping for token\n",
    "        key_to_idx[key] = idx\n",
    "        idx_to_key[idx] = key\n",
    "    ## perform mapping for unk token at the end\n",
    "    key_to_idx[ukn_token] = vocab_size - 1\n",
    "    idx_to_key[vocab_size - 1] = ukn_token\n",
    "    \n",
    "    return key_to_idx, idx_to_key\n",
    "\n",
    "def preprocess(data):\n",
    "    \"\"\"concatenating all sys calls to single string for tokenization\n",
    "    removing extraneous information such as lines with '# process', white spaces and '|' characters\"\"\"\n",
    "    for i, (X,y) in enumerate(tqdm(data)):\n",
    "        example = \"\"\n",
    "        for line in X.split(\"\\n\"):\n",
    "            ## skip lines containing '# process'\n",
    "            if \"# process\" in line:\n",
    "                continue\n",
    "            ## remove extraneous white spaces and \n",
    "            example += line.replace(\"|\",\"\").replace(\"  \", \" \").strip() + \" \"\n",
    "        example = example.strip()\n",
    "        ## assign preprocessed sample\n",
    "        data[i] = (example, y)\n",
    "    return data\n",
    "        \n",
    "def count_words(data):\n",
    "    \"\"\"\n",
    "    count token occurences for building vocabulary later\n",
    "    \"\"\"\n",
    "    counter = {}\n",
    "    for X,y in tqdm(data):\n",
    "        counts = dict(Counter(X.split()))\n",
    "        counter = dict(counter, **counts)\n",
    "    return counter"
   ]
  },
  {
   "cell_type": "code",
   "execution_count": null,
   "metadata": {},
   "outputs": [],
   "source": [
    "\"\"\"\n",
    "Preprocessing both train and test set and\n",
    "Creating token counter for building vocabulary on train set\n",
    "\"\"\"\n",
    "train_counter = None\n",
    "if project_mode != \"eval\":\n",
    "    train_raw_samples = preprocess(train_raw_samples)\n",
    "    train_counter = count_words(train_raw_samples)\n",
    "test_raw_samples = preprocess(test_raw_samples)"
   ]
  },
  {
   "cell_type": "code",
   "execution_count": null,
   "metadata": {},
   "outputs": [],
   "source": [
    "## Code for finding appropriate threshold for setting `MAX_VOCAB_SIZE`\n",
    "def choose_vocab_size(min_frequency_threshold=10):\n",
    "    count = 0\n",
    "    for value,key in sorted([(value,key) for (key,value) in train_counter.items()], reverse=True):\n",
    "        if value > min_frequency_threshold:\n",
    "            count+=1\n",
    "    print(f\"Number of tokens are {count} for min. frequency threshold={min_frequency_threshold}\")\n",
    "#choose_vocab_size(10)"
   ]
  },
  {
   "cell_type": "code",
   "execution_count": null,
   "metadata": {},
   "outputs": [],
   "source": [
    "## sorting the counters wrt to count values in decending order\n",
    "train_counter = {key:value for value, key in  sorted([(value,key) for (key,value) in train_counter.items()], reverse=True)}"
   ]
  },
  {
   "cell_type": "code",
   "execution_count": null,
   "metadata": {
    "id": "LSMEAcgvsMiy"
   },
   "outputs": [],
   "source": [
    "# Feel free to edit anything in this block\n",
    "## By keeping a minimum count threshold of 10 we get 6316 most frequent tokens in train dataset\n",
    "## adding one to MAX_VOCAB_SIZE for _ukn_ token\n",
    "MAX_VOCAB_SIZE = 5701\n",
    "\n",
    "token_to_idx, idx_to_token = get_key_idx_map(train_counter, MAX_VOCAB_SIZE)\n",
    "\n",
    "# Save vocab to file\n",
    "out_path = 'application_vocab_{}.pkl'.format(MAX_VOCAB_SIZE)\n",
    "with open(out_path, 'wb') as wf:\n",
    "    dct = {'token_to_idx': token_to_idx,\n",
    "          'idx_to_token': idx_to_token}\n",
    "    pickle.dump(dct, wf)"
   ]
  },
  {
   "cell_type": "markdown",
   "metadata": {
    "id": "QUefzVjFsMiy"
   },
   "source": [
    "## 1.c. Vectorize Data\n",
    "\n",
    "Use the (token $\\rightarrow$ index) mapping you created before to vectorize your data"
   ]
  },
  {
   "cell_type": "code",
   "execution_count": null,
   "metadata": {
    "id": "ffJJ0XOvsMiz"
   },
   "outputs": [],
   "source": [
    "def sample_to_idx(sample):\n",
    "    idx_sample = []\n",
    "    for token in sample.split(' '):\n",
    "        if token not in token_to_idx:\n",
    "                token = '_ukn_'\n",
    "        idx_sample.append(token_to_idx[token])\n",
    "    return idx_sample"
   ]
  },
  {
   "cell_type": "code",
   "execution_count": 12,
   "metadata": {
    "execution": {
     "iopub.execute_input": "2021-11-28T15:34:02.538736Z",
     "iopub.status.busy": "2021-11-28T15:34:02.538094Z",
     "iopub.status.idle": "2021-11-28T15:34:02.587498Z",
     "shell.execute_reply": "2021-11-28T15:34:02.586380Z",
     "shell.execute_reply.started": "2021-11-28T15:34:02.538702Z"
    }
   },
   "outputs": [],
   "source": [
    "## define mapping for labels\n",
    "label_encodings = {'Virut': 0,\n",
    " 'Swizzor': 1,\n",
    " 'Agent': 2,\n",
    " 'Patched': 3,\n",
    " 'Allaple': 4,\n",
    " 'Texel': 5,\n",
    " 'Basun': 6,\n",
    " 'AutoIt': 7,\n",
    " 'NothingFound': 8,\n",
    " 'VB': 9}"
   ]
  },
  {
   "cell_type": "code",
   "execution_count": null,
   "metadata": {
    "id": "CD5IqJmXsMiz"
   },
   "outputs": [],
   "source": [
    "def vectorize_raw_samples(raw_samples, vocab_length, nworkers=10):\n",
    "    vectorized_samples = []\n",
    "    labels = []\n",
    "    lengths = []\n",
    "    for idx, (X,y) in tqdm(enumerate(raw_samples)):\n",
    "        vectorized_sample = []\n",
    "        ## map labeks to ids\n",
    "        label = label_encodings[y]\n",
    "        ## map tokens to ids\n",
    "        X_idx = sample_to_idx(X)\n",
    "        \n",
    "        ## initializing placeholder vector with unknown tokens equivalent to max_length\n",
    "        vector_sample = [0] * vocab_length\n",
    "        \n",
    "        ## creating Bag of Words Vectors \n",
    "        for index, val in enumerate(set(X_idx)):\n",
    "            vector_sample[val] = 1\n",
    "        sequence_length = len(X_idx)\n",
    "        \n",
    "        ## append sample to respective lists\n",
    "        vectorized_samples.append(vector_sample)\n",
    "        labels.append(label)\n",
    "        lengths.append(sequence_length)\n",
    "    \n",
    "    return (torch.LongTensor(vectorized_samples), torch.LongTensor(labels), torch.LongTensor(lengths))"
   ]
  },
  {
   "cell_type": "code",
   "execution_count": null,
   "metadata": {
    "id": "BtS10ASbsMi0",
    "scrolled": true
   },
   "outputs": [],
   "source": [
    "print('=> Processing: Train')\n",
    "train_data = vectorize_raw_samples(train_raw_samples, vocab_length=MAX_VOCAB_SIZE)\n",
    "print()\n",
    "print('=> Processing: Test')\n",
    "test_data = vectorize_raw_samples(test_raw_samples, vocab_length=MAX_VOCAB_SIZE)"
   ]
  },
  {
   "cell_type": "code",
   "execution_count": 8,
   "metadata": {
    "execution": {
     "iopub.execute_input": "2021-11-28T15:33:46.677910Z",
     "iopub.status.busy": "2021-11-28T15:33:46.677175Z",
     "iopub.status.idle": "2021-11-28T15:33:46.726015Z",
     "shell.execute_reply": "2021-11-28T15:33:46.725023Z",
     "shell.execute_reply.started": "2021-11-28T15:33:46.677876Z"
    },
    "id": "0XOHr24usMi0"
   },
   "outputs": [],
   "source": [
    "\n",
    "# Suggestions: \n",
    "#\n",
    "# (a) You can use torch.utils.data.TensorDataset to represent the tensors you created previously\n",
    "# trainset = TensorDataset(train_x, train_y)\n",
    "# testset = TensorDataset(test_x, test_y)\n",
    "#\n",
    "# (b) Store your datasets to disk so that you do not need to precompute it every time\n",
    "\n",
    "\"\"\"\n",
    "Standard Pytorch Dataset class for loading datasets.\n",
    "\"\"\"\n",
    "class MalwareDataset(Dataset):\n",
    "\n",
    "    def __init__(self, data_tensor, target_tensor, length_tensor):\n",
    "        \"\"\"\n",
    "        initializes  and populates the the length, data and target tensors, and raw texts list\n",
    "        \"\"\"\n",
    "        assert data_tensor.size(0) == target_tensor.size(0) == length_tensor.size(0)\n",
    "        self.data_tensor = data_tensor\n",
    "        self.target_tensor = target_tensor\n",
    "        self.length_tensor = length_tensor\n",
    "\n",
    "    def __getitem__(self, index):\n",
    "        \"\"\"\n",
    "        returns the tuple of data tensor, targets, lengths of sequences tensor\n",
    "        \"\"\"\n",
    "        return self.data_tensor[index], self.target_tensor[index], self.length_tensor[index]\n",
    "\n",
    "    def __len__(self):\n",
    "        \"\"\"\n",
    "        returns the length of the data tensor.\n",
    "        \"\"\"\n",
    "        return self.data_tensor.size(0)\n",
    "\n",
    "## instantiate train and test datasets\n",
    "malware_testset = MalwareDataset(test_data[0], test_data[1], test_data[2])\n",
    "malware_trainset = MalwareDataset(train_data[0], train_data[1], train_data[2])"
   ]
  },
  {
   "cell_type": "markdown",
   "metadata": {
    "id": "_l0tLsEVsMi0"
   },
   "source": [
    "# 2. Train Model\n",
    "\n",
    "You will now train an ML model on the vectorized datasets you created previously.\n",
    "\n",
    "_Note_: Although we often refer to each input as a 'vector' for simplicity, each of your inputs can also be higher dimensional tensors."
   ]
  },
  {
   "cell_type": "markdown",
   "metadata": {
    "id": "UInY1YzksMi0"
   },
   "source": [
    "## 2.a. Helpers"
   ]
  },
  {
   "cell_type": "code",
   "execution_count": 9,
   "metadata": {
    "execution": {
     "iopub.execute_input": "2021-11-28T15:33:52.611577Z",
     "iopub.status.busy": "2021-11-28T15:33:52.611238Z",
     "iopub.status.idle": "2021-11-28T15:33:52.663536Z",
     "shell.execute_reply": "2021-11-28T15:33:52.661935Z",
     "shell.execute_reply.started": "2021-11-28T15:33:52.611546Z"
    },
    "id": "VnSv0J75sMi0"
   },
   "outputs": [],
   "source": [
    "# Feel free to edit anything in this block\n",
    "## temporarily upload files to cloud for moving them around: !curl --upload-file ./train_v5700_l2000.pkl https://transfer.sh/train_v5700_l2000.pkl\n",
    "\n",
    "def evaluate_preds(y_gt, y_pred):\n",
    "    recall = recall_score(y_gt, y_pred, average='macro')\n",
    "    return recall\n",
    "\n",
    "\n",
    "def another_helper(question):\n",
    "    return 42\n",
    "\n",
    "\n",
    "def save_model(model, out_path):\n",
    "    pass\n",
    "\n",
    "\n",
    "def pickle_file(out_path, file_content):\n",
    "    with open(out_path, 'wb') as wf:\n",
    "        pickle.dump(file_content, wf)\n",
    "        \n",
    "def unpickle_file(in_path):\n",
    "    return pickle.load(open(in_path, \"rb\"))"
   ]
  },
  {
   "cell_type": "code",
   "execution_count": 4,
   "metadata": {
    "execution": {
     "iopub.execute_input": "2021-11-28T15:32:41.100711Z",
     "iopub.status.busy": "2021-11-28T15:32:41.100397Z",
     "iopub.status.idle": "2021-11-28T15:33:21.386769Z",
     "shell.execute_reply": "2021-11-28T15:33:21.384963Z",
     "shell.execute_reply.started": "2021-11-28T15:32:41.100675Z"
    }
   },
   "outputs": [
    {
     "name": "stdout",
     "output_type": "stream",
     "text": [
      "--2021-11-28 15:32:41--  https://transfer.sh/uzTwuQ/test_v5701_bow.pkl\n",
      "Resolving transfer.sh (transfer.sh)... 144.76.136.153\n",
      "Connecting to transfer.sh (transfer.sh)|144.76.136.153|:443... connected.\n",
      "HTTP request sent, awaiting response... 200 OK\n",
      "Length: 124873877 (119M)\n",
      "Saving to: ‘test_v5701_bow.pkl’\n",
      "\n",
      "test_v5701_bow.pkl  100%[===================>] 119.09M  18.3MB/s    in 7.0s    \n",
      "\n",
      "2021-11-28 15:32:49 (16.9 MB/s) - ‘test_v5701_bow.pkl’ saved [124873877/124873877]\n",
      "\n",
      "--2021-11-28 15:32:50--  https://transfer.sh/bqXwhn/train_v5701_bow.pkl\n",
      "Resolving transfer.sh (transfer.sh)... 144.76.136.153\n",
      "Connecting to transfer.sh (transfer.sh)|144.76.136.153|:443... connected.\n",
      "HTTP request sent, awaiting response... 200 OK\n",
      "Length: 499355669 (476M)\n",
      "Saving to: ‘train_v5701_bow.pkl’\n",
      "\n",
      "train_v5701_bow.pkl 100%[===================>] 476.22M  18.7MB/s    in 30s     \n",
      "\n",
      "2021-11-28 15:33:21 (15.9 MB/s) - ‘train_v5701_bow.pkl’ saved [499355669/499355669]\n",
      "\n"
     ]
    },
    {
     "ename": "NameError",
     "evalue": "name 'unpickle_file' is not defined",
     "output_type": "error",
     "traceback": [
      "\u001b[0;31m---------------------------------------------------------------------------\u001b[0m",
      "\u001b[0;31mNameError\u001b[0m                                 Traceback (most recent call last)",
      "\u001b[0;32m/tmp/ipykernel_35/2446360315.py\u001b[0m in \u001b[0;36m<module>\u001b[0;34m\u001b[0m\n\u001b[1;32m      6\u001b[0m \u001b[0;31m#!wget https://transfer.sh/WTptcx/application_vocab_5701.pkl\u001b[0m\u001b[0;34m\u001b[0m\u001b[0;34m\u001b[0m\u001b[0;34m\u001b[0m\u001b[0m\n\u001b[1;32m      7\u001b[0m \u001b[0mget_ipython\u001b[0m\u001b[0;34m(\u001b[0m\u001b[0;34m)\u001b[0m\u001b[0;34m.\u001b[0m\u001b[0msystem\u001b[0m\u001b[0;34m(\u001b[0m\u001b[0;34m'wget https://transfer.sh/bqXwhn/train_v5701_bow.pkl'\u001b[0m\u001b[0;34m)\u001b[0m\u001b[0;34m\u001b[0m\u001b[0;34m\u001b[0m\u001b[0m\n\u001b[0;32m----> 8\u001b[0;31m \u001b[0mtrain_data\u001b[0m \u001b[0;34m=\u001b[0m \u001b[0munpickle_file\u001b[0m\u001b[0;34m(\u001b[0m\u001b[0;34m'train_v5701_bow.pkl'\u001b[0m\u001b[0;34m)\u001b[0m\u001b[0;34m\u001b[0m\u001b[0;34m\u001b[0m\u001b[0m\n\u001b[0m",
      "\u001b[0;31mNameError\u001b[0m: name 'unpickle_file' is not defined"
     ]
    }
   ],
   "source": [
    "#!curl --upload-file ./application_vocab_5701.pkl https://transfer.sh/application_vocab_5701.pkl\n",
    "#pickle_file('train_v5701_bow.pkl', train_data)\n",
    "#pickle_file('test_v5701_bow.pkl', test_data)\n",
    "#application_vocab_5701\n",
    "!wget https://transfer.sh/uzTwuQ/test_v5701_bow.pkl\n",
    "#!wget https://transfer.sh/WTptcx/application_vocab_5701.pkl\n",
    "!wget https://transfer.sh/bqXwhn/train_v5701_bow.pkl\n",
    "train_data = unpickle_file('train_v5701_bow.pkl')"
   ]
  },
  {
   "cell_type": "markdown",
   "metadata": {
    "id": "PhbVzVLDsMi1"
   },
   "source": [
    "## 2.b. Define Model"
   ]
  },
  {
   "cell_type": "code",
   "execution_count": 7,
   "metadata": {
    "execution": {
     "iopub.execute_input": "2021-11-28T15:33:41.545685Z",
     "iopub.status.busy": "2021-11-28T15:33:41.545326Z",
     "iopub.status.idle": "2021-11-28T15:33:42.968121Z",
     "shell.execute_reply": "2021-11-28T15:33:42.967223Z",
     "shell.execute_reply.started": "2021-11-28T15:33:41.545652Z"
    }
   },
   "outputs": [],
   "source": [
    "test_data = unpickle_file('./test_v5701_bow.pkl')\n",
    "train_data = unpickle_file('./train_v5701_bow.pkl')\n",
    "#vocab = unpickle_file('./application_vocab_5701.pkl')\n",
    "#len(vocab['token_to_idx'])"
   ]
  },
  {
   "cell_type": "markdown",
   "metadata": {
    "id": "jrUKCNRgsMi1"
   },
   "source": [
    "Describe your model here."
   ]
  },
  {
   "cell_type": "code",
   "execution_count": 10,
   "metadata": {
    "execution": {
     "iopub.execute_input": "2021-11-28T15:33:55.841511Z",
     "iopub.status.busy": "2021-11-28T15:33:55.840833Z",
     "iopub.status.idle": "2021-11-28T15:33:55.889607Z",
     "shell.execute_reply": "2021-11-28T15:33:55.888142Z",
     "shell.execute_reply.started": "2021-11-28T15:33:55.841473Z"
    },
    "id": "ILB2fBRWsMi1"
   },
   "outputs": [],
   "source": [
    "# Feel free to edit anything in this block\n",
    "\n",
    "class MalwareNet(nn.Module):\n",
    "    def __init__(self, input_dim, output_dim):\n",
    "        super(MalwareNet, self).__init__()\n",
    "        # Layer definitions\n",
    "        self.layers = nn.Sequential(\n",
    "            nn.Linear(input_dim, 1024),\n",
    "            nn.ReLU(),\n",
    "            nn.Linear(1024, 512),\n",
    "            nn.ReLU(),\n",
    "             nn.Linear(512, 256),\n",
    "            nn.ReLU(),\n",
    "             nn.Linear(256, 128),\n",
    "            nn.ReLU(),\n",
    "            nn.Linear(128, output_dim)\n",
    "        )\n",
    "\n",
    "    def forward(self, x):\n",
    "        # Forward pass\n",
    "        x = self.layers(x)\n",
    "        return x"
   ]
  },
  {
   "cell_type": "markdown",
   "metadata": {
    "id": "QO1yPx7YsMi1"
   },
   "source": [
    "## 2.c. Set Hyperparameters"
   ]
  },
  {
   "cell_type": "code",
   "execution_count": 13,
   "metadata": {
    "execution": {
     "iopub.execute_input": "2021-11-28T15:34:08.370942Z",
     "iopub.status.busy": "2021-11-28T15:34:08.370580Z",
     "iopub.status.idle": "2021-11-28T15:34:08.416532Z",
     "shell.execute_reply": "2021-11-28T15:34:08.415216Z",
     "shell.execute_reply.started": "2021-11-28T15:34:08.370895Z"
    },
    "id": "0k0jLX5ksMi1"
   },
   "outputs": [],
   "source": [
    "# Define your hyperparameters here\n",
    "\n",
    "in_dims = train_data[0][0].shape[0]\n",
    "out_dims = len(label_encodings)\n",
    "\n",
    "# Optimization\n",
    "n_epochs = 100\n",
    "batch_size = 512\n",
    "lr = 0.0001"
   ]
  },
  {
   "cell_type": "markdown",
   "metadata": {
    "id": "NtpgVAO1sMi2"
   },
   "source": [
    "## 2.d. Train your Model"
   ]
  },
  {
   "cell_type": "code",
   "execution_count": 14,
   "metadata": {
    "execution": {
     "iopub.execute_input": "2021-11-28T15:34:10.578250Z",
     "iopub.status.busy": "2021-11-28T15:34:10.577880Z",
     "iopub.status.idle": "2021-11-28T15:34:10.714406Z",
     "shell.execute_reply": "2021-11-28T15:34:10.713373Z",
     "shell.execute_reply.started": "2021-11-28T15:34:10.578218Z"
    },
    "id": "Co0W2ifGsMi2"
   },
   "outputs": [],
   "source": [
    "# Feel free to edit anything in this block\n",
    "\n",
    "model = MalwareNet(input_dim=in_dims, output_dim=out_dims)\n",
    "model.train()\n",
    "\n",
    "# Optimizer\n",
    "optimizer = torch.optim.Adam(model.parameters(), lr=lr)\n",
    "\n",
    "# Data Loaders\n",
    "trainloader = DataLoader(malware_trainset, batch_size=batch_size, shuffle=True)\n",
    "testloader = DataLoader(malware_testset, batch_size=batch_size, shuffle=False)"
   ]
  },
  {
   "cell_type": "code",
   "execution_count": 15,
   "metadata": {
    "execution": {
     "iopub.execute_input": "2021-11-28T15:34:12.483432Z",
     "iopub.status.busy": "2021-11-28T15:34:12.482852Z",
     "iopub.status.idle": "2021-11-28T15:35:23.040309Z",
     "shell.execute_reply": "2021-11-28T15:35:23.038161Z",
     "shell.execute_reply.started": "2021-11-28T15:34:12.483382Z"
    },
    "id": "3afVBWVKsMi2"
   },
   "outputs": [
    {
     "name": "stdout",
     "output_type": "stream",
     "text": [
      "[0/100] Train loss: 49.35752987861633 Recall score: 0.1959626349182084\n",
      "[0/100] Validation Recall score: 0.26151398126296216\n",
      "[1/100] Train loss: 43.28315579891205 Recall score: 0.25570123372436676\n",
      "[1/100] Validation Recall score: 0.26411583623912605\n",
      "[2/100] Train loss: 36.01693844795227 Recall score: 0.30451731015536543\n",
      "[2/100] Validation Recall score: 0.3206798476250805\n",
      "[3/100] Train loss: 30.692848086357117 Recall score: 0.335262118945412\n",
      "[3/100] Validation Recall score: 0.3967196891292835\n",
      "[4/100] Train loss: 25.37725341320038 Recall score: 0.5240331589286056\n",
      "[4/100] Validation Recall score: 0.625835018986224\n",
      "[5/100] Train loss: 20.970056474208832 Recall score: 0.625761255631535\n",
      "[5/100] Validation Recall score: 0.6309610169894133\n",
      "[6/100] Train loss: 17.807368218898773 Recall score: 0.636404776087068\n",
      "[6/100] Validation Recall score: 0.6518816167601823\n",
      "[7/100] Train loss: 16.200343072414398 Recall score: 0.6442822532855976\n",
      "[7/100] Validation Recall score: 0.6287656080411776\n",
      "[8/100] Train loss: 15.147639751434326 Recall score: 0.6505703660592808\n",
      "[8/100] Validation Recall score: 0.6605657863036194\n",
      "[9/100] Train loss: 14.286311089992523 Recall score: 0.6607580196296123\n",
      "[9/100] Validation Recall score: 0.6622119674506756\n",
      "[10/100] Train loss: 13.718661785125732 Recall score: 0.6747356349592518\n",
      "[10/100] Validation Recall score: 0.723234108906269\n",
      "[11/100] Train loss: 13.133012533187866 Recall score: 0.7128137000833045\n",
      "[11/100] Validation Recall score: 0.7336625588402013\n",
      "[12/100] Train loss: 12.699986517429352 Recall score: 0.7376020376504152\n",
      "[12/100] Validation Recall score: 0.7324935519777744\n",
      "[13/100] Train loss: 12.273099184036255 Recall score: 0.742297998986605\n",
      "[13/100] Validation Recall score: 0.7458429473179248\n",
      "[14/100] Train loss: 12.162025511264801 Recall score: 0.7474951990655935\n",
      "[14/100] Validation Recall score: 0.7517309070784131\n",
      "[15/100] Train loss: 11.935766011476517 Recall score: 0.7568455827586991\n",
      "[15/100] Validation Recall score: 0.7539825887096071\n",
      "[16/100] Train loss: 11.655460208654404 Recall score: 0.7587452772915474\n",
      "[16/100] Validation Recall score: 0.7614974934656792\n",
      "[17/100] Train loss: 11.476368337869644 Recall score: 0.768570724636154\n",
      "[17/100] Validation Recall score: 0.7613458681985505\n",
      "[18/100] Train loss: 11.312303930521011 Recall score: 0.7667399989398631\n",
      "[18/100] Validation Recall score: 0.7637305109576273\n",
      "[19/100] Train loss: 11.26231375336647 Recall score: 0.7692308157145495\n",
      "[19/100] Validation Recall score: 0.7634383953510907\n",
      "[20/100] Train loss: 11.1035718023777 Recall score: 0.7739807071411797\n",
      "[20/100] Validation Recall score: 0.7605909377239721\n",
      "[21/100] Train loss: 11.10512176156044 Recall score: 0.7757402340102748\n",
      "[21/100] Validation Recall score: 0.7632308073660106\n",
      "[22/100] Train loss: 10.850830435752869 Recall score: 0.775784505993676\n",
      "[22/100] Validation Recall score: 0.7658464842647853\n",
      "[23/100] Train loss: 10.789800941944122 Recall score: 0.7810168035689399\n",
      "[23/100] Validation Recall score: 0.766435248854121\n",
      "[24/100] Train loss: 10.698770642280579 Recall score: 0.7797093125030434\n",
      "[24/100] Validation Recall score: 0.7665353562310984\n",
      "[25/100] Train loss: 10.682639360427856 Recall score: 0.7838888663515918\n",
      "[25/100] Validation Recall score: 0.7674895004037936\n",
      "[26/100] Train loss: 10.554607510566711 Recall score: 0.7848891520824981\n",
      "[26/100] Validation Recall score: 0.7659095416133543\n",
      "[27/100] Train loss: 10.506882846355438 Recall score: 0.7863878601983558\n",
      "[27/100] Validation Recall score: 0.7703440332787197\n",
      "[28/100] Train loss: 10.374399691820145 Recall score: 0.7873945916933417\n",
      "[28/100] Validation Recall score: 0.767162288402485\n",
      "[29/100] Train loss: 10.292556345462799 Recall score: 0.7893915482733944\n",
      "[29/100] Validation Recall score: 0.7675898210356767\n",
      "[30/100] Train loss: 10.377599835395813 Recall score: 0.7900187396236107\n",
      "[30/100] Validation Recall score: 0.764998889345023\n",
      "[31/100] Train loss: 10.316697031259537 Recall score: 0.7916408469686328\n",
      "[31/100] Validation Recall score: 0.773662118695181\n",
      "[32/100] Train loss: 10.232477843761444 Recall score: 0.7919029688935006\n",
      "[32/100] Validation Recall score: 0.763216644766477\n",
      "[33/100] Train loss: 10.221548914909363 Recall score: 0.7933469439287114\n",
      "[33/100] Validation Recall score: 0.7626308960008533\n",
      "[34/100] Train loss: 10.162026077508926 Recall score: 0.7933642183135874\n",
      "[34/100] Validation Recall score: 0.772461425254765\n",
      "[35/100] Train loss: 10.054483294487 Recall score: 0.7968458602208178\n",
      "[35/100] Validation Recall score: 0.7710622235557061\n",
      "[36/100] Train loss: 10.134653002023697 Recall score: 0.7943351402600319\n",
      "[36/100] Validation Recall score: 0.7750900220232613\n",
      "[37/100] Train loss: 9.963990360498428 Recall score: 0.7967337320592602\n",
      "[37/100] Validation Recall score: 0.7675071430868788\n",
      "[38/100] Train loss: 9.897184789180756 Recall score: 0.7958546329481038\n",
      "[38/100] Validation Recall score: 0.7721178960648374\n",
      "[39/100] Train loss: 9.945430219173431 Recall score: 0.7970391611393903\n",
      "[39/100] Validation Recall score: 0.7700492565126656\n",
      "[40/100] Train loss: 9.819856405258179 Recall score: 0.7957748034039713\n",
      "[40/100] Validation Recall score: 0.773923990224165\n",
      "[41/100] Train loss: 9.90388160943985 Recall score: 0.7968981044377649\n",
      "[41/100] Validation Recall score: 0.7811360773837392\n",
      "[42/100] Train loss: 9.866183996200562 Recall score: 0.796063935757135\n",
      "[42/100] Validation Recall score: 0.7722995395844418\n",
      "[43/100] Train loss: 9.785915732383728 Recall score: 0.7983754963148012\n",
      "[43/100] Validation Recall score: 0.7731744286976768\n",
      "[44/100] Train loss: 9.657563716173172 Recall score: 0.7980672890156862\n",
      "[44/100] Validation Recall score: 0.7732355621748146\n",
      "[45/100] Train loss: 9.798688799142838 Recall score: 0.7980016600467856\n",
      "[45/100] Validation Recall score: 0.7678363604757555\n",
      "[46/100] Train loss: 9.761863350868225 Recall score: 0.7984163099699451\n",
      "[46/100] Validation Recall score: 0.775493930717766\n",
      "[47/100] Train loss: 9.735459417104721 Recall score: 0.8005642015831326\n",
      "[47/100] Validation Recall score: 0.775176553720152\n",
      "[48/100] Train loss: 9.580010831356049 Recall score: 0.8022447092402862\n",
      "[48/100] Validation Recall score: 0.776199749574142\n",
      "[49/100] Train loss: 9.650709420442581 Recall score: 0.8006163674194612\n",
      "[49/100] Validation Recall score: 0.7748302583613994\n",
      "[50/100] Train loss: 9.690536886453629 Recall score: 0.800494989316683\n",
      "[50/100] Validation Recall score: 0.7744942552125976\n",
      "[51/100] Train loss: 9.548175543546677 Recall score: 0.8029540780725497\n",
      "[51/100] Validation Recall score: 0.7669283068700448\n",
      "[52/100] Train loss: 9.497848987579346 Recall score: 0.8034785283828496\n",
      "[52/100] Validation Recall score: 0.7727580266002774\n",
      "[53/100] Train loss: 9.486474931240082 Recall score: 0.8036417029008712\n",
      "[53/100] Validation Recall score: 0.762139766229373\n",
      "[54/100] Train loss: 9.458093225955963 Recall score: 0.8028050265468524\n",
      "[54/100] Validation Recall score: 0.7767415254715645\n",
      "[55/100] Train loss: 9.490931123495102 Recall score: 0.8020975530017749\n",
      "[55/100] Validation Recall score: 0.7777167679468056\n",
      "[56/100] Train loss: 9.492653012275696 Recall score: 0.8035537142784295\n",
      "[56/100] Validation Recall score: 0.7776562314536013\n",
      "[57/100] Train loss: 9.481712847948074 Recall score: 0.8045201177109803\n",
      "[57/100] Validation Recall score: 0.7741045322165506\n",
      "[58/100] Train loss: 9.631125390529633 Recall score: 0.8046204448342784\n",
      "[58/100] Validation Recall score: 0.7776029288290498\n",
      "[59/100] Train loss: 9.435948103666306 Recall score: 0.8050173656538717\n",
      "[59/100] Validation Recall score: 0.6807944895049712\n",
      "[60/100] Train loss: 9.452382296323776 Recall score: 0.8060735059366794\n",
      "[60/100] Validation Recall score: 0.7678351827335712\n",
      "[61/100] Train loss: 9.43716910481453 Recall score: 0.8051644611588694\n",
      "[61/100] Validation Recall score: 0.7791300084938463\n",
      "[62/100] Train loss: 9.414121210575104 Recall score: 0.8072093754959495\n",
      "[62/100] Validation Recall score: 0.7684585064703251\n",
      "[63/100] Train loss: 9.383718580007553 Recall score: 0.8040768855421477\n",
      "[63/100] Validation Recall score: 0.7742455691588291\n",
      "[64/100] Train loss: 9.299650192260742 Recall score: 0.8079653764999106\n",
      "[64/100] Validation Recall score: 0.7799057937898921\n",
      "[65/100] Train loss: 9.319736540317535 Recall score: 0.8108500560508384\n",
      "[65/100] Validation Recall score: 0.7673573422231368\n",
      "[66/100] Train loss: 9.4217349588871 Recall score: 0.8053827235451829\n",
      "[66/100] Validation Recall score: 0.773118709058818\n",
      "[67/100] Train loss: 9.325476706027985 Recall score: 0.8083365646758576\n",
      "[67/100] Validation Recall score: 0.7819327397441708\n",
      "[68/100] Train loss: 9.243814468383789 Recall score: 0.8084020683590344\n",
      "[68/100] Validation Recall score: 0.7776145646115797\n",
      "[69/100] Train loss: 9.244451254606247 Recall score: 0.8084654133184868\n",
      "[69/100] Validation Recall score: 0.7751919633577937\n",
      "[70/100] Train loss: 9.19856172800064 Recall score: 0.8086532912763991\n",
      "[70/100] Validation Recall score: 0.7718340526241046\n",
      "[71/100] Train loss: 9.251336991786957 Recall score: 0.8083630614257805\n",
      "[71/100] Validation Recall score: 0.7822590943763063\n",
      "[72/100] Train loss: 9.32686972618103 Recall score: 0.8092545168415807\n",
      "[72/100] Validation Recall score: 0.7730822399888242\n",
      "[73/100] Train loss: 9.159763038158417 Recall score: 0.8094587201925337\n",
      "[73/100] Validation Recall score: 0.7730594876004415\n",
      "[74/100] Train loss: 9.170764654874802 Recall score: 0.8109038361686256\n",
      "[74/100] Validation Recall score: 0.7766209559001187\n",
      "[75/100] Train loss: 9.132980227470398 Recall score: 0.8106349436670859\n",
      "[75/100] Validation Recall score: 0.7806744425392773\n",
      "[76/100] Train loss: 9.168397933244705 Recall score: 0.8108529338268804\n",
      "[76/100] Validation Recall score: 0.7762463284843096\n",
      "[77/100] Train loss: 9.181093007326126 Recall score: 0.8112085371497578\n",
      "[77/100] Validation Recall score: 0.7802284050031063\n",
      "[78/100] Train loss: 9.14026814699173 Recall score: 0.8105075470792066\n",
      "[78/100] Validation Recall score: 0.7741046420808493\n",
      "[79/100] Train loss: 9.060702502727509 Recall score: 0.8109004053902307\n",
      "[79/100] Validation Recall score: 0.7738736869149224\n",
      "[80/100] Train loss: 9.106040179729462 Recall score: 0.8101313511217919\n",
      "[80/100] Validation Recall score: 0.7789182446625885\n",
      "[81/100] Train loss: 9.037344604730606 Recall score: 0.8120321132989694\n",
      "[81/100] Validation Recall score: 0.7686585750336651\n",
      "[82/100] Train loss: 8.99828165769577 Recall score: 0.8117538805376101\n",
      "[82/100] Validation Recall score: 0.7743997447032382\n",
      "[83/100] Train loss: 8.985151171684265 Recall score: 0.8125485267338319\n",
      "[83/100] Validation Recall score: 0.7750963069667929\n",
      "[84/100] Train loss: 9.133159667253494 Recall score: 0.812806515795738\n",
      "[84/100] Validation Recall score: 0.7693576281782099\n",
      "[85/100] Train loss: 9.189302206039429 Recall score: 0.8132047469173678\n",
      "[85/100] Validation Recall score: 0.7786119064635714\n",
      "[86/100] Train loss: 9.039814531803131 Recall score: 0.8133049128949784\n",
      "[86/100] Validation Recall score: 0.7746165679035687\n",
      "[87/100] Train loss: 9.024732321500778 Recall score: 0.8129140880627131\n",
      "[87/100] Validation Recall score: 0.774472237100792\n",
      "[88/100] Train loss: 8.938494950532913 Recall score: 0.8138435015497935\n",
      "[88/100] Validation Recall score: 0.7761342741009541\n",
      "[89/100] Train loss: 8.985810250043869 Recall score: 0.8133129437125012\n",
      "[89/100] Validation Recall score: 0.7816940631395061\n",
      "[90/100] Train loss: 8.93121337890625 Recall score: 0.8141956197687652\n",
      "[90/100] Validation Recall score: 0.775741175175207\n",
      "[91/100] Train loss: 8.962373793125153 Recall score: 0.8129888477576838\n",
      "[91/100] Validation Recall score: 0.779682427356976\n",
      "[92/100] Train loss: 8.848110496997833 Recall score: 0.8146026533345321\n",
      "[92/100] Validation Recall score: 0.7780937861114282\n",
      "[93/100] Train loss: 8.882608771324158 Recall score: 0.8138801757050814\n",
      "[93/100] Validation Recall score: 0.7700271768192865\n",
      "[94/100] Train loss: 8.897178679704666 Recall score: 0.8177162674967985\n",
      "[94/100] Validation Recall score: 0.7658897924665066\n",
      "[95/100] Train loss: 9.016179203987122 Recall score: 0.8125603358113631\n",
      "[95/100] Validation Recall score: 0.7655349708812185\n",
      "[96/100] Train loss: 8.974819362163544 Recall score: 0.8158242111472491\n",
      "[96/100] Validation Recall score: 0.7737183772502924\n",
      "[97/100] Train loss: 8.911223381757736 Recall score: 0.8157752710114806\n",
      "[97/100] Validation Recall score: 0.775227794070317\n",
      "[98/100] Train loss: 8.89150533080101 Recall score: 0.8164377890199963\n",
      "[98/100] Validation Recall score: 0.7732690232127757\n",
      "[99/100] Train loss: 8.883360207080841 Recall score: 0.8161208027996756\n",
      "[99/100] Validation Recall score: 0.7739614574136645\n"
     ]
    }
   ],
   "source": [
    "\n",
    "# Example:\n",
    "# for epoch in range(n_epochs):\n",
    "#     ... train ...\n",
    "#     ... validate ...\n",
    "\n",
    "device = device = torch.device(\"cuda\" if torch.cuda.is_available() else \"cpu\")\n",
    "model.to(device)\n",
    "criterion = nn.CrossEntropyLoss() ## since we are doing multiclass classification\n",
    "for epoch in range(n_epochs):\n",
    "    y_true = list()\n",
    "    y_pred = list()\n",
    "    total_loss = 0\n",
    "    for batch, targets, lengths in trainloader:\n",
    "        \n",
    "        ## perform forward pass  \n",
    "        batch = batch.type(torch.FloatTensor).to(device)\n",
    "        pred = model(batch) \n",
    "        preds = torch.max(pred, 1)[1]\n",
    "        \n",
    "        ## accumulate predictions per batch for the epoch\n",
    "        y_pred += list([x.item() for x in preds.detach().cpu().numpy()])\n",
    "        targets = torch.LongTensor([x.item() for x in list(targets)])\n",
    "        y_true +=  list([x.item() for x in targets.detach().cpu().numpy()])\n",
    "        \n",
    "        ## compute loss and perform backward pass\n",
    "        loss = criterion(pred.to(device), targets.to(device)) ## compute loss \n",
    "        optimizer.zero_grad()\n",
    "        loss.backward() \n",
    "        optimizer.step()\n",
    "        \n",
    "        ## accumulate train loss\n",
    "        total_loss += loss.item() \n",
    "        \n",
    "    print(f\"[{epoch}/{n_epochs}] Train loss: {total_loss} Recall score: {evaluate_preds(y_true, y_pred)}\")\n",
    "    \n",
    "    ## init placeholder for predictions and groundtruth\n",
    "    y_true_val = list()\n",
    "    y_pred_val = list()\n",
    "    ## perform validation pass\n",
    "    for batch, targets, lengths in testloader:\n",
    "        ## perform forward pass  \n",
    "        batch = batch.type(torch.FloatTensor).to(device)\n",
    "        pred = model(batch) \n",
    "        preds = torch.max(pred, 1)[1]\n",
    "        \n",
    "        ## accumulate predictions per batch for the epoch\n",
    "        y_pred_val += list([x.item() for x in preds.detach().cpu().numpy()])\n",
    "        targets = torch.LongTensor([x.item() for x in list(targets)])\n",
    "        y_true_val +=  list([x.item() for x in targets.detach().cpu().numpy()])\n",
    "    print(f\"[{epoch}/{n_epochs}] Validation Recall score: {evaluate_preds(y_true_val, y_pred_val)}\")\n",
    "        "
   ]
  },
  {
   "cell_type": "markdown",
   "metadata": {
    "id": "Z5w-7O5jsMi2"
   },
   "source": [
    "## 2.e. Evaluate model"
   ]
  },
  {
   "cell_type": "code",
   "execution_count": null,
   "metadata": {
    "execution": {
     "iopub.status.busy": "2021-11-28T14:26:10.160571Z",
     "iopub.status.idle": "2021-11-28T14:26:10.16107Z",
     "shell.execute_reply": "2021-11-28T14:26:10.160857Z",
     "shell.execute_reply.started": "2021-11-28T14:26:10.160833Z"
    },
    "id": "CMbzX1h4sMi2"
   },
   "outputs": [],
   "source": [
    "#\n",
    "#\n",
    "# ------- Your Code -------\n",
    "#\n",
    "# "
   ]
  },
  {
   "cell_type": "markdown",
   "metadata": {
    "id": "U_GE1BQjsMi3"
   },
   "source": [
    "## 2.f. Save Model + Data"
   ]
  },
  {
   "cell_type": "code",
   "execution_count": null,
   "metadata": {
    "id": "4Xvo--GIsMi3"
   },
   "outputs": [],
   "source": [
    "#\n",
    "#\n",
    "# ------- Your Code -------\n",
    "#\n",
    "# "
   ]
  },
  {
   "cell_type": "markdown",
   "metadata": {
    "id": "W-UQbfCrsMi3"
   },
   "source": [
    "---"
   ]
  },
  {
   "cell_type": "markdown",
   "metadata": {
    "id": "uLD6dur1sMi3"
   },
   "source": [
    "# 3. Analysis"
   ]
  },
  {
   "cell_type": "markdown",
   "metadata": {
    "id": "1QRKxLsPsMi3"
   },
   "source": [
    "## 3.a. Summary: Main Results\n",
    "\n",
    "Summarize your approach and results here"
   ]
  },
  {
   "cell_type": "markdown",
   "metadata": {
    "id": "dNKqJAoasMi4"
   },
   "source": [
    "## 3.b. Discussion\n",
    "\n",
    "Enter your final summary here.\n",
    "\n",
    "For instance, you can address:\n",
    "- What was the performance you obtained with the simplest approach?\n",
    "- Which vectorized input representations helped more than the others?\n",
    "- Which malwares are difficult to detect and why?\n",
    "- Which approach do you recommend to perform malware classification?"
   ]
  },
  {
   "cell_type": "code",
   "execution_count": null,
   "metadata": {
    "id": "xYGR9ID1sMi4"
   },
   "outputs": [],
   "source": []
  }
 ],
 "metadata": {
  "kernelspec": {
   "display_name": "Python 3",
   "language": "python",
   "name": "python3"
  },
  "language_info": {
   "codemirror_mode": {
    "name": "ipython",
    "version": 3
   },
   "file_extension": ".py",
   "mimetype": "text/x-python",
   "name": "python",
   "nbconvert_exporter": "python",
   "pygments_lexer": "ipython3",
   "version": "3.8.5"
  }
 },
 "nbformat": 4,
 "nbformat_minor": 4
}
