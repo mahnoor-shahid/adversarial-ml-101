{
 "cells": [
  {
   "cell_type": "markdown",
   "metadata": {
    "id": "qKo3S_fOsMim"
   },
   "source": [
    "# ML in Cybersecurity: Task 3\n",
    "\n",
    "## Team\n",
    "  * **Team name**:  *R2D2C3P0BB8*\n",
    "  * **Members**:  <br/> **Navdeeppal Singh (s8nlsing@stud.uni-saarland.de)** <br/> **Shahrukh Khan (shkh00001@stud.uni-saarland.de)** <br/> **Mahnoor Shahid (mash00001@stud.uni-saarland.de)**\n",
    "\n",
    "\n",
    "## Logistics\n",
    "  * **Due date**: 9th December 2021, 23:59:59\n",
    "  * Email the completed notebook to: `mlcysec_ws2022_staff@lists.cispa.saarland`\n",
    "  * Complete this in **teams of 3**\n",
    "  * Feel free to use the forum to discuss.\n",
    "  \n",
    "## Timeline\n",
    "  * 26-Nov-2021: hand-out\n",
    "  * **09-Dec-2021**: Email completed notebook\n",
    "  \n",
    "  \n",
    "## About this Project\n",
    "In this project, you will explore an application of ML to a popular task in cybersecurity: malware classification.\n",
    "You will be presented with precomputed behaviour analysis reports of thousands of program binaries, many of which are malwares.\n",
    "Your goal is to train a malware detector using this behavioural reports.\n",
    "\n",
    "\n",
    "## A Note on Grading\n",
    "The grading for this project will depend on:\n",
    " 1. Vectorizing Inputs\n",
    "   * Obtaining a reasonable vectorized representations of the input data (a file containing a sequence of system calls)\n",
    "   * Understanding the influence these representations have on your model\n",
    " 1. Classification Model  \n",
    "   * Following a clear ML pipeline\n",
    "   * Obtaining reasonable performances (>60\\%) on held-out test set\n",
    "   * Choice of evaluation metric\n",
    "   * Visualizing loss/accuracy curves\n",
    " 1. Analysis\n",
    "   * Which methods (input representations/ML models) work better than the rest and why?\n",
    "   * Which hyper-parameters and design-choices were important in each of your methods?\n",
    "   * Quantifying influence of these hyper-parameters on loss and/or validation accuracies\n",
    "   * Trade-offs between methods, hyper-parameters, design-choices\n",
    "   * Anything else you find interesting (this part is open-ended)\n",
    "\n",
    "\n",
    "## Grading Details\n",
    " * 40 points: Vectorizing input data (each input = behaviour analysis file in our case)\n",
    " * 40 points: Training a classification model\n",
    " * 15 points: Analysis/Discussion\n",
    " * 5 points: Clean code\n",
    " \n",
    "## Filling-in the Notebook\n",
    "You'll be submitting this very notebook that is filled-in with your code and analysis. Make sure you submit one that has been previously executed in-order. (So that results/graphs are already visible upon opening it). \n",
    "\n",
    "The notebook you submit **should compile** (or should be self-contained and sufficiently commented). Check tutorial 1 on how to set up the Python3 environment.\n",
    "\n",
    "\n",
    "**The notebook is your project report. So, to make the report readable, omit code for techniques/models/things that did not work. You can use the final summary to provide a report about these.**\n",
    "\n",
    "It is extremely important that you **do not** re-order the existing sections. Apart from that, the code blocks that you need to fill-in are given by:\n",
    "```\n",
    "#\n",
    "#\n",
    "# ------- Your Code -------\n",
    "#\n",
    "#\n",
    "```\n",
    "Feel free to break this into multiple-cells. It's even better if you interleave explanations and code-blocks so that the entire notebook forms a readable \"story\".\n",
    "\n",
    "\n",
    "## Code of Honor\n",
    "We encourage discussing ideas and concepts with other students to help you learn and better understand the course content. However, the work you submit and present **must be original** and demonstrate your effort in solving the presented problems. **We will not tolerate** blatantly using existing solutions (such as from the internet), improper collaboration (e.g., sharing code or experimental data between groups) and plagiarism. If the honor code is not met, no points will be awarded.\n",
    "\n",
    " \n",
    " ## Versions\n",
    "  * v1.1: Updated deadline\n",
    "  * v1.0: Initial notebook\n",
    "  \n",
    "  ---"
   ]
  },
  {
   "cell_type": "code",
   "execution_count": 1,
   "metadata": {
    "id": "uyCiLbXbsMiq",
    "tags": []
   },
   "outputs": [],
   "source": [
    "import time \n",
    " \n",
    "import numpy as np \n",
    "import matplotlib.pyplot as plt \n",
    "import json \n",
    "import time \n",
    "import pickle \n",
    "import sys \n",
    "import csv \n",
    "import os \n",
    "import os.path as osp \n",
    "import shutil \n",
    "import pathlib\n",
    "from pathlib import Path\n",
    "\n",
    "import glob\n",
    "import pandas as pd\n",
    "from multiprocessing import Pool\n",
    "from sklearn.model_selection import train_test_split\n",
    "from sklearn import preprocessing, naive_bayes\n",
    "from torch.utils.data import DataLoader, random_split\n",
    "\n",
    "from IPython.display import display, HTML\n",
    " \n",
    "%matplotlib inline \n",
    "plt.rcParams['figure.figsize'] = (10.0, 8.0) # set default size of plots \n",
    "plt.rcParams['image.interpolation'] = 'nearest' \n",
    "plt.rcParams['image.cmap'] = 'gray' \n",
    " \n",
    "# for auto-reloading external modules \n",
    "# see http://stackoverflow.com/questions/1907993/autoreload-of-modules-in-ipython \n",
    "%load_ext autoreload\n",
    "%autoreload 2"
   ]
  },
  {
   "cell_type": "code",
   "execution_count": 2,
   "metadata": {
    "id": "7dHogdxRsMis",
    "tags": []
   },
   "outputs": [],
   "source": [
    "# Some suggestions of our libraries that might be helpful for this project\n",
    "from collections import Counter          # an even easier way to count\n",
    "from multiprocessing import Pool         # for multiprocessing\n",
    "from tqdm import tqdm                    # fancy progress bars\n",
    "\n",
    "# Load other libraries here.\n",
    "# Keep it minimal! We should be easily able to reproduce your code.\n",
    "\n",
    "# We preload pytorch as an example\n",
    "import torch\n",
    "import torch.nn as nn\n",
    "import torch.nn.functional as F\n",
    "import torch.optim as optim\n",
    "from torch.utils.data import DataLoader, Dataset, TensorDataset"
   ]
  },
  {
   "cell_type": "markdown",
   "metadata": {
    "id": "oJWkh3GUsMit"
   },
   "source": [
    "# Setup\n",
    "\n",
    "  * Download the datasets: [train](https://nextcloud.mpi-klsb.mpg.de/index.php/s/pJrRGzm2So2PMZm) (128M) and [test](https://nextcloud.mpi-klsb.mpg.de/index.php/s/zN3yeWzQB3i5WqE) (92M)\n",
    "  * Unpack them under `./data/train` and `./data/test`\n",
    "  * Hint: you can execute shell scripts from notebooks using the `!` prefix, e.g., `! wget <url>`"
   ]
  },
  {
   "cell_type": "code",
   "execution_count": 3,
   "metadata": {
    "id": "wlhs4w44sMit"
   },
   "outputs": [
    {
     "name": "stderr",
     "output_type": "stream",
     "text": [
      "'wc' is not recognized as an internal or external command,\n",
      "operable program or batch file.\n",
      "'printf' is not recognized as an internal or external command,\n",
      "operable program or batch file.\n"
     ]
    }
   ],
   "source": [
    "# Check that you are prepared with the data\n",
    "! echo '# train examples (Should be 13682) : '; ls -type f -print data/train | wc -l\n",
    "! printf '# test  examples (Should be 10000) : '; ls data/test | wc -l"
   ]
  },
  {
   "cell_type": "markdown",
   "metadata": {
    "id": "Zh1-JHNIsMiv"
   },
   "source": [
    "Now that you're set, let's briefly look at the data you have been handed.\n",
    "Each file encodes the behavior report of a program (potentially a malware), using an encoding scheme called \"The Malware Instruction Set\" (MIST for short).\n",
    "At this point, we highly recommend you briefly read-up Sec. 2 of the [MIST](http://www.mlsec.org/malheur/docs/mist-tr.pdf) documentation.\n",
    "\n",
    "You will find each file named as `filename.<malwarename>`:\n",
    "```\n",
    "» ls data/train | head\n",
    "00005ecc06ae3e489042e979717bb1455f17ac9d.NothingFound\n",
    "0008e3d188483aeae0de62d8d3a1479bd63ed8c9.Basun\n",
    "000d2eea77ee037b7ef99586eb2f1433991baca9.Patched\n",
    "000d996fa8f3c83c1c5568687bb3883a543ec874.Basun\n",
    "0010f78d3ffee61101068a0722e09a98959a5f2c.Basun\n",
    "0013cd0a8febd88bfc4333e20486bd1a9816fcbf.Basun\n",
    "0014aca72eb88a7f20fce5a4e000c1f7fff4958a.Texel\n",
    "001ffc75f24a0ae63a7033a01b8152ba371f6154.Texel\n",
    "0022d6ba67d556b931e3ab26abcd7490393703c4.Basun\n",
    "0028c307a125cf0fdc97d7a1ffce118c6e560a70.Swizzor\n",
    "...\n",
    "```\n",
    "and within each file, you will see a sequence of individual systems calls monitored duing the run-time of the binary - a malware named 'Basun' in the case:\n",
    "```\n",
    "» head data/train/000d996fa8f3c83c1c5568687bb3883a543ec874.Basun\n",
    "# process 000006c8 0000066a 022c82f4 00000000 thread 0001 #\n",
    "02 01 | 000006c8 0000066a 00015000\n",
    "02 02 | 00006b2c 047c8042 000b9000\n",
    "02 02 | 00006b2c 047c8042 00108000\n",
    "02 02 | 00006b2c 047c8042 00153000\n",
    "02 02 | 00006b2c 047c8042 00091000\n",
    "02 02 | 00006b2c 047c8042 00049000\n",
    "02 02 | 00006b2c 047c8042 000aa000\n",
    "02 02 | 00006b2c 047c8042 00092000\n",
    "02 02 | 00006b2c 047c8042 00011000\n",
    "...\n",
    "```\n",
    "(**Note**: Please ignore the first line that begins with `# process ...`.)\n",
    "\n",
    "Your task in this project is to train a malware detector, which given the sequence of system calls (in the MIST-formatted file like above), predicts one of 10 classes: `{ Agent, Allaple, AutoIt, Basun, NothingFound, Patched, Swizzor, Texel, VB, Virut }`, where `NothingFound` roughly represents no malware is present.\n",
    "In terms of machine learning terminology, your malware detector $F: X \\rightarrow Y$ should learn a mapping from the MIST-encoded behaviour report (the input $x \\in X$) to the malware class $y \\in Y$.\n",
    "\n",
    "Consequently, you will primarily tackle two challenges in this project:\n",
    "  1. \"Vectorizing\" the input data i.e., representing each input (file) as a tensor\n",
    "  1. Training an ML model\n",
    "  \n",
    "\n",
    "### Some tips:\n",
    "  * Begin with an extremely simple representation/ML model and get above chance-level classification performance\n",
    "  * Choose your evaluation metric wisely\n",
    "  * Save intermediate computations (e.g., a token to index mapping). This will avoid you parsing the entire dataset for every experiment\n",
    "  * Try using `multiprocessing.Pool` to parallelize your `for` loops"
   ]
  },
  {
   "cell_type": "markdown",
   "metadata": {
    "id": "p8xloR8dsMiv"
   },
   "source": [
    "---"
   ]
  },
  {
   "cell_type": "markdown",
   "metadata": {
    "id": "vXnyDAdbsMiw"
   },
   "source": [
    "# 1. Vectorize Data"
   ]
  },
  {
   "cell_type": "markdown",
   "metadata": {
    "id": "Ia-xFIQtsMiw"
   },
   "source": [
    "## 1.a. Load Raw Data"
   ]
  },
  {
   "cell_type": "code",
   "execution_count": 4,
   "metadata": {
    "id": "ZScY-C2IsMiw",
    "tags": []
   },
   "outputs": [],
   "source": [
    "\n",
    "def load_content(filepath):\n",
    "    '''Given a filepath, returns (content, classname), where content = [list of lines in file]'''\n",
    "    lines = open(filepath,'r').readlines()\n",
    "    string1 = \"\" \n",
    "    for row in lines:\n",
    "        if not '#' in row:\n",
    "            row = row.replace(' |',' ').strip(' \\n')\n",
    "            string1=string1+row\n",
    "    label = str.split(filepath,'.')[-1]\n",
    "    return label, string1\n",
    "\n",
    "\n",
    "def load_data(data_path, nworkers=10):\n",
    "    '''Returns each data sample as a tuple (x, y), x = sequence of strings (i.e., syscalls), y = malware program class'''\n",
    "    raw_data_samples = []\n",
    "    keys = []\n",
    "    records=[]\n",
    "    all_files = glob.glob(str(data_path) + '/*')\n",
    "    pool = Pool(processes=4)\n",
    "    for file in all_files[:5000]:\n",
    "        # labels, lines = pool.map(load_content, (file))\n",
    "        labels, lines = load_content(file)\n",
    "        keys.append(labels)\n",
    "        records.append(lines)\n",
    "    raw_data_samples = {'label': keys, 'lines': records  }\n",
    "    return raw_data_samples    "
   ]
  },
  {
   "cell_type": "code",
   "execution_count": 5,
   "metadata": {
    "id": "7BSUdq_-sMiw",
    "scrolled": true
   },
   "outputs": [
    {
     "name": "stdout",
     "output_type": "stream",
     "text": [
      "=> Loading training data ... \n"
     ]
    }
   ],
   "source": [
    "print('=> Loading training data ... ')\n",
    "train_raw_samples = load_data(Path('./data/train'))"
   ]
  },
  {
   "cell_type": "code",
   "execution_count": 6,
   "metadata": {},
   "outputs": [
    {
     "data": {
      "text/plain": [
       "5000"
      ]
     },
     "execution_count": 6,
     "metadata": {},
     "output_type": "execute_result"
    }
   ],
   "source": [
    "len(train_raw_samples['label'])"
   ]
  },
  {
   "cell_type": "code",
   "execution_count": 7,
   "metadata": {},
   "outputs": [],
   "source": [
    "# train_raw_samples['lines'][:2]"
   ]
  },
  {
   "cell_type": "code",
   "execution_count": 8,
   "metadata": {},
   "outputs": [
    {
     "data": {
      "text/plain": [
       "dict"
      ]
     },
     "execution_count": 8,
     "metadata": {},
     "output_type": "execute_result"
    }
   ],
   "source": [
    "type(train_raw_samples)"
   ]
  },
  {
   "cell_type": "code",
   "execution_count": 9,
   "metadata": {},
   "outputs": [],
   "source": [
    "def plot_classification(dff, classes):\n",
    "    data[classes].value_counts().plot(kind='bar', color= 'skyblue')\n",
    "    plt.xlabel('Frequency')\n",
    "    plt.ylabel('Malware')\n",
    "    plt.title(\"Frequency Count of Malware Classes\")   "
   ]
  },
  {
   "cell_type": "code",
   "execution_count": 10,
   "metadata": {
    "tags": []
   },
   "outputs": [
    {
     "data": {
      "image/png": "[encoded data removed]",
      "text/plain": [
       "<Figure size 720x576 with 1 Axes>"
      ]
     },
     "metadata": {
      "needs_background": "light"
     },
     "output_type": "display_data"
    }
   ],
   "source": [
    "data = pd.DataFrame(train_raw_samples)\n",
    "plot_classification(data, classes='label')"
   ]
  },
  {
   "cell_type": "code",
   "execution_count": 11,
   "metadata": {},
   "outputs": [],
   "source": [
    "def reset_df(dff):\n",
    "    dff = dff.reset_index()\n",
    "    dff = dff.drop(columns=['index'])\n",
    "    return dff"
   ]
  },
  {
   "cell_type": "code",
   "execution_count": 12,
   "metadata": {},
   "outputs": [],
   "source": [
    "def split_dataset(dict_samples, validate_size = 0.2, test=False):\n",
    "    dff = pd.DataFrame(dict_samples)\n",
    "    if test == False:\n",
    "        train_samples, validate_samples = train_test_split(dff, test_size = validate_size)\n",
    "        train_samples = reset_df(train_samples)\n",
    "        validate_samples = reset_df(validate_samples)\n",
    "        return  train_samples, validate_samples\n",
    "    else:\n",
    "        test_samples = reset_df(dff)\n",
    "        return  test_samples"
   ]
  },
  {
   "cell_type": "code",
   "execution_count": 13,
   "metadata": {
    "id": "GG6tcSNJsMiw"
   },
   "outputs": [
    {
     "name": "stdout",
     "output_type": "stream",
     "text": [
      "Training Samples (4000, 2)\n",
      "Testing Samples (5000, 2)\n",
      "=> # Train samples =  4000\n",
      "=> # Test samples =  5000\n"
     ]
    }
   ],
   "source": [
    "project_mode = 'traintest'    # trainval, traintest, debug\n",
    "np.random.seed(123)          # To perform the same split across multiple runs\n",
    "\n",
    "if project_mode == 'trainval':\n",
    "    train_samples, validate_samples = split_dataset(train_raw_samples, validate_size = 0.25)\n",
    "    # mask = int(len(train_raw_samples))\n",
    "    # train_samples, validate_samples = random_split(train_raw_samples, [int(0.8*mask), int(0.2*mask)])\n",
    "    print(f'Training Samples {train_samples.shape}')\n",
    "    print(f'Validation Samples {validate_samples.shape}')\n",
    "\n",
    "elif project_mode == 'traintest':\n",
    "    train_samples, _ = split_dataset(train_raw_samples, validate_size = 0.2)\n",
    "    test_raw_samples = load_data(Path('./data/test/test'))\n",
    "    test_samples = split_dataset(test_raw_samples, validate_size = 0.0, test =True)\n",
    "    print(f'Training Samples {train_samples.shape}')\n",
    "    print(f'Testing Samples {test_samples.shape}')\n",
    "\n",
    "elif project_mode == 'debug':\n",
    "    # Optional, use a small subset of the training and validation data for fast debugging\n",
    "    pass\n",
    "else:\n",
    "    raise ValueError('Unrecognized mode')\n",
    "    \n",
    "print('=> # Train samples = ', len(train_samples))\n",
    "print('=> # Test samples = ', len(test_samples))"
   ]
  },
  {
   "cell_type": "code",
   "execution_count": 14,
   "metadata": {},
   "outputs": [
    {
     "data": {
      "text/html": [
       "<div>\n",
       "<style scoped>\n",
       "    .dataframe tbody tr th:only-of-type {\n",
       "        vertical-align: middle;\n",
       "    }\n",
       "\n",
       "    .dataframe tbody tr th {\n",
       "        vertical-align: top;\n",
       "    }\n",
       "\n",
       "    .dataframe thead th {\n",
       "        text-align: right;\n",
       "    }\n",
       "</style>\n",
       "<table border=\"1\" class=\"dataframe\">\n",
       "  <thead>\n",
       "    <tr style=\"text-align: right;\">\n",
       "      <th></th>\n",
       "      <th>label</th>\n",
       "      <th>lines</th>\n",
       "    </tr>\n",
       "  </thead>\n",
       "  <tbody>\n",
       "    <tr>\n",
       "      <th>0</th>\n",
       "      <td>Texel</td>\n",
       "      <td>02 01  000006c8 0000066a 0000500002 02  00006b...</td>\n",
       "    </tr>\n",
       "    <tr>\n",
       "      <th>1</th>\n",
       "      <td>VB</td>\n",
       "      <td>02 01  000006c8 0000066a 0001a00002 02  00006b...</td>\n",
       "    </tr>\n",
       "    <tr>\n",
       "      <th>2</th>\n",
       "      <td>NothingFound</td>\n",
       "      <td>02 01  000006c8 0000066a 0000b00002 02  00006b...</td>\n",
       "    </tr>\n",
       "    <tr>\n",
       "      <th>3</th>\n",
       "      <td>Virut</td>\n",
       "      <td>02 01  000006c8 0000066a 0000e00002 02  00006b...</td>\n",
       "    </tr>\n",
       "    <tr>\n",
       "      <th>4</th>\n",
       "      <td>Texel</td>\n",
       "      <td>02 01  000006c8 0000066a 0002000002 02  00006b...</td>\n",
       "    </tr>\n",
       "    <tr>\n",
       "      <th>...</th>\n",
       "      <td>...</td>\n",
       "      <td>...</td>\n",
       "    </tr>\n",
       "    <tr>\n",
       "      <th>3995</th>\n",
       "      <td>NothingFound</td>\n",
       "      <td>02 01  000006c8 0000066a 0001500002 02  00006b...</td>\n",
       "    </tr>\n",
       "    <tr>\n",
       "      <th>3996</th>\n",
       "      <td>VB</td>\n",
       "      <td>02 01  000006c8 0000066a 0001400002 02  00006b...</td>\n",
       "    </tr>\n",
       "    <tr>\n",
       "      <th>3997</th>\n",
       "      <td>Virut</td>\n",
       "      <td>02 01  000006c8 0000066a 0001700002 02  00006b...</td>\n",
       "    </tr>\n",
       "    <tr>\n",
       "      <th>3998</th>\n",
       "      <td>NothingFound</td>\n",
       "      <td>02 01  000006c8 0000066a 0005800002 02  00006b...</td>\n",
       "    </tr>\n",
       "    <tr>\n",
       "      <th>3999</th>\n",
       "      <td>Basun</td>\n",
       "      <td>02 01  000006c8 0000066a 0001500002 02  00006b...</td>\n",
       "    </tr>\n",
       "  </tbody>\n",
       "</table>\n",
       "<p>4000 rows × 2 columns</p>\n",
       "</div>"
      ],
      "text/plain": [
       "             label                                              lines\n",
       "0            Texel  02 01  000006c8 0000066a 0000500002 02  00006b...\n",
       "1               VB  02 01  000006c8 0000066a 0001a00002 02  00006b...\n",
       "2     NothingFound  02 01  000006c8 0000066a 0000b00002 02  00006b...\n",
       "3            Virut  02 01  000006c8 0000066a 0000e00002 02  00006b...\n",
       "4            Texel  02 01  000006c8 0000066a 0002000002 02  00006b...\n",
       "...            ...                                                ...\n",
       "3995  NothingFound  02 01  000006c8 0000066a 0001500002 02  00006b...\n",
       "3996            VB  02 01  000006c8 0000066a 0001400002 02  00006b...\n",
       "3997         Virut  02 01  000006c8 0000066a 0001700002 02  00006b...\n",
       "3998  NothingFound  02 01  000006c8 0000066a 0005800002 02  00006b...\n",
       "3999         Basun  02 01  000006c8 0000066a 0001500002 02  00006b...\n",
       "\n",
       "[4000 rows x 2 columns]"
      ]
     },
     "execution_count": 14,
     "metadata": {},
     "output_type": "execute_result"
    }
   ],
   "source": [
    "train_samples"
   ]
  },
  {
   "cell_type": "markdown",
   "metadata": {
    "id": "GjiNiOVHsMiy"
   },
   "source": [
    "## 1.b. Vectorize: Setup\n",
    "\n",
    "Make one pass over the inputs to identify relevant features/tokens.\n",
    "\n",
    "Suggestion:\n",
    "  - identify tokens (e.g., unigrams, bigrams)\n",
    "  - create a token -> index (int) mapping. Note that you might have a >10K unique tokens. So, you will have to choose a suitable \"vocabulary\" size."
   ]
  },
  {
   "cell_type": "code",
   "execution_count": 15,
   "metadata": {
    "id": "DAtmzL6PsMiy",
    "tags": []
   },
   "outputs": [],
   "source": [
    "# Feel free to edit anything in this block\n",
    "\n",
    "# def get_key_idx_map(counter, vocab_size, ukn_token='_ukn_'):\n",
    "#     # counter is a mapping: token -> count\n",
    "#     # build vectorizer using vocab_size most common elements\n",
    "#     key_to_idx, idx_to_key = dict(), dict()\n",
    "#     return key_to_idx, idx_to_key\n",
    "\n",
    "# def helper1():\n",
    "#     pass\n",
    "\n",
    "# def helper2():\n",
    "#     pass"
   ]
  },
  {
   "cell_type": "code",
   "execution_count": 16,
   "metadata": {
    "id": "LSMEAcgvsMiy",
    "tags": []
   },
   "outputs": [],
   "source": [
    "# Feel free to edit anything in this block\n",
    "\n",
    "# MAX_VOCAB_SIZE = 20000\n",
    "\n",
    "# # token_to_idx, idx_to_token = get_key_idx_map(token_counter, MAX_VOCAB_SIZE)\n",
    "\n",
    "# # Save vocab to file\n",
    "# out_path = 'application_vocab_{}.pkl'.format(MAX_VOCAB_SIZE)\n",
    "# with open(out_path, 'wb') as wf:\n",
    "#     dct = vectorize(MAX_VOCAB_SIZE)\n",
    "#     print(len(dct))\n",
    "#     pickle.dump(dct, wf)"
   ]
  },
  {
   "cell_type": "markdown",
   "metadata": {
    "id": "QUefzVjFsMiy"
   },
   "source": [
    "## 1.c. Vectorize Data\n",
    "\n",
    "Use the (token $\\rightarrow$ index) mapping you created before to vectorize your data"
   ]
  },
  {
   "cell_type": "code",
   "execution_count": 17,
   "metadata": {},
   "outputs": [],
   "source": [
    "# Feel free to edit anything in this block"
   ]
  },
  {
   "cell_type": "markdown",
   "metadata": {},
   "source": [
    "- Tokenize text samples into word uni+bigrams,\n",
    "- Vectorize using tf-idf encoding,\n",
    "- Select only the top 20,000 features from the vector of tokens by discarding tokens that appear fewer than 2 times and using f_classif to calculate feature importance."
   ]
  },
  {
   "cell_type": "code",
   "execution_count": 18,
   "metadata": {
    "id": "CD5IqJmXsMiz",
    "tags": []
   },
   "outputs": [],
   "source": [
    "\n",
    "from sklearn.feature_extraction.text import TfidfVectorizer\n",
    "from sklearn.feature_selection import SelectKBest\n",
    "from sklearn.feature_selection import f_classif\n",
    "\n",
    "# Vectorization parameters\n",
    "# Range (inclusive) of n-gram sizes for tokenizing text.\n",
    "NGRAM_RANGE = (1, 2)\n",
    "\n",
    "# Limit on the number of features. We use the top 20K features.\n",
    "TOP_K = 20000\n",
    "\n",
    "# Whether text should be split into word or character n-grams.\n",
    "# One of 'word', 'char'.\n",
    "TOKEN_MODE = 'word'\n",
    "\n",
    "# Minimum document/corpus frequency below which a token will be discarded.\n",
    "MIN_DOCUMENT_FREQUENCY = 2\n",
    "\n",
    "def vectorize_raw_samples(train_texts, train_labels):\n",
    "    \"\"\"Vectorizes texts as n-gram vectors.\n",
    "\n",
    "    1 text = 1 tf-idf vector the length of vocabulary of unigrams + bigrams.\n",
    "\n",
    "    # Arguments\n",
    "        train_texts: list, training text strings.\n",
    "        train_labels: np.ndarray, training labels.\n",
    "\n",
    "    # Returns\n",
    "        x_train: vectorized training text \n",
    "    \"\"\"\n",
    "    # Create keyword arguments to pass to the 'tf-idf' vectorizer.\n",
    "    kwargs = {\n",
    "            'ngram_range': NGRAM_RANGE,  # Use 1-grams + 2-grams.\n",
    "            # 'dtype': 'np.float64',\n",
    "            'strip_accents': 'unicode',\n",
    "            'decode_error': 'replace',\n",
    "            'analyzer': TOKEN_MODE,  # Split text into word tokens.\n",
    "            'min_df': MIN_DOCUMENT_FREQUENCY,\n",
    "    }\n",
    "    vectorizer = TfidfVectorizer(**kwargs)\n",
    "\n",
    "    # Learn vocabulary from training texts and vectorize training texts.\n",
    "    x_train = vectorizer.fit_transform(train_texts)\n",
    "\n",
    "    # Vectorize validation texts.\n",
    "    # x_val = vectorizer.transform(val_texts)\n",
    "\n",
    "    # Select top 'k' of the vectorized features.\n",
    "    selector = SelectKBest(f_classif, k=min(TOP_K, x_train.shape[1]))\n",
    "    selector.fit(x_train, train_labels)\n",
    "    x_train = selector.transform(x_train)\n",
    "    # x_val = selector.transform(x_val).astype('float32')\n",
    "    return x_train\n"
   ]
  },
  {
   "cell_type": "code",
   "execution_count": 20,
   "metadata": {},
   "outputs": [
    {
     "data": {
      "text/plain": [
       "pandas.core.series.Series"
      ]
     },
     "execution_count": 20,
     "metadata": {},
     "output_type": "execute_result"
    }
   ],
   "source": [
    "type(train_samples['label'])"
   ]
  },
  {
   "cell_type": "code",
   "execution_count": 22,
   "metadata": {
    "id": "BtS10ASbsMi0",
    "scrolled": true,
    "tags": []
   },
   "outputs": [
    {
     "name": "stdout",
     "output_type": "stream",
     "text": [
      "=> Processing: Train\n",
      "=> Processing: Test\n",
      "  (0, 10514)\t0.0009346184028134771\n",
      "  (0, 238)\t0.0009346184028134771\n",
      "  (0, 13748)\t0.0013552086583889062\n",
      "  (0, 10334)\t0.00099042473959292\n",
      "  (0, 8349)\t0.00099042473959292\n",
      "  (0, 10332)\t0.00099042473959292\n",
      "  (0, 8348)\t0.00099042473959292\n",
      "  (0, 16547)\t0.00099042473959292\n",
      "  (0, 8790)\t0.00099042473959292\n",
      "  (0, 17789)\t0.001074775343492852\n",
      "  (0, 8882)\t0.001074775343492852\n",
      "  (0, 17787)\t0.001074775343492852\n",
      "  (0, 11611)\t0.001074775343492852\n",
      "  (0, 15693)\t0.001074775343492852\n",
      "  (0, 15695)\t0.001074775343492852\n",
      "  (0, 13592)\t0.001074775343492852\n",
      "  (0, 15192)\t0.001074775343492852\n",
      "  (0, 8683)\t0.001074775343492852\n",
      "  (0, 15190)\t0.001074775343492852\n",
      "  (0, 8682)\t0.001074775343492852\n",
      "  (0, 9310)\t0.001074775343492852\n",
      "  (0, 8271)\t0.001074775343492852\n",
      "  (0, 13447)\t0.001074775343492852\n",
      "  (0, 8556)\t0.001074775343492852\n",
      "  (0, 13445)\t0.001074775343492852\n",
      "  :\t:\n",
      "  (4999, 13672)\t0.002813556023897211\n",
      "  (4999, 5379)\t0.0006953240225013162\n",
      "  (4999, 6034)\t0.001371592094766557\n",
      "  (4999, 5461)\t0.0006857960473832785\n",
      "  (4999, 5361)\t0.00046762912919626627\n",
      "  (4999, 6200)\t0.0020573881421498356\n",
      "  (4999, 6151)\t0.0014171915912448432\n",
      "  (4999, 6577)\t0.001412401389010121\n",
      "  (4999, 5684)\t0.0014132978544882716\n",
      "  (4999, 5910)\t0.0023445697409853823\n",
      "  (4999, 5733)\t0.0006857960473832785\n",
      "  (4999, 5397)\t0.0010286940710749178\n",
      "  (4999, 6050)\t0.001371592094766557\n",
      "  (4999, 6068)\t0.001371592094766557\n",
      "  (4999, 6694)\t0.002281386935014184\n",
      "  (4999, 5706)\t0.001371592094766557\n",
      "  (4999, 6042)\t0.0017144901184581963\n",
      "  (4999, 6157)\t0.0020573881421498356\n",
      "  (4999, 6100)\t0.001372415132351869\n",
      "  (4999, 11260)\t0.03326110829808901\n",
      "  (4999, 3492)\t0.03223241422701409\n",
      "  (4999, 2929)\t0.00034289802369163926\n",
      "  (4999, 15)\t0.027453273757133256\n",
      "  (4999, 7093)\t0.056235275885428836\n",
      "  (4999, 8162)\t0.24071441263153076\n"
     ]
    }
   ],
   "source": [
    "print('=> Processing: Train')\n",
    "train_data = vectorize_raw_samples(train_samples['lines'], train_samples['label'])\n",
    "\n",
    "print('=> Processing: Test')\n",
    "test_data = vectorize_raw_samples(test_samples['lines'], test_samples['label'])\n",
    "print(test_data)"
   ]
  },
  {
   "cell_type": "code",
   "execution_count": 23,
   "metadata": {},
   "outputs": [
    {
     "data": {
      "text/plain": [
       "scipy.sparse.csr.csr_matrix"
      ]
     },
     "execution_count": 23,
     "metadata": {},
     "output_type": "execute_result"
    }
   ],
   "source": [
    "type(train_data)"
   ]
  },
  {
   "cell_type": "code",
   "execution_count": 24,
   "metadata": {},
   "outputs": [],
   "source": [
    "from sklearn.neighbors import KNeighborsClassifier\n",
    "from sklearn import metrics"
   ]
  },
  {
   "cell_type": "code",
   "execution_count": 25,
   "metadata": {
    "id": "0XOHr24usMi0",
    "tags": []
   },
   "outputs": [
    {
     "name": "stdout",
     "output_type": "stream",
     "text": [
      "training_score: 0.83125\n",
      "testing_score: 0.248\n"
     ]
    }
   ],
   "source": [
    "train_x = train_data\n",
    "train_y = train_samples['label']\n",
    "X_test = test_data\n",
    "test_y = test_samples['label']\n",
    "\n",
    "model = KNeighborsClassifier(n_neighbors = 5)\n",
    "model.fit(train_x,train_y)\n",
    "training_score = model.score(train_x,train_y)\n",
    "print(f\"training_score: {training_score}\")\n",
    "\n",
    "# y_pred = model.predict(X_test)\n",
    "testing_score = model.score(X_test,test_y)\n",
    "print(f\"testing_score: {testing_score}\")\n",
    "\n",
    "# print(\"Test Accuracy:\",metrics.accuracy_score(test_y, y_pred))\n",
    "# Suggestions: \n",
    "#\n",
    "# (a) You can use torch.utils.data.TensorDataset to represent the tensors you created previously\n",
    "# trainset = TensorDataset(train_x, train_y)\n",
    "# testset = TensorDataset(test_x, test_y)\n",
    "#\n",
    "# (b) Store your datasets to disk so that you do not need to precompute it every time\n",
    "# torch.save(trainset, 'trainset.pt')\n",
    "# torch.save(testset, 'testset.pt')"
   ]
  },
  {
   "cell_type": "markdown",
   "metadata": {
    "id": "_l0tLsEVsMi0"
   },
   "source": [
    "# 2. Train Model\n",
    "\n",
    "You will now train an ML model on the vectorized datasets you created previously.\n",
    "\n",
    "_Note_: Although we often refer to each input as a 'vector' for simplicity, each of your inputs can also be higher dimensional tensors."
   ]
  },
  {
   "cell_type": "markdown",
   "metadata": {
    "id": "UInY1YzksMi0"
   },
   "source": [
    "## 2.a. Helpers"
   ]
  },
  {
   "cell_type": "code",
   "execution_count": 26,
   "metadata": {
    "id": "VnSv0J75sMi0"
   },
   "outputs": [],
   "source": [
    "# Feel free to edit anything in this block\n",
    "\n",
    "def evaluate_preds(y_gt, y_pred):\n",
    "    pass\n",
    "\n",
    "\n",
    "def another_helper(question):\n",
    "    return 42\n",
    "\n",
    "\n",
    "def save_model(model, out_path):\n",
    "    pass\n",
    "\n",
    "\n",
    "def save_data(eval_data, out_path):\n",
    "    with open(out_path, 'wb') as wf:\n",
    "        pickle.dump(eval_data, out_path)"
   ]
  },
  {
   "cell_type": "markdown",
   "metadata": {
    "id": "PhbVzVLDsMi1"
   },
   "source": [
    "## 2.b. Define Model"
   ]
  },
  {
   "cell_type": "markdown",
   "metadata": {
    "id": "jrUKCNRgsMi1"
   },
   "source": [
    "Describe your model here."
   ]
  },
  {
   "cell_type": "code",
   "execution_count": 27,
   "metadata": {
    "id": "ILB2fBRWsMi1"
   },
   "outputs": [],
   "source": [
    "# Feel free to edit anything in this block\n",
    "\n",
    "class ANN_Network(nn.Module):\n",
    "    def __init__(self, model_parameters):\n",
    "        try:\n",
    "            super(ANN_Network, self).__init__()\n",
    "            layers = []\n",
    "            for in_channel, out_channel in zip([model_parameters['input_size']] + model_parameters['hidden_size'][:-1],\n",
    "                                               model_parameters['hidden_size'][:len(model_parameters['hidden_size'])]):\n",
    "                layers.append(nn.Linear(in_channel, out_channel, bias=True))\n",
    "                layers.append(nn.ReLU())\n",
    "            layers.append(nn.Linear( model_parameters['hidden_size'][-1], model_parameters['out_size'], bias=True))\n",
    "            self.layers = nn.Sequential(*layers)\n",
    "        \n",
    "        except Exception as e:\n",
    "            print('initializing failed due to ', e)\n",
    "    \n",
    "    def forward(self, x):\n",
    "        try:\n",
    "            return self.layers(x)\n",
    "        \n",
    "        except Exception as e:\n",
    "            print('forward pass failed due to ', e)\n",
    "            "
   ]
  },
  {
   "cell_type": "code",
   "execution_count": 28,
   "metadata": {},
   "outputs": [
    {
     "data": {
      "text/plain": [
       "(1, 20000)"
      ]
     },
     "execution_count": 28,
     "metadata": {},
     "output_type": "execute_result"
    }
   ],
   "source": [
    "train_x[0][0].shape"
   ]
  },
  {
   "cell_type": "markdown",
   "metadata": {
    "id": "QO1yPx7YsMi1"
   },
   "source": [
    "## 2.c. Set Hyperparameters"
   ]
  },
  {
   "cell_type": "code",
   "execution_count": 29,
   "metadata": {
    "id": "0k0jLX5ksMi1"
   },
   "outputs": [
    {
     "ename": "AttributeError",
     "evalue": "'KNeighborsClassifier' object has no attribute 'parameters'",
     "output_type": "error",
     "traceback": [
      "\u001b[1;31m---------------------------------------------------------------------------\u001b[0m",
      "\u001b[1;31mAttributeError\u001b[0m                            Traceback (most recent call last)",
      "\u001b[1;32m~\\AppData\\Local\\Temp/ipykernel_4452/564041919.py\u001b[0m in \u001b[0;36m<module>\u001b[1;34m\u001b[0m\n\u001b[0;32m     25\u001b[0m \u001b[1;33m\u001b[0m\u001b[0m\n\u001b[0;32m     26\u001b[0m \u001b[0mcriterion\u001b[0m \u001b[1;33m=\u001b[0m \u001b[0mnn\u001b[0m\u001b[1;33m.\u001b[0m\u001b[0mCrossEntropyLoss\u001b[0m\u001b[1;33m(\u001b[0m\u001b[1;33m)\u001b[0m\u001b[1;33m.\u001b[0m\u001b[0mto\u001b[0m\u001b[1;33m(\u001b[0m\u001b[0mtraining_params\u001b[0m\u001b[1;33m[\u001b[0m\u001b[1;34m'device'\u001b[0m\u001b[1;33m]\u001b[0m\u001b[1;33m)\u001b[0m\u001b[1;33m\u001b[0m\u001b[1;33m\u001b[0m\u001b[0m\n\u001b[1;32m---> 27\u001b[1;33m \u001b[0moptimizer\u001b[0m \u001b[1;33m=\u001b[0m \u001b[0moptim\u001b[0m\u001b[1;33m.\u001b[0m\u001b[0mAdam\u001b[0m\u001b[1;33m(\u001b[0m\u001b[0mmodel\u001b[0m\u001b[1;33m.\u001b[0m\u001b[0mparameters\u001b[0m\u001b[1;33m(\u001b[0m\u001b[1;33m)\u001b[0m\u001b[1;33m,\u001b[0m \u001b[0mlr\u001b[0m\u001b[1;33m=\u001b[0m\u001b[0mtraining_params\u001b[0m\u001b[1;33m[\u001b[0m\u001b[1;34m'learning_rate'\u001b[0m\u001b[1;33m]\u001b[0m\u001b[1;33m)\u001b[0m\u001b[1;33m\u001b[0m\u001b[1;33m\u001b[0m\u001b[0m\n\u001b[0m",
      "\u001b[1;31mAttributeError\u001b[0m: 'KNeighborsClassifier' object has no attribute 'parameters'"
     ]
    }
   ],
   "source": [
    "# # Define your hyperparameters here\n",
    "\n",
    "# in_dims = trainset[0][0].shape[0]\n",
    "# out_dims = len(class_to_idx)\n",
    "# ...\n",
    "\n",
    "# # Optimization\n",
    "# n_epochs = ...\n",
    "# batch_size = ...\n",
    "# lr = ...\n",
    "# ...\n",
    "\n",
    "model_params = {\n",
    "    'input_size': train_x[0][0].shape,\n",
    "    'hidden_size' : [2400, 1000, 500, 150],\n",
    "    'out_size' : 10\n",
    "}\n",
    "\n",
    "training_params = {\n",
    "    'device' : torch.device(\"cuda\" if torch.cuda.is_available else 'cpu'),\n",
    "    'batch_size' : 64,\n",
    "    'num_epochs' : 5,\n",
    "    'learning_rate' : 0.001\n",
    "}\n",
    "\n",
    "criterion = nn.CrossEntropyLoss().to(training_params['device'])\n",
    "optimizer = optim.Adam(model.parameters(), lr=training_params['learning_rate'])"
   ]
  },
  {
   "cell_type": "code",
   "execution_count": null,
   "metadata": {},
   "outputs": [],
   "source": [
    "model = ANN_Network(model_params).to(training_params['device'])\n",
    "print(model.parameters)\n",
    "total_params = sum(p.numel() for p in model.parameters())\n",
    "print(total_params) ##### 216590"
   ]
  },
  {
   "cell_type": "markdown",
   "metadata": {
    "id": "NtpgVAO1sMi2"
   },
   "source": [
    "## 2.d. Train your Model"
   ]
  },
  {
   "cell_type": "code",
   "execution_count": null,
   "metadata": {
    "id": "Co0W2ifGsMi2"
   },
   "outputs": [],
   "source": [
    "best_accuracy = -1\n",
    "train_acc_history = []\n",
    "validation_acc_history = []\n",
    "    \n",
    "for epoch in range(training_params['num_epochs']):\n",
    "    \n",
    "    model.train()\n",
    "    correct_predictions = 0\n",
    "    loss_values = []\n",
    "    train_acc_scores = []\n",
    "\n",
    "    for batch_idx, (images, targets) in enumerate(train_loader):\n",
    "        images = images.view(images.shape[0], -1).to(training_params['device'])\n",
    "        targets = targets.to(training_params['device'])\n",
    "\n",
    "        outputs = model(images)\n",
    "        loss = criterion(outputs, targets)\n",
    "        loss_values.append(loss.item())\n",
    "        \n",
    "        _, preds = torch.max(outputs, 1)\n",
    "        correct_predictions=(preds==targets).sum().item()\n",
    "        train_acc_scores.append(correct_predictions/targets.shape[0])\n",
    "                      \n",
    "        optimizer.zero_grad()\n",
    "        loss.backward()\n",
    "        optimizer.step()\n",
    "        \n",
    "        if (batch_idx+1) % 100 == 0:\n",
    "            print (f'Epoch {epoch+1} | Step [{batch_idx+1}/{len(train_loader)}] | Loss: {loss.item()} ')\n",
    "\n",
    "    train_acc_history.append((sum(train_acc_scores)/len(train_acc_scores))*100)\n",
    "    print(f'Epoch {epoch+1} | Loss: {(sum(loss_values)/len(loss_values))} | Training Accuracy {train_acc_history[-1]}%')\n",
    "    \n",
    "    model.eval()\n",
    "    with torch.no_grad():\n",
    "        correct_predictions = 0\n",
    "        validation_acc_scores = []\n",
    "        \n",
    "        for images, targets in iter(validation_loader):\n",
    "            images = images.view(images.shape[0], -1).to(training_params['device'])\n",
    "            targets = targets.to(training_params['device'])\n",
    "            \n",
    "            outputs = model(images)\n",
    "            \n",
    "            _, preds = torch.max(outputs, 1)\n",
    "            correct_predictions = (preds == targets).sum().item()\n",
    "            validation_acc_scores.append(correct_predictions/targets.shape[0])\n",
    "            \n",
    "        validation_acc_history.append((sum(validation_acc_scores)/len(validation_acc_scores))*100)\n",
    "        print(f'Epoch {epoch+1} | Validation Accuracy {validation_acc_history[-1]}%')\n",
    "        \n",
    "        if validation_acc_history[-1]>best_accuracy:\n",
    "            best_accuracy = validation_acc_history[-1]\n",
    "            print('Saving the model...')\n",
    "            torch.save(model.state_dict(), f\"Accuracy_{best_accuracy}_batchsize_{training_params['batch_size']}_lr_{training_params['learning_rate']}.ckpt\")"
   ]
  },
  {
   "cell_type": "code",
   "execution_count": null,
   "metadata": {
    "id": "3afVBWVKsMi2"
   },
   "outputs": [],
   "source": [
    "#\n",
    "#\n",
    "# ------- Your Code -------\n",
    "#\n",
    "# Example:\n",
    "# for epoch in range(n_epochs):\n",
    "#     ... train ...\n",
    "#     ... validate ..."
   ]
  },
  {
   "cell_type": "markdown",
   "metadata": {
    "id": "Z5w-7O5jsMi2"
   },
   "source": [
    "## 2.e. Evaluate model"
   ]
  },
  {
   "cell_type": "code",
   "execution_count": null,
   "metadata": {
    "id": "CMbzX1h4sMi2"
   },
   "outputs": [],
   "source": [
    "#\n",
    "#\n",
    "# ------- Your Code -------\n",
    "#\n",
    "# "
   ]
  },
  {
   "cell_type": "markdown",
   "metadata": {
    "id": "U_GE1BQjsMi3"
   },
   "source": [
    "## 2.f. Save Model + Data"
   ]
  },
  {
   "cell_type": "code",
   "execution_count": null,
   "metadata": {
    "id": "4Xvo--GIsMi3"
   },
   "outputs": [],
   "source": [
    "#\n",
    "#\n",
    "# ------- Your Code -------\n",
    "#\n",
    "# "
   ]
  },
  {
   "cell_type": "markdown",
   "metadata": {
    "id": "W-UQbfCrsMi3"
   },
   "source": [
    "---"
   ]
  },
  {
   "cell_type": "markdown",
   "metadata": {
    "id": "uLD6dur1sMi3"
   },
   "source": [
    "# 3. Analysis"
   ]
  },
  {
   "cell_type": "markdown",
   "metadata": {
    "id": "1QRKxLsPsMi3"
   },
   "source": [
    "## 3.a. Summary: Main Results\n",
    "\n",
    "Summarize your approach and results here"
   ]
  },
  {
   "cell_type": "markdown",
   "metadata": {
    "id": "dNKqJAoasMi4"
   },
   "source": [
    "## 3.b. Discussion\n",
    "\n",
    "Enter your final summary here.\n",
    "\n",
    "For instance, you can address:\n",
    "- What was the performance you obtained with the simplest approach?\n",
    "- Which vectorized input representations helped more than the others?\n",
    "- Which malwares are difficult to detect and why?\n",
    "- Which approach do you recommend to perform malware classification?"
   ]
  },
  {
   "cell_type": "code",
   "execution_count": null,
   "metadata": {},
   "outputs": [],
   "source": []
  }
 ],
 "metadata": {
  "colab": {
   "collapsed_sections": [],
   "name": "Task_3.ipynb",
   "provenance": []
  },
  "kernelspec": {
   "display_name": "Python 3 (ipykernel)",
   "language": "python",
   "name": "python3"
  },
  "language_info": {
   "codemirror_mode": {
    "name": "ipython",
    "version": 3
   },
   "file_extension": ".py",
   "mimetype": "text/x-python",
   "name": "python",
   "nbconvert_exporter": "python",
   "pygments_lexer": "ipython3",
   "version": "3.9.7"
  }
 },
 "nbformat": 4,
 "nbformat_minor": 4
}
