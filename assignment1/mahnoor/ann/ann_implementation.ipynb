{
 "cells": [
  {
   "cell_type": "code",
   "execution_count": 1,
   "id": "a3da8525-b7b7-421b-a77b-6323053180d2",
   "metadata": {},
   "outputs": [],
   "source": [
    "import numpy as np\n",
    "# import pandas as pd\n",
    "import matplotlib.pyplot as plt\n",
    "\n",
    "import torch\n",
    "import torch.nn as nn\n",
    "import torch.optim as optim\n",
    "import torchvision.datasets as datasets\n",
    "from torchvision.transforms import ToTensor\n",
    "from torch.utils.data import DataLoader, random_split"
   ]
  },
  {
   "cell_type": "code",
   "execution_count": 2,
   "id": "718d09d7-b249-4111-bbc4-f92080f86cf2",
   "metadata": {},
   "outputs": [
    {
     "data": {
      "text/plain": [
       "'1.10.0'"
      ]
     },
     "execution_count": 2,
     "metadata": {},
     "output_type": "execute_result"
    }
   ],
   "source": [
    "torch.__version__"
   ]
  },
  {
   "cell_type": "code",
   "execution_count": 3,
   "id": "d4c541b5-ade1-4015-a0f6-6ea426758dcf",
   "metadata": {},
   "outputs": [],
   "source": [
    "data_path = 'D:\\Repos\\MLCS_Project_Assignments\\\\'"
   ]
  },
  {
   "cell_type": "code",
   "execution_count": 4,
   "id": "b89833dc-6ce1-44e8-8590-176a4a6f29ed",
   "metadata": {},
   "outputs": [],
   "source": [
    "device = torch.device(\"cuda\" if torch.cuda.is_available else 'cpu')"
   ]
  },
  {
   "cell_type": "code",
   "execution_count": 5,
   "id": "cdccf93d-93ca-4ba9-8a4e-0097437e22ff",
   "metadata": {},
   "outputs": [],
   "source": [
    "training_params = {\n",
    "    'device' : device,\n",
    "    'batch_size' : 64,\n",
    "    'num_epochs' : 5,\n",
    "    'learning_rate' : 0.001\n",
    "}\n",
    "\n",
    "model_params = {\n",
    "    'input_size': 28*28*1,\n",
    "    'hidden_size' : [200, 160, 100, 80, 40],\n",
    "    'out_size' : 10\n",
    "}"
   ]
  },
  {
   "cell_type": "code",
   "execution_count": 6,
   "id": "164119f5-2abc-4338-910b-9092494407b7",
   "metadata": {},
   "outputs": [],
   "source": [
    "mnist_training_dataset = datasets.MNIST(root=data_path+'train', train=True, download=True, transform=ToTensor())\n",
    "mnist_testing_dataset = datasets.MNIST(root=data_path+'test', train=False, download=True, transform=ToTensor())"
   ]
  },
  {
   "cell_type": "code",
   "execution_count": 7,
   "id": "0fa3863e-d4c2-4bde-a48c-20092755ef4e",
   "metadata": {},
   "outputs": [],
   "source": [
    "mask = int(len(mnist_training_dataset))"
   ]
  },
  {
   "cell_type": "code",
   "execution_count": 8,
   "id": "2fb31c37-71f6-4ffa-a6cc-ac44540f9389",
   "metadata": {},
   "outputs": [],
   "source": [
    "training_dataset, validation_dataset = random_split(mnist_training_dataset, [int(0.8*mask), int(0.2*mask)])\n",
    "\n",
    "train_loader = DataLoader(training_dataset, batch_size=training_params['batch_size'], shuffle=True)\n",
    "validation_loader = DataLoader(validation_dataset, batch_size=training_params['batch_size'], shuffle=False)\n",
    "test_loader = DataLoader(mnist_testing_dataset, batch_size=training_params['batch_size'], shuffle=False)"
   ]
  },
  {
   "cell_type": "code",
   "execution_count": 9,
   "id": "c7a33943-329f-4888-8b84-e4f956053eb7",
   "metadata": {},
   "outputs": [],
   "source": [
    "class ANN_Network(nn.Module):\n",
    "    def __init__(self, model_parameters):\n",
    "        try:\n",
    "            super(ANN_Network, self).__init__()\n",
    "            layers = []\n",
    "            for in_channel, out_channel in zip([model_parameters['input_size']] + model_parameters['hidden_size'][:-1],\n",
    "                                               model_parameters['hidden_size'][:len(model_parameters['hidden_size'])]):\n",
    "                layers.append(nn.Linear(in_channel, out_channel, bias=True))\n",
    "                layers.append(nn.ReLU())\n",
    "            layers.append(nn.Linear( model_parameters['hidden_size'][-1], model_parameters['out_size'], bias=True))\n",
    "            self.layers = nn.Sequential(*layers)\n",
    "        \n",
    "        except Exception as e:\n",
    "            print('initializing failed due to ', e)\n",
    "    \n",
    "    def forward(self, x):\n",
    "        try:\n",
    "            return self.layers(x)\n",
    "        \n",
    "        except Exception as e:\n",
    "            print('forward pass failed due to ', e)"
   ]
  },
  {
   "cell_type": "code",
   "execution_count": 10,
   "id": "b165a441-d554-44c7-b259-f6a7cd61f76c",
   "metadata": {},
   "outputs": [
    {
     "name": "stdout",
     "output_type": "stream",
     "text": [
      "<bound method Module.parameters of ANN_Network(\n",
      "  (layers): Sequential(\n",
      "    (0): Linear(in_features=784, out_features=200, bias=True)\n",
      "    (1): ReLU()\n",
      "    (2): Linear(in_features=200, out_features=160, bias=True)\n",
      "    (3): ReLU()\n",
      "    (4): Linear(in_features=160, out_features=100, bias=True)\n",
      "    (5): ReLU()\n",
      "    (6): Linear(in_features=100, out_features=80, bias=True)\n",
      "    (7): ReLU()\n",
      "    (8): Linear(in_features=80, out_features=40, bias=True)\n",
      "    (9): ReLU()\n",
      "    (10): Linear(in_features=40, out_features=10, bias=True)\n",
      "  )\n",
      ")>\n",
      "216990\n"
     ]
    }
   ],
   "source": [
    "model = ANN_Network(model_params).to(training_params['device'])\n",
    "print(model.parameters)\n",
    "total_params = sum(p.numel() for p in model.parameters())\n",
    "print(total_params) ##### 216590"
   ]
  },
  {
   "cell_type": "code",
   "execution_count": 11,
   "id": "d8066375-cf79-4433-9a20-5ffd28b4a929",
   "metadata": {},
   "outputs": [],
   "source": [
    "criterion = nn.CrossEntropyLoss().to(training_params['device'])\n",
    "optimizer = optim.Adam(model.parameters(), lr=training_params['learning_rate'])"
   ]
  },
  {
   "cell_type": "code",
   "execution_count": 12,
   "id": "c476adcb-b616-4a24-89e8-88f929b5a1d1",
   "metadata": {},
   "outputs": [
    {
     "data": {
      "text/plain": [
       "Adam (\n",
       "Parameter Group 0\n",
       "    amsgrad: False\n",
       "    betas: (0.9, 0.999)\n",
       "    eps: 1e-08\n",
       "    lr: 0.001\n",
       "    weight_decay: 0\n",
       ")"
      ]
     },
     "execution_count": 12,
     "metadata": {},
     "output_type": "execute_result"
    }
   ],
   "source": [
    "optimizer"
   ]
  },
  {
   "cell_type": "code",
   "execution_count": 13,
   "id": "13e7251c-233b-471f-af18-7e394be693dd",
   "metadata": {},
   "outputs": [
    {
     "data": {
      "text/plain": [
       "Dataset MNIST\n",
       "    Number of datapoints: 60000\n",
       "    Root location: D:\\Repos\\MLCS_Project_Assignments\\train\n",
       "    Split: Train\n",
       "    StandardTransform\n",
       "Transform: ToTensor()"
      ]
     },
     "execution_count": 13,
     "metadata": {},
     "output_type": "execute_result"
    }
   ],
   "source": [
    "train_loader.dataset.dataset"
   ]
  },
  {
   "cell_type": "code",
   "execution_count": 14,
   "id": "f1ccefbe-a7e9-4db8-9b7d-4eb4f39f2753",
   "metadata": {},
   "outputs": [
    {
     "data": {
      "text/plain": [
       "torch.Size([64, 1, 28, 28])"
      ]
     },
     "execution_count": 14,
     "metadata": {},
     "output_type": "execute_result"
    }
   ],
   "source": [
    "images, targets = next(iter(train_loader))\n",
    "images.shape #### batch of 64 images about 28x28 pixels in grayscale "
   ]
  },
  {
   "cell_type": "code",
   "execution_count": 17,
   "id": "9da6cc69-abff-43a1-8e2e-d77c7cf218d1",
   "metadata": {},
   "outputs": [
    {
     "name": "stdout",
     "output_type": "stream",
     "text": [
      "Epoch 1 | Step [100/750] | Loss: 0.07790975272655487 \n",
      "Epoch 1 | Step [200/750] | Loss: 0.001050796010531485 \n",
      "Epoch 1 | Step [300/750] | Loss: 0.05385412275791168 \n",
      "Epoch 1 | Step [400/750] | Loss: 0.0038906780537217855 \n",
      "Epoch 1 | Step [500/750] | Loss: 0.07374375313520432 \n",
      "Epoch 1 | Step [600/750] | Loss: 0.04110896959900856 \n",
      "Epoch 1 | Step [700/750] | Loss: 0.03730782866477966 \n",
      "Epoch 1 | Loss: 0.04228732976821872 | Training Accuracy 98.70208333333333%\n",
      "Epoch 1 | Validation Accuracy 96.8999335106383%\n",
      "Saving the model...\n",
      "Epoch 2 | Step [100/750] | Loss: 0.04256628081202507 \n",
      "Epoch 2 | Step [200/750] | Loss: 0.026473557576537132 \n",
      "Epoch 2 | Step [300/750] | Loss: 0.004412641283124685 \n",
      "Epoch 2 | Step [400/750] | Loss: 0.00045268330723047256 \n",
      "Epoch 2 | Step [500/750] | Loss: 0.04834429547190666 \n",
      "Epoch 2 | Step [600/750] | Loss: 0.006312614306807518 \n",
      "Epoch 2 | Step [700/750] | Loss: 0.01218470185995102 \n",
      "Epoch 2 | Loss: 0.03762824650745218 | Training Accuracy 98.85208333333333%\n",
      "Epoch 2 | Validation Accuracy 97.2406914893617%\n",
      "Saving the model...\n",
      "Epoch 3 | Step [100/750] | Loss: 0.0038082008250057697 \n",
      "Epoch 3 | Step [200/750] | Loss: 0.04297647625207901 \n",
      "Epoch 3 | Step [300/750] | Loss: 0.003929974511265755 \n",
      "Epoch 3 | Step [400/750] | Loss: 0.008070264011621475 \n",
      "Epoch 3 | Step [500/750] | Loss: 0.07095581293106079 \n",
      "Epoch 3 | Step [600/750] | Loss: 0.0023892056196928024 \n",
      "Epoch 3 | Step [700/750] | Loss: 0.018037881702184677 \n",
      "Epoch 3 | Loss: 0.033479929017873174 | Training Accuracy 99.00625%\n",
      "Epoch 3 | Validation Accuracy 97.17420212765957%\n",
      "Epoch 4 | Step [100/750] | Loss: 0.010500389151275158 \n",
      "Epoch 4 | Step [200/750] | Loss: 0.0020644855685532093 \n",
      "Epoch 4 | Step [300/750] | Loss: 0.004742318764328957 \n",
      "Epoch 4 | Step [400/750] | Loss: 0.020550886169075966 \n",
      "Epoch 4 | Step [500/750] | Loss: 0.012621941044926643 \n",
      "Epoch 4 | Step [600/750] | Loss: 0.012328158132731915 \n",
      "Epoch 4 | Step [700/750] | Loss: 0.013966023921966553 \n",
      "Epoch 4 | Loss: 0.028176429565413854 | Training Accuracy 99.10833333333333%\n",
      "Epoch 4 | Validation Accuracy 96.59242021276596%\n",
      "Epoch 5 | Step [100/750] | Loss: 0.0162347424775362 \n",
      "Epoch 5 | Step [200/750] | Loss: 0.002286316826939583 \n",
      "Epoch 5 | Step [300/750] | Loss: 0.010164041072130203 \n",
      "Epoch 5 | Step [400/750] | Loss: 0.006596005521714687 \n",
      "Epoch 5 | Step [500/750] | Loss: 0.08103542029857635 \n",
      "Epoch 5 | Step [600/750] | Loss: 0.006484616082161665 \n",
      "Epoch 5 | Step [700/750] | Loss: 0.002682302612811327 \n",
      "Epoch 5 | Loss: 0.025862328317346205 | Training Accuracy 99.17708333333334%\n",
      "Epoch 5 | Validation Accuracy 96.99135638297872%\n"
     ]
    }
   ],
   "source": [
    "best_accuracy = -1\n",
    "train_acc_history = []\n",
    "validation_acc_history = []\n",
    "    \n",
    "for epoch in range(training_params['num_epochs']):\n",
    "    \n",
    "    model.train()\n",
    "    correct_predictions = 0\n",
    "    loss_values = []\n",
    "    train_acc_scores = []\n",
    "\n",
    "    for batch_idx, (images, targets) in enumerate(train_loader):\n",
    "        images = images.view(images.shape[0], -1).to(training_params['device'])\n",
    "        targets = targets.to(training_params['device'])\n",
    "\n",
    "        outputs = model(images)\n",
    "        loss = criterion(outputs, targets)\n",
    "        loss_values.append(loss.item())\n",
    "        \n",
    "        _, preds = torch.max(outputs, 1)\n",
    "        correct_predictions=(preds==targets).sum().item()\n",
    "        train_acc_scores.append(correct_predictions/targets.shape[0])\n",
    "                      \n",
    "        optimizer.zero_grad()\n",
    "        loss.backward()\n",
    "        optimizer.step()\n",
    "        \n",
    "        if (batch_idx+1) % 100 == 0:\n",
    "            print (f'Epoch {epoch+1} | Step [{batch_idx+1}/{len(train_loader)}] | Loss: {loss.item()} ')\n",
    "\n",
    "    train_acc_history.append((sum(train_acc_scores)/len(train_acc_scores))*100)\n",
    "    print(f'Epoch {epoch+1} | Loss: {(sum(loss_values)/len(loss_values))} | Training Accuracy {train_acc_history[-1]}%')\n",
    "    \n",
    "    model.eval()\n",
    "    with torch.no_grad():\n",
    "        correct_predictions = 0\n",
    "        validation_acc_scores = []\n",
    "        \n",
    "        for images, targets in iter(validation_loader):\n",
    "            images = images.view(images.shape[0], -1).to(training_params['device'])\n",
    "            targets = targets.to(training_params['device'])\n",
    "            \n",
    "            outputs = model(images)\n",
    "            \n",
    "            _, preds = torch.max(outputs, 1)\n",
    "            correct_predictions = (preds == targets).sum().item()\n",
    "            validation_acc_scores.append(correct_predictions/targets.shape[0])\n",
    "            \n",
    "        validation_acc_history.append((sum(validation_acc_scores)/len(validation_acc_scores))*100)\n",
    "        print(f'Epoch {epoch+1} | Validation Accuracy {validation_acc_history[-1]}%')\n",
    "        \n",
    "        if validation_acc_history[-1]>best_accuracy:\n",
    "            best_accuracy = validation_acc_history[-1]\n",
    "            print('Saving the model...')\n",
    "            torch.save(model.state_dict(), f\"Accuracy_{best_accuracy}_batchsize_{training_params['batch_size']}_lr_{training_params['learning_rate']}.ckpt\")"
   ]
  },
  {
   "cell_type": "code",
   "execution_count": 20,
   "id": "988f5868-2fa7-4b37-b8e7-678c8bf3faa3",
   "metadata": {},
   "outputs": [
    {
     "data": {
      "image/png": "[encoded data removed]",
      "text/plain": [
       "<Figure size 432x288 with 1 Axes>"
      ]
     },
     "metadata": {
      "needs_background": "light"
     },
     "output_type": "display_data"
    }
   ],
   "source": [
    "\n",
    "plt.plot(train_acc_history, label='train')\n",
    "plt.plot(validation_acc_history, label='val')\n",
    "plt.title('Classification accuracy history')\n",
    "plt.xlabel('Epoch')\n",
    "plt.ylabel('Classification accuracy')\n",
    "plt.legend()\n",
    "\n",
    "plt.tight_layout()\n",
    "plt.show()\n"
   ]
  },
  {
   "cell_type": "code",
   "execution_count": 21,
   "id": "cbc06deb-839b-4447-acda-3680fc6cc6f5",
   "metadata": {},
   "outputs": [
    {
     "data": {
      "text/plain": [
       "Dataset MNIST\n",
       "    Number of datapoints: 10000\n",
       "    Root location: D:\\Repos\\MLCS_Project_Assignments\\test\n",
       "    Split: Test\n",
       "    StandardTransform\n",
       "Transform: ToTensor()"
      ]
     },
     "execution_count": 21,
     "metadata": {},
     "output_type": "execute_result"
    }
   ],
   "source": [
    "test_loader.dataset"
   ]
  },
  {
   "cell_type": "code",
   "execution_count": 23,
   "id": "890b42fb-3797-4ffb-aabf-9aab7223d999",
   "metadata": {},
   "outputs": [
    {
     "name": "stdout",
     "output_type": "stream",
     "text": [
      "Accuracy of the network on the 10000 test images: 98.218550955414\n"
     ]
    }
   ],
   "source": [
    "model.load_state_dict(torch.load(\"Accuracy_97.91389627659575_batchsize_64_lr_0.001.ckpt\"))\n",
    "\n",
    "with torch.no_grad():\n",
    "    correct_predictions = 0\n",
    "    test_images = 0\n",
    "    testing_acc_history = []\n",
    "\n",
    "    for images, targets in iter(test_loader):\n",
    "        images = images.view(images.shape[0], -1).to(training_params['device'])\n",
    "        targets = targets.to(training_params['device'])\n",
    "        \n",
    "        outputs = model(images)\n",
    "        _, preds = torch.max(outputs, 1)\n",
    "        correct_predictions = (preds==targets).sum().item()\n",
    "        test_images += targets.shape[0]\n",
    "        testing_acc_history.append(correct_predictions/targets.shape[0])\n",
    "    \n",
    "    print(f'Accuracy of the network on the {test_images} test images: {(sum(testing_acc_history)/len(testing_acc_history))*100}')"
   ]
  },
  {
   "cell_type": "code",
   "execution_count": null,
   "id": "550ac6f6-5bb9-4a03-854f-36e02c9634ff",
   "metadata": {},
   "outputs": [],
   "source": []
  }
 ],
 "metadata": {
  "kernelspec": {
   "display_name": "Python 3 (ipykernel)",
   "language": "python",
   "name": "python3"
  },
  "language_info": {
   "codemirror_mode": {
    "name": "ipython",
    "version": 3
   },
   "file_extension": ".py",
   "mimetype": "text/x-python",
   "name": "python",
   "nbconvert_exporter": "python",
   "pygments_lexer": "ipython3",
   "version": "3.9.7"
  }
 },
 "nbformat": 4,
 "nbformat_minor": 5
}
